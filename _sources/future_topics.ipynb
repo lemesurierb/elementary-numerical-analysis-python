{
 "cells": [
  {
   "cell_type": "markdown",
   "metadata": {},
   "source": [
    "# Some Planned Future Topics\n",
    "\n",
    "Further revisions of these notes, perhaps in the planned future github book\n",
    "[Introduction to Numerical Methods and Their Analysis (with Python)]\n",
    "(https://lemesurierb.github.io/introduction-numerical-methods-analysis-python/)\n",
    "\n",
    "- Implicit methods for solving ODE IVPs.\n",
    "\n",
    "- More on multi-step methods for solving ODE IVPs: further methods, stability, and convergence.\n",
    "\n",
    "- Stiffness in systems of ODEs, and the use of implicit methods to solve stiff systems efficiently.\n",
    "\n",
    "- Solving boundary value problems for ODEs.\n",
    "\n",
    "- More on finding the minimum of a function, in particular for functions of several variables.\n",
    "\n",
    "- More on computing eigenvalues and eigenvectors.\n",
    "\n",
    "- More on iterative methods for solving systems of linear equations.\n",
    "\n",
    "- Special methods for solving systems of linear equations with matrices of special forms:\n",
    "tridiagonal, banded, diagonally dominant, positive definite, etc.\n",
    "\n",
    "- Solving systems of nonlinear equations.\n",
    "\n",
    "- Splines: a version of piecewise polynomial interpolation that maintains smoothness (differentiabilty etc.) at the nodes where adjacent polynomial pieces join. "
   ]
  }
 ],
 "metadata": {
  "kernelspec": {
   "display_name": "Python 3",
   "language": "python",
   "name": "python3"
  },
  "language_info": {
   "codemirror_mode": {
    "name": "ipython",
    "version": 3
   },
   "file_extension": ".py",
   "mimetype": "text/x-python",
   "name": "python",
   "nbconvert_exporter": "python",
   "pygments_lexer": "ipython3",
   "version": "3.8.3"
  }
 },
 "nbformat": 4,
 "nbformat_minor": 4
}
