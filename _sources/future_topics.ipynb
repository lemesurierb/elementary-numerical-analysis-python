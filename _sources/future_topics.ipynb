{
 "cells": [
  {
   "cell_type": "markdown",
   "metadata": {},
   "source": [
    "Some Future Topics\n",
    "==================\n",
    "\n",
    "If time allows and interest dictates (alternatively as some possible final project topics), I could add introductory notes on some of:\n",
    "\n",
    "- Stiffness in ODEs and implicit methods for dealing with it.\n",
    "\n",
    "- Solving systems of nonlinear equations.\n",
    "\n",
    "- Solving boundary value problems for ODEs.\n",
    "\n",
    "- Multi-step methods for solving ODE IVPs."
   ]
  }
 ],
 "metadata": {
  "kernelspec": {
   "display_name": "Python 3",
   "language": "python",
   "name": "python3"
  },
  "language_info": {
   "codemirror_mode": {
    "name": "ipython",
    "version": 3
   },
   "file_extension": ".py",
   "mimetype": "text/x-python",
   "name": "python",
   "nbconvert_exporter": "python",
   "pygments_lexer": "ipython3",
   "version": "3.8.5"
  }
 },
 "nbformat": 4,
 "nbformat_minor": 4
}
