{
 "cells": [
  {
   "cell_type": "markdown",
   "metadata": {},
   "source": [
    "# Some Future Topics\n",
    "\n",
    "See the new \"Preliminary Versions\" part of the HTML book for preliminary notes on some of these topics.\n",
    "- More on simultaneous linear equations the PA = LU factorization and error bounds.\n",
    "- Least squares fitting of lines and curves to data: minimizing the RMS error.\n",
    "- Solving initial value problems for ordinary differential equations; for this, there are preliminary versions of two sections:\n",
    "    - [Solving Initial Value Problems for Ordinary Differential Equations, Part 1: Basic Concepts and Euler's Method](preliminary_versions/ODE-IVP-1-basics-and-Euler.ipynb) and\n",
    "    - [Solving Initial Value Problems for ODEs, Part 2: Runge-Kutta Methods](preliminary_versions/ODE-IVP-2-Runge-Kutta.ipynb)"
   ]
  }
 ],
 "metadata": {
  "kernelspec": {
   "display_name": "Python 3",
   "language": "python",
   "name": "python3"
  },
  "language_info": {
   "codemirror_mode": {
    "name": "ipython",
    "version": 3
   },
   "file_extension": ".py",
   "mimetype": "text/x-python",
   "name": "python",
   "nbconvert_exporter": "python",
   "pygments_lexer": "ipython3",
   "version": "3.8.5"
  }
 },
 "nbformat": 4,
 "nbformat_minor": 4
}
