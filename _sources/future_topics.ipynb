{
 "cells": [
  {
   "cell_type": "markdown",
   "metadata": {},
   "source": [
    "Some Future Topics\n",
    "==================\n",
    "\n",
    "- An introduction to finding the minimum of a function of one or more variables.\n",
    "\n",
    "- An introduction to iterative methods for solving simultaneous linear equations.\n",
    "\n",
    "- An introduction to computing eigenvalue and eigenvectors.\n",
    "\n",
    "- Least squares fitting of lines and curves to data: minimizing the RMS error.\n",
    "\n",
    "and if time allows and interest dictates (alternatively as some possible final project topics),\n",
    "\n",
    "- Solving systems of nonlinear equations.\n",
    "\n",
    "- Solving boundary value problems for ODEs.\n",
    "\n",
    "- Stiffness in ODEs and implicit methods for dealing with it.\n",
    "\n",
    "- Multi-step methods for solving ODE IVPs."
   ]
  }
 ],
 "metadata": {
  "kernelspec": {
   "display_name": "Python 3",
   "language": "python",
   "name": "python3"
  },
  "language_info": {
   "codemirror_mode": {
    "name": "ipython",
    "version": 3
   },
   "file_extension": ".py",
   "mimetype": "text/x-python",
   "name": "python",
   "nbconvert_exporter": "python",
   "pygments_lexer": "ipython3",
   "version": "3.8.5"
  }
 },
 "nbformat": 4,
 "nbformat_minor": 4
}
