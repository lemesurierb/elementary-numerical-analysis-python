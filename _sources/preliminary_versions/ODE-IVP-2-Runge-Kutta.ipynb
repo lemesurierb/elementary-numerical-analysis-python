{
 "cells": [
  {
   "cell_type": "markdown",
   "metadata": {},
   "source": [
    "# Solving Initial Value Problems for ODEs, Part 2: Runge-Kutta Methods — Preliminary Version\n",
    "\n",
    "**References:**\n",
    "\n",
    "- Sections 6.4 of [Sauer](../references.html#Sauer)\n",
    "\n",
    "- Section 5.4 of [Burden&Faires](../references.html#Burden-Faires)\n",
    "\n",
    "- Sections 7.1 and 7.2 of [Chenney&Kincaid](../references.html#Chenney-Kincaid)"
   ]
  },
  {
   "cell_type": "code",
   "execution_count": 1,
   "metadata": {},
   "outputs": [],
   "source": [
    "import numpy as np\n",
    "from matplotlib import pyplot as plt\n",
    "# Shortcuts for some favorite commands:\n",
    "from numpy import linspace\n",
    "from matplotlib.pyplot import figure, plot, grid, title, xlabel, ylabel, legend"
   ]
  },
  {
   "cell_type": "markdown",
   "metadata": {},
   "source": [
    "Introduction\n",
    "-------------\n",
    "\n",
    "The original Runge-Kutta method is the fourth order accurate one to be described below, which is still used a lot, though with some modifications.\n",
    "\n",
    "However, the name is now applied to a variety of methods based on a similar strategy, so first, herr are a few simpler methods, all of some value, at least for small, low precision calculations."
   ]
  },
  {
   "cell_type": "markdown",
   "metadata": {},
   "source": [
    "### Euler's Method as a Runge-Kutta method\n",
    "\n",
    "The simplest of all methods of this general form is Euler's method.\n",
    "To set up the notation to be used below, rephrase it this way:\n",
    "\n",
    "To get from $(t, u)$ to an approximation of $(t+h, u(t+h)$, use the approximation\n",
    "\n",
    "$$\\begin{split}\n",
    "K_1 &= h f(t, u)\n",
    "\\\\\n",
    "u(t+h) &\\approx u + K_1\n",
    "\\end{split}$$"
   ]
  },
  {
   "cell_type": "markdown",
   "metadata": {},
   "source": [
    "### Second order Runge-Kutta methods\n",
    "\n",
    "We have seen that the global error of Euler's method is $O(h)$: it is only first order accurate.\n",
    "This is often insufficient, so it is more common even for small, low precision calculation to use one of several second order methods:"
   ]
  },
  {
   "cell_type": "markdown",
   "metadata": {},
   "source": [
    "#### The Explicit Trapezoid Method (a.k.a. the Improved Euler method or Huen's method)\n",
    "$$\\begin{split}\n",
    "K_1 &= h f(t, u)\n",
    "\\\\\n",
    "K_2 &= h f(t+h, u + K_1)\n",
    "\\\\\n",
    "u(t+h) &\\approx u + \\frac12(K_1 + K_2)\n",
    "\\end{split}$$"
   ]
  },
  {
   "cell_type": "markdown",
   "metadata": {},
   "source": [
    "**Exercise 1**\n",
    "Verify that for the simple case where $f(t, u) = f(t)$,\n",
    "this give the same result as the Composite Trapezoid Rule for integration (hence the name)."
   ]
  },
  {
   "cell_type": "markdown",
   "metadata": {},
   "source": [
    "#### The Explicit Midpoint Method (a.k.a. modified Euler)\n",
    "$$\\begin{split}\n",
    "K_1 &= h f(t, u)\n",
    "\\\\\n",
    "K_2 &= h f(t+h/2, u + K_1/2)\n",
    "\\\\\n",
    "u(t+h) &\\approx u + K_2\n",
    "\\end{split}$$"
   ]
  },
  {
   "cell_type": "markdown",
   "metadata": {},
   "source": [
    "**Exercise 2**\n",
    "Verify that for the simple case where $f(t, u) = f(t)$,\n",
    "this give the same result as the Composite Midpoint rule for integration (same cooment as above)."
   ]
  },
  {
   "cell_type": "markdown",
   "metadata": {},
   "source": [
    "**Exercise 3**\n",
    "A) Apply Richardson extrapolation to one step of Euler's method, using the values given by step sizes $h$ and $h/2$.\n",
    "\n",
    "B) This should give a second order accurate method, so compare it to the above two methods."
   ]
  },
  {
   "cell_type": "markdown",
   "metadata": {},
   "source": [
    "### The \"classical\", fourth order accurate, Runge-Kutta Method\n",
    "\n",
    "This is the original Runge-Kutta method:\n",
    "\n",
    "$$\\begin{split}\n",
    "K_1 &= h f(t, u)\n",
    "\\\\\n",
    "K_2 &= h f(t + h/2, u + K_1/2)\n",
    "\\\\\n",
    "K_3 &= h f(t + h/2, u + K_2/2)\n",
    "\\\\\n",
    "K_4 &= h f(t + h, u + K_3)\n",
    "\\\\\n",
    "u(t+h) &\\approx u + \\frac{1}{6}(K_1 + 2 K_2 + 2 K_3 + K_4)\n",
    "\\end{split}$$"
   ]
  },
  {
   "cell_type": "markdown",
   "metadata": {},
   "source": [
    "**Exercise 4**\n",
    "Verify that for the simple case where $f(t, u) = f(t)$,\n",
    "this gives the same result as the Composite Simpson's Rule for integration."
   ]
  },
  {
   "cell_type": "markdown",
   "metadata": {},
   "source": [
    "## Comparison of the four methods seen so far\n",
    "\n",
    "A coming attraction ..."
   ]
  }
 ],
 "metadata": {
  "kernelspec": {
   "display_name": "Python 3",
   "language": "python",
   "name": "python3"
  },
  "language_info": {
   "codemirror_mode": {
    "name": "ipython",
    "version": 3
   },
   "file_extension": ".py",
   "mimetype": "text/x-python",
   "name": "python",
   "nbconvert_exporter": "python",
   "pygments_lexer": "ipython3",
   "version": "3.8.5"
  }
 },
 "nbformat": 4,
 "nbformat_minor": 4
}
