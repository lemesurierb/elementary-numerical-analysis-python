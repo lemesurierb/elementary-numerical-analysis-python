{
 "cells": [
  {
   "cell_type": "markdown",
   "metadata": {
    "id": "CNObfFIQCF1L"
   },
   "source": [
    "# Suggestions and Notes on Python and Jupyter Notebook Usage\n",
    "\n",
    "**Brenton LeMesurier**\n",
    "\n",
    "**Revised version of 2021-01-23.**\n",
    "I plan to keep updating this as we do more with Python, notebooks, and numerical calculations.\n",
    "\n",
    "1. Start every document (Notebook, Python code file, etc.) with:\n",
    "   - A title (e.g. \"Assignment 1\")\n",
    "   - Your name\n",
    "   - The date, of the latest version — so update this date after any major changes to the file.\n",
    "<br>\n",
    "See above for an example!\n",
    "\n",
    "1. Put all `import` statements together in the first code cell of the notebook.\n",
    "Similarly, in Python code files (suffix `.py`) make the import statements the first code, straight below any opening comments.\n",
    "\n",
    "1. Put each function definition in its own cell, and only define a function once per notebook.\n",
    "\n",
    "1. More generally, divide both text and Python code into many, small cells;\n",
    "that makes it easier to edit, preview, debug and make changes.\n",
    "For example, start a new cell for each new section at any level (`# ...`, `## ...`, etc.)\n",
    "so that each section heading is the first line of a Markdown cell.\n",
    "\n",
    "1. Whenever practical, use different names for similar but different items.\n",
    "For example, name sample functions `f_1`, `f_2` and so on, rather than reusing the generic name `f`. Likewise for variants of a function, as with `bisection1`, `bisection2` ...\n",
    "\n",
    "1. Remember that Python is case-sensitive, so that `ErrorBound`, `errorBound` and `errorbound` are three different variables!\n",
    "\n",
    "1. On the last item, I suggest avoiding capital letters almost always, using them only when that style is \"dictated\" by standard mathematical notation.\n",
    "For example it makes sense to call a matrix `A`, but instead of any of the above three names,\n",
    "I often prefer `error_bound`, using the underscore `_` as a fake space to separate words in a name.\n",
    "(Note: the underscore `_` is not a dash `-`; it is typed as \"shift-dash\".)\n",
    "\n",
    "1. One very common mistake is not reducing the indentation at the end of a block (the lines that go with an `if`, `for`, `while` or such).\n",
    "\n",
    "1. Another thing to check for: that wherever a variable is used (at right in an assignment, in the input parameters of a function, etc.) it already has a value — and an up-to-date value at that.\n",
    "\n",
    "1. Only use the Markdown section heading syntax `# ...`, `## ...` and so on for items that are legitimately the titles of sections, sub-sections, and so on.\n",
    "Otherwise, emphasize with the `*...*` and `**...**` syntax for *italics* and **boldface** respectively.\n",
    "\n",
    "1. When the result of a numerical calculation is only an approximation (almost always in this course!) aim to also provide an upper bound on the absolute error — and if that is not feasable, then at least provide a plausable *estimate* of the error, or a measure of *backward error*.\n",
    "\n",
    "1. Avoid infinite loops!\n",
    "(In JupyterLab the disk at top-right is black while code is running; goes white when finished;\n",
    "in case of execution never finishing, you can stop it with the square \"Stop\" button above.)\n",
    "One strategy is to avoid `while` loops, in particular `while True` or `while 1`;\n",
    "I will illustrate the folowing approach in sample codes for iterative methods:\n",
    "    - set a maximum number of iterations `max_iterations`\n",
    "    - use a `for` loop `for iteration in range(max_iterations):` instead of `while not weAreDone:`\n",
    "    - Implement the stopping condition with `if weAreDone: break` somewhere inside the `for` loop.\n",
    "\n",
    "1. The last step before you submit a notebook or otherwise share it is to **do a \"clean run\"**, restarting the kernel and then running every cell, and then read it through, checking that the Python code has run succesfully, its output is correct, and so on.\n",
    "<br>\n",
    "Usually the easiest way to do this in JupyterLab is with the \"fast forward\" double right-arrow button at the top;\n",
    "alternatively, there is a menu item `Kernel > Restart Kernel and Run All Cells ...`\n",
    "<br>\n",
    "If you get Python errors but still want to share the file (for example, to ask for debugging help),\n",
    "this run will stop at the first error, so scan down to that first error, use menu item `Run > Run Selected Cell and All Below`, and repeat at each error till the run gets to the last cell."
   ]
  }
 ],
 "metadata": {
  "colab": {
   "name": "05-Iteration-with-for.ipynb",
   "provenance": []
  },
  "kernelspec": {
   "display_name": "Python 3",
   "language": "python",
   "name": "python3"
  },
  "language_info": {
   "codemirror_mode": {
    "name": "ipython",
    "version": 3
   },
   "file_extension": ".py",
   "mimetype": "text/x-python",
   "name": "python",
   "nbconvert_exporter": "python",
   "pygments_lexer": "ipython3",
   "version": "3.8.5"
  }
 },
 "nbformat": 4,
 "nbformat_minor": 4
}
