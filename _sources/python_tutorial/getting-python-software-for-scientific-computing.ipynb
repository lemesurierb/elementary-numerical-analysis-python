{
 "cells": [
  {
   "cell_type": "markdown",
   "metadata": {},
   "source": [
    "# Getting Python Software for Scientific Computing"
   ]
  },
  {
   "cell_type": "markdown",
   "metadata": {},
   "source": [
    "## Anaconda, featuring JupyterLab, Spyder, and IPython\n",
    "\n",
    "I suggest that you get [Anaconda](https://www.anaconda.com/) for you own computers, even if you also have access to it via computers on-campus.\n",
    "Get the \"current\" version based on Python 3 (more specifically, version 3.7 or higher), not the legacy version for Python 2;\n",
    "we will use some of the newer features, especially for working more easily with matrices and vectors.\n",
    "\n",
    "Anaconda is a free download from\n",
    "[https://www.anaconda.com/products/individual](https://www.anaconda.com/products/individual)\n",
    "\n",
    "Once Anaconda is installed, you access its compoments by opening the *Anaconda Navigator*.\n",
    "The most important of these for us will be *JupyterLab*, for working with Jupyter notebooks; see the [Project Jupyter](https://jupyter.org/) site.\n",
    "\n",
    "Other Anaconda components of possible interest are:\n",
    "- [Spyder](https://www.spyder-ide.org/) an Integrated Development Environment (like IDLE, but far fancier!) for writing and running Python code files (suffix .py).  This has more advanced editing and debugging tools than JupyterLab, so some of you might prefer to develop your Python code in Spyder (or even with IDLE) and then copy the code into a notebook for final presentation.\n",
    "<br>(Aside: \"Spyder\" is a portmanteau for **S**cientific **PY**thon **DE**velopment envi**R**onment.)\n",
    "\n",
    "- [IPython console](https://ipython.org) provides a command line for executing Python code, akin to what you might be familar with when using IDLE. (Note that within Spyder, one pane is an iPython console, along-side the editing pane.)\n",
    "<br>(Aside: \"IPython\" is short for **I**nteractive **Python**; the \"I\" is capitalized; it is not an Apple product!)"
   ]
  },
  {
   "cell_type": "markdown",
   "metadata": {},
   "source": [
    "## Colab (a.k.a. Colaboratory); a purely online alternative for Jupyter notebooks\n",
    "\n",
    "An alternative is to use the online resource [Colab](https://colab.research.google.com) provided by Google.\n",
    "This works entirely with Jupyter notebooks, stored in the Colab website.\n",
    "Colab does not support directly running Python code files.\n",
    "However, it does support uploading your own modules in Python code files,\n",
    "from which a notebook can import stuff.\n",
    "(Never mind if you do not yet know about creating modules and importing from them; we will review that later.)"
   ]
  }
 ],
 "metadata": {
  "kernelspec": {
   "display_name": "Python 3",
   "language": "python",
   "name": "python3"
  },
  "language_info": {
   "codemirror_mode": {
    "name": "ipython",
    "version": 3
   },
   "file_extension": ".py",
   "mimetype": "text/x-python",
   "name": "python",
   "nbconvert_exporter": "python",
   "pygments_lexer": "ipython3",
   "version": "3.8.5"
  }
 },
 "nbformat": 4,
 "nbformat_minor": 4
}
