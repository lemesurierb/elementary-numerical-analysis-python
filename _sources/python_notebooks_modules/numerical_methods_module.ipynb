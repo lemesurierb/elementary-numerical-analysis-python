{
 "cells": [
  {
   "cell_type": "markdown",
   "metadata": {},
   "source": [
    "# Notebook for generating the module `numerical_methods_module`\n",
    "\n",
    "**Author: Brenton LeMesurier**,\n",
    "brenton.lemesurier@unco.edu and lemesurierb@cofc.edu\n",
    "\n",
    "**Last Revised: March 7, 2021,**\n",
    "adding \"demonstration modes\" to `rowReduce`, `backwardSubstitution` and `forwardSubstitution`.\n",
    "\n",
    "A collection of functions implementing numerical algorithms from the course and book *Elementary Numerical Analysis*, and a module `numerical_methods_module` produced from that."
   ]
  },
  {
   "cell_type": "code",
   "execution_count": 1,
   "metadata": {},
   "outputs": [],
   "source": [
    "import numpy as np"
   ]
  },
  {
   "cell_type": "markdown",
   "metadata": {},
   "source": [
    "## Zero finding: solving $f(x) = 0$ or $g(x) = x$"
   ]
  },
  {
   "cell_type": "code",
   "execution_count": 2,
   "metadata": {},
   "outputs": [],
   "source": [
    "def bisection1(f, a, b, N, demoMode=False):\n",
    "    '''Approximately solve equation f(x) = 0 in the interval [a, b] with N iterations of the Bisection Method.\n",
    "    By the way, a triple-quoted multi-line comment like this provides covenient documentation about what a function does,\n",
    "    so I encourage adding them. Try the commmand `help(bisection1)`\n",
    "    '''\n",
    "    c = (a + b)/2\n",
    "    for iteration in range(N):\n",
    "        if demoMode: print(f\"\\nIteration {iteration+1}:\")\n",
    "        if f(a) * f(c) < 0:\n",
    "            b = c\n",
    "        else:\n",
    "            a = c\n",
    "        c = (a + b)/2\n",
    "        if demoMode:\n",
    "            print(f\"The root is in interval [{a}, {b}]\")\n",
    "            print(f\"The new approximation is {c}, with backward error {np.abs(f(c)):0.3}\")\n",
    "        root = c             \n",
    "        errorBound = (c-a)\n",
    "    return (c, errorBound)"
   ]
  },
  {
   "cell_type": "code",
   "execution_count": 3,
   "metadata": {},
   "outputs": [
    {
     "name": "stdout",
     "output_type": "stream",
     "text": [
      "Solving by the Bisection Method.\n",
      "\n",
      "Iteration 1:\n",
      "The root is in interval [0.0, 1]\n",
      "The new approximation is 0.5, with backward error 0.378\n",
      "\n",
      "Iteration 2:\n",
      "The root is in interval [0.5, 1]\n",
      "The new approximation is 0.75, with backward error 0.0183\n",
      "\n",
      "Iteration 3:\n",
      "The root is in interval [0.5, 0.75]\n",
      "The new approximation is 0.625, with backward error 0.186\n",
      "\n",
      "Iteration 4:\n",
      "The root is in interval [0.625, 0.75]\n",
      "The new approximation is 0.6875, with backward error 0.0853\n",
      "\n",
      "Iteration 5:\n",
      "The root is in interval [0.6875, 0.75]\n",
      "The new approximation is 0.71875, with backward error 0.0339\n",
      "\n",
      "Iteration 6:\n",
      "The root is in interval [0.71875, 0.75]\n",
      "The new approximation is 0.734375, with backward error 0.00787\n",
      "\n",
      "Iteration 7:\n",
      "The root is in interval [0.734375, 0.75]\n",
      "The new approximation is 0.7421875, with backward error 0.0052\n",
      "\n",
      "Iteration 8:\n",
      "The root is in interval [0.734375, 0.7421875]\n",
      "The new approximation is 0.73828125, with backward error 0.00135\n",
      "\n",
      "Iteration 9:\n",
      "The root is in interval [0.73828125, 0.7421875]\n",
      "The new approximation is 0.740234375, with backward error 0.00192\n",
      "\n",
      "Iteration 10:\n",
      "The root is in interval [0.73828125, 0.740234375]\n",
      "The new approximation is 0.7392578125, with backward error 0.000289\n",
      "\n",
      "root=0.7392578125, backward error 0.000289\n"
     ]
    }
   ],
   "source": [
    "# Demo\n",
    "if __name__ == \"__main__\":  # Do this if running the .py file directly, but not when importing [from] it\n",
    "    def f(x): return x - np.cos(x)\n",
    "    print(\"Solving by the Bisection Method.\")\n",
    "    (root, errorBound) = bisection1(f, a=-1, b=1, N=10, demoMode=True)\n",
    "    print(f\"\\n{root=}, backward error {np.abs(f(root)):0.3}\")"
   ]
  },
  {
   "cell_type": "code",
   "execution_count": 4,
   "metadata": {},
   "outputs": [],
   "source": [
    "def fpi(g, x_0, errorTolerance=1e-6, maxIterations=20, demoMode=False):\n",
    "    \"\"\"Fixed point iteration for approximately solving x = f(x),\n",
    "    x_0: the initial value\n",
    "    \"\"\"\n",
    "    x = x_0\n",
    "    for iteration in range(maxIterations):\n",
    "        x_new = g(x)\n",
    "        errorEstimate = np.abs(x_new - x)\n",
    "        x = x_new\n",
    "        if demoMode: print(f\"x_{iteration} = {x}, {errorEstimate=:0.3}\")\n",
    "        if errorEstimate <= errorTolerance: break\n",
    "    return (x, errorEstimate)"
   ]
  },
  {
   "cell_type": "code",
   "execution_count": 5,
   "metadata": {},
   "outputs": [
    {
     "name": "stdout",
     "output_type": "stream",
     "text": [
      "Fixed point iteration.\n",
      "x_0 = 1.0, errorEstimate=1.0\n",
      "x_1 = 0.5403023058681398, errorEstimate=0.46\n",
      "x_2 = 0.8575532158463934, errorEstimate=0.317\n",
      "x_3 = 0.6542897904977791, errorEstimate=0.203\n",
      "x_4 = 0.7934803587425656, errorEstimate=0.139\n",
      "x_5 = 0.7013687736227565, errorEstimate=0.0921\n",
      "x_6 = 0.7639596829006542, errorEstimate=0.0626\n",
      "x_7 = 0.7221024250267079, errorEstimate=0.0419\n",
      "x_8 = 0.7504177617637604, errorEstimate=0.0283\n",
      "x_9 = 0.7314040424225099, errorEstimate=0.019\n",
      "x_10 = 0.7442373549005569, errorEstimate=0.0128\n",
      "x_11 = 0.7356047404363473, errorEstimate=0.00863\n",
      "x_12 = 0.7414250866101093, errorEstimate=0.00582\n",
      "x_13 = 0.7375068905132427, errorEstimate=0.00392\n",
      "x_14 = 0.7401473355678758, errorEstimate=0.00264\n",
      "x_15 = 0.7383692041223231, errorEstimate=0.00178\n",
      "x_16 = 0.7395672022122561, errorEstimate=0.0012\n",
      "x_17 = 0.7387603198742112, errorEstimate=0.000807\n",
      "x_18 = 0.739303892396906, errorEstimate=0.000544\n",
      "x_19 = 0.7389377567153443, errorEstimate=0.000366\n",
      "\n",
      "root=0.7389377567153443, errorEstimate=0.0003661356815616301\n"
     ]
    }
   ],
   "source": [
    "# Demo\n",
    "if __name__ == \"__main__\":  # Do this if running the .py file directly, but not when importing [from] it\n",
    "    def g(x): return np.cos(x)\n",
    "    print(\"Fixed point iteration.\")\n",
    "    (root, errorEstimate) = fpi(g, 0, demoMode=True)\n",
    "    print(f\"\\n{root=}, {errorEstimate=}\")"
   ]
  },
  {
   "cell_type": "code",
   "execution_count": 6,
   "metadata": {},
   "outputs": [],
   "source": [
    "def newton(f, Df, x0, errorTolerance=1e-15, maxIterations=20, demoMode=False):\n",
    "    \"\"\"Basic usage is:\n",
    "    (rootApproximation, errorEstimate, iterations) = newton(f, Df, x0, errorTolerance)\n",
    "    There is an optional input parameter \"demoMode\" which controls whether to\n",
    "    - print intermediate results (for \"study\" purposes), or to\n",
    "    - work silently (for \"production\" use).\n",
    "    The default is silence.\n",
    "\n",
    "    \"\"\"\n",
    "    x = x0\n",
    "    for k in range(1, maxIterations+1):\n",
    "        fx = f(x)\n",
    "        Dfx = Df(x)\n",
    "        # Note: a careful, robust code would check for the possibility of division by zero here,\n",
    "        # but for now I just want a simple presentation of the basic mathematical idea.\n",
    "        dx = fx/Dfx\n",
    "        x -= dx  # Aside: this is shorthand for \"x = x - dx\"\n",
    "        errorEstimate = abs(dx)\n",
    "        if demoMode:\n",
    "            print(f\"At iteration {k} x = {x} with estimated error {errorEstimate:0.3}, backward error {abs(f(x)):0.3}\")\n",
    "        if errorEstimate <= errorTolerance:\n",
    "            iterations = k\n",
    "            return (x, errorEstimate, iterations)\n",
    "    # If we get here, it did not achieve the accuracy target:\n",
    "    iterations = k\n",
    "    return (x, errorEstimate, iterations)"
   ]
  },
  {
   "cell_type": "code",
   "execution_count": 7,
   "metadata": {},
   "outputs": [
    {
     "name": "stdout",
     "output_type": "stream",
     "text": [
      "Solving by Newton's Method.\n",
      "At iteration 1 x = 1.0 with estimated error 1.0, backward error 0.46\n",
      "At iteration 2 x = 0.7503638678402439 with estimated error 0.25, backward error 0.0189\n",
      "At iteration 3 x = 0.7391128909113617 with estimated error 0.0113, backward error 4.65e-05\n",
      "At iteration 4 x = 0.7390851333852839 with estimated error 2.78e-05, backward error 2.85e-10\n",
      "At iteration 5 x = 0.7390851332151606 with estimated error 1.7e-10, backward error 1.11e-16\n",
      "\n",
      "The root is approximately 0.7390851332151606\n",
      "The estimated absolute error is 1.7012334067709158e-10\n",
      "The backward error is 1.11e-16\n",
      "This required 5 iterations\n"
     ]
    }
   ],
   "source": [
    "# Demo\n",
    "if __name__ == \"__main__\":  # Do this if running the .py file directly, but not when importing [from] it\n",
    "    def f(x): return x - np.cos(x)\n",
    "    def Df(x): return 1. + np.sin(x)\n",
    "    print(\"Solving by Newton's Method.\")\n",
    "    (root, errorEstimate, iterations) = newton(f, Df, x0=0.,\n",
    "                                               errorTolerance=1e-8, demoMode=True)\n",
    "    print()\n",
    "    print(f\"The root is approximately {root}\")\n",
    "    print(f\"The estimated absolute error is {errorEstimate}\")\n",
    "    print(f\"The backward error is {abs(f(root)):0.3}\")\n",
    "    print(f\"This required {iterations} iterations\")"
   ]
  },
  {
   "cell_type": "code",
   "execution_count": 8,
   "metadata": {},
   "outputs": [],
   "source": [
    "def false_position(f, a, b, errorTolerance=1e-15, maxIterations=15, demoMode=False):\n",
    "    \"\"\"Solve f(x)=0 in the interval [a, b] by the Method of False Position.\n",
    "    This code also illustrates a few ideas that I encourage, such as:\n",
    "    - Avoiding infinite loops, by using for loops sand break\n",
    "    - Avoiding repeated evaluation of the same quantity\n",
    "    - Use of descriptive variable names\n",
    "    - Use of \"camelCase\" to turn descriptive phrases into valid Python variable names\n",
    "    - An optional \"demonstration mode\" to display intermediate results.\n",
    "    \"\"\"\n",
    "    fa = f(a)\n",
    "    fb = f(b)\n",
    "    for iteration in range(1, maxIterations+1):\n",
    "        if demoMode: print(f\"\\nIteration {iteration}:\")\n",
    "        c = (a * fb - fa * b)/(fb - fa)\n",
    "        fc = f(c)\n",
    "        if fa * fc < 0:\n",
    "            b = c\n",
    "            fb = fc  # N.B. When b is updated, so must be fb = f(b)\n",
    "        else:\n",
    "            a = c\n",
    "            fa = fc\n",
    "        errorBound = b - a\n",
    "        if demoMode:\n",
    "            print(f\"The root is in interval [{a}, {b}]\")\n",
    "            print(f\"The new approximation is {c}, with error bound {errorBound:0.3}, backward error {abs(fc):0.3}\")\n",
    "        if errorBound < errorTolerance:\n",
    "            break\n",
    "    # Whether we got here due to accuracy of running out of iterations,\n",
    "    # return the information we have, including an error bound:\n",
    "    root = c  # the newest value is probably the most accurate\n",
    "    return (root, errorBound)"
   ]
  },
  {
   "cell_type": "code",
   "execution_count": 9,
   "metadata": {},
   "outputs": [
    {
     "name": "stdout",
     "output_type": "stream",
     "text": [
      "Solving by the Method of False Position.\n",
      "\n",
      "Iteration 1:\n",
      "The root is in interval [0.5403023058681398, 1]\n",
      "The new approximation is 0.5403023058681398, with error bound 0.46, backward error 0.317\n",
      "\n",
      "Iteration 2:\n",
      "The root is in interval [0.7280103614676172, 1]\n",
      "The new approximation is 0.7280103614676172, with error bound 0.272, backward error 0.0185\n",
      "\n",
      "Iteration 3:\n",
      "The root is in interval [0.7385270062423998, 1]\n",
      "The new approximation is 0.7385270062423998, with error bound 0.261, backward error 0.000934\n",
      "\n",
      "Iteration 4:\n",
      "The root is in interval [0.7390571666782676, 1]\n",
      "The new approximation is 0.7390571666782676, with error bound 0.261, backward error 4.68e-05\n",
      "\n",
      "Iteration 5:\n",
      "The root is in interval [0.7390837322783136, 1]\n",
      "The new approximation is 0.7390837322783136, with error bound 0.261, backward error 2.34e-06\n",
      "\n",
      "Iteration 6:\n",
      "The root is in interval [0.7390850630385933, 1]\n",
      "The new approximation is 0.7390850630385933, with error bound 0.261, backward error 1.17e-07\n",
      "\n",
      "Iteration 7:\n",
      "The root is in interval [0.7390851296998365, 1]\n",
      "The new approximation is 0.7390851296998365, with error bound 0.261, backward error 5.88e-09\n",
      "\n",
      "Iteration 8:\n",
      "The root is in interval [0.7390851330390691, 1]\n",
      "The new approximation is 0.7390851330390691, with error bound 0.261, backward error 2.95e-10\n",
      "\n",
      "Iteration 9:\n",
      "The root is in interval [0.7390851332063397, 1]\n",
      "The new approximation is 0.7390851332063397, with error bound 0.261, backward error 1.48e-11\n",
      "\n",
      "Iteration 10:\n",
      "The root is in interval [0.7390851332147188, 1]\n",
      "The new approximation is 0.7390851332147188, with error bound 0.261, backward error 7.39e-13\n",
      "\n",
      "Iteration 11:\n",
      "The root is in interval [0.7390851332151385, 1]\n",
      "The new approximation is 0.7390851332151385, with error bound 0.261, backward error 3.71e-14\n",
      "\n",
      "Iteration 12:\n",
      "The root is in interval [0.7390851332151596, 1]\n",
      "The new approximation is 0.7390851332151596, with error bound 0.261, backward error 1.78e-15\n",
      "\n",
      "Iteration 13:\n",
      "The root is in interval [0.7390851332151606, 1]\n",
      "The new approximation is 0.7390851332151606, with error bound 0.261, backward error 1.11e-16\n",
      "\n",
      "Iteration 14:\n",
      "The root is in interval [0.7390851332151607, 1]\n",
      "The new approximation is 0.7390851332151607, with error bound 0.261, backward error 0.0\n",
      "\n",
      "Iteration 15:\n",
      "The root is in interval [0.7390851332151607, 1]\n",
      "The new approximation is 0.7390851332151607, with error bound 0.261, backward error 0.0\n",
      "\n",
      "The Method of False Position gave approximate root is 0.7390851332151607,\n",
      "with estimate error 0.261, backward error 0.0\n"
     ]
    }
   ],
   "source": [
    "# Demo\n",
    "if __name__ == \"__main__\":  # Do this if running the .py file directly, but not when importing [from] it\n",
    "    def f(x): return x - np.cos(x)\n",
    "    print(\"Solving by the Method of False Position.\")\n",
    "    (root, errorBound) = false_position(f, a=-1, b=1, demoMode=True)\n",
    "    print(f\"\\nThe Method of False Position gave approximate root is {root},\")\n",
    "    print(f\"with estimate error {errorBound:0.3}, backward error {abs(f(root)):0.3}\")"
   ]
  },
  {
   "cell_type": "code",
   "execution_count": 10,
   "metadata": {},
   "outputs": [],
   "source": [
    "def secant_method(f, a, b, errorTolerance=1e-15, maxIterations=15, demoMode=False):\n",
    "    \"\"\"Solve f(x)=0 in the interval [a, b] by the Secant Method.\"\"\"\n",
    "    # Some more descriptive names\n",
    "    x_older = a\n",
    "    x_more_recent = b\n",
    "    f_x_older = f(x_older)\n",
    "    f_x_more_recent = f(x_more_recent)\n",
    "    for iteration in range(1, maxIterations+1):\n",
    "        if demoMode: print(f\"\\nIteration {iteration}:\")\n",
    "        x_new = (x_older * f_x_more_recent - f_x_older * x_more_recent)/(f_x_more_recent - f_x_older)\n",
    "        f_x_new = f(x_new)\n",
    "        (x_older, x_more_recent) = (x_more_recent, x_new)\n",
    "        (f_x_older, f_x_more_recent) = (f_x_more_recent, f_x_new)\n",
    "        errorEstimate = abs(x_older - x_more_recent)\n",
    "        if demoMode:\n",
    "            print(f\"The latest pair of approximations are {x_older} and {x_more_recent},\")\n",
    "            print(f\"where the function's values are {f_x_older:0.3} and {f_x_more_recent:0.3} respectively.\")\n",
    "            print(f\"The new approximation is {x_new}, with estimated error {errorEstimate:0.3}, backward error {abs(f_x_new):0.3}\")\n",
    "        if errorEstimate < errorTolerance:\n",
    "            break\n",
    "    # Whether we got here due to accuracy of running out of iterations,\n",
    "    # return the information we have, including an error estimate:\n",
    "    return (x_new, errorEstimate)"
   ]
  },
  {
   "cell_type": "code",
   "execution_count": 11,
   "metadata": {},
   "outputs": [
    {
     "name": "stdout",
     "output_type": "stream",
     "text": [
      "Solving by the Secant Method.\n",
      "\n",
      "Iteration 1:\n",
      "The latest pair of approximations are 1 and 0.5403023058681398,\n",
      "where the function's values are 0.46 and -0.317 respectively.\n",
      "The new approximation is 0.5403023058681398, with estimated error 0.46, backward error 0.317\n",
      "\n",
      "Iteration 2:\n",
      "The latest pair of approximations are 0.5403023058681398 and 0.7280103614676172,\n",
      "where the function's values are -0.317 and -0.0185 respectively.\n",
      "The new approximation is 0.7280103614676172, with estimated error 0.188, backward error 0.0185\n",
      "\n",
      "Iteration 3:\n",
      "The latest pair of approximations are 0.7280103614676172 and 0.7396270126307336,\n",
      "where the function's values are -0.0185 and 0.000907 respectively.\n",
      "The new approximation is 0.7396270126307336, with estimated error 0.0116, backward error 0.000907\n",
      "\n",
      "Iteration 4:\n",
      "The latest pair of approximations are 0.7396270126307336 and 0.7390838007832722,\n",
      "where the function's values are 0.000907 and -2.23e-06 respectively.\n",
      "The new approximation is 0.7390838007832722, with estimated error 0.000543, backward error 2.23e-06\n",
      "\n",
      "Iteration 5:\n",
      "The latest pair of approximations are 0.7390838007832722 and 0.7390851330557805,\n",
      "where the function's values are -2.23e-06 and -2.67e-10 respectively.\n",
      "The new approximation is 0.7390851330557805, with estimated error 1.33e-06, backward error 2.67e-10\n",
      "\n",
      "Iteration 6:\n",
      "The latest pair of approximations are 0.7390851330557805 and 0.7390851332151607,\n",
      "where the function's values are -2.67e-10 and 0.0 respectively.\n",
      "The new approximation is 0.7390851332151607, with estimated error 1.59e-10, backward error 0.0\n",
      "\n",
      "Iteration 7:\n",
      "The latest pair of approximations are 0.7390851332151607 and 0.7390851332151607,\n",
      "where the function's values are 0.0 and 0.0 respectively.\n",
      "The new approximation is 0.7390851332151607, with estimated error 0.0, backward error 0.0\n",
      "\n",
      "The Secant Method gave approximate root is 0.7390851332151607,\n",
      "with estimated error 0.0, backward error 0.0\n"
     ]
    }
   ],
   "source": [
    "# Demo\n",
    "if __name__ == \"__main__\":  # Do this if running the .py file directly, but not when importing [from] it\n",
    "    def f(x): return x - np.cos(x)\n",
    "    print(f\"Solving by the Secant Method.\")        \n",
    "    (root, errorEstimate) = secant_method(f, a=-1, b=1, demoMode=True)\n",
    "    print(f\"\\nThe Secant Method gave approximate root is {root},\")\n",
    "    print(f\"with estimated error {errorEstimate:0.3}, backward error {abs(f(root)):0.3}\")"
   ]
  },
  {
   "cell_type": "markdown",
   "metadata": {},
   "source": [
    "## Linear Algebra"
   ]
  },
  {
   "cell_type": "markdown",
   "metadata": {},
   "source": [
    "### Basic row reduction elimination and backward substitution"
   ]
  },
  {
   "cell_type": "code",
   "execution_count": 12,
   "metadata": {},
   "outputs": [],
   "source": [
    "def rowReduce(A, b):\n",
    "    \"\"\"To avoid modifying the matrix and vector specified as input,\n",
    "    they are copyied to new arrays, with the method .copy()\n",
    "    Warning: it does not work to say \"U = A\" and \"c = b\";\n",
    "    this makes these names synonyms, referring to the same stored data.\n",
    "    Also: this doe not modify the vlaue of U belwo th main diagonal,\n",
    "    since they are know to be zero, an wil bever be used;\n",
    "    to clean this up, use function zeros_below_diagonal.\n",
    "    \"\"\"    \n",
    "    U = A.copy()\n",
    "    c = b.copy()\n",
    "    n = len(b)\n",
    "    # The function zeros_like() is used to create L with the same size and shape as A,\n",
    "    # and with all its elements zero initially.\n",
    "    L = np.zeros_like(A)\n",
    "    for k in range(n-1):\n",
    "        for i in range(k+1, n):\n",
    "            L[i,k] = U[i,k] / U[k,k]\n",
    "            for j in range(k+1, n):\n",
    "                U[i,j] = U[i,j] - L[i,k] * U[k,j]\n",
    "            c[i]= c[i] - L[i,k] * c[k]\n",
    "    return (U, c)"
   ]
  },
  {
   "cell_type": "markdown",
   "metadata": {},
   "source": [
    "Immediately updated to the following, but I leave the first version for reference."
   ]
  },
  {
   "cell_type": "code",
   "execution_count": 13,
   "metadata": {},
   "outputs": [],
   "source": [
    "def rowReduce(A, b):\n",
    "    \"\"\"To avoid modifying the matrix and vector specified as input,\n",
    "    they are copied to new arrays, with the method .copy()\n",
    "    Warning: it does not work to say \"U = A\" and \"c = b\";\n",
    "    this makes these names synonyms, referring to the same stored data.\n",
    "    This code leaves \"garbage values\" below the main diagonal\n",
    "    if needed, clean up with the function zeros_below_diagonal.\n",
    "    \"\"\"    \n",
    "    U = A.copy()\n",
    "    c = b.copy()\n",
    "    n = len(b)\n",
    "    # The function zeros_like() is used to create L with the same size and shape as A,\n",
    "    # and with all its elements zero initially.\n",
    "    L = np.zeros_like(A)\n",
    "    for k in range(n-1):\n",
    "        # compute all the L values for column k:\n",
    "        L[k+1:n,k] = U[k+1:n,k] / U[k,k]  # Beware the case where U[k,k] is 0\n",
    "        for i in range(k+1, n):\n",
    "            U[i,k+1:n] -= L[i,k] * U[k,k+1:n]  # Update row i\n",
    "        c[k+1:n] -= L[k+1:n,k] * c[k]  # update c values\n",
    "    return (U, c)"
   ]
  },
  {
   "cell_type": "markdown",
   "metadata": {},
   "source": [
    "Further updated on March 7 as follows, adding `demoMode` and \"zeroing\" below the main diagonal in U when using that mode."
   ]
  },
  {
   "cell_type": "code",
   "execution_count": 14,
   "metadata": {},
   "outputs": [],
   "source": [
    "def rowReduce(A, b, demoMode=False):\n",
    "    \"\"\"To avoid modifying the matrix and vector specified as input,\n",
    "    they are copied to new arrays, with the method .copy()\n",
    "    Warning: it does not work to say \"U = A\" and \"c = b\";\n",
    "    this makes these names synonyms, referring to the same stored data.\n",
    "    This code leaves \"garbage values\" below the main diagonal\n",
    "    if needed, clean up with the function zeros_below_diagonal.\n",
    "    \n",
    "    2021-03-07: added a demonstration mode.\n",
    "    \"\"\"    \n",
    "    U = A.copy()\n",
    "    c = b.copy()\n",
    "    n = len(b)\n",
    "    # The function zeros_like() is used to create L with the same size and shape as A,\n",
    "    # and with all its elements zero initially.\n",
    "    L = np.zeros_like(A)\n",
    "    for k in range(n-1):\n",
    "        if demoMode: print(f\"Step {k=}\")\n",
    "        # compute all the L values for column k:\n",
    "        L[k+1:,k] = U[k+1:n,k] / U[k,k]  # Beware the case where U[k,k] is 0\n",
    "        if demoMode:\n",
    "            print(f\"The multipliers in column {k+1} are {L[k+1:,k]}\")\n",
    "        for i in range(k+1, n):\n",
    "            U[i,k+1:n] -= L[i,k] * U[k,k+1:n]  # Update row i\n",
    "        c[k+1:n] -= L[k+1:n,k] * c[k]  # update c values\n",
    "        if demoMode:\n",
    "            # insert zeros in U:\n",
    "            U[k+1:, k] = 0.\n",
    "            print(f\"The updated matrix is\\n{U}\")\n",
    "            print(f\"The updated right-hand side is\\n{c}\")\n",
    "    return (U, c)"
   ]
  },
  {
   "cell_type": "code",
   "execution_count": 15,
   "metadata": {},
   "outputs": [],
   "source": [
    "def zeros_below_diagonal(U):\n",
    "    \"\"\"Insert the below-diagonal zero values into U, ignored in function rowReduce.\n",
    "    These are needed to display U correctly,\n",
    "    and to demonstrate that the new system of equations Ux=c has the same solution as Ax=b.\n",
    "    \"\"\"\n",
    "    for i in range(1,len(U)):\n",
    "        for j in range(i):\n",
    "            U[i,j] = 0."
   ]
  },
  {
   "cell_type": "markdown",
   "metadata": {},
   "source": [
    "As with `rowReduce`, this is immediately updated to the following, but I leave the first version for reference."
   ]
  },
  {
   "cell_type": "code",
   "execution_count": 16,
   "metadata": {},
   "outputs": [],
   "source": [
    "def zeros_below_diagonal(U):\n",
    "    \"\"\"Insert the below-diagonal zero values into U, ignored in the function rowReduce.\n",
    "    These are needed to display U correctly,\n",
    "    and to demonstrate that the new system of equations Ux=c$ has the same solution as Ax=b.\n",
    "    \"\"\"\n",
    "    for i in range(1,len(U)):\n",
    "        U[i,:i] = 0."
   ]
  },
  {
   "cell_type": "code",
   "execution_count": 17,
   "metadata": {},
   "outputs": [
    {
     "name": "stdout",
     "output_type": "stream",
     "text": [
      "A =\n",
      "[[  1.  -3.  15.]\n",
      " [  5. 200.   7.]\n",
      " [  4.  11.  -6.]]\n",
      "b = [4. 3. 2.]\n",
      "Step k=0\n",
      "The multipliers in column 1 are [5. 4.]\n",
      "The updated matrix is\n",
      "[[  1.  -3.  15.]\n",
      " [  0. 215. -68.]\n",
      " [  0.  23. -66.]]\n",
      "The updated right-hand side is\n",
      "[  4. -17. -14.]\n",
      "Step k=1\n",
      "The multipliers in column 2 are [0.10697674]\n",
      "The updated matrix is\n",
      "[[  1.         -3.         15.       ]\n",
      " [  0.        215.        -68.       ]\n",
      " [  0.          0.        -58.7255814]]\n",
      "The updated right-hand side is\n",
      "[  4.         -17.         -12.18139535]\n",
      "U =\n",
      "[[  1.         -3.         15.       ]\n",
      " [  0.        215.        -68.       ]\n",
      " [  0.          0.        -58.7255814]]\n",
      "c = [  4.         -17.         -12.18139535]\n"
     ]
    }
   ],
   "source": [
    "# Demo\n",
    "if __name__ == \"__main__\":  # Do this if running the .py file directly, but not when importing [from] it\n",
    "#    A = np.array([[4. , 235. , 7.], [3. , 5. , -6.],[1. , -3. , 22.]])\n",
    "    A = np.array([[1. , -3. , 15.], [5. , 200. , 7.], [4. , 11. , -6.]])\n",
    "    print(f\"A =\\n{A}\")\n",
    "#    b = np.array([2. , 3. , 4.])\n",
    "    b = np.array([4. , 3. , 2.])\n",
    "    print(f\"b = {b}\")\n",
    "    \n",
    "    (U, c) = rowReduce(A, b, demoMode=True)\n",
    "    zeros_below_diagonal(U)\n",
    "    print(f\"U =\\n{U}\")\n",
    "    print(f\"c = {c}\")"
   ]
  },
  {
   "cell_type": "code",
   "execution_count": 18,
   "metadata": {},
   "outputs": [],
   "source": [
    "def backwardSubstitution(U, c):\n",
    "    \"\"\"Solve U x = c for b.\"\"\"\n",
    "    n = len(c)\n",
    "    x = np.zeros(n)\n",
    "    x[-1] = c[-1]/U[-1,-1]\n",
    "    for i in range(2, n+1):\n",
    "        x[-i] = (c[-i] - sum(U[-i,1-i:] * x[1-i:])) / U[-i,-i]\n",
    "    return x"
   ]
  },
  {
   "cell_type": "markdown",
   "metadata": {},
   "source": [
    "**UPDATE:** this was further updated on March 7 as follows, mainly to add `demoMode`."
   ]
  },
  {
   "cell_type": "code",
   "execution_count": 19,
   "metadata": {},
   "outputs": [],
   "source": [
    "def backwardSubstitution(U, c, demoMode=False):\n",
    "    \"\"\"Solve U x = c for b.\n",
    "    \n",
    "    2021-03-07: aded a demonstration mode.\n",
    "    \"\"\"\n",
    "    n = len(c)\n",
    "    x = np.zeros(n)\n",
    "    x[-1] = c[-1]/U[-1,-1]\n",
    "    if demoMode: print(f\"x_{n} = {x[-1]}\")\n",
    "    for i in range(2, n+1):\n",
    "        x[-i] = (c[-i] - sum(U[-i,1-i:] * x[1-i:])) / U[-i,-i]\n",
    "        if demoMode: print(f\"x_{n-i+1} = {x[-i]}\")\n",
    "    return x"
   ]
  },
  {
   "cell_type": "code",
   "execution_count": 20,
   "metadata": {},
   "outputs": [
    {
     "name": "stdout",
     "output_type": "stream",
     "text": [
      "x_3 = 0.20742911452558213\n",
      "x_2 = -0.013464280057025185\n",
      "x_1 = 0.8481704419451925\n",
      "\n",
      "x = [ 0.84817044 -0.01346428  0.20742911]\n",
      "The residual b - Ax = [ 0.0000000e+00 -8.8817842e-16 -4.4408921e-16],\n",
      "with maximum norm 8.88e-16.\n"
     ]
    }
   ],
   "source": [
    "# Demo\n",
    "if __name__ == \"__main__\":  # Do this if running the .py file directly, but not when importing [from] it\n",
    "    x = backwardSubstitution(U, c, demoMode=True)\n",
    "    print(\"\")\n",
    "    print(f\"x = {x}\")\n",
    "    r = b - A@x\n",
    "    print(f\"The residual b - Ax = {r},\")\n",
    "    print(f\"with maximum norm {max(abs(r)):.3}.\")"
   ]
  },
  {
   "cell_type": "markdown",
   "metadata": {},
   "source": [
    "### LU factorization ..."
   ]
  },
  {
   "cell_type": "code",
   "execution_count": 21,
   "metadata": {},
   "outputs": [],
   "source": [
    "def lu(A, demoMode=False):\n",
    "    \"\"\"Compute the Doolittle LU factorization of A.\n",
    "    Sums like $\\sum_{s=1}^{k-1} l_{k,s} u_{s,j}$ are done as matrix products;\n",
    "    in the above case, row matrix L[k, 1:k-1] by column matrix U[1:k-1,j] gives the sum for a give j,\n",
    "    and row matrix L[k, 1:k-1] by matrix U[1:k-1,k:n] gives the relevant row vector.\n",
    "    \"\"\"\n",
    "    n = len(A)  # len() gives the number of rows in a 2D array.\n",
    "    # Initialize U as the zero matrix;\n",
    "    # correct below the main diagonal, with the other entries to be computed below.\n",
    "    U = np.zeros_like(A)\n",
    "    # Initialize L as the identity matrix;\n",
    "    # correct on and above the main diagonal, with the other entries to be computed below.\n",
    "    L = np.identity(n)\n",
    "   # Column and row 1 (i.e Python index 0) are special:\n",
    "    U[0,:] = A[0,:]\n",
    "    L[1:,0] = A[1:,0]/U[0,0]\n",
    "    if demoMode:\n",
    "        print(f\"After step k=0\")\n",
    "        print(f\"U=\\n{U}\")\n",
    "        print(f\"L=\\n{L}\")\n",
    "    for k in range(1, n-1):\n",
    "        U[k,k:] = A[k,k:] - L[k,:k] @ U[:k,k:]\n",
    "        L[k+1:,k] = (A[k+1:,k] - L[k+1:,:k] @ U[:k,k])/U[k,k]\n",
    "        if demoMode:\n",
    "            print(f\"After step {k=}\")\n",
    "            print(f\"U=\\n{U}\")\n",
    "            print(f\"L=\\n{L}\")\n",
    "    # The last row (index \"-1\") is special: nothing to do for L\n",
    "    U[-1,-1] = A[-1,-1] - sum(L[-1,:-1]*U[:-1,-1])\n",
    "    if demoMode:\n",
    "        print(f\"After the final step, k={n-1}\")\n",
    "        print(f\"U=\\n{U}\")\n",
    "    return (L, U)"
   ]
  },
  {
   "cell_type": "code",
   "execution_count": 22,
   "metadata": {},
   "outputs": [
    {
     "name": "stdout",
     "output_type": "stream",
     "text": [
      "A =\n",
      "[[  1.  -3.  15.]\n",
      " [  5. 200.   7.]\n",
      " [  4.  11.  -6.]]\n",
      "b = [4. 3. 2.]\n",
      "After step k=0\n",
      "U=\n",
      "[[ 1. -3. 15.]\n",
      " [ 0.  0.  0.]\n",
      " [ 0.  0.  0.]]\n",
      "L=\n",
      "[[1. 0. 0.]\n",
      " [5. 1. 0.]\n",
      " [4. 0. 1.]]\n",
      "After step k=1\n",
      "U=\n",
      "[[  1.  -3.  15.]\n",
      " [  0. 215. -68.]\n",
      " [  0.   0.   0.]]\n",
      "L=\n",
      "[[1.         0.         0.        ]\n",
      " [5.         1.         0.        ]\n",
      " [4.         0.10697674 1.        ]]\n",
      "After the final step, k=2\n",
      "U=\n",
      "[[  1.         -3.         15.       ]\n",
      " [  0.        215.        -68.       ]\n",
      " [  0.          0.        -58.7255814]]\n",
      "A=\n",
      "[[  1.  -3.  15.]\n",
      " [  5. 200.   7.]\n",
      " [  4.  11.  -6.]]\n",
      "L=\n",
      "[[1.         0.         0.        ]\n",
      " [5.         1.         0.        ]\n",
      " [4.         0.10697674 1.        ]]\n",
      "U=\n",
      "[[  1.         -3.         15.       ]\n",
      " [  0.        215.        -68.       ]\n",
      " [  0.          0.        -58.7255814]]\n",
      "L times U is \n",
      "[[  1.  -3.  15.]\n",
      " [  5. 200.   7.]\n",
      " [  4.  11.  -6.]]\n",
      "The 'residual' A - LU is \n",
      "[[0. 0. 0.]\n",
      " [0. 0. 0.]\n",
      " [0. 0. 0.]]\n"
     ]
    }
   ],
   "source": [
    "# Demo\n",
    "if __name__ == \"__main__\":  # Do this if running the .py file directly, but not when importing [from] it\n",
    "#    A = np.array([[4. , 235. , 7.], [3. , 5. , -6.],[1. , -3. , 22.]])\n",
    "    A = np.array([[1. , -3. , 15.], [5. , 200. , 7.], [4. , 11. , -6.]])\n",
    "    print(f\"A =\\n{A}\")\n",
    "#    b = np.array([2. , 3. , 4.])\n",
    "    b = np.array([4. , 3. , 2.])\n",
    "    print(f\"b = {b}\")\n",
    "\n",
    "    (L, U) = lu(A, demoMode=True)\n",
    "\n",
    "    print(f\"A=\\n{A}\")\n",
    "    print(f\"L=\\n{L}\")\n",
    "    print(f\"U=\\n{U}\")\n",
    "    print(f\"L times U is \\n{L@U}\")\n",
    "    print(f\"The 'residual' A - LU is \\n{A - L@U}\")"
   ]
  },
  {
   "cell_type": "markdown",
   "metadata": {},
   "source": [
    "### ... and forward substitution ..."
   ]
  },
  {
   "cell_type": "code",
   "execution_count": 23,
   "metadata": {},
   "outputs": [],
   "source": [
    "def forwardSubstitution(L, b):\n",
    "    \"\"\"Solve L c = b for c.\"\"\"\n",
    "    n = len(b)\n",
    "    c = np.zeros_like(b)\n",
    "    c[0] = b[0]\n",
    "    for i in range(1, n):\n",
    "        c[i] = b[i] - L[i,:i] @ c[:i]\n",
    "        # Note: the above uses a row-by-column matrix multiplication to do the same as\n",
    "        #c[i] = b[i] - sum(L[i,:i] * c[:i])\n",
    "    return c"
   ]
  },
  {
   "cell_type": "code",
   "execution_count": 24,
   "metadata": {},
   "outputs": [],
   "source": [
    "def forwardSubstitution(L, b, demoMode=False):\n",
    "    \"\"\"Solve L c = b for c.\n",
    "        \n",
    "    2021-03-07: aded a demonstration mode.\n",
    "    \"\"\"\n",
    "    n = len(b)\n",
    "    c = np.zeros(n)\n",
    "    c[0] = b[0]\n",
    "    if demoMode: print(f\"c_1 = {c[0]}\")\n",
    "    for i in range(1, n):\n",
    "        c[i] = b[i] - L[i,:i] @ c[:i]\n",
    "        # Note: the above uses a row-by-column matrix multiplication to do the same as\n",
    "        #c[i] = b[i] - sum(L[i,:i] * c[:i])\n",
    "        if demoMode: print(f\"c_{i+1} = {c[i]}\")\n",
    "    return c"
   ]
  },
  {
   "cell_type": "code",
   "execution_count": 25,
   "metadata": {},
   "outputs": [
    {
     "name": "stdout",
     "output_type": "stream",
     "text": [
      "c_1 = 4.0\n",
      "c_2 = -17.0\n",
      "c_3 = -12.18139534883721\n",
      "\n",
      "c = [  4.         -17.         -12.18139535]\n"
     ]
    }
   ],
   "source": [
    "# Demo\n",
    "if __name__ == \"__main__\":  # Do this if running the .py file directly, but not when importing [from] it\n",
    "    c = forwardSubstitution(L, b, demoMode=True)\n",
    "    print(\"\")\n",
    "    print(f\"c = {c}\")"
   ]
  },
  {
   "cell_type": "markdown",
   "metadata": {},
   "source": [
    "### ... and finally backward substitution again, to complete the LU factorization method example"
   ]
  },
  {
   "cell_type": "code",
   "execution_count": 26,
   "metadata": {},
   "outputs": [
    {
     "name": "stdout",
     "output_type": "stream",
     "text": [
      "x_3 = 0.20742911452558213\n",
      "x_2 = -0.013464280057025185\n",
      "x_1 = 0.8481704419451925\n",
      "\n",
      "The residual c - Ux for the backward substitution step is [0. 0. 0.]\n",
      "\t with maximum norm 0.0\n",
      "The residual b - Ax for the whole solving process is [ 0.0000000e+00 -8.8817842e-16 -4.4408921e-16]\n",
      "\t with maximum norm 8.88e-16\n"
     ]
    }
   ],
   "source": [
    "# Demo\n",
    "if __name__ == \"__main__\":  # Do this if running the .py file directly, but not when importing [from] it\n",
    "    x = backwardSubstitution(U, c, demoMode=True)\n",
    "    print(\"\")\n",
    "    print(f\"The residual c - Ux for the backward substitution step is {c - U@x}\")\n",
    "    print(f\"\\t with maximum norm {np.max(np.abs(c - U@x)):0.3}\")\n",
    "    print(f\"The residual b - Ax for the whole solving process is {b - A@x}\")\n",
    "    print(f\"\\t with maximum norm {np.max(np.abs(b - A@x)):0.3}\")"
   ]
  },
  {
   "cell_type": "code",
   "execution_count": 27,
   "metadata": {},
   "outputs": [],
   "source": [
    "def rowReduceMaximalElementPivoting(A, b, demoMode=False):\n",
    "    \"\"\"Solve Ax=b by maximl element partial pivoting.\n",
    "    This version actually swaps rows rather than keeping track of pivot row indices.\n",
    "    \"\"\"    \n",
    "    U = A.copy()\n",
    "    c = b.copy()\n",
    "    n = len(b)\n",
    "    # The function zeros_like() is used to create L with the same size and shape as A,\n",
    "    # and with all its elements zero initially.\n",
    "    L = np.zeros_like(A)\n",
    "    for k in range(n-1):\n",
    "        if demoMode: print(f\"Step {k=}\")\n",
    "        # Swap rows if necessary\n",
    "        pivot_row = k\n",
    "        size_U_pivot_row_k = abs(U[k,k])\n",
    "        for i in range(k+1,n):\n",
    "            size_U_i_k = abs(U[i,k])\n",
    "            if size_U_i_k > size_U_pivot_row_k:\n",
    "                pivot_row = i\n",
    "                size_U_pivot_row_k = size_U_i_k\n",
    "        # swap rows?\n",
    "        if pivot_row > k:\n",
    "            if demoMode:\n",
    "                print(f\"swap row {k} with row {pivot_row}\")\n",
    "            row_temp = U[pivot_row].copy()\n",
    "            U[pivot_row] = U[k].copy()\n",
    "            U[k] = row_temp.copy()\n",
    "            #( U[k,:], U[pivot_row,:] ) = ( U[pivot_row,:], U[k,:] )\n",
    "            ( c[k], c[pivot_row] ) = ( c[pivot_row], c[k] )\n",
    "            if demoMode:\n",
    "                print(f\"After this row swap, the matrix is\\n{U}\")\n",
    "                print(f\"and the right-hand side is\\n{c}\")\n",
    "        # compute all the L values for column k:\n",
    "        L[k+1:,k] = U[k+1:n,k] / U[k,k]\n",
    "        if demoMode:\n",
    "            print(f\"The multipliers in column {k+1} are {L[k+1:,k]}\")\n",
    "        for i in range(k+1, n):\n",
    "            U[i,k+1:n] -= L[i,k] * U[k,k+1:n]  # Update row i\n",
    "        c[k+1:n] -= L[k+1:n,k] * c[k]  # update c values\n",
    "        if demoMode:\n",
    "            # insert zeros in U:\n",
    "            U[k+1:, k] = 0.\n",
    "            print(f\"The updated matrix is\\n{U}\")\n",
    "            print(f\"The updated right-hand side is\\n{c}\")\n",
    "    return (U, c)"
   ]
  },
  {
   "cell_type": "code",
   "execution_count": 28,
   "metadata": {},
   "outputs": [
    {
     "name": "stdout",
     "output_type": "stream",
     "text": [
      "A =\n",
      "[[  1.  -3.  15.]\n",
      " [  5. 200.   7.]\n",
      " [  4.  11.  -6.]]\n",
      "b = [4. 3. 2.]\n",
      "Step k=0\n",
      "swap row 0 with row 1\n",
      "After this row swap, the matrix is\n",
      "[[  5. 200.   7.]\n",
      " [  1.  -3.  15.]\n",
      " [  4.  11.  -6.]]\n",
      "and the right-hand side is\n",
      "[3. 4. 2.]\n",
      "The multipliers in column 1 are [0.2 0.8]\n",
      "The updated matrix is\n",
      "[[   5.   200.     7. ]\n",
      " [   0.   -43.    13.6]\n",
      " [   0.  -149.   -11.6]]\n",
      "The updated right-hand side is\n",
      "[ 3.   3.4 -0.4]\n",
      "Step k=1\n",
      "swap row 1 with row 2\n",
      "After this row swap, the matrix is\n",
      "[[   5.   200.     7. ]\n",
      " [   0.  -149.   -11.6]\n",
      " [   0.   -43.    13.6]]\n",
      "and the right-hand side is\n",
      "[ 3.  -0.4  3.4]\n",
      "The multipliers in column 2 are [0.2885906]\n",
      "The updated matrix is\n",
      "[[   5.          200.            7.        ]\n",
      " [   0.         -149.          -11.6       ]\n",
      " [   0.            0.           16.94765101]]\n",
      "The updated right-hand side is\n",
      "[ 3.         -0.4         3.51543624]\n",
      "U =\n",
      "[[   5.          200.            7.        ]\n",
      " [   0.         -149.          -11.6       ]\n",
      " [   0.            0.           16.94765101]]\n",
      "c = [ 3.         -0.4         3.51543624]\n"
     ]
    }
   ],
   "source": [
    "# Demo\n",
    "if __name__ == \"__main__\":  # Do this if running the .py file directly, but not when importing [from] it\n",
    "#    A = np.array([[4. , 235. , 7.], [3. , 5. , -6.],[1. , -3. , 22.]])\n",
    "    A = np.array([[1. , -3. , 15.], [5. , 200. , 7.], [4. , 11. , -6.]])\n",
    "    print(f\"A =\\n{A}\")\n",
    "#    b = np.array([2. , 3. , 4.])\n",
    "    b = np.array([4. , 3. , 2.])\n",
    "    print(f\"b = {b}\")\n",
    "\n",
    "    (U, c) = rowReduceMaximalElementPivoting(A, b, demoMode=True)\n",
    "    zeros_below_diagonal(U)\n",
    "    print(f\"U =\\n{U}\")\n",
    "    print(f\"c = {c}\")"
   ]
  }
 ],
 "metadata": {
  "kernelspec": {
   "display_name": "Python 3",
   "language": "python",
   "name": "python3"
  },
  "language_info": {
   "codemirror_mode": {
    "name": "ipython",
    "version": 3
   },
   "file_extension": ".py",
   "mimetype": "text/x-python",
   "name": "python",
   "nbconvert_exporter": "python",
   "pygments_lexer": "ipython3",
   "version": "3.8.5"
  }
 },
 "nbformat": 4,
 "nbformat_minor": 4
}
