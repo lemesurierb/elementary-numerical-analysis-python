{
 "cells": [
  {
   "cell_type": "markdown",
   "id": "aboriginal-steering",
   "metadata": {},
   "source": [
    "# Comparison of Methods\n",
    "\n",
    "This section will be progressively expanded as we see new method for solving initial value problems for ordinary differential equations (\"ODE IVPs\")."
   ]
  },
  {
   "cell_type": "markdown",
   "id": "municipal-carnival",
   "metadata": {},
   "source": [
    "## Order of accuracy for the basic Runge-Kutta type mehods\n",
    "\n",
    "For Euler's method, it was stated in section\n",
    "[Solving Initial Value Problems for Ordinary Differential Equations, Part 1](ODE-IVP-1-basics-and-Euler.ipynb),\n",
    "(and verified for the test case of $du/dt = ku$)\n",
    "that the global truncation error is of first order n step-size $h$:\n",
    "\n",
    "$$\n",
    "| E_i |  = | U_i - u(t_i, a, u_0) | \\leq \\frac{|u_0 e^{K(b - a)}|}{2} \\frac{e^{K (t_i - a)} - 1}{k} h, = O(h)\n",
    "$$\n",
    "\n",
    "This is derived based on a location truncation error bound\n",
    "\n",
    "$$\n",
    "| e_i |  = | U_i - u(t_i, t_{i-1}, U_{i-1}) | \\leq  \\dots = O(h^2)\n",
    "$$\n"
   ]
  }
 ],
 "metadata": {
  "kernelspec": {
   "display_name": "Python 3",
   "language": "python",
   "name": "python3"
  },
  "language_info": {
   "codemirror_mode": {
    "name": "ipython",
    "version": 3
   },
   "file_extension": ".py",
   "mimetype": "text/x-python",
   "name": "python",
   "nbconvert_exporter": "python",
   "pygments_lexer": "ipython3",
   "version": "3.8.5"
  }
 },
 "nbformat": 4,
 "nbformat_minor": 5
}
