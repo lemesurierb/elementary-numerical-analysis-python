{
 "cells": [
  {
   "cell_type": "markdown",
   "metadata": {},
   "source": [
    "# Exercises on the Bisection Method"
   ]
  },
  {
   "cell_type": "markdown",
   "metadata": {},
   "source": [
    "## A test case\n",
    "\n",
    "As a first test case, we will solve\n",
    "$x - \\cos(x) = 0$,\n",
    "which can be shown to have a unique root that lies in the interval\n",
    "$[0, 1]$.\n",
    "\n",
    "Then other equations can be tried."
   ]
  },
  {
   "cell_type": "markdown",
   "metadata": {},
   "source": [
    "## Exercise 1\n",
    "\n",
    "Create a Python function implementing the first, simplest algorithm from the section on *Root finding by interval halving*,\n",
    "which perfomrs a fixed number of iterations, `max_iterations`.\n",
    "(This was called \"N\" there, but in code I encourage using more descriptive names for variables.)\n",
    "\n",
    "This be used as:\n",
    "`root = bisection1(f, a, b, max_iterations)`\n",
    "\n",
    "Test it with the above example, and then try solving at least one other equation."
   ]
  },
  {
   "cell_type": "markdown",
   "metadata": {},
   "source": [
    "The main task is to create a Python function whose input specifies a function `f`, the interval end-points `a` and `b`, and an upper limit `tol` on the allowable absolute error in the result; and whose output is both an approximate root `c` and a bound `errorBound` on its absolute error.\n",
    "\n",
    "That is, we require that there is an exact root $r$ near $c$, in that\n",
    "\n",
    "$$|r - c| \\leq \\text{errorBound} \\leq \\text{TOL}.$$\n",
    "\n",
    "The definition of this Python function will be of the form\n",
    "\n",
    "    def bisection(f, a, b, TOL):\n",
    "        . . .\n",
    "        return c, errorBound\n",
    "\n",
    "and the usage will be something like\n",
    "\n",
    "    (root,  errorBound) = bisection(f, a, b, TOL)\n",
    "    print(f'The approximate root is {root} with absolute error at most {errorBound}')\n",
    "    \n",
    "I give a definition for the test function $f$.\n",
    "Note that I get the cosine function from the module `numpy` rather than the standard Python module `math`, because `numpy` will be far more useful for us, and so I encourage you to **avoid module `math` as much as possible!**\n",
    "\n",
    "\n",
    "    from numpy import cos\n",
    "    def f(x):\n",
    "        return x - cos(x)\n",
    "\n",
    "This helps with the readability of large collections of code, avoiding the need to look further up the file to see where an object like `cos` comes from.\n",
    "(It is also essential if you happen to use two functions of the same name from different modules, though in the current example, one is unlikely to want both `math.cos` and `numpy.cos`.)"
   ]
  },
  {
   "cell_type": "markdown",
   "metadata": {},
   "source": [
    "## The bisection method algorithm in \"pseudocode\"\n",
    "\n",
    "Here is a description of the bisection method algorithm in *pseudocode*, as used in our text book and these notes: a mix of notations from mathematics and computer code, whatever makes the ideas clearest.\n",
    "\n",
    "\n",
    "Input:\n",
    "<br>$\\quad$ `f` (a continuous function from and to the real numbers),\n",
    "<br>$\\quad$ `a` and `b` (real numbers, $a < b$ with $f(a)$ and $f(b)$ of opposite sign)\n",
    "<br>$\\quad$ `errorTolerance` (the maximum allowable absolute error)\n",
    "\n",
    "Output will be:\n",
    "<br>$\\quad$ `r` (an approximation of a solution of $f(r) = 0$)\n",
    "<br>$\\quad$ `errorBound` (an upper limit on the absolute error in that approximation).\n",
    "\n",
    "$\\displaystyle c = \\frac{a + b}{2}$\n",
    "<br>errorBound = c - a\n",
    "<br>while errorBound > errorTolerance:\n",
    "<br>$\\quad$ if f(a) f(c) > 0:\n",
    "<br>$\\quad$$\\quad$ $a \\leftarrow c$\n",
    "<br>$\\quad$ else:\n",
    "<br>$\\quad$$\\quad$ $b \\leftarrow c$\n",
    "<br>$\\quad$ end if\n",
    "<br>$\\quad$ $\\displaystyle c = \\frac{a + b}{2}$\n",
    "<br>$\\quad$ errorBound = c - a\n",
    "<br>end while\n",
    "<br>r = c\n",
    "\n",
    "Output: r, errorBound"
   ]
  },
  {
   "cell_type": "markdown",
   "metadata": {},
   "source": [
    "## Exercise 2\n",
    "\n",
    "Create Python/Numpy code for the more refined algorthn mabvm, wolving to a specified maximum allownble absolte error,\n",
    "so with usage\n",
    "`(root,  errorBound) = bisection(f, a, b, TOL)`\n",
    "\n",
    "Again test by solving $x - \\cos x = 0$, using the fact that there is a solution in the interval $(-1, 1)$,\n",
    "but this time solve accurate to within $10^{-4}$, and otu the the final error bound as well as the apprxomate root."
   ]
  },
  {
   "cell_type": "markdown",
   "metadata": {},
   "source": [
    "### Exercise 3\n",
    "\n",
    "Consider the equation $x^5 = x^2 + 10$.\n",
    "\n",
    "a) Find an interval $[a,b]$ of length one in which there is guaranteed to be a root.\n",
    "\n",
    "b) Compute the next two improved approximations given by the bisection method.\n",
    "\n",
    "c) Determine how many iterations of the bisection method would then be needed to approximate the root with an absolute error of at most $10^{-10}$.\n",
    "<br>\n",
    "Do this without actually computing those extra iterations or computing the root!"
   ]
  },
  {
   "cell_type": "markdown",
   "metadata": {},
   "source": [
    "---\n",
    "This work is licensed under [Creative Commons Attribution-ShareAlike 4.0 International](https://creativecommons.org/licenses/by-sa/4.0/)"
   ]
  }
 ],
 "metadata": {
  "kernelspec": {
   "display_name": "Python 3",
   "language": "python",
   "name": "python3"
  },
  "language_info": {
   "codemirror_mode": {
    "name": "ipython",
    "version": 3
   },
   "file_extension": ".py",
   "mimetype": "text/x-python",
   "name": "python",
   "nbconvert_exporter": "python",
   "pygments_lexer": "ipython3",
   "version": "3.8.5"
  }
 },
 "nbformat": 4,
 "nbformat_minor": 4
}
