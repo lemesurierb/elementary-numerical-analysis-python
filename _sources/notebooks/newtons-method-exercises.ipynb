{
 "cells": [
  {
   "cell_type": "markdown",
   "metadata": {},
   "source": [
    "# Exercises on Newton's Method"
   ]
  },
  {
   "cell_type": "markdown",
   "metadata": {},
   "source": [
    "## Exercise 1\n",
    "\n",
    "a) Show that Newton's method applied to\n",
    "\n",
    "$$ f(x) = x^k - a $$\n",
    "\n",
    "leads to fixed point iteration with function\n",
    "\n",
    "$$ g(x) = \\frac{(k-1) x + \\displaystyle \\frac{a}{x^{k-1}}}{k}. $$\n",
    "\n",
    "b) Then verify mathematically that the iteration\n",
    "$x_{k+1} = g(x_k)$ has super-linear convergence."
   ]
  }
 ],
 "metadata": {
  "kernelspec": {
   "display_name": "Python 3",
   "language": "python",
   "name": "python3"
  },
  "language_info": {
   "codemirror_mode": {
    "name": "ipython",
    "version": 3
   },
   "file_extension": ".py",
   "mimetype": "text/x-python",
   "name": "python",
   "nbconvert_exporter": "python",
   "pygments_lexer": "ipython3",
   "version": "3.8.5"
  }
 },
 "nbformat": 4,
 "nbformat_minor": 4
}
