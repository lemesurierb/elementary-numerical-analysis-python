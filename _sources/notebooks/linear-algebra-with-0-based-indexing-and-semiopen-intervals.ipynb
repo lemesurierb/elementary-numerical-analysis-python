{
 "cells": [
  {
   "cell_type": "markdown",
   "metadata": {},
   "source": [
    "# Linear algebra algorithms using 0-based indexing and semi-open intervals"
   ]
  },
  {
   "cell_type": "markdown",
   "metadata": {},
   "source": [
    "This work is licensed under [Creative Commons Attribution-ShareAlike 4.0 International](https://creativecommons.org/licenses/by-sa/4.0/)\n",
    "\n",
    "---"
   ]
  },
  {
   "cell_type": "markdown",
   "metadata": {},
   "source": [
    "This section describes some of the core algorithms of linear algebra using the same indexing conventions as in most modern programming languages: Python, C, Java, C++, javascript, Objective-C, C#, Swift, etc. (In fact, almost everything except Matlab and Fortran.)\n",
    "\n",
    "The key elements of this are:\n",
    "- Indices for vectors and other arrays **start at 0**.\n",
    "- Ranges of indices are described with *semi-open intervals* $[a,b)$.\n",
    "<br>\n",
    "This \"index interval\" notation has two virtues: it emphasizes the mathematical fact that the order in which things are done is irrelevant (such as within sums), and it more closely resembles the way that most programming languages specify index ranges.\n",
    "For example, the indices $i$ of a Python array with $n$ elements are $0 \\leq i < n$, or $[0,n)$, and the Python notations `range(n)`, `range(0,n)`, `:n` and `0:n` all describe this.\n",
    "Similarly, in Java, C C++ etc., one can loop over the indices $i \\in [a,b)$ with `for(i=a, i<b, i+=1)`\n",
    "\n",
    "The one place that the indexing is still a bit tricky is counting backwards!\n",
    "<br>\n",
    "For this, note that the index range $i = b, b-1, \\dots a$ is $b \\geq i > a-1$, which in Python is `range(b, a-1, -1)`.\n",
    "\n",
    "I include Python code for comparison for just the three most basic algorithms: \"naive\" LU factorization and forward and backward substitution, without pivoting.\n",
    "The rest are good exercises for learning how to program loops and sums."
   ]
  },
  {
   "cell_type": "markdown",
   "metadata": {},
   "source": [
    "## The naive Gaussian elimination algorithm\n",
    "\n",
    "In this careful version, the original matrix $A$ is called $A^{(0)}$, and the new versions at each stage are called $A^{(1)}$, $A^{(2)}$, and so on to $A^{(n-1)}$, which is the row-reduced form also called $U$; likewise with the right-hand sides $b^{(0)}=b$, $b^{(1)}$ up to $b^{(n-1)} = c$.\n",
    "\n",
    "However, in software all those super-scripts can be ignored, just updating arrays `A` anf `b`.\n",
    "\n",
    "`for k in [0, n-1)`\n",
    "<br>\n",
    "$\\quad$ `for i in [k+1, n)`\n",
    "<br>\n",
    "$\\quad\\quad l_{i,k} = a_{i,k}^{(k)}/a_{k,k}^{(k)}$\n",
    "<br>\n",
    "$\\quad\\quad$ `for j in [k+1, n)`\n",
    "<br>\n",
    "$\\quad\\quad\\quad a_{i,j}^{(k+1)} = a_{i,j}^{(k)} - l_{i,k} a_{k,j}^{(k)}$\n",
    "<br>\n",
    "$\\quad\\quad$ `end for`\n",
    "<br>\n",
    "$\\quad\\quad b_i^{(k+1)} = b_i^{(k)} - l_{i,k} b_{k}^{(k)}$\n",
    "<br>\n",
    "$\\quad$ `end for`\n",
    "<br>\n",
    "`end for`\n",
    "\n",
    "Actually this skips formulas for some elements of the new matrix $A^{(k+1)}$,\n",
    "because they are either zero or are unchanged from $A^{(k)}$:\n",
    "<br>\n",
    "the rows before $i=k$ are unchanged, and for columns before $j=k$, the new entries are zeros."
   ]
  },
  {
   "cell_type": "markdown",
   "metadata": {},
   "source": [
    "## The LU factorization with $L$ unit lower triangular, by Doolittle's direct method\n",
    "\n",
    "**Reference:** the textbook's section *Matrix Factorizations*.\n",
    "\n",
    "`for j in [0, n)`\n",
    "<br>\n",
    "$\\quad$ $u_{0,j} = a_{0,j}$\n",
    "<br>\n",
    "`end for`\n",
    "<br>\n",
    "`for i in [1, n)`\n",
    "<br>\n",
    "$\\quad$ $l_{i,0} = a_{i,0}/u_{0,0}$\n",
    "<br>\n",
    "`end for`\n",
    "<br><br>\n",
    "`for k in [1, n)`\n",
    "<br>\n",
    "$\\quad$ `for j in [k, n)`\n",
    "<br>\n",
    "$\\quad\\quad  \\displaystyle u_{k,j} = a_{k,j} - \\sum_{s \\in [0, k)} l_{k,s}u_{s,j}$\n",
    "<br>\n",
    "$\\quad$ `end for`\n",
    "<br>\n",
    "$\\quad$ `for i in [k+1, n)`\n",
    "<br>\n",
    "$\\quad\\quad \\displaystyle l_{i,k} = \\left( a_{i,k} - \\sum_{s \\in [0, k)} l_{i,s}u_{s,k} \\right)/u_{k,k}$\n",
    "<br>\n",
    "$\\quad$ `end for`\n",
    "<br>\n",
    "`end for`"
   ]
  },
  {
   "cell_type": "markdown",
   "metadata": {},
   "source": [
    "## Forward substitution with a unit lower triangular matrix\n",
    "\n",
    "For $L$ unit lower triangular, solving $Lc = b$ by forward substitution is\n",
    "\n",
    "$c_0 = b_0$\n",
    "<br>\n",
    "`for i in [1, n)`\n",
    "<br>\n",
    "$\\quad \\displaystyle c_i = b_i - \\sum_{j \\in [0,i)} l_{i,j} c_j$\n",
    "<br>\n",
    "`end for`\n",
    "\n",
    "(Update: redundant division by $l_{0,0}$ removed.)"
   ]
  },
  {
   "cell_type": "markdown",
   "metadata": {},
   "source": [
    "## Backward substitution with an upper triangular matrix\n",
    "\n",
    "$x_{n-1} = c_{n-1}/u_{n-1,n-1}$\n",
    "<br>\n",
    "`for i from n-2 down to 0`\n",
    "<br>\n",
    "$\\displaystyle \\quad x_i = \\frac{c_i - \\sum_{j \\in [i+1, n)} u_{i,j} x_j}{u_{i,i}}$\n",
    "<br>\n",
    "`end for`"
   ]
  },
  {
   "cell_type": "markdown",
   "metadata": {},
   "source": [
    "### Counting backwards in Python\n",
    "\n",
    "For the Python implementation, we need a range of indices that change by a step of -1 instead of 1.\n",
    "This can be done with an optional third argument to range:\n",
    "`range(a, b, step)` generates a succession values starting with `a`, each value differing from its predecessor by `step`, and stopping just before `b`.\n",
    "That last rule requires care whe the step is negative: for example, `range(3, 0, -1)` gives the sequence $\\{3, 2, 1\\}$.\n",
    "So to count down to zero, one has to use $b = -1$!\n",
    "That is, to count down from $n-1$ and end at 0, one uses `range(n-1, -1, -1)`."
   ]
  },
  {
   "cell_type": "code",
   "execution_count": 1,
   "metadata": {},
   "outputs": [],
   "source": [
    "import numpy as np"
   ]
  },
  {
   "cell_type": "code",
   "execution_count": 2,
   "metadata": {},
   "outputs": [],
   "source": [
    "def solveUpperTriangular(U, c):\n",
    "    n = len(c)\n",
    "    x = np.zeros(n)\n",
    "    x[n-1] = c[n-1]/U[n-1,n-1]\n",
    "    for i in range(n-2, -1, -1):\n",
    "        x[i] = ( c[i] - sum(U[i,i+1:n] * x[i+1:n]) )/U[i,i]\n",
    "    return x"
   ]
  },
  {
   "cell_type": "markdown",
   "metadata": {},
   "source": [
    "### Another way to count downwards\n",
    "\n",
    "A range of integers $i$ from $b$ down to $a$ is also $i = b-d$ for $d$ from 0 up to $b-a$,\n",
    "<br>\n",
    "so one can use `for d in [0, b-a)`\n",
    "\n",
    "This gives the alternative for the algorithm:\n",
    "\n",
    "$x_{n-1} = c_{n-1}/u_{n-1,n-1}$\n",
    "<br>\n",
    "`for d in [2, n+1):`\n",
    "<br>\n",
    "$\\quad i = n - d$\n",
    "<br>\n",
    "$\\displaystyle \\quad x_i = \\frac{c_i - \\sum_{j \\in [i+1, n)} u_{i,j} x_j}{u_{i,i}}$\n",
    "<br>\n",
    "`end for`\n",
    "\n",
    "This corresponds to the alternative Python code:"
   ]
  },
  {
   "cell_type": "code",
   "execution_count": 3,
   "metadata": {},
   "outputs": [],
   "source": [
    "def solveUpperTriangular(U, c):\n",
    "    n = len(c)\n",
    "    x = np.zeros(n)\n",
    "    x[n-1] = c[n-1]/U[n-1,n-1]\n",
    "    for nmi in range(2, n+1):  # nmi is n-i\n",
    "        i = n - nmi\n",
    "        x[i] = ( c[i] - sum(U[i,i+1:n] * x[i+1:n]) )/U[i,i]\n",
    "    return x"
   ]
  },
  {
   "cell_type": "markdown",
   "metadata": {},
   "source": [
    "## Versions with maximal element partial pivoting\n",
    "\n",
    "Apart the choices of pivot rows and updating of the permutation vector $p$,\n",
    "the only change from the non-pivoting version is that all *row* indices change from $i$ to $p_i$ and so on,\n",
    "in both $U$ and $c$; *column* indices are unchanged."
   ]
  },
  {
   "cell_type": "markdown",
   "metadata": {},
   "source": [
    "### Gaussian elimination with maximal element partial pivoting\n",
    "\n",
    "In the following description, I will discard the above distinction between the successive matrices $A^{(k)}$ and vectors $b^{(k)}$, and instead refer to $A$ and $b$ like variable arrays in a programming language, with their elements being updated.\n",
    "Likewise, the permutation will be stored in a variable array $p$.\n",
    "\n",
    "Initialize the permuation vector as $p = [0, 1, \\dots, n-1]$\n",
    "<br>\n",
    "`for k in [0, n-1)`\n",
    "<br>\n",
    "$\\quad$ Search elements $a_{p_i,k}$ for $i \\in [k, n)$ and find the index r of the one with largest absolute value.\n",
    "<br>\n",
    "$\\quad$ If $r\\neq k$, swap $p_k$ with $p_r$\n",
    "<br>\n",
    "$\\quad$ `for i in [k+1, n)`\n",
    "<br>\n",
    "$\\quad\\quad l_{p_i,k} = a_{p_i,k}/a_{p_k,k}$\n",
    "<br>\n",
    "$\\quad\\quad$ `for j in [k+1, n)`\n",
    "<br>\n",
    "$\\quad\\quad\\quad a_{p_i,j} = a_{p_i,j} - l_{p_i,k} a_{p_k,j}$\n",
    "<br>\n",
    "$\\quad\\quad$ `end for`\n",
    "<br>\n",
    "$\\quad\\quad b_{p_i} = b_{p_i} - l_{p_i,k} b_{p_k}$\n",
    "<br>\n",
    "$\\quad$ `end for`\n",
    "<br>\n",
    "`end for`"
   ]
  },
  {
   "cell_type": "markdown",
   "metadata": {},
   "source": [
    "### The Doolittle LU factorization algorithm with maximal element partial pivoting\n",
    "\n",
    "`for k in [0, n)`\n",
    "<br>\n",
    "$\\quad$ Search elements $a_{p_i,k}$ for $i \\in [k, n)$ and find the index r of the one with largest absolute value.\n",
    "<br>\n",
    "$\\quad$ If $r\\neq k$, swap $p_k$ with $p_r$\n",
    "<br>\n",
    "$\\quad$ `for j in [k, n)`\n",
    "<br>\n",
    "$\\quad\\quad$ Note that for $k=0$, the sum can [and should!] be omitted in the following line:\n",
    "<br>\n",
    "$\\quad\\quad \\displaystyle u_{p_k,j} = a_{p_k,j} - \\sum_{s \\in [0, k)} l_{p_k,s}u_{p_s,j}$\n",
    "<br>\n",
    "$\\quad$ `end for`\n",
    "<br>\n",
    "$\\quad$ `for i in [k+1, n)`\n",
    "<br>\n",
    "$\\quad\\quad$ Note that for $k=0$, the sum can [and should!] be omitted in the following line:\n",
    "<br>\n",
    "$\\quad\\quad \\displaystyle l_{p_i,k} = \\left( a_{p_i,k} - \\sum_{s \\in [0, k)} l_{p_i,s}u_{p_s,k} \\right)/u_{p_k,k}$\n",
    "<br>\n",
    "$\\quad$ `end for`\n",
    "<br>\n",
    "`end for`"
   ]
  },
  {
   "cell_type": "markdown",
   "metadata": {},
   "source": [
    "### Forward substitution with maximal element partial pivoting\n",
    "\n",
    "$c_{p_0} = b_{p_0}/l_{p_0,0}$\n",
    "<br>\n",
    "`for i in [1, n)`\n",
    "<br>\n",
    "$\\quad \\displaystyle c_{p_i} = b_{p_i} - \\sum_{j \\in [0, i)} l_{p_i,j} c_{p_j}$\n",
    "<br>\n",
    "`end for`"
   ]
  },
  {
   "cell_type": "markdown",
   "metadata": {},
   "source": [
    "### Backward substitution with maximal element partial pivoting\n",
    "\n",
    "$x_{n-1} = c_{p_{n-1}}/u_{p_{n-1},n-1}$\n",
    "<br>\n",
    "`for i from n-2 down to 0`\n",
    "<br>\n",
    "$\\displaystyle \\quad x_i = \\frac{c_{p_i} - \\displaystyle \\sum_{j \\in [i+1, n)} u_{p_i,j} x_j}{u_{p_i,i}}$\n",
    "<br>\n",
    "`end for`"
   ]
  },
  {
   "cell_type": "markdown",
   "metadata": {},
   "source": [
    "## Tridiagonal matrix algorithms\n",
    "\n",
    "Describe a tridiagonal matrix with three 1D arrays as\n",
    "$$\n",
    "T = \n",
    "\\left[\\begin{array}{cc}\n",
    "d_0 & u_0\\\\\n",
    "l_0 & d_1 & u_1 & \\\\\n",
    "& l_1 & d_2 & u_2 \\\\\n",
    "&& \\ddots & \\ddots & \\ddots \\\\\n",
    "&&& l_{n-3} & d_{n-2} & u_{n-2} \\\\\n",
    "&&&& l_{n-2} & d_{n-1}\n",
    "\\end{array}\\right]\n",
    "$$\n",
    "with all \"missing\" entries being zeros,\n",
    "and the right had side of system $T x = b$ as\n",
    "$$\\left[\\begin{array}{c} b_0 \\\\ b_2 \\\\ \\vdots \\\\ b_{n-1} \\end{array}\\right]$$"
   ]
  },
  {
   "cell_type": "markdown",
   "metadata": {},
   "source": [
    "### Doolittle factorization of a tridiagonal matrix\n",
    "\n",
    "The factorization has the form $ T = L U$ with\n",
    "$$\n",
    "L = \\left[\\begin{array}{cc}\n",
    "1\\\\\n",
    "L_0 & 1 \\\\\n",
    "& L_1 & 1 \\\\\n",
    "&& \\ddots & \\ddots \\\\\n",
    "&&& L_{n-3} & 1 \\\\\n",
    "&&&& L_{n-2} & 1\n",
    "\\end{array}\\right],\n",
    "\\;\n",
    "U = \\left[\\begin{array}{cc}\n",
    "D_0 & u_0\\\\\n",
    "& D_1 & u_1 \\\\\n",
    "&& D_2 & u_2\\\\\n",
    "&&& \\ddots & \\ddots \\\\\n",
    "&&&& D_{n-2} & u_{n-2} \\\\\n",
    "&&&&& D_{n-1}\n",
    "\\end{array}\\right]\n",
    "$$\n",
    "so just the arrays $L$ and $D$ are to be computed.\n",
    "\n",
    "$D_0 = d_0$\n",
    "<br>\n",
    "`for i in [1, n)`\n",
    "<br>\n",
    "$\\quad L_{i-1} = l_{i-1}/D_{i-1}$\n",
    "<br>\n",
    "$\\quad D_{i} = d_{i} - L_{i-1} u_{i-1}$\n",
    "<br>\n",
    "`end for`"
   ]
  },
  {
   "cell_type": "markdown",
   "metadata": {},
   "source": [
    "### Forward substitution with a tridiagonal matrix\n",
    "\n",
    "$c_0 = b_0$\n",
    "<br>\n",
    "`for i in [1, n)`\n",
    "<br>\n",
    "$\\quad c_{i} = b_{i} - L_{i-1} c_{i-1}$\n",
    "<br>\n",
    "`end for`"
   ]
  },
  {
   "cell_type": "markdown",
   "metadata": {},
   "source": [
    "### Backward substitution with a tridiagonal matrix\n",
    "\n",
    "$x_{n-1} = c_{n-1}/D_{n-1}$\n",
    "<br>\n",
    "`for i from n-2 down to 0`\n",
    "<br>\n",
    "$\\quad x_{i} = (c_{i} - u_{i} x_{i+1})/D_i$\n",
    "<br>\n",
    "`end for`"
   ]
  },
  {
   "cell_type": "markdown",
   "metadata": {},
   "source": [
    "## Banded matrix algorithms"
   ]
  },
  {
   "cell_type": "markdown",
   "metadata": {},
   "source": [
    "### Doolittle factorization of a matrix of bandwidth $p$\n",
    "\n",
    "That is, $A_{i,j} = 0$ when $|i-j| > p$.\n",
    "\n",
    "In addito to loops stopping at the point beyond which valeus would be zero or unchanged  the top row and top-right diagonal overlapping at the element of \"1-based\" indices $(1,p+1)$, which is now at 0-based indices $(0,p)$.\n",
    "\n",
    "*The top row is unchanged:*\n",
    "<br>\n",
    "`for j in [0, p+1)`\n",
    "<br>\n",
    "$\\quad$ $u_{0,j} = a_{0,j}$\n",
    "<br>\n",
    "`end for`\n",
    "<br>*The top non-zero diagonal is also unchanged:*\n",
    "<br>\n",
    "`for k in [1, n - p)`\n",
    "<br>\n",
    "$\\quad$ $u_{k,k+p} = a_{k,k+p}$\n",
    "<br>\n",
    "`end for`\n",
    "<br>\n",
    "*The left column requires no sums:*\n",
    "<br>\n",
    "`for i in [1, p+1)`\n",
    "<br>\n",
    "$\\quad$ $l_{i,0} = a_{i,0}/u_{0,0}$\n",
    "<br>\n",
    "`end for`\n",
    "<br>\n",
    "<br>\n",
    "*The main loop:*\n",
    "<br>\n",
    "`for k in [1, n)`\n",
    "<br>\n",
    "$\\quad$ `for j in [k, min(n, k+p))`\n",
    "<br>\n",
    "$\\quad\\quad$ $u_{k,j} = a_{k,j} - \\displaystyle\\sum_{s \\in [\\max(0, j-p), k)} l_{k,s} u_{s,j}$\n",
    "<br>\n",
    "$\\quad$ `end for`\n",
    "<br>\n",
    "$\\quad$ `for i in [k+1, min(n,k+p+1))`\n",
    "<br>\n",
    "$\\quad\\quad$ $l_{i,k} = \\left( a_{i,k} -\n",
    "\\displaystyle \\sum_{s \\in [\\max(0,i-p), k)} l_{i,s} u_{s,k} \\right)/u_{k,k}$\n",
    "<br>\n",
    "$\\quad$ `end for`\n",
    "<br>\n",
    "`end for`"
   ]
  },
  {
   "cell_type": "markdown",
   "metadata": {},
   "source": [
    "### Forward substitution with a unit lower-triangular matrix of bandwidth $p$\n",
    "\n",
    "$c_0 = b_0/l_{0,0}$\n",
    "<br>\n",
    "`for i in [1, n)`\n",
    "<br>\n",
    "$\\quad \\displaystyle c_i = b_i - \\sum_{j \\in [max(0,i-p),i)} l_{i,j} c_j$\n",
    "<br>\n",
    "`end for`"
   ]
  },
  {
   "cell_type": "markdown",
   "metadata": {},
   "source": [
    "### Backward substitution with an upper-triangular matrix of bandwidth $p$\n",
    "$x_{n-1} = c_{n-1}/u_{n-1,n-1}$\n",
    "<br>\n",
    "`for i from n-2 down to 0`\n",
    "<br>\n",
    "$\\displaystyle \\quad x_i = \\frac{c_i - \\sum_{j \\in [i+1, \\min(n, i+p+1))} u_{i,j} x_j}{u_{i,i}}$\n",
    "<br>\n",
    "`end for`"
   ]
  }
 ],
 "metadata": {
  "kernelspec": {
   "display_name": "Python 3",
   "language": "python",
   "name": "python3"
  },
  "language_info": {
   "codemirror_mode": {
    "name": "ipython",
    "version": 3
   },
   "file_extension": ".py",
   "mimetype": "text/x-python",
   "name": "python",
   "nbconvert_exporter": "python",
   "pygments_lexer": "ipython3",
   "version": "3.8.5"
  }
 },
 "nbformat": 4,
 "nbformat_minor": 4
}
