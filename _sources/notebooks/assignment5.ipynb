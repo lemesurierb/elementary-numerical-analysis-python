{
 "cells": [
  {
   "cell_type": "markdown",
   "metadata": {},
   "source": [
    "# MATH 375 Assignment 5\n",
    "\n",
    "**Brenton LeMesurier, April 6**"
   ]
  },
  {
   "cell_type": "markdown",
   "metadata": {},
   "source": [
    "**Python code draft for the last Exercise due Wednesday April 14**\n",
    "(There is a bonus for doing this part on time!)\n",
    "\n",
    "**Final version due Monday April 19**"
   ]
  },
  {
   "cell_type": "markdown",
   "metadata": {},
   "source": [
    "From [Exercises on IVPs for ODEs](ODE-IVP-exercises):\n",
    "\n",
    "- [Exercise 2](ODE-IVP-exercises.ipynb#Exercise2)\n",
    "- [Exercise 4](ODE-IVP-exercises.ipynb#Exercise4)\n",
    "- [Exercise 7](ODE-IVP-exercises.ipynb#Exercise7)\n",
    "\n",
    "That is:"
   ]
  },
  {
   "cell_type": "markdown",
   "metadata": {},
   "source": [
    "## Exercise (I)\n",
    "\n",
    "A) Verify that for the simple case where $f(t, u) = f(t)$,\n",
    "the explicit trapezoid method gives the same result as the composite trapezoid rule for integration.\n",
    "\n",
    "B) Do one step of this method for the canonical example $du/dt = ku$, $u(t_0) = u_0$.\n",
    "It will have the form $U_1 = G U_0$ where the growth factor $G$ approximates the factor $g=e^{kh}$ for the exact solution $u(t_1) = g u(t_0)$ of the ODE.\n",
    "\n",
    "C) Compare to $G=1+kh$ seen for Euler's method.\n",
    "\n",
    "D) Use the previous result to express $U_i$ in terms of $U_0=u_0$, as done for Euler's method."
   ]
  },
  {
   "cell_type": "markdown",
   "metadata": {},
   "source": [
    "## Exercise (II)\n",
    "\n",
    "A) Apply Richardson extrapolation to one step of Euler's method, using the values given by step sizes $h$ and $h/2$.\n",
    "\n",
    "B) This should give a second order accurate method, so compare it to the above two methods."
   ]
  },
  {
   "cell_type": "markdown",
   "metadata": {},
   "source": [
    "## Exercise (III) [Python]\n",
    "\n",
    "Implement the\n",
    "[error control version of the explicit trapezoid method](ODE-IVP-5-error-control-python.ipynb#ETMEC)\n",
    "from section on\n",
    "[Error Control and Variable Step Sizes](ODE-IVP-5-error-control-python.ipynb)\n",
    "and test on the two familiar examples\n",
    "\n",
    "$$\n",
    "\\begin{split}\n",
    "du/dt &= Ku\n",
    "\\\\\n",
    "&\\text{and}\n",
    "\\\\\n",
    "du/dt &= K(\\cos(t) - u) - \\sin(t)\n",
    "\\end{split}\n",
    "$$\n",
    "\n",
    "($K=1$ is enough.)"
   ]
  },
  {
   "cell_type": "markdown",
   "metadata": {},
   "source": [
    "---\n",
    "This work is licensed under [Creative Commons Attribution-ShareAlike 4.0 International](https://creativecommons.org/licenses/by-sa/4.0/)"
   ]
  }
 ],
 "metadata": {
  "kernelspec": {
   "display_name": "Python 3",
   "language": "python",
   "name": "python3"
  },
  "language_info": {
   "codemirror_mode": {
    "name": "ipython",
    "version": 3
   },
   "file_extension": ".py",
   "mimetype": "text/x-python",
   "name": "python",
   "nbconvert_exporter": "python",
   "pygments_lexer": "ipython3",
   "version": "3.8.5"
  }
 },
 "nbformat": 4,
 "nbformat_minor": 4
}
