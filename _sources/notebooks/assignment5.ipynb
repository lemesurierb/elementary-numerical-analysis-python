{
 "cells": [
  {
   "cell_type": "markdown",
   "metadata": {},
   "source": [
    "# MATH 375 Assignment 5\n",
    "\n",
    "**Brenton LeMesurier**\n",
    "\n",
    "**Revisions on April 21:**\n",
    "- Added test case $du/dt = u^2$, $u(0) = 1$ on $[0, 1]$.\n",
    "- Correction: Missing factors of $h$ inserted to $K_2$ and $K_3$.\n",
    "\n",
    "**Previously updated on April 15:** Some extra tips."
   ]
  },
  {
   "cell_type": "markdown",
   "metadata": {},
   "source": [
    "**Next versions due by Friday April 23**"
   ]
  },
  {
   "cell_type": "markdown",
   "metadata": {},
   "source": [
    "Exercises  2, 4 and 7 from the Exercises on IVPs for ODEs.\n",
    "That is:"
   ]
  },
  {
   "cell_type": "markdown",
   "metadata": {},
   "source": [
    "## Exercise (I)\n",
    "\n",
    "A) Verify that for the simple case where $f(t, u) = f(t)$,\n",
    "the explicit trapezoid method gives the same result as the composite trapezoid rule for integration.\n",
    "\n",
    "B) Do one step of this method for the canonical example $du/dt = ku$, $u(t_0) = u_0$.\n",
    "It will have the form $U_1 = G U_0$ where the growth factor $G$ approximates the factor $g=e^{kh}$ for the exact solution $u(t_1) = g u(t_0)$ of the ODE.\n",
    "\n",
    "C) Compare to $G=1+kh$ seen for Euler's method.\n",
    "\n",
    "D) Use the previous result to express $U_i$ in terms of $U_0=u_0$, as done for Euler's method."
   ]
  },
  {
   "cell_type": "markdown",
   "metadata": {},
   "source": [
    "## Exercise (II)\n",
    "\n",
    "A) Apply Richardson extrapolation to one step of Euler's method, using the values given by step sizes $h$ and $h/2$.\n",
    "\n",
    "B) This should give a second order accurate method, so compare it to the above two methods."
   ]
  },
  {
   "cell_type": "markdown",
   "metadata": {},
   "source": [
    "## Exercise (III) [Python]\n",
    "\n",
    "Implement the\n",
    "[error control version of the explicit trapezoid method](https://lemesurierb.github.io/elementary-numerical-analysis-python/notebooks/ODE-IVP-5-error-control-python.html#ETMEC)\n",
    "from section on\n",
    "[Error Control and Variable Step Sizes](https://lemesurierb.github.io/elementary-numerical-analysis-python/notebooks/ODE-IVP-5-error-control-python.html)\n",
    "\n",
    "and test on the two familiar examples\n",
    "\n",
    "$$\n",
    "\\begin{split}\n",
    "du/dt &= Ku\n",
    "\\\\\n",
    "&\\text{and}\n",
    "\\\\\n",
    "du/dt &= K(\\cos(t) - u) - \\sin(t)\n",
    "\\end{split}\n",
    "$$\n",
    "\n",
    "($K=1$ is enough.)\n",
    "\n",
    "**Added April 21:**\n",
    "As a final more challenging test, solve $du/dt = u^2$, $u(0) = 1$ on interval $[0, 1]$\n",
    "(As seen in Example 3 of the first section on ODE's, there is a problem at $t=1$!)."
   ]
  },
  {
   "cell_type": "markdown",
   "metadata": {},
   "source": [
    "**Added April 15**\n",
    "\n",
    "Here is the key elements of the algorithm; one important note is that the time steps are done according to the explicit trapezoid rule, even though another, higher order accurate, approximate increment of $U$ is computed; the latter is used solely to compute the error estimate."
   ]
  },
  {
   "cell_type": "markdown",
   "metadata": {},
   "source": [
    "The basic formulas for each time step are:"
   ]
  },
  {
   "cell_type": "markdown",
   "metadata": {},
   "source": [
    "$K_1 = h f(t, U)$\n",
    "\n",
    "$K_2 = h f(t + h, U + K_1)$\n",
    "\n",
    "(So far, as for the explicit trapezoid method)\n",
    "\n",
    "$K_3 = h f(t + h/2, U + (K_1 + K_2)/2)$\n",
    "\n",
    "(a midpoint approximation, using the above)\n",
    "\n",
    "$\\delta_2 = (K_1 + K_2)/2$\n",
    "\n",
    "(The order 2 increment as for the explicit trapezoid method)\n",
    "\n",
    "I omit the third order increment $\\delta_3$, as that is only used to get the following error estimate\n",
    "\n",
    "$e_h = |\\delta_2 - \\delta_3 |, \\, = |K_1 -2 K_3 + K_2|/3$"
   ]
  },
  {
   "cell_type": "markdown",
   "metadata": {},
   "source": [
    "If this step is accepted, one uses the explicit trapezoid rule step: $U_{i+1} = U_i + \\delta_2$.\n",
    "\n",
    "The other ingredient is the time step adjustment.\n",
    "A simple first version for this is:\n",
    "- If the error is too large, reject that attempted time step, half h, and try again.\n",
    "- Never increase the time step size!\n",
    "\n",
    "This could be inefficient, but will do as well as the more refined step0size adjustment algorithm for accuracy,\n",
    "and it is usually best to address accuracy first efficiency later."
   ]
  },
  {
   "cell_type": "markdown",
   "metadata": {},
   "source": [
    "For the more refined step-size adjustment, the scale factor for a second order accurate method like this is\n",
    "\n",
    "$$s = 0.9 \\left( \\frac{3 T}{|K_1 -2 K_3 + K_2|} \\right)^{1/3}$$\n",
    "\n",
    "and the step-size adjustment procedure is as shown in the section on *Error Control and Variable Step Sizes* for the case of the Euler method:\n",
    "\n",
    "if $s>1$: $\\qquad$ (I.e.  $e_h/h < T$ and so good enough)\n",
    "\n",
    "$\\quad$Update $U$ and $t$ with the new time values and then increase $h$ for the *next* time step:\n",
    "\n",
    "$\\quad h \\leftarrow \\min(s h, h_{max})$\n",
    "\n",
    "else: $\\qquad$ ($s \\leq 1$, so not good enough: reduce $h$ and try again)\n",
    "\n",
    "$\\quad h \\leftarrow \\max(s h, h_{min})$\n",
    "\n",
    "$\\quad$Start again from $K_1 = \\dots$"
   ]
  },
  {
   "cell_type": "markdown",
   "metadata": {},
   "source": [
    "**Python coding notes**\n",
    "\n",
    "The number of time steps is not known in advance, so:\n",
    "\n",
    "1. a `while` loop is probably more appropriate (contrary to my usual preference for `for` loops!), and\n",
    "\n",
    "2. Python lists are probably most convenient (contrary to my usual preference for Numpy arrays!),\n",
    "as they allow incremental expansion by appending new values:\n",
    "    1. Initialize with `t = [a]` and `U = [u_0]`, and then\n",
    "    2. Append new values with syntax like `t.append(t_new)` and `U.append(U_new)`\n",
    "(Aside: the final values could then be converted to arrays at the end, with `U=np.array(U)` and such,\n",
    "but that may not be necessary; for example, matplotlib can handle lists too, as illustrated below.)\n",
    "\n",
    "3. It might be a useful approach to first implement the somewhat simpler procedure of error control in Euler's method, as described in the notes: see section 25.4 in\n",
    "[Error Control and Variable Step Sizes](https://lemesurierb.github.io/elementary-numerical-analysis-python/notebooks/ODE-IVP-5-error-control-python.html)"
   ]
  },
  {
   "cell_type": "markdown",
   "metadata": {},
   "source": [
    "### An illustration of working with lists instead of arrays"
   ]
  },
  {
   "cell_type": "code",
   "execution_count": 1,
   "metadata": {},
   "outputs": [],
   "source": [
    "import numpy as np\n",
    "import matplotlib.pyplot as plt"
   ]
  },
  {
   "cell_type": "code",
   "execution_count": 2,
   "metadata": {},
   "outputs": [
    {
     "name": "stdout",
     "output_type": "stream",
     "text": [
      "i=1, U=[2.0, 1.0]\n",
      "i=2, U=[2.0, 1.0, 0.5]\n",
      "i=3, U=[2.0, 1.0, 0.5, 0.3333333333333333]\n",
      "i=4, U=[2.0, 1.0, 0.5, 0.3333333333333333, 0.25]\n",
      "i=5, U=[2.0, 1.0, 0.5, 0.3333333333333333, 0.25, 0.2]\n",
      "i=6, U=[2.0, 1.0, 0.5, 0.3333333333333333, 0.25, 0.2, 0.16666666666666666]\n",
      "i=7, U=[2.0, 1.0, 0.5, 0.3333333333333333, 0.25, 0.2, 0.16666666666666666, 0.14285714285714285]\n",
      "\n",
      "List U is [2.0, 1.0, 0.5, 0.3333333333333333, 0.25, 0.2, 0.16666666666666666, 0.14285714285714285]\n",
      "Array U is [2.         1.         0.5        0.33333333 0.25       0.2\n",
      " 0.16666667 0.14285714]\n"
     ]
    },
    {
     "data": {
      "image/png": "[encoded data removed]",
      "text/plain": [
       "<Figure size 432x288 with 1 Axes>"
      ]
     },
     "metadata": {
      "needs_background": "light"
     },
     "output_type": "display_data"
    }
   ],
   "source": [
    "a = 1.0\n",
    "b = 3.0\n",
    "u_0 = 2.0\n",
    "h = 0.01\n",
    "\n",
    "t = [a]\n",
    "U = [u_0]\n",
    "for i in range(1, 8):\n",
    "    t.append(a+i*h)\n",
    "    U.append(1.0/i)\n",
    "    print(f\"{i=}, {U=}\")\n",
    "print()\n",
    "print(\"List U is\", U)\n",
    "plt.plot(t,U, '-*')\n",
    "plt.title(\"A Graph of List vs List\")\n",
    "\n",
    "U = np.array(U)\n",
    "print(\"Array U is\", U)"
   ]
  },
  {
   "cell_type": "markdown",
   "metadata": {},
   "source": [
    "---\n",
    "This work is licensed under [Creative Commons Attribution-ShareAlike 4.0 International](https://creativecommons.org/licenses/by-sa/4.0/)"
   ]
  }
 ],
 "metadata": {
  "kernelspec": {
   "display_name": "Python 3",
   "language": "python",
   "name": "python3"
  },
  "language_info": {
   "codemirror_mode": {
    "name": "ipython",
    "version": 3
   },
   "file_extension": ".py",
   "mimetype": "text/x-python",
   "name": "python",
   "nbconvert_exporter": "python",
   "pygments_lexer": "ipython3",
   "version": "3.8.5"
  }
 },
 "nbformat": 4,
 "nbformat_minor": 4
}
