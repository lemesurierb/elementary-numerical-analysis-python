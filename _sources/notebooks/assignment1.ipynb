{
 "cells": [
  {
   "cell_type": "markdown",
   "metadata": {},
   "source": [
    "# MATH 375 Assignment 1\n",
    "\n",
    "**Due Friday January 22**\n",
    "\n",
    "This assignment is partly for review and orientation to the main software tools that we will be using:\n",
    "[Python](https://www.python.org),\n",
    "[Numpy](http://www.numpy.org),\n",
    "and\n",
    "[Jupyter](http://jupyter.org) notebooks,\n",
    "for which the online tool [Colab](https://colab.research.google.com)\n",
    "and the software\n",
    "[Anaconda](https://www.anaconda.com/download/)\n",
    "are two means of access.\n",
    "(Anaconda also provides access to the the Integrated Development Environment [Spyder](https://www.spyder-ide.org),\n",
    "the package [Matplotlib](https://matplotlib.org) for graphics and\n",
    "package [SciPy](https://scipy.org) that provides additional computational tools; we will use these later.)\n",
    "\n",
    "For convenience, assignment sections like this will repeat some material from the notes, such as exercises.\n",
    "Also any section can be donwloaded as a Jupyter notebook, whc could be used as a template for workign on an assignment.\n",
    "To do that, use the download button near the top-right, and select the option \".ipynb\".\n",
    "\n",
    "We will work on these exercises in class, but I encourage you to work on them at home too."
   ]
  },
  {
   "cell_type": "markdown",
   "metadata": {},
   "source": [
    "## Objectives\n",
    "\n",
    "The goal is to create Python functions for solving equations using the bisection method, and then to present the work in a Jupyter notebook.\n",
    "\n",
    "The main mathematical objective is to solve an equation $f(x) = 0$ where the function $f:\\mathbb{R} \\to \\mathbb{R}$ is continuous on an interval $[a,b]$ and changes sign between its endpoints, so that a solution within that interval is guaranteed by the Intermediate Value Theorem.\n",
    "\n",
    "<a name='improved-bisection'></a>\n",
    "### Implementing the Improved Bisection Algorithm\n",
    "\n",
    "The main programming task is to create a Python function whose input specifies a function `f`, the interval end-points `a` and `b`, and an upper limit `tol` on the allowable absolute error in the result; and whose output is both an approximate root `c` and a bound `errorBound` on its absolute error.\n",
    "\n",
    "That is, we require that there is an exact root $r$ near $c$, in that\n",
    "\n",
    "$$|r - c| \\leq \\text{errorBound} \\leq \\text{TOL}.$$\n",
    "\n",
    "The definition of this Python function will be of the form\n",
    "\n",
    "    def bisection(f, a, b, TOL):\n",
    "        . . .\n",
    "        return c, errorBound\n",
    "\n",
    "and the usage will be something like\n",
    "\n",
    "    (root,  errorBound) = bisection(f, a, b, TOL)\n",
    "    print(f'The approximate root is {root} with absolute error at most {errorBound}')"
   ]
  },
  {
   "cell_type": "markdown",
   "metadata": {},
   "source": [
    "    \n",
    "## A test case\n",
    "\n",
    "As a first test case we will solve\n",
    "$x - \\cos(x) = 0,$\n",
    "which can be shown to have a unique root that lies in the interval $[-1, 1]$.\n",
    "\n",
    "I give a definition for the test function $f$.\n",
    "Note that I get the cosine function from the module `numpy` rather than the standard Python module `math`, because `numpy` will be far more useful for us, and so I encourage you to **avoid module `math` as much as possible!**\n",
    "\n",
    "    from numpy import cos\n",
    "    def f(x):\n",
    "        return x - cos(x)"
   ]
  },
  {
   "cell_type": "markdown",
   "metadata": {},
   "source": [
    "## Exercises"
   ]
  },
  {
   "cell_type": "markdown",
   "metadata": {},
   "source": [
    "### Exercise 1\n",
    "\n",
    "(a) Explain carefully why there is guaranteed to be a root of function $f$ in the interval $(a, b)$ if $f$ is continuous on this interval and $f(a) f(b) < 0$.\n",
    "\n",
    "(b) Give an example of a function $g$ that illustrates why continuity is essential for the above result.\n",
    "(This function will be used below.)\n",
    "\n",
    "Preferably, write this up in the Jupyter notebook for this assignment.\n",
    "However, if you are not yet comfortable presenting mathematical work in a notebook's Markdown cells, you may do it in another format such as PDF from LaTeX or even a PDF scan of hand-written work."
   ]
  },
  {
   "cell_type": "markdown",
   "metadata": {},
   "source": [
    "### Exercise 2\n",
    "\n",
    "(a) Create a Python function which implements the first algorithm for bisection from the section\n",
    "[Root Finding by Interval Halving](root-finding-by-interval-halving.ipynb)\n",
    "which performs a fixed number $N$ of iterations;\n",
    "the usage should be:\n",
    "`root = bisection1(f, a, b, N)`\n",
    "\n",
    "(b) Test it with the above example solving $x = \\cos x$ by using the function $f(x) = x - \\cos x$, $[a, b] = [-1, 1]$.\n",
    "(This involves defining another function `f`.)\n",
    "\n",
    "(c) Then experiment with what happens when use your non-continuous function $g$ frm Exercise 1.\n",
    "\n",
    "**Note:** Part (c) is an example of what I call *destructive testing*: seeking hard cases that either reveal the weakness or limitations of an algorithm, or illustrate its robustness and reliability.\n",
    "\n",
    "Present this in a Jupyter notebook.\n",
    "You may develop and submit this entirely in such a notebook;\n",
    "however, if you wish to explore the Spyder IDE, or prefer to develop code with such software and then copy into a notebook, you may do so.\n",
    "In that case, do this in a Python file named `bisection1.py`,\n",
    "and also submit that file."
   ]
  },
  {
   "cell_type": "markdown",
   "metadata": {},
   "source": [
    "### Exercise 3\n",
    "\n",
    "Create Python/Numpy code for the above [improved algorithm](#improved-bisection) with a  function `bisection2`,\n",
    "and to test it by solving\n",
    "$x - \\cos x = 0$ again, this time accurate to within $10^{-4}$.\n",
    "Use the fact that there is a solution in the interval $(-1, 1)$."
   ]
  },
  {
   "cell_type": "markdown",
   "metadata": {},
   "source": [
    "## Submitting your work\n",
    "\n",
    "Once all the above code is working, including running the test cases and dispaying output, put it all together into a single Jupyter notebook. (Plus any PDF files for Exercise 1, if you did not do that part in the notebook.)\n",
    "\n",
    "Feel free to copy stuff from the current notebook (or any other parts of the book for this course), such as describing the algorithm in pseudocode.\n",
    "\n",
    "Then submit your files to Canvas."
   ]
  }
 ],
 "metadata": {
  "kernelspec": {
   "display_name": "Python 3",
   "language": "python",
   "name": "python3"
  },
  "language_info": {
   "codemirror_mode": {
    "name": "ipython",
    "version": 3
   },
   "file_extension": ".py",
   "mimetype": "text/x-python",
   "name": "python",
   "nbconvert_exporter": "python",
   "pygments_lexer": "ipython3",
   "version": "3.8.5"
  }
 },
 "nbformat": 4,
 "nbformat_minor": 4
}
