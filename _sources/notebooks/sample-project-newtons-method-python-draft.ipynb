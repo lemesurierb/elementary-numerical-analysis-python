{
 "cells": [
  {
   "cell_type": "markdown",
   "metadata": {},
   "source": [
    "# Numerical Analysis Sample Project on Newtons's Method\n",
    "\n",
    "**Brenton LeMesurier**\n",
    "\n",
    "**Draft of February 24, 2021**"
   ]
  },
  {
   "cell_type": "markdown",
   "metadata": {},
   "source": [
    "The Python code for the algorithms is imported from the module `newton_project.py`"
   ]
  },
  {
   "cell_type": "markdown",
   "metadata": {},
   "source": [
    "## Newton's method for solving $f(x) = 0$\n",
    "\n",
    "Newton's method is based on the iterative formula\n",
    "$$x_{n+1} = x_n-f(x_n)/f'(x_n).$$\n",
    "\n",
    "A good algorithm needs conditions to stop the iteration, deal with failures like non-convergence and division by zero, and for efficiency, should not evaluate any function twice for the same argument $x_n$.\n",
    "The algorithm here stops when any of three conditions is met:\n",
    "- The estimated error $|x_n - x_{n-1}|$ is below a specified error tolerance,\n",
    "- The backward error $|f(x_n)|$ is below a specified error tolerance, or\n",
    "- A specified maximum number of iterations have been performed.\n",
    "\n",
    "To help assess the cost of this method, output of the total number of function evaluations is added."
   ]
  },
  {
   "cell_type": "markdown",
   "metadata": {},
   "source": [
    "### Algorithm\n",
    "\n",
    "**Input:**\n",
    "- Functions $f(x)$ and its derivative $Df(x)$\n",
    "- Initial approximation $x_0$\n",
    "- Tolerances $x_{tol}$ for the error in the $x$ value and $f_{tol}$ for the backward error (how close $f(x)$ is to zero)\n",
    "- A limit on the number of iterations to attempt, `iterationsMax`.\n",
    "\n",
    "**Output:**\n",
    "- $x$, the final approximation\n",
    "- `errorEstimate`, the estimated absolute error in this approximation\n",
    "- `backwardError`, the backward error $|f(x)|$\n",
    "- `functionEvaluations`, the number of evaluations of the functions $f(x)$ and $Df(x)$.\n",
    "\n",
    "$x \\leftarrow x_0$<br>\n",
    "$\\text{fx} \\leftarrow f(x)$<br>\n",
    "$\\text{functionEvaluations} \\leftarrow 1$<br>\n",
    "for iteration from 1 to iterationsMax:<br>\n",
    "$\\quad$ $\\text{Dfx} \\leftarrow Df(x)$<br>\n",
    "$\\quad$ $\\text{functionEvaluations} \\leftarrow \\text{functionEvaluations} + 1$<br>\n",
    "$\\quad$ if $\\text{Dfx} = 0$ *Comment: cannot continue; division by zero.*<br>\n",
    "$\\quad\\quad$ End (i.e. leave this algorithm), with a warning about failure to converge.<br>\n",
    "$\\quad$ end if<br>\n",
    "$\\quad$ $\\delta x \\leftarrow -fx/Dfx$<br>\n",
    "$\\quad$ $x \\leftarrow x + \\delta x$<br>\n",
    "$\\quad$ $\\text{fx} \\leftarrow f(x)$<br>\n",
    "$\\quad$ $\\text{functionEvaluations} \\leftarrow \\text{functionEvaluations} + 1$<br>\n",
    "$\\quad$ $\\text{errorEstimate} \\leftarrow |\\delta x|$<br>\n",
    "$\\quad$ $\\text{backwardError} \\leftarrow |fx|$<br>\n",
    "$\\quad$ if $\\text{errorEstimate} \\leq x_{tol}$ or $\\text{backwardError} \\leq f_{tol}$<br>\n",
    "$\\quad\\quad$ End successfully, with output of x, errorestimate, backwarderror, functionEvaluations<br>\n",
    "$\\quad$ end if<br>\n",
    "end for<br>\n",
    "**Warning:** if we reach here, the loop above finished without returning,\n",
    "so the iterations did not converged to sufficient accuracy."
   ]
  },
  {
   "cell_type": "code",
   "execution_count": 1,
   "metadata": {},
   "outputs": [],
   "source": [
    "# The main algorithms\n",
    "from newton_project import newton\n",
    "from newton_project import quasiNewton\n",
    "\n",
    "# For the test cases\n",
    "from numpy import sin, cos, tan, exp"
   ]
  },
  {
   "cell_type": "markdown",
   "metadata": {},
   "source": [
    "### Example 1: $x = \\cos(x)$"
   ]
  },
  {
   "cell_type": "code",
   "execution_count": 2,
   "metadata": {},
   "outputs": [],
   "source": [
    "def f1(x): return x - cos(x)\n",
    "def Df1(x): return 1.0 + sin(x)"
   ]
  },
  {
   "cell_type": "code",
   "execution_count": 3,
   "metadata": {},
   "outputs": [
    {
     "name": "stdout",
     "output_type": "stream",
     "text": [
      "Using initial approximation x_0 = 0.0 error tolerance 1e-08 backward error tolerance 1e-15\n",
      "step number n, x_n, error estimate, backward error:\n",
      "1 1.0 1.0 0.45969769413186023\n",
      "2 0.7503638678402439 0.24963613215975608 0.018923073822117442\n",
      "3 0.7391128909113617 0.011250976928882236 4.645589899088254e-05\n",
      "4 0.7390851333852839 2.7757526077753238e-05 2.847204694234051e-10\n",
      "5 0.7390851332151606 1.7012334067709158e-10 1.1102230246251565e-16\n",
      "Success!\n",
      "The solution is approximately 0.7390851332151606\n",
      "with estimated error 1.7012334067709158e-10 and backward error 1.1102230246251565e-16\n",
      "The calculation required 11 function evaluations.\n"
     ]
    }
   ],
   "source": [
    "x_0 = 0.0\n",
    "errortol = 1e-8\n",
    "fvaltol = 1e-15\n",
    "\n",
    "print('Using initial approximation x_0 =', x_0,\n",
    "      'error tolerance', errortol,\n",
    "      'backward error tolerance', fvaltol)\n",
    "\n",
    "x, errorestimate, backwarderror, functionEvaluations = newton(f1, Df1, x_0, errortol, fvaltol, verbose=True)\n",
    "\n",
    "if errorestimate <= errortol or backwarderror <= fvaltol:  # Success\n",
    "    print('Success!')\n",
    "else:\n",
    "    print('The error tolerance was not met.  The best we can say is that')\n",
    "print('The solution is approximately', x)\n",
    "print('with estimated error', errorestimate, 'and backward error', backwarderror)\n",
    "print('The calculation required', functionEvaluations, 'function evaluations.')"
   ]
  },
  {
   "cell_type": "code",
   "execution_count": 4,
   "metadata": {},
   "outputs": [
    {
     "name": "stdout",
     "output_type": "stream",
     "text": [
      "Using initial approximation x_0 = 100.0 error tolerance 1e-08 backward error tolerance 1e-15\n",
      "step number n, x_n, error estimate, backward error:\n",
      "1 -100.83221384870296 200.83221384870296 101.78718050765721\n",
      "2 43.898456593084916 144.73067044178788 42.90196915432232\n",
      "3 -2.9245849938401633 46.82304158692508 1.9480388973376201\n",
      "4 -0.44203136417168265 2.4825536296684807 1.3459159231167994\n",
      "5 1.9100493194227757 2.3520806835944583 2.2428320738976044\n",
      "6 0.7557374249453708 1.154311894477405 0.0279714286913334\n",
      "7 0.7391452994681547 0.01659212547721615 0.00010069630247322436\n",
      "8 0.7390851340144209 6.016545373382826e-05 1.337651545085805e-09\n",
      "9 0.7390851332151607 7.992602355197513e-10 0.0\n",
      "Success!\n",
      "The solution is approximately 0.7390851332151607\n",
      "with estimated error 7.992602355197513e-10 and backward error 0.0\n",
      "The calculation required 19 function evaluations\n"
     ]
    }
   ],
   "source": [
    "x_0 = 100.0\n",
    "\n",
    "print('Using initial approximation x_0 =', x_0,\n",
    "      'error tolerance', errortol,\n",
    "      'backward error tolerance', fvaltol)\n",
    "\n",
    "x, errorestimate, backwarderror, functionEvaluations = newton(f1, Df1, x_0, errortol, fvaltol, verbose=True)\n",
    "\n",
    "if errorestimate <= errortol or backwarderror <= fvaltol:  # Success\n",
    "    print('Success!')\n",
    "else:\n",
    "    print('The error tolerance was not met.  The best we can say is that')\n",
    "print('The solution is approximately', x)\n",
    "print('with estimated error', errorestimate, 'and backward error', backwarderror)\n",
    "print('The calculation required', functionEvaluations, 'function evaluations')"
   ]
  },
  {
   "cell_type": "markdown",
   "metadata": {},
   "source": [
    "### Example 2: Find the smallest positive root of $x = \\tan(x)$ (more difficult!)"
   ]
  },
  {
   "cell_type": "code",
   "execution_count": 5,
   "metadata": {},
   "outputs": [],
   "source": [
    "def f2(x): return tan(x) - x\n",
    "def Df2(x): return 1/cos(x)**2 - 1"
   ]
  },
  {
   "cell_type": "code",
   "execution_count": 6,
   "metadata": {},
   "outputs": [
    {
     "name": "stdout",
     "output_type": "stream",
     "text": [
      "Using initial approximation x_0 = 4.29 error tolerance 1e-08 backward error tolerance 1e-15\n",
      "Success!\n",
      "The solution is approximately 4.493409457909064\n",
      "with estimated error 7.070815230647819e-12 and backward error 0.0\n",
      "The calculation required 25 function evaluations.\n"
     ]
    }
   ],
   "source": [
    "errortol=1e-8\n",
    "fvaltol=1e-15\n",
    "#x_0 = 4.28  # fails\n",
    "x_0 = 4.29  # succeeds\n",
    "#x_0 = 4.71  # succeeds\n",
    "#x_0 = 4.72  # converges to the wrong root\n",
    "\n",
    "print('Using initial approximation x_0 =', x_0,\n",
    "      'error tolerance', errortol,\n",
    "      'backward error tolerance', fvaltol)\n",
    "\n",
    "x, errorest, absfx, functionEvaluations = newton(f2, Df2, x_0, errortol, fvaltol)\n",
    "\n",
    "if errorestimate <= errortol or backwarderror <= fvaltol:  # Success\n",
    "    print('Success!')\n",
    "else:\n",
    "    print('The error tolerance was not met.  The best we can say is that')\n",
    "print('The solution is approximately', x)\n",
    "print('with estimated error', errorest, 'and backward error', backwarderror)\n",
    "print('The calculation required', functionEvaluations, 'function evaluations.')"
   ]
  },
  {
   "cell_type": "markdown",
   "metadata": {},
   "source": [
    "## The Quasi-Newton Method\n",
    "\n",
    "This speeds iteration by using the original derivative $Df(x_0)$ at each iteration, instead of updating each time.\n",
    "If this take less than about twice as many iterations as the true Newton method, it can be faster.\n",
    "However, its main benefit is for system of equations, as considered below."
   ]
  },
  {
   "cell_type": "markdown",
   "metadata": {},
   "source": [
    "### Algorithm\n",
    "\n",
    "**Input:**\n",
    "- Functions $f(x)$ and its derivative $Df(x)$\n",
    "- Initial approximation $x_0$\n",
    "- Tolerances $x_{tol}$ for the error in the $x$ value and $f_{tol}$ for the backward error (how close $f(x)$ is to zero)\n",
    "- A limit on the number of iterations to attempt, `stepsmax`.\n",
    "\n",
    "**Output:**\n",
    "- $x$, the final approximation\n",
    "- `errorestimate`, the estimated absolute error in this approximation\n",
    "- `backwarderror`, the backward error $|f(x)|$\n",
    "- `functionEvaluations`, the number of evaluations of the functions $f(x)$ and $Df(x)$.\n",
    "\n",
    "$x \\leftarrow x_0$<br>\n",
    "$\\text{fx} \\leftarrow f(x)$<br>\n",
    "Dfx_0 $\\leftarrow Df(x_0)$<br>\n",
    "$\\text{functionEvaluations} \\leftarrow 2$<br>\n",
    "for step = 1 to stepsmax<br>\n",
    "$\\quad$ $\\delta x \\leftarrow -fx/Dfx_0$<br>\n",
    "$\\quad$ $x \\leftarrow x + \\delta x$<br>\n",
    "$\\quad$ $fx \\leftarrow f(x)$<br>\n",
    "$\\quad$ $\\text{functionEvaluations} \\leftarrow \\text{functionEvaluations} + 1$<br>\n",
    "$\\quad$ $\\text{errorestimate} \\leftarrow |\\delta x|$<br>\n",
    "$\\quad$ $\\text{backwarderror} \\leftarrow |fx|$<br>\n",
    "$\\quad$ if $\\text{errorestimate} \\leq x_{tol}$ or $\\text{backwarderror} \\leq f_{tol}$<br>\n",
    "$\\quad\\quad$ End successfully, with output of x, errorestimate, backwarderror, functionEvaluations<br>\n",
    "$\\quad$ end if<br>\n",
    "end for<br>\n",
    "**Warning:** if we reach here, the loop above finished without returning,\n",
    "so the iterations did not converged to sufficient accuracy."
   ]
  },
  {
   "cell_type": "markdown",
   "metadata": {},
   "source": [
    "### Example 3: Repeat the above basic test case $x = \\cos(x)$ with the Quasi-Newton Method — much slower!"
   ]
  },
  {
   "cell_type": "code",
   "execution_count": 7,
   "metadata": {},
   "outputs": [
    {
     "name": "stdout",
     "output_type": "stream",
     "text": [
      "Using initial approximation x_0 = 0.0 error tolerance 1e-08 backward error tolerance 1e-15\n",
      "Success!\n",
      "The solution is approximately 0.7390851366465718\n",
      "with estimated error 8.525458006225506e-09 and backward error 0.0\n",
      "The calculation required 49 function evaluations.\n"
     ]
    }
   ],
   "source": [
    "x_0 = 0.0\n",
    "errortol=1e-8\n",
    "fvaltol=1e-15\n",
    "print('Using initial approximation x_0 =', x_0,\n",
    "      'error tolerance', errortol,\n",
    "      'backward error tolerance', fvaltol)\n",
    "\n",
    "x, errorest, absfx, functionEvaluations = quasiNewton(f1, Df1, x_0, errortol, fvaltol)\n",
    "\n",
    "if errorestimate <= errortol or backwarderror <= fvaltol:  # Success\n",
    "    print('Success!')\n",
    "else:\n",
    "    print('The error tolerance was not met.  The best we can say is that')\n",
    "print('The solution is approximately', x)\n",
    "print('with estimated error', errorest, 'and backward error', backwarderror)\n",
    "print('The calculation required', functionEvaluations, 'function evaluations.')"
   ]
  },
  {
   "cell_type": "markdown",
   "metadata": {},
   "source": [
    "**To Do:** test on the harder case, $x = \\tan(x)$"
   ]
  },
  {
   "cell_type": "markdown",
   "metadata": {},
   "source": [
    "## Observations and Conclusions\n",
    "\n",
    "These are incomplete (this is only a draft!)\n",
    "\n",
    "The first things to note are:\n",
    "- the sensitivity to initial conditions,\n",
    "- the slowness of the quasi-Newton method, and\n",
    "- the problems that can arise when there are multiple solutions. "
   ]
  },
  {
   "cell_type": "markdown",
   "metadata": {},
   "source": [
    "---\n",
    "This work is licensed under [Creative Commons Attribution-ShareAlike 4.0 International](https://creativecommons.org/licenses/by-sa/4.0/)"
   ]
  }
 ],
 "metadata": {
  "kernelspec": {
   "display_name": "Python 3",
   "language": "python",
   "name": "python3"
  },
  "language_info": {
   "codemirror_mode": {
    "name": "ipython",
    "version": 3
   },
   "file_extension": ".py",
   "mimetype": "text/x-python",
   "name": "python",
   "nbconvert_exporter": "python",
   "pygments_lexer": "ipython3",
   "version": "3.8.5"
  }
 },
 "nbformat": 4,
 "nbformat_minor": 4
}
