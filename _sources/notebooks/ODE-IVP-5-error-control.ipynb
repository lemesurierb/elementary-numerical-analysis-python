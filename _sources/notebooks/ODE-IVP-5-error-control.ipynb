{
 "cells": [
  {
   "cell_type": "markdown",
   "metadata": {},
   "source": [
    "# Initial Value Problems for Ordinary Differential Equations, Part 5: Error Control and Variable Step Sizes — Preview Edition\n",
    "\n",
    "**Wednesday March 31, 2021**"
   ]
  },
  {
   "cell_type": "markdown",
   "metadata": {},
   "source": [
    "**References:**\n",
    "\n",
    "- Section 6.5 *Variable Step Size Methods* of [Sauer](../references.html#Sauer)\n",
    "\n",
    "- Section 5.5 *Error Control and the Runge-Kutta-Fehlberg Method* of [Burden&Faires](../references.html#Burden-Faires)\n",
    "\n",
    "- Section  7.3 of [Chenney&Kincaid](../references.html#Chenney-Kincaid)"
   ]
  },
  {
   "cell_type": "markdown",
   "metadata": {},
   "source": [
    "## The Basic ODE Initial Value Problem\n",
    "\n",
    "We consider again the initial value problem\n",
    "\n",
    "$$\n",
    "\\frac{d u}{d t} = f(t, u) \\quad a \\leq t \\leq b, \\quad u(a) = u_0\n",
    "$$\n",
    "\n",
    "We now allow the possibility that $u$ and $f$ are vector-valued as in the section on\n",
    "[Systems of ODEs and Higher Order ODEs](ODE-IVP-4-system-higher-order-equations.ipynb),\n",
    "but omitting the tilde notation $\\tilde u$, $\\tilde f$."
   ]
  },
  {
   "cell_type": "markdown",
   "metadata": {},
   "source": [
    "## Error Control by Varying the Time Step Size $h_i$\n",
    "\n",
    "Recall the variable step-size version of Euler's method:\n",
    "\n",
    "Input: $f$, $a$, $b$, $n$ <br>\n",
    "\n",
    "$t_0 = a$ <br>\n",
    "$U_0 = u_0$ <br>\n",
    "$h = (b-a)/n$ <br>\n",
    "\n",
    "for i in $[0, n)$:\n",
    "<br>\n",
    "\n",
    "$\\qquad$ Choose step size $h_i$ somehow!\n",
    "<br>\n",
    "\n",
    "$\\qquad$ $t_{i+1} = t_i + h_i$\n",
    "<br>\n",
    "\n",
    "$\\qquad$ $U_{i+1} = U_i + h_i f(t_i, U_i)$\n",
    "<br>\n",
    "\n",
    "end for\n",
    "\n",
    "We now consider how to choose each step size, by estimating the error in each step, and aiming to have error per unit time below some limit like $\\epsilon/(b-a)$, so that the global error is no more than about $\\epsilon$.\n",
    "\n",
    "As usual, the theoretical error bounds like $O(h_i^2)$ for a single step of Euler's method are not enough for quantitative tasks like choosing $h_i$, but they do motivate more practical estimates."
   ]
  },
  {
   "cell_type": "markdown",
   "metadata": {},
   "source": [
    "## A crude error estimator for Euler's Method: Richardson Extrapolation\n",
    "\n",
    "Starting at a point (t, u(t)), we can estimate the error in Euler's method approximato at a slightly later time $t_i + h$ by using two approximations of $U(t + h)$:\n",
    "- The value given by a step of Euler's method with step size $h$: call this $U^{h}$\n",
    "- The value given by taking two steps of Euler's method each with step size $h/2$: call this $U_2^{h/2}$,\n",
    "because it involves 2 steps of size $h/2$.\n",
    "\n",
    "The first order accuracy of Euler's method gives $e_h := u(t+h) - U^{h} \\approx 2(u(t+h) - U_2^{h/2})$,\n",
    "so that\n",
    "\n",
    "$$e_h \\approx \\frac{U_2^{h/2} - U^{h}}{2}$$"
   ]
  },
  {
   "cell_type": "markdown",
   "metadata": {},
   "source": [
    "### Step size choice\n",
    "\n",
    "What do we do with this error information?\n",
    "\n",
    "The first obvious ideas are:\n",
    "- Accept this step if $e_h$ is small enough, taking $h_i = h$, $t_{i+1} = t_i + h_i$, and $U_{i+1} = U^h$, but\n",
    "- reject it and try again with a smaller $h$ value otherwise."
   ]
  },
  {
   "cell_type": "markdown",
   "metadata": {},
   "source": [
    "#### Exercise 1\n",
    "\n",
    "Write a formula for $U_h$ and $e_h$ if one starts from the point $(t_i, U_i)$, so that $(t_i + h, U^h)$ is the proposed value for the next point $(t_{i+1}, U_{i+1})$ in the approximate solution — but only if $e_h$ is small enough!"
   ]
  },
  {
   "cell_type": "markdown",
   "metadata": {},
   "source": [
    "### Error tolerance \n",
    "\n",
    "One simple criterion for accuracy is that the estimated error per unit time in this step be no more than some overall bound on error per unit time bound, $\\epsilon$.\n",
    "That is, accept the step size $h$ if\n",
    "\n",
    "$$\\frac{|e_h|}{h} \\leq \\epsilon.$$"
   ]
  },
  {
   "cell_type": "markdown",
   "metadata": {},
   "source": [
    "### A crude approach to reducing the step size when needed\n",
    "\n",
    "If this error tolerance is not met, we must choose a new step size $h'$, and we can predict roughly its error behavior using the known order natue of the error in Euler's method: scaling dowen to $h' = s h$, the error in a step scales with $h^2$, so the error per unit time scales with $h$ (in general it scales with $h^p$ for a method of order $p$), and so to reduce the error by the needed factor $\\displaystyle \\frac{e_h/h}{\\epsilon}$ one needs approximately\n",
    "\n",
    "$$\n",
    "s = \\frac{\\epsilon}{|e_h|/h} \\approx \\frac{2 h \\epsilon}{|U^{h/2} - U^{h}|}\n",
    "$$\n",
    "\n",
    "and so\n",
    "\n",
    "$$\n",
    "h' = \\frac{2 h^2 \\epsilon}{|U^{h/2} - U^{h}|}.\n",
    "$$\n",
    "\n",
    "However this new step size might have error that is still slightly too large, leading to a second failure.\n",
    "Another is that one might get into an infinite loop of step size reduction.\n",
    "\n",
    "So refinement of this choice must be considered."
   ]
  },
  {
   "cell_type": "markdown",
   "metadata": {},
   "source": [
    "### Increasing the step size when desirable\n",
    "\n",
    "If we simply follow the above aproach, the step size, once reduced, will never be increased.\n",
    "This could lead to great inefficiency, through using an unecessarily small step size just because at an earlier part of the time domain, accuracy required very small steps.\n",
    "\n",
    "Thus, after a successful time step, one might consider increasing $h$ for the next step.\n",
    "This could be done using exactly the above formula, but again there are risks, so again refinement of this choice must be considered.\n",
    "\n",
    "One problem is that if the step size gets too large, the error estimate can become unreliable; another is that one might need some minimum \"temporal resolution\", for nice graphs and such.\n",
    "\n",
    "Both suggest imposing an upper limit on the step size $h$."
   ]
  }
 ],
 "metadata": {
  "kernelspec": {
   "display_name": "Python 3",
   "language": "python",
   "name": "python3"
  },
  "language_info": {
   "codemirror_mode": {
    "name": "ipython",
    "version": 3
   },
   "file_extension": ".py",
   "mimetype": "text/x-python",
   "name": "python",
   "nbconvert_exporter": "python",
   "pygments_lexer": "ipython3",
   "version": "3.8.5"
  }
 },
 "nbformat": 4,
 "nbformat_minor": 4
}
