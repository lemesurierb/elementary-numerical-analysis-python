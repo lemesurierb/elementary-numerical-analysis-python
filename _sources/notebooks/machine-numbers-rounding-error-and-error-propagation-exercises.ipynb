{
 "cells": [
  {
   "cell_type": "markdown",
   "id": "settled-flavor",
   "metadata": {},
   "source": [
    "Exercises on Machine Numbers, Rounding Error and Error Propagation\n",
    "=================================================================="
   ]
  },
  {
   "cell_type": "markdown",
   "id": "central-coast",
   "metadata": {},
   "source": [
    "## Exercise 1\n",
    "\n",
    "Verify that when *dividing* two numbers, the relative error in the quotient is no worse than slightly more than the sum of the relative errors in the numbers divided.\n",
    "(Mimic the argument for the corresponding result on products.)"
   ]
  },
  {
   "cell_type": "markdown",
   "id": "dying-summary",
   "metadata": {},
   "source": [
    "## Exercise 2\n",
    "\n",
    "For $x = 8.024$ and $y = 8.006$,\n",
    "- Round  each to three significant figures, giving $x_a$ and $y_a$.\n",
    "- Compute the absolute errors in each of these approximations, and in their difference as an approximation of $x - y$.\n",
    "- Compute the relative errors in each of these three approximations.\n",
    "\n",
    "Then look at rounding to only two significant digits!"
   ]
  },
  {
   "cell_type": "markdown",
   "id": "special-supplement",
   "metadata": {},
   "source": [
    "## Exercise 3\n",
    "\n",
    "(a) Illustrate why computing the roots of the quadratic equation $ax^2 + bx + c = 0$ with the standard formula\n",
    "\n",
    "$$x = \\frac{-b \\pm \\sqrt{b^2 - 4ac}}{2a}$$\n",
    "\n",
    "can sometimes give poor accuracy when evaluated using machine arithmetic such as IEEE-64 floating-point arithmetic.\n",
    "This is not alwys a problem, so identify specifically the situations when this could occur, in terms of a condition on the coefficents $a$, $b$, and $c$.\n",
    "(It is sufficient to consider real value of the ocefficients.\n",
    "Also as an aside, there is no loss pr precisio prbe, when th roots are non-real, so you only need consider quadratics with real roots.)\n",
    "\n",
    "(b) Then describe a careful procedure for always getting accurate answers.\n",
    "State the procedure first with words and mathematical formulas, and then express it in pseudo-code."
   ]
  }
 ],
 "metadata": {
  "kernelspec": {
   "display_name": "Python 3",
   "language": "python",
   "name": "python3"
  },
  "language_info": {
   "codemirror_mode": {
    "name": "ipython",
    "version": 3
   },
   "file_extension": ".py",
   "mimetype": "text/x-python",
   "name": "python",
   "nbconvert_exporter": "python",
   "pygments_lexer": "ipython3",
   "version": "3.8.5"
  }
 },
 "nbformat": 4,
 "nbformat_minor": 5
}
