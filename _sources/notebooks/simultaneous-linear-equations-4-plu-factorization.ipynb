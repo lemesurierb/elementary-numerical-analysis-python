{
 "cells": [
  {
   "cell_type": "markdown",
   "metadata": {},
   "source": [
    "Solving $Ax = b$ With Both Pivoting and LU factorization\n",
    "========================================================\n",
    "\n",
    "**Updated on Wednesday February 17,** with pseudo-code, Python code, and an example.\n",
    "\n",
    "**References:**\n",
    "\n",
    "- Section 2.4 *The PA=LU Factorization*\n",
    "\n",
    "- Section 6.5 *Matrix Factorizations* of [Burden&Faires](../references.html#Burden-Faires), from *Permutation Matrices* onward.\n",
    "\n",
    "- Section 8.1 *Matrix Factorizations* of [Chenney&Kincaid](../references.html#Chenney-Kincaid)"
   ]
  },
  {
   "cell_type": "markdown",
   "metadata": {},
   "source": [
    "Introduction\n",
    "-------------\n",
    "\n",
    "The last step in producing an algorithm for solving the general case of $n$ simultaneous linear equations in $n$ variables that is *robust*, *efficient* and with good control of *rounding error* is to combine the ideas of [partial pivoting](simultaneous-linear-equations-2-pivoting.ipynb) (reordering the equations to avoid small pivot elements) and the [LU factorization](simultaneous-linear-equations-3-lu-factorization.ipynb).\n",
    "\n",
    "This is sometimes described in three parts:\n",
    "- *permute* (reorder) the rows of the matirx $A$ by multiplying it at left by a suitable *permutation matrix* $P$; one with a single \"1\" in each row and each column and zeros elsewhere;\n",
    "- Get the LU factorization of this matrix: $PA = LU$.\n",
    "- To solve $A x = b$\n",
    "    - Express as $P A x = L U x = P b$ (whic just involves computing $Pb$, which just reorders the elements of $b$)\n",
    "    - Solve $L c = P b$ for $c$ by forward substitution\n",
    "    - Solve $U x = c$ for $x$ by backward substitution:\n",
    "      as before, this gives $L U x = L c = P b$ and $L U x = P A x$, so $PAx = Pb$;\n",
    "      since a permutation matrix $P$ is invertible (just unravel the row swaps), this ensures that $Ax = b$.\n",
    "\n",
    "This give anice formuasin terms of matrices; however we can describe it a bit more compactly and efficiently by just talking about the permutation of the rows, described by a *permutation vector* — an $n$ component vector\n",
    "$\\pi = [\\pi_1, \\pi_2 , \\dots, \\pi_n]$\n",
    "whose elements are the integers from 1 to $n$ in some order.\n",
    "So that is how the algorithm will be described below.\n",
    "\n",
    "(Aside: I use the conventional name $\\pi$ for a permutation vector, partly to distinguish from the notation $p_i$ used for *pivot* rows; however, feel free to use the name $p$ insread, especially in Python code!)\n",
    "\n",
    "A number of details of this sketch will now be filled in, including the very useful fact that the permutation vector (or matrix) can be contsructed \"on the fly\", as rows are swapped in partial pivoting."
   ]
  },
  {
   "cell_type": "markdown",
   "metadata": {},
   "source": [
    "## Row swapping is all you need\n",
    "\n",
    "Let us look at maximal element partial pivoting, but described in terms of the entries of the factors $L$ and $U$, and updating matrix $A$ with a succession of row swaps.\n",
    "\n",
    "(For now, I omit what happens to the right-hand side vector $b$; that is where the permutation vecor $p$ will come in, as addressed below.)\n",
    "\n",
    "What happens if pivoting occurs at some stage $k$, with swapping of row $k$ with a row $p_k > 5$?\n",
    "\n",
    "One might fear that the process has to start again from the top using the modified version of matrix $A$,\n",
    "but in fact all previous work can be reused, just swapping those rows \"everywhere\"."
   ]
  },
  {
   "cell_type": "markdown",
   "metadata": {},
   "source": [
    "### Example: what happens at stage 5 ($k=5$)?\n",
    "\n",
    "To see this with a concrete example consider what happens if at stage $k=5$ we swap rows 5 and 10 of $A$."
   ]
  },
  {
   "cell_type": "markdown",
   "metadata": {},
   "source": [
    "A) Firstly, what happens to matrix $A$?\n",
    "\n",
    "The previous steps of the LU factorization process only involved entries of $A$ in its first four rows and first four columns, and this row swap has no effect of them.\n",
    "Likewise, in row reduction, changes at and below row $k=5$ have no effect on the first four rows of the row reduced form, $U$.\n",
    "\n",
    "Thus, the only change here is to swap the entries of $A$ between rows 5 and 10.\n",
    "What is more, the subsequent calculations only involve columns of index $j=5$ upwards,\n",
    "so in fact we only need to update those entries.\n",
    "This can be written as\n",
    "\n",
    "$$ a_{5, j} \\leftrightarrow a_{10, j}, \\quad 5 \\leq j \\leq n $$\n",
    "\n",
    "Thus if we are working in Python with $A$ stored in a numpy array, the update is the slice operation\n",
    "\n",
    "    ( A[5, 5:], A[10, 5:] ) = ( A[10, 5:], A[5, 5:] ) \n",
    "\n",
    "(except for that pesky Pythonic down-shifting of indices; to be seen in pseudo-code later!)"
   ]
  },
  {
   "cell_type": "markdown",
   "metadata": {},
   "source": [
    "B) Next, look at the work done so far on $U$.\n",
    "\n",
    "That just consists of the previous rows $1 \\leq i \\leq 4$, and the swapping of rows 5 with 10 has no effect up there:\n",
    "\n",
    "*Values already computed in $U$ are unchanged.*"
   ]
  },
  {
   "cell_type": "markdown",
   "metadata": {},
   "source": [
    "C) Finally, look at the work done so far on the multipiers $l_{i,j}$; that is, matrix $L$.\n",
    "\n",
    "The values computed so far are the first four columns of $L$;\n",
    "the multiples $l_{i,j}$, $1 \\leq j \\leq 4$ of row $j$ subtracted from row $i > j$.\n",
    "These _do_ change: for example, the multiple $l_{5,2}$ of row $2$ is now subtracted from what was row 5 but is now row 10: thus, the new value of $l_{10,2}$ is the previous value of $l_{5,2}$.\n",
    "\n",
    "Likewise, the same is true in reverse: the new value of $l_{5,2}$ is the previous value of $l_{10,2}$.\n",
    "This applies for all of the first four rows, so second index $1 \\leq j \\leq 4$:\n",
    "\n",
    "*The entries of $L$ computed so far are swapped between rows 5 and 10, leaving the rest unchanged.*\n",
    "\n",
    "As this is again only for some columns — the first four — the swaps needed are:\n",
    "\n",
    "$$ l_{5, j} \\leftrightarrow l_{10, j}, \\quad 1 \\leq j \\leq 4 $$\n",
    "\n",
    "or in Python slice notation for an array $L$:\n",
    "\n",
    "    ( L[5, :4], L[10, :4] ) = ( L[10, :4], L[5, :4] )"
   ]
  },
  {
   "cell_type": "markdown",
   "metadata": {},
   "source": [
    "### The general pattern\n",
    "\n",
    "The example above extends to all stages $k$ of row reduction or computing the LU factorization or a permute versio of matrix $A$, where we adjust the pivot element at position $(k, k)$ by first swapping row $k$ with a row $p_k, \\geq k$.\n",
    "(Allowing that sometimes no swap is needed, so that $p_k = k$.)\n",
    "\n",
    "Gathering the key formulas above, this part of the algorithm is"
   ]
  },
  {
   "cell_type": "markdown",
   "metadata": {},
   "source": [
    "for k from 1 to n-1:\n",
    "<br>\n",
    "$\\quad$ Find the pivot row $p_k, \\geq k$.\n",
    "<br>\n",
    "$\\quad$ if $p_k > k$: \n",
    "<br>\n",
    "$\\quad\\quad$ Swap $l_{k, j} \\leftrightarrow l_{p_k, j}, \\quad 1 \\leq j < k $\n",
    "<br>\n",
    "$\\quad\\quad$ Swap $a_{k, j} \\leftrightarrow a_{p_k, j}, \\quad k \\leq j \\leq n $\n",
    "<br>\n",
    "$\\quad$ end for\n",
    "<br>\n",
    "end for"
   ]
  },
  {
   "cell_type": "markdown",
   "metadata": {},
   "source": [
    "### Pseudo-code for LU factorization with row swapping (first version)\n",
    "\n",
    "Here I also adopt slice notation; for example, $a_{k, k:n}$ denotes the slice $[a_{k, k} \\dots a_{k, n}]$.\n",
    "\n",
    "for k from 1 to n\n",
    "<br>$\\quad$ *Find the pivot element:*\n",
    "<br>$\\quad$ $p = k$  $\\quad$ *(p will be the index of the pivot row)*\n",
    "<br>$\\quad$ for i from k+1 to n:\n",
    "<br>$\\quad$$\\quad$ if |u_{i, k}| > |u_{p, k}|:\n",
    "<br>$\\quad$$\\quad$$\\quad$ p = i\n",
    "<br>$\\quad$$\\quad$ end if\n",
    "<br>$\\quad$ end for\n",
    "<br>$\\quad$ if p > k: $\\quad$ *(Swap rows)*\n",
    "<br>$\\quad$$\\quad$ $l_{k, 1:k-1} \\leftrightarrow l_{p, 1:k-1}$\n",
    "<br>$\\quad$$\\quad$ $a_{k, k:n} \\leftrightarrow a_{p, k:n}$\n",
    "<br>$\\quad$ end if\n",
    "<br>$\\quad$ for j from k to n: $\\quad$ *(Get the non-zero elements in row $k$ of $U$)*\n",
    "<br>$\\quad\\quad$ $u_{k,j}=a_{k,j}-\\sum_{s=1}^{k-1}l_{k,s}u_{s,j}$\n",
    "<br>$\\quad$ end for\n",
    "<br>$\\quad$ for i from k+1 to n $\\quad$ *(Get the non-zero elements in column $k$ of $L$ — except the 1's on its diagonal)*\n",
    "<br>$\\quad\\quad$ $l_{i,k}=\\displaystyle\\frac{a_{i,k}-\\sum_{s=1}^{k-1}l_{i,s}u_{s,k}}{u_{k,k}}$\n",
    "<br>$\\quad$ end for\n",
    "<br>end for"
   ]
  },
  {
   "cell_type": "markdown",
   "metadata": {},
   "source": [
    "### But what about the right-hand side, $b$?\n",
    "\n",
    "One thing is missing from this strategy so far:\n",
    "if we are solving with a given right-hand-side column vector $b$, we would also swap its rows at each stage, with\n",
    "\n",
    "$$ b_k \\leftrightarrow b_{p_k} $$\n",
    "\n",
    "but with the LU factorization we need to keep track of these swaps for use later.\n",
    "\n",
    "This turns out to mesh nicely with another detail: we can avoid actually copying array entries around by just keeping track of the order in which we use rows to get zeros in other rows.\n",
    "Our goal will be a permutation vector $\\pi = [\\pi_1, \\pi_2, \\dots \\pi_n]$ which says:\n",
    "\n",
    "- First use row $\\pi_1$ to get zeros in column 1 of the $n-1$ other rows.\n",
    "\n",
    "- Then use row $\\pi_2$ to get zeros in column 2 of the $n-2$ remaining rows.\n",
    "\n",
    "- ..."
   ]
  },
  {
   "cell_type": "markdown",
   "metadata": {},
   "source": [
    "To do this:\n",
    "\n",
    "- first, initialize an array $\\pi = [1, 2, \\dots, n]$\n",
    "\n",
    "- at stage $k$, if the pivot element is in row $p_k \\neq k$, swap the corresponding elements in $\\pi$\n",
    "(rather than swapping entire rows of arrays):\n",
    "\n",
    "$$\\pi_k \\leftrightarrow \\pi_{p_k}$$\n",
    "\n",
    "Introducing the name $A'$ for the new version of matrix $A$,\n",
    "its row $k$ has entries $a'_{k, j} = a_{\\pi_k, j}$."
   ]
  },
  {
   "cell_type": "markdown",
   "metadata": {},
   "source": [
    "This pattern persists through each row swap: instead of computing a succesion of updated versions of matrix $A$,\n",
    "we leave it alone and just change the row indices:\n",
    "\n",
    "*All references to entries of $A$ are now done with permuted row index: $a_{\\pi_i, j}$*\n",
    "\n",
    "The same applies to the array $L$ of multipliers:\n",
    "\n",
    "*All references to entries of $L$ are now done with $l_{\\pi_i, j}$*.\n",
    "\n",
    "Finally, since these row swaps also apply to the right-hand side $b$, we do the same there:\n",
    "\n",
    "*All references to entries of $b$ are now done with $b_{\\pi_i}$*."
   ]
  },
  {
   "cell_type": "markdown",
   "metadata": {},
   "source": [
    "### Pseudo-code for LU factorization with a permutation vector\n",
    "\n",
    "*Initialize the permutation vector,* $\\pi \\leftarrow [1, 2, \\dots, n]$\n",
    "\n",
    "for k from 1 to n\n",
    "<br>$\\quad$ *Find the pivot element:*\n",
    "<br>$\\quad$ $p \\leftarrow k$  $\\quad$ *(p will be the index of the pivot row)*\n",
    "<br>$\\quad$ for i from k+1 to n:\n",
    "<br>$\\quad$$\\quad$ if $|u_{i, k}| > |u_{p, k}|$:\n",
    "<br>$\\quad$$\\quad$$\\quad$ $p \\leftarrow i$\n",
    "<br>$\\quad$$\\quad$ end if\n",
    "<br>$\\quad$ if p > k: $\\quad$ *(Just swap indices, not rows)*\n",
    "<br>$\\quad$$\\quad$ $\\pi_k \\leftrightarrow \\pi_p$\n",
    "<br>$\\quad$ end if\n",
    "<br>$\\quad$ for j from k to n: $\\quad$ *(Get the non-zero elements in row $k$ of $U$)*\n",
    "<br>$\\quad\\quad$ $u_{k,j} \\leftarrow a_{k,j}-\\sum_{s=1}^{k-1}l_{k,s}u_{s,j}$\n",
    "<br>$\\quad$ end for\n",
    "<br>$\\quad$ for i from k+1 to n: $\\quad$ *(Get the non-zero elements in column $k$ of $L$ — except the 1's on its diagonal)*\n",
    "<br>$\\quad\\quad$ $l_{i,k} \\leftarrow \\displaystyle\\frac{a_{i,k}-\\sum_{s=1}^{k-1}l_{i,s}u_{s,k}}{u_{k,k}}$\n",
    "<br>$\\quad$ end for\n",
    "<br>end for"
   ]
  },
  {
   "cell_type": "markdown",
   "metadata": {},
   "source": [
    "**Aside:** For the version with a permutation matrix $P$, instead:\n",
    "- start with an array $P$ that is the identity matrix, and then\n",
    "- swap its rows $k \\leftrightarrow p_k$ at stage $k$ instead of swapping the entries of $\\pi$ or the rows of $A$ and $L$."
   ]
  },
  {
   "cell_type": "code",
   "execution_count": 1,
   "metadata": {},
   "outputs": [],
   "source": [
    "from numpy import array, zeros_like"
   ]
  },
  {
   "cell_type": "code",
   "execution_count": 2,
   "metadata": {},
   "outputs": [],
   "source": [
    "def plu(A, demoMode=False):\n",
    "    \"\"\"Compute the Doolittle PA=LU factorization of A —\n",
    "    but with the permutation recorded as permutation vector, not as the permutation matrix P.\n",
    "    Sums like $\\sum_{s=1}^{k-1} l_{k,s} u_{s,j}$ are done as matrix products;\n",
    "    in the above case, row matrix L[k, 1:k-1] by column matrix U[1:k-1,j] gives the sum for a give j,\n",
    "    and row matrix L[k, 1:k-1] by matrix U[1:k-1,k:n] gives the relevant row vector.\n",
    "    \n",
    "    NOT WORKING YET!\n",
    "    \"\"\"\n",
    "    n = len(A)  # len() gives the number of rows in a 2D array.\n",
    "    perm = array(range(n))\n",
    "    # Initialize U as the zero matrix;\n",
    "    # correct below the main diagonal, with the other entries to be computed below.\n",
    "    U = zeros_like(A)\n",
    "    # Also, initialize L as the zero matrix;\n",
    "    # the 1's will also be filled in as we go.\n",
    "    L = zeros_like(A)\n",
    "    for k in range(n-1):\n",
    "        if demoMode: print(f\"{k=}\")\n",
    "\n",
    "        # Find the pivot element in column k:\n",
    "        pivot_row = k\n",
    "        abs_u_ik_max = abs(A[perm[k],k])\n",
    "        for row in range(k+1, n):\n",
    "            abs_u_ik = abs(A[perm[row],k])\n",
    "            if abs_u_ik > abs_u_ik_max:\n",
    "                pivot_row = row\n",
    "                abs_u_ik_max = abs_u_ik\n",
    "        if pivot_row > k: # \"swap\"\n",
    "            if demoMode: print(f\"Swap row {k} with row {pivot_row}\")\n",
    "            (perm[k], perm[pivot_row]) = (perm[pivot_row], perm[k])\n",
    "        else:\n",
    "            if demoMode: print(f\"No row swap needed.\")\n",
    "        U[k,k:] = A[perm[k],k:] - L[perm[k],:k] @ U[:k,k:]\n",
    "        L[perm[k],k] = 1. \n",
    "        for row in range(k+1,n):\n",
    "            L[perm[row],k] = ( A[perm[row],k] - L[perm[row],:k] @ U[:k,k] ) / U[k,k]\n",
    "        if demoMode:\n",
    "            print(f\"permuted A is:\")\n",
    "            for row in range(n):\n",
    "                print(A[perm[row],:])\n",
    "            print(f\"intermediate U is\\n{U}\")\n",
    "            print(f\"intermediate L is\\n{L}\")\n",
    "            print(f\"perm={perm}\")\n",
    "    # The last row (index \"-1\") is special: nothing to do for L except put in the 1 on the \"permuted main diagonal\"\n",
    "    U[n-1,n-1] = A[perm[n-1],n-1] - sum(L[perm[n-1],:n-1]*U[:n-1,n-1])\n",
    "    L[perm[n-1],n-1] = 1. \n",
    "    if demoMode:\n",
    "        print(f\"After the final step, k={n-1}\")\n",
    "        print(f\"U=\\n{U}\")\n",
    "    return (L, U, perm)"
   ]
  },
  {
   "cell_type": "code",
   "execution_count": 3,
   "metadata": {},
   "outputs": [
    {
     "name": "stdout",
     "output_type": "stream",
     "text": [
      "A=\n",
      "[[  1.  -3.  22.]\n",
      " [  3.   5.  -6.]\n",
      " [  4. 235.   7.]]\n",
      "k=0\n",
      "Swap row 0 with row 2\n",
      "permuted A is:\n",
      "[  4. 235.   7.]\n",
      "[ 3.  5. -6.]\n",
      "[ 1. -3. 22.]\n",
      "intermediate U is\n",
      "[[  4. 235.   7.]\n",
      " [  0.   0.   0.]\n",
      " [  0.   0.   0.]]\n",
      "intermediate L is\n",
      "[[0.25 0.   0.  ]\n",
      " [0.75 0.   0.  ]\n",
      " [1.   0.   0.  ]]\n",
      "perm=[2 1 0]\n",
      "k=1\n",
      "No row swap needed.\n",
      "permuted A is:\n",
      "[  4. 235.   7.]\n",
      "[ 3.  5. -6.]\n",
      "[ 1. -3. 22.]\n",
      "intermediate U is\n",
      "[[   4.    235.      7.  ]\n",
      " [   0.   -171.25  -11.25]\n",
      " [   0.      0.      0.  ]]\n",
      "intermediate L is\n",
      "[[0.25       0.36058394 0.        ]\n",
      " [0.75       1.         0.        ]\n",
      " [1.         0.         0.        ]]\n",
      "perm=[2 1 0]\n",
      "After the final step, k=2\n",
      "U=\n",
      "[[   4.          235.            7.        ]\n",
      " [   0.         -171.25        -11.25      ]\n",
      " [   0.            0.           24.30656934]]\n",
      "\n",
      "Function plu gives\n",
      "row permution [2 1 0]\n",
      "L=\n",
      "[[0.25       0.36058394 1.        ]\n",
      " [0.75       1.         0.        ]\n",
      " [1.         0.         0.        ]]\n",
      "U=\n",
      "[[   4.          235.            7.        ]\n",
      " [   0.         -171.25        -11.25      ]\n",
      " [   0.            0.           24.30656934]]\n",
      "The 'residual' A - LU is \n",
      "[[0. 0. 0.]\n",
      " [0. 0. 0.]\n",
      " [0. 0. 0.]]\n"
     ]
    }
   ],
   "source": [
    "A = array([[1. , -3. , 22.], [3. , 5. , -6.], [4. , 235. , 7.], ])\n",
    "print(f\"A=\\n{A}\")\n",
    "(L, U, perm) = plu(A, demoMode=True)\n",
    "print(\"\\nFunction plu gives\")\n",
    "print(f\"row permution {perm}\")\n",
    "print(f\"L=\\n{L}\")\n",
    "print(f\"U=\\n{U}\")\n",
    "print(f\"The 'residual' A - LU is \\n{A - L@U}\")"
   ]
  },
  {
   "cell_type": "markdown",
   "metadata": {},
   "source": [
    "Matrix $L$ is not actually lower triangular, due to the permutation of its rows,\n",
    "but is still fine for a version of forward substition, because\n",
    "- row $\\pi_1$ only involves $x_1$ (multiplied by 1) and so can be used to solve for $x_1$\n",
    "- row $\\pi_2$ only involves $x_1$ and $x_2$ (the latter multiplied by 1) and so can be used to solve for $x_2$\n",
    "- ...\n",
    "\n",
    "**Aside:** Such a matrix is called *psychologically lower triangular* — maybe because it believes itself to be such?"
   ]
  },
  {
   "cell_type": "markdown",
   "metadata": {},
   "source": [
    "### Forward and backward substitution with a permutation vector\n",
    "\n",
    "To solve $L c = b$, all one has to change from the formulas for forward substitution seen in the previous section on \n",
    "[the LU factorization](simultaneous-linear-equations-3-lu-factorization.ipynb)\n",
    "is to put the permuted row index $\\pi_i$ in both $L$ and $b$:\n",
    "\n",
    "$$ c_i = b_{\\pi_i} - \\sum_{j=1}^{i-1} l_{\\pi_i,j} c_j,\\; 1 \\leq i \\leq n $$"
   ]
  },
  {
   "cell_type": "code",
   "execution_count": 4,
   "metadata": {},
   "outputs": [],
   "source": [
    "def forwardSubstitution(L, b, perm):\n",
    "    \"\"\"Solve L c = b for c, ith permutation of the rows of L and of b.\"\"\"\n",
    "    n = len(b)\n",
    "    c = zeros_like(b)\n",
    "    c[0] = b[perm[0]]\n",
    "    for i in range(1, n):\n",
    "        c[i] = b[perm[i]] - L[perm[i], :i] @ c[:i]\n",
    "    return c"
   ]
  },
  {
   "cell_type": "code",
   "execution_count": 5,
   "metadata": {},
   "outputs": [],
   "source": [
    "b = array([2., 3., 4.])"
   ]
  },
  {
   "cell_type": "code",
   "execution_count": 6,
   "metadata": {},
   "outputs": [
    {
     "name": "stdout",
     "output_type": "stream",
     "text": [
      "b = [2. 3. 4.]\n"
     ]
    }
   ],
   "source": [
    "print(f\"b = {b}\")"
   ]
  },
  {
   "cell_type": "code",
   "execution_count": 7,
   "metadata": {},
   "outputs": [
    {
     "name": "stdout",
     "output_type": "stream",
     "text": [
      "c=[4. 0. 1.]\n"
     ]
    }
   ],
   "source": [
    "c = forwardSubstitution(L, b, perm)\n",
    "print(f\"c={c}\")"
   ]
  },
  {
   "cell_type": "markdown",
   "metadata": {},
   "source": [
    "Then the final step, solving $Ux = b$ for $x$, needs no change, because $U$ had no rows swapped,\n",
    "so we are done; we can import the function `backwardSubstitution` seen previously"
   ]
  },
  {
   "cell_type": "code",
   "execution_count": 8,
   "metadata": {},
   "outputs": [],
   "source": [
    "from numerical_methods_module import backwardSubstitution"
   ]
  },
  {
   "cell_type": "code",
   "execution_count": 9,
   "metadata": {},
   "outputs": [
    {
     "name": "stdout",
     "output_type": "stream",
     "text": [
      "x=[ 1.08678679 -0.0027027   0.04114114]\n",
      "The residual r = b - Ax is \n",
      "[0. 0. 0.], with maximum norm 0.0\n"
     ]
    }
   ],
   "source": [
    "x = backwardSubstitution(U, c)\n",
    "print(f\"x={x}\")\n",
    "r = b - A@x\n",
    "print(f\"The residual r = b - Ax is \\n{r}, with maximum norm {max(abs(r))}\")"
   ]
  },
  {
   "cell_type": "markdown",
   "metadata": {},
   "source": [
    "---\n",
    "\n",
    "This work is licensed under [Creative Commons Attribution-ShareAlike 4.0 International](https://creativecommons.org/licenses/by-sa/4.0/)"
   ]
  }
 ],
 "metadata": {
  "kernelspec": {
   "display_name": "Python 3",
   "language": "python",
   "name": "python3"
  },
  "language_info": {
   "codemirror_mode": {
    "name": "ipython",
    "version": 3
   },
   "file_extension": ".py",
   "mimetype": "text/x-python",
   "name": "python",
   "nbconvert_exporter": "python",
   "pygments_lexer": "ipython3",
   "version": "3.8.5"
  }
 },
 "nbformat": 4,
 "nbformat_minor": 4
}
