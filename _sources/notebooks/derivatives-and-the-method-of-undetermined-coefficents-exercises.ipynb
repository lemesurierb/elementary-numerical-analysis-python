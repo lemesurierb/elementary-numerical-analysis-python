{
 "cells": [
  {
   "cell_type": "markdown",
   "metadata": {},
   "source": [
    "# Exercises on Approximating Derivatives, the Method of Undetermined Coefficients and Richardson Extrapolation"
   ]
  },
  {
   "cell_type": "markdown",
   "metadata": {},
   "source": [
    "## Exercise 1\n",
    "\n",
    "Show that for a three-point one-sided difference approximation of the first derivative\n",
    "\n",
    "$$Df(x) = \\frac{C_{0} f(x) + C_1 f(x + h) + C_2 f(x + 2h)}{h} + O(h^p)$$\n",
    "\n",
    "the most accurate choice is $C_0 = -3/2$, $C_1 = 2$, $C_2 = -1/2$, giving\n",
    "\n",
    "$$Df(x) \\approx \\frac{-3 f(x) + 4 f(x + h) - f(x + 2h)}{2 h} + O(h^2).$$\n",
    "\n",
    "and verify that this is of second order\n",
    "\n",
    "Do this by setting up the three equations as above for the coefficients $C_0$, $C_1$ and $C_2$, and solving them.\n",
    "Do this \"by hand\", to get exact fractions as the answers;\n",
    "us the two Taylor serei formulas, but now tak advanta of what we saw above, whi cis that the error stsrts at the terms in\n",
    "$D^3f(x)$, so use the forms\n",
    "\n",
    "$$f(x+h) = f(x) + Df(x) h + \\frac{D^2f(x)}{2} h^2 + \\frac{D^3f(x)}{6} h^3 + O(h^4)$$\n",
    "\n",
    "and\n",
    "\n",
    "$$f(x+2h) = f(x) + 2 Df(x) h + 2 D^2f(x) h^2 + \\frac{4 D^3f(x)}{3} h^3 + O(h^4)$$"
   ]
  },
  {
   "cell_type": "markdown",
   "metadata": {},
   "source": [
    "## Exercise 2\n",
    "\n",
    "Repeat Exercise 1, but using the degree of precision method.\n",
    "\n",
    "That is, impose the condition of giving the exact value for the derivative at $x=0$ for the monomial $f(x) = 1$,\n",
    "then the same for $f(x) = x$, and so on until there are enough equations to determine a unique solution for the coefficients."
   ]
  },
  {
   "cell_type": "markdown",
   "metadata": {},
   "source": [
    "## Exercise 3\n",
    "\n",
    "Verify that the most accurate three-point centered difference approximation of $D^2 f(x)$,\n",
    "form\n",
    "\n",
    "$$D^2f(x) \\approx \\frac{C_{-1} f(x - h) + C_{0} f(x) + C_1 f(x + h)}{h^2}$$\n",
    "\n",
    "is given by the coefficients $C_{-1} = C_1 = 1$, $C_0 = -2$\n",
    "in that this is of the highest order; $p=2$.\n",
    "\n",
    "That is\n",
    "\n",
    "$$D^2f(x) = \\frac{f(x - h) -2 f(x) + f(x + h)}{h^2} + O(h^2).$$\n",
    "\n",
    "Do this by hand, and exploit the symmetry.\n",
    "\n",
    "Note that it works a bit better than expected, due to the symmetry."
   ]
  },
  {
   "cell_type": "markdown",
   "metadata": {},
   "source": [
    "## Exercise 4\n",
    "\n",
    "Repeat Exercise 3, but using the degree of precision method."
   ]
  },
  {
   "cell_type": "markdown",
   "metadata": {},
   "source": [
    "## Exercise 5\n",
    "\n",
    "Derive a symmetric five-point approximation of the second derivative, using the Method of Undetermined Coefficients;\n",
    "I recomend that you use the simpler second, \"monomials\" approach.\n",
    "\n",
    "Note: try to exploit symmetry to reduce the number of equations that need to be solved."
   ]
  },
  {
   "cell_type": "markdown",
   "metadata": {},
   "source": [
    "## Exercise 6\n",
    "\n",
    "Use the symmetric centered difference approxmation of the second derivative and Richardson extrapolation to get another more accurate approximation of this derivative.\n",
    "\n",
    "Then compare to the result in Exercise 5."
   ]
  },
  {
   "cell_type": "markdown",
   "metadata": {},
   "source": [
    "---\n",
    "This work is licensed under [Creative Commons Attribution-ShareAlike 4.0 International](https://creativecommons.org/licenses/by-sa/4.0/)"
   ]
  }
 ],
 "metadata": {
  "kernelspec": {
   "display_name": "Python 3",
   "language": "python",
   "name": "python3"
  },
  "language_info": {
   "codemirror_mode": {
    "name": "ipython",
    "version": 3
   },
   "file_extension": ".py",
   "mimetype": "text/x-python",
   "name": "python",
   "nbconvert_exporter": "python",
   "pygments_lexer": "ipython3",
   "version": "3.8.5"
  }
 },
 "nbformat": 4,
 "nbformat_minor": 4
}
