{
 "cells": [
  {
   "cell_type": "markdown",
   "metadata": {},
   "source": [
    "# Simultaneous Linear Equations, Part 5: Error bounds for linear algebra, condition numbers, matrix norms, etc. — Preliminary Version"
   ]
  },
  {
   "cell_type": "markdown",
   "metadata": {},
   "source": [
    "**References:**\n",
    "\n",
    "- Section 2.3.1 *Error Magnification and Condition Number* of [Sauer](../references.html#Sauer)\n",
    "\n",
    "- Section 7.5 *Error Bounds and Iterative Refinement* of [Burden&Faires](../references.html#Burden-Faires) — but the last part, on *Iterative Refinement*, is not relevant here.\n",
    "\n",
    "- Section 8.4 of [Chenney&Kincaid](../references.html#Chenney-Kincaid) "
   ]
  },
  {
   "cell_type": "markdown",
   "metadata": {},
   "source": [
    "## Residuals, backward errors, forward errors, and condition numbers\n",
    "\n",
    "For an approximation $x_a$ of the solution $x$ of $A x = b$, the *residual* $r = A x_a - b$ measures error as *backward error*, often measured by a single number, the *residual norm* $\\| A x_a - b \\|$.\n",
    "Any norm could be used, but the maximum norm is usualt preferred, for reasons that we will see soon.\n",
    "\n",
    "The corresponding (dimensionless) measure of relative error is defined as\n",
    "\n",
    "$$\\frac{\\|r\\|}{\\|b\\|}.$$\n",
    "\n",
    "However, these can greatly underestimate the *forward* errors in the solution: the absolute error $\\|x - x_a\\|$ and relative error\n",
    "\n",
    "$$Rel(x_a) = \\frac{\\|x - x_a\\|}{\\| x \\|}$$\n",
    "\n",
    "To relate these to the residual, we need the concepts of a *matrix norm* and the *condition number* of a matrix."
   ]
  },
  {
   "cell_type": "markdown",
   "metadata": {},
   "source": [
    "## Matrix norms induced by vector norms\n",
    "\n",
    "Given any vector norm $\\| \\cdot \\|$ — such as the maximum (\"infinity\") norm $\\| \\cdot \\|_\\infty$ or the Euclidean norm (length) $\\| \\cdot \\|_2$ — the correponding *induced matrix norm* is\n",
    "\n",
    "$$\n",
    "\\| A \\| := \\max_{x \\neq 0} \\frac{\\| Ax \\|}{\\| x \\|}, =  \\max_{\\|x\\|=1} \\| Ax \\|\n",
    "$$\n",
    "\n",
    "This maximum exists for ethe rof these vector norms, and for the infinity norm there ia an explicit formula for it:\n",
    "for any $m\\times n$ matrix,\n",
    "\n",
    "$$\n",
    "\\|A\\|_\\infty = \\max_{i=1}^m \\sum_{j=1}^n |a_{ij}|\n",
    "$$\n",
    "\n",
    "(On the other hand, it is far harder to compute the Euclidean norm of a matrix: the formula requires computing eigenvalues.)\n",
    "\n",
    "Note that when the matrix is a vector considered as a matrix with a single column — so $n=1$ — the sum goes away, and this agrees with the infinity vector norm.\n",
    "This allows us to consider vectors as being just matrices with a single column, which we will often do from now on."
   ]
  },
  {
   "cell_type": "markdown",
   "metadata": {},
   "source": [
    "## Properties of (induced) matrix norms\n",
    "\n",
    "These induced matrix norms have many properties in common with Euclidean length and other vector norms, but there can also be products, and then one has to be careful.\n",
    "\n",
    "1. $\\|A\\| \\geq 0$ (positivity)\n",
    "1. $\\| A \\| = 0$ if and only if $A = 0$ (definiteness)\n",
    "2. $\\| c A \\| = |c| \\, \\|A\\|$ for any constant $c$ (absolute homogeneity)\n",
    "3. $\\| A + B \\| \\leq \\| A \\| + \\| B \\|$ (sub-additivity or the triangle inequality),\n",
    "<br>\n",
    "and when the product of two matrices makes sense (including matrix-vector products),\n",
    "4. $\\| A B \\| \\leq \\| A \\| \\, \\| B \\|$ (sub-multiplicativity)\n",
    "\n",
    "Note the failure to always have equality with products.\n",
    "Indeed one can have $A B = 0$ with $A$ and $B$ both non-zero, such as when $A$ is a singular matrix and $B$ is a null-vector for it."
   ]
  },
  {
   "cell_type": "markdown",
   "metadata": {},
   "source": [
    "**Aside:** There are other matrix norms of use in some contexts, in particular the\n",
    "[Frobenius norm](https://en.wikipedia.org/wiki/Matrix_norm#Frobenius_norm).\n",
    "Then the above properties are often used to *define* what it is to be a matrix form, much as the the first four define what it is to be a vector norm."
   ]
  },
  {
   "cell_type": "markdown",
   "metadata": {},
   "source": [
    "## Relative error bound and condition number\n",
    "\n",
    "It can be proven that, for any choice of norm,\n",
    "\n",
    "$$\n",
    "Rel(x_a) = \\frac{\\|x - x_a\\|}{\\| x \\|} \\leq \\|A\\|\\|A^{-1}\\|\\frac{\\|r\\|}{\\|b\\|},\n",
    "$$\n",
    "\n",
    "where the last factor is the relative backward error.\n",
    "\n",
    "Since we can (though often with considerable effort, due to the inverse!) compute the right-hand side when the infinity norm is used, we can compute an upper bound on the relative error.\n",
    "From this, an upper bound on the absolute error can be computed if needed.\n",
    "\n",
    "The *growth factor* between the relative backward error measured by the residual and the relative (forward) error is called the *condition number*, $K(A)$:\n",
    "\n",
    "$$\\kappa(A) := \\|A\\| \\|A^{-1}\\|$$\n",
    "\n",
    "Actually there is one condition number for each choice of norm, so we work with\n",
    "\n",
    "$$\\kappa_\\infty(A) := \\|A\\|_\\infty \\|A^{-1}\\|_\\infty$$\n",
    "\n",
    "Note that for a singular matrix, this is undefined: we can intuitively say that the condition number is then infinite.\n",
    "<br>\n",
    "At the other extreme, the identity matrix $I$ has norm 1 and condition number 1 (using any norm), and this is the best possible because in general $\\kappa(A) \\geq 1$. (This follows from sub-multiplicativity.)"
   ]
  },
  {
   "cell_type": "markdown",
   "metadata": {},
   "source": [
    "### Aside: estimating $\\|A^{-1}\\|_\\infty$ and thence the condition number, and  `numpy.linalg.cond`\n",
    "\n",
    "In Python, a good approximation of the condition number $\\kappa_\\infty(A)$ is given by `numpy.linalg.cond(A, numpy.inf)`.\n",
    "<br>\n",
    "As with `numpy.linalg.norm`, the simple form `numpy.linalg.cond(A)` defaults to using the 2-norm, based on the Euclidian length $\\| \\cdot \\|_2$ for vectors.\n",
    "\n",
    "This is not done exactly, since computing the inverse is a lot of work for large matrices and good estimates can be got far more quickly.\n",
    "The basic idea is start with the formula\n",
    "\n",
    "$$\\| A^{-1} \\| = \\max_{\\|x\\|=1} \\| A ^{-1} x \\|$$\n",
    "\n",
    "and instead compute the maximum over some finite selection of values for $x$: call them $x^{(k)}$.\n",
    "Then to evaluate $y^{(k)} =  A ^{-1} x^{(k)}$, express this through the equation $A y^{(k)} = x^{(k)}$.\n",
    "Once we have an LU factorization for $A$ (which one probably would have when exploring errors in a numerical solution of $Ax = b$) each of these systems can be solved relatively fast:\n",
    "Then\n",
    "\n",
    "$$\\| A^{-1} \\| \\approx \\max_k \\| y^{(k)} \\|.$$"
   ]
  },
  {
   "cell_type": "markdown",
   "metadata": {},
   "source": [
    "## Well-conditioned and ill-conditioned problems and matrices\n",
    "\n",
    "Condition numbers, giving upper limit on the ratio of forward error to backward error,\n",
    "measure the amplification of errors, and have counterparts in other contexts.\n",
    "For example, with an approximation $r_a$ of a root $r$ of the equation $f(x) = 0$, the ratio of forward error to backward error is bounded by\n",
    "$\\displaystyle \\max 1/| f'(x) | = \\frac{1}{\\min | f'(x) |}$, where the maximum only need be taken over an interval known to contain both the root and the approximation.\n",
    "This condition number becomes \"infinite\" for a multiple root, $f'(r) = 0$, related to the problems we have seen in that case.\n",
    "\n",
    "Careful calculation of an approximate solution $x_a$ of $Ax = b$ can often get a *residual* that is at the level of machine rounding error, so that roughly the relative backward error is of size comparable to the machine unit, $u$.\n",
    "The condition number then guarantees that the (forward) relative error is no greater than about $u \\, \\kappa(A)$.\n",
    "\n",
    "In terms of significant bits, with $p$ bit machine arithmetic, one can hope to get $p - \\log_2(\\kappa(A))$ significant bits in the result, but can not rely on more, so one loses $\\log_2(\\kappa(A))$ significant bits.\n",
    "Compare this to the observation that one can expect to lose at least $p/2$ significant bits when using the approximation $Df(x) \\approx D_hf(x) - (f(x+h) = f(x))/h$.\n",
    "\n",
    "A **well-conditioned problem** is one that is not too highly sensitive to errors in rounding or input data; for an eqution $Ax = b$, this corresponds to the condition number of $A$ not being to large; the matrix $A$ is then sometimes also called well-conditioned.\n",
    "This is of course vague, but might typically mean that $p - \\log_2(\\kappa(A))$ is a sufficient number of significant bits for a particular purpose.\n",
    "\n",
    "A problem that is not deemed well-conditioned is called **ill-conditioned**, so that a matrix of uncomfortably large condition number is also sometimes called ill-conditioned.\n",
    "An ill-conditioned problem might still be well-posed, but just requiring careful and precise solution methods."
   ]
  },
  {
   "cell_type": "markdown",
   "metadata": {},
   "source": [
    "---\n",
    "This work is licensed under [Creative Commons Attribution-ShareAlike 4.0 International](https://creativecommons.org/licenses/by-sa/4.0/)"
   ]
  }
 ],
 "metadata": {
  "kernelspec": {
   "display_name": "Python 3",
   "language": "python",
   "name": "python3"
  },
  "language_info": {
   "codemirror_mode": {
    "name": "ipython",
    "version": 3
   },
   "file_extension": ".py",
   "mimetype": "text/x-python",
   "name": "python",
   "nbconvert_exporter": "python",
   "pygments_lexer": "ipython3",
   "version": "3.8.5"
  }
 },
 "nbformat": 4,
 "nbformat_minor": 4
}
