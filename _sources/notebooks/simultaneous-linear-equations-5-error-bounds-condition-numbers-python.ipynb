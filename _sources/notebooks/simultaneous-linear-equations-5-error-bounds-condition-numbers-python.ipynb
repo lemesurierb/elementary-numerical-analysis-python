{
 "cells": [
  {
   "cell_type": "markdown",
   "metadata": {},
   "source": [
    "# Simultaneous Linear Equations, Part 5: Error bounds for linear algebra, condition numbers, matrix norms, etc."
   ]
  },
  {
   "cell_type": "markdown",
   "metadata": {},
   "source": [
    "**References:**\n",
    "\n",
    "- Section 2.3.1 *Error Magnification and Condition Number* of [Sauer](../references.html#Sauer)\n",
    "\n",
    "- Section 7.5 *Error Bounds and Iterative Refinement* of [Burden&Faires](../references.html#Burden-Faires) — but the last part, on *Iterative Refinement*, is not relevant here.\n",
    "\n",
    "- Section 8.4 of [Chenney&Kincaid](../references.html#Chenney-Kincaid) "
   ]
  },
  {
   "cell_type": "markdown",
   "metadata": {},
   "source": [
    "## Residuals, backward errors, forward errors, and condition numbers\n",
    "\n",
    "For an approximation $x_a$ of the solution $x$ of $A x = b$, the *residual* $r = A x_a - b$ measures error as *backward error*, often measured by a single number, the *residual norm* $\\| A x_a - b \\|$.\n",
    "Any norm could be used, but the maximum norm is usualt preferred, for reasons that we will see soon.\n",
    "\n",
    "The corresponding (dimensionless) measure of relative error is defined as\n",
    "\n",
    "$$\\frac{\\|r\\|}{\\|b\\|}.$$\n",
    "\n",
    "However, these can greatly underestimate the *forward* errors in the solution: the absolute error $\\|x - x_a\\|$ and relative error\n",
    "\n",
    "$$Rel(x_a) = \\frac{\\|x - x_a\\|}{\\| x \\|}$$\n",
    "\n",
    "To relate these to the residual, we need the concepts of a *matrix norm* and the *condition number* of a matrix."
   ]
  },
  {
   "cell_type": "markdown",
   "metadata": {},
   "source": [
    "<a name=\"matrix-norms\"></a>\n",
    "## Matrix norms induced by vector norms\n",
    "\n",
    "Given any vector norm $\\| \\cdot \\|$ — such as the maximum (\"infinity\") norm $\\| \\cdot \\|_\\infty$ or the Euclidean norm (length) $\\| \\cdot \\|_2$ — the correponding *induced matrix norm* is\n",
    "\n",
    "$$\n",
    "\\| A \\| := \\max_{x \\neq 0} \\frac{\\| Ax \\|}{\\| x \\|}, =  \\max_{\\|x\\|=1} \\| Ax \\|\n",
    "$$\n",
    "\n",
    "This maximum exists for ethe rof these vector norms, and for the infinity norm there ia an explicit formula for it:\n",
    "for any $m\\times n$ matrix,\n",
    "\n",
    "$$\n",
    "\\|A\\|_\\infty = \\max_{i=1}^m \\sum_{j=1}^n |a_{ij}|\n",
    "$$\n",
    "\n",
    "(On the other hand, it is far harder to compute the Euclidean norm of a matrix: the formula requires computing eigenvalues.)\n",
    "\n",
    "Note that when the matrix is a vector considered as a matrix with a single column — so $n=1$ — the sum goes away, and this agrees with the infinity vector norm.\n",
    "This allows us to consider vectors as being just matrices with a single column, which we will often do from now on."
   ]
  },
  {
   "cell_type": "markdown",
   "metadata": {},
   "source": [
    "## Properties of (induced) matrix norms\n",
    "\n",
    "These induced matrix norms have many properties in common with Euclidean length and other vector norms, but there can also be products, and then one has to be careful.\n",
    "\n",
    "1. $\\|A\\| \\geq 0$ (positivity)\n",
    "1. $\\| A \\| = 0$ if and only if $A = 0$ (definiteness)\n",
    "2. $\\| c A \\| = |c| \\, \\|A\\|$ for any constant $c$ (absolute homogeneity)\n",
    "3. $\\| A + B \\| \\leq \\| A \\| + \\| B \\|$ (sub-additivity or the triangle inequality),\n",
    "<br>\n",
    "and when the product of two matrices makes sense (including matrix-vector products),\n",
    "4. $\\| A B \\| \\leq \\| A \\| \\, \\| B \\|$ (sub-multiplicativity)\n",
    "\n",
    "Note the failure to always have equality with products.\n",
    "Indeed one can have $A B = 0$ with $A$ and $B$ both non-zero, such as when $A$ is a singular matrix and $B$ is a null-vector for it."
   ]
  },
  {
   "cell_type": "markdown",
   "metadata": {},
   "source": [
    "**Aside:** There are other matrix norms of use in some contexts, in particular the\n",
    "[Frobenius norm](https://en.wikipedia.org/wiki/Matrix_norm#Frobenius_norm).\n",
    "Then the above properties are often used to *define* what it is to be a matrix form, much as the the first four define what it is to be a vector norm."
   ]
  },
  {
   "cell_type": "markdown",
   "metadata": {},
   "source": [
    "### Python Note: `numpy.linalg.norm`\n",
    "\n",
    "Python package Numpy provides the function `numpy.linalg.norm` for evaluating matrix norms.\n",
    "The default usage `numpy.linalg.norm(A)` computes $\\| A \\|_2$, which one can also specify explicitly with `numpy.linalg.norm(A, 2)`;\n",
    "to get the maximum norm $\\| A \\|_\\infty$, one uses `numpy.linalg.norm(A, numpy.inf)`."
   ]
  },
  {
   "cell_type": "markdown",
   "metadata": {},
   "source": [
    "## Relative error bound and condition number\n",
    "\n",
    "It can be proven that, for any choice of norm,\n",
    "\n",
    "$$\\text{Rel}(x_a) = \\frac{\\|x - x_a\\|}{\\| x \\|} \\leq \\|A\\|\\|A^{-1}\\| \\frac{\\|r\\|}{\\|b\\|},$$\n",
    "\n",
    "where the last factor $\\displaystyle \\frac{\\|r\\|}{\\|b\\|}$ is the *relative backward error*.\n",
    "\n",
    "Since we can (though often with considerable effort, due to the inverse!) compute the right-hand side when the infinity norm is used, we can compute an upper bound on the relative error.\n",
    "From this, an upper bound on the absolute error can be computed if needed.\n",
    "\n",
    "The *growth factor* between the relative backward error measured by the residual and the relative (forward) error is called the *condition number*, $K(A)$:\n",
    "\n",
    "$$\\kappa(A) := \\|A\\| \\|A^{-1}\\|$$\n",
    "\n",
    "so that the above bound on the relative error can be restated as\n",
    "\n",
    "$$\\text{Rel}(x_a) = \\frac{\\|x - x_a\\|}{\\| x \\|} \\leq \\kappa(A) \\frac{\\|r\\|}{\\|b\\|}$$\n",
    "\n",
    "Actually there is a different condition number for each choice of norm; we work with\n",
    "\n",
    "$$\\kappa_\\infty(A) := \\|A\\|_\\infty \\|A^{-1}\\|_\\infty$$\n",
    "\n",
    "Note that for a singular matrix, this is undefined: we can intuitively say that the condition number is then infinite.\n",
    "<br>\n",
    "At the other extreme, the identity matrix $I$ has norm 1 and condition number 1 (using any norm), and this is the best possible because in general $\\kappa(A) \\geq 1$. (This follows from property 5, sub-multiplicativity.)"
   ]
  },
  {
   "cell_type": "markdown",
   "metadata": {},
   "source": [
    "### Aside: estimating $\\|A^{-1}\\|_\\infty$ and thence the condition number, and  `numpy.linalg.cond`\n",
    "\n",
    "In Python, good approximations of condition numbers are given by the function `numpy.linalg.cond`.\n",
    "<br>\n",
    "As with `numpy.linalg.norm`, the default `numpy.linalg.cond(A)` gives $\\kappa_2(A)$, based on the Euclidian length $\\| \\cdot \\|_2$ for vectors;\n",
    "to get the infinity norm version $\\kappa_\\infty(A)$ use `numpy.linalg.cond(A, numpy.inf)`. \n",
    "\n",
    "This is not done exactly, since computing the inverse is a lot of work for large matrices, and good estimates can be got far more quickly.\n",
    "The basic idea is start with the formula\n",
    "\n",
    "$$\\| A^{-1} \\| = \\max_{\\|x\\|=1} \\| A ^{-1} x \\|$$\n",
    "\n",
    "and instead compute the maximum over some finite selection of values for $x$: call them $x^{(k)}$.\n",
    "Then to evaluate $y^{(k)} =  A ^{-1} x^{(k)}$, express this through the equation $A y^{(k)} = x^{(k)}$.\n",
    "Once we have an LU factorization for $A$ (which one probably would have when exploring errors in a numerical solution of $Ax = b$) each of these systems can be solved relatively fast:\n",
    "Then\n",
    "\n",
    "$$\\| A^{-1} \\| \\approx \\max_k \\| y^{(k)} \\|.$$"
   ]
  },
  {
   "cell_type": "markdown",
   "metadata": {},
   "source": [
    "## Well-conditioned and ill-conditioned problems and matrices\n",
    "\n",
    "Condition numbers, giving upper limit on the ratio of forward error to backward error,\n",
    "measure the amplification of errors, and have counterparts in other contexts.\n",
    "For example, with an approximation $r_a$ of a root $r$ of the equation $f(x) = 0$, the ratio of forward error to backward error is bounded by\n",
    "$\\displaystyle \\max 1/| f'(x) | = \\frac{1}{\\min | f'(x) |}$, where the maximum only need be taken over an interval known to contain both the root and the approximation.\n",
    "This condition number becomes \"infinite\" for a multiple root, $f'(r) = 0$, related to the problems we have seen in that case.\n",
    "\n",
    "Careful calculation of an approximate solution $x_a$ of $Ax = b$ can often get a *residual* that is at the level of machine rounding error, so that roughly the relative backward error is of size comparable to the machine unit, $u$.\n",
    "The condition number then guarantees that the (forward) relative error is no greater than about $u \\, \\kappa(A)$.\n",
    "\n",
    "In terms of significant bits, with $p$ bit machine arithmetic, one can hope to get $p - \\log_2(\\kappa(A))$ significant bits in the result, but can not rely on more, so one loses $\\log_2(\\kappa(A))$ significant bits.\n",
    "Compare this to the observation that one can expect to lose at least $p/2$ significant bits when using the approximation $Df(x) \\approx D_hf(x) - (f(x+h) = f(x))/h$.\n",
    "\n",
    "A **well-conditioned problem** is one that is not too highly sensitive to errors in rounding or input data; for an eqution $Ax = b$, this corresponds to the condition number of $A$ not being to large; the matrix $A$ is then sometimes also called well-conditioned.\n",
    "This is of course vague, but might typically mean that $p - \\log_2(\\kappa(A))$ is a sufficient number of significant bits for a particular purpose.\n",
    "\n",
    "A problem that is not deemed well-conditioned is called **ill-conditioned**, so that a matrix of uncomfortably large condition number is also sometimes called ill-conditioned.\n",
    "An ill-conditioned problem might still be well-posed, but just requiring careful and precise solution methods."
   ]
  },
  {
   "cell_type": "markdown",
   "metadata": {},
   "source": [
    "## An important example: the Hilbert matrices\n",
    "\n",
    "The $n \\times n$ Hilbert matrix $H_n$ has elements\n",
    "\n",
    "$$H_{i, j} = \\frac{1}{i+j-1}$$\n",
    "\n",
    "Or if we index from zero in Pythonic fashion, the entries are $1/(1+i+j)$\n",
    "\n",
    "For example\n",
    "\n",
    "$$H_4 = \\left[ \\begin{array}{cccc} 1 & 1/2 & 1/3 & 1/4 \\\\ 1/2 & 1/3 & 1/4 & 1/5 \\\\1/3 & 1/4 & 1/5 & 1/6 \\\\1/4 & 1/5 & 1/6 & 1/7 \\end{array} \\right]$$\n",
    "and for larger or smaller $n$, one simply adds or remove rows below and columns at right."
   ]
  },
  {
   "cell_type": "markdown",
   "metadata": {},
   "source": [
    "Thee matrices arise in important situations like finding the polynomial of degree $n-1$ that fits given data in the sense of minimizing the root-mean-square error — as we will discuss later in this course if there is time and interest.\n",
    "\n",
    "Unfortunately as $n$ increases the condition number grows rapidly, causing severe rounding error problems.\n",
    "To illustrate this, I will do something that one should usually avoid: compute the inverse of these matrices.\n",
    "This is also a case that shows th advatage of the LU factorization, since one compute thr inverse by succesively computing each column, by solving $n$ different systems of equations, each with the same matrix $A$ on the left-hand side."
   ]
  },
  {
   "cell_type": "code",
   "execution_count": 8,
   "metadata": {},
   "outputs": [],
   "source": [
    "import numpy as np\n",
    "from numpy import inf\n",
    "from numerical_methods_module import lu, forwardSubstitution, backwardSubstitution, rowReduce\n",
    "from numpy.linalg import norm, cond\n",
    "from numpy.random import random"
   ]
  },
  {
   "cell_type": "code",
   "execution_count": 9,
   "metadata": {},
   "outputs": [],
   "source": [
    "def inverse(A):\n",
    "    \"\"\"Use sparingly; there is usually a way to avoid computing inverses that is faster and with less rounding error!\"\"\"\n",
    "    n = len(A)\n",
    "    A_inverse = np.zeros_like(A)\n",
    "    (L, U) = lu(A)\n",
    "    for i in range(n):\n",
    "        b = np.zeros(n)\n",
    "        b[i] = 1.0\n",
    "        c = forwardSubstitution(L, b)\n",
    "        A_inverse[:,i] = backwardSubstitution(U, c)\n",
    "    return A_inverse"
   ]
  },
  {
   "cell_type": "code",
   "execution_count": 10,
   "metadata": {},
   "outputs": [],
   "source": [
    "def hilbert(n):\n",
    "    H = np.zeros([n,n])\n",
    "    for i in range(n):\n",
    "        for j in range(n):\n",
    "            H[i,j] = 1.0/(1.0 + i + j)\n",
    "    return H"
   ]
  },
  {
   "cell_type": "code",
   "execution_count": 11,
   "metadata": {},
   "outputs": [
    {
     "name": "stdout",
     "output_type": "stream",
     "text": [
      "H_2 is\n",
      "[[1.         0.5       ]\n",
      " [0.5        0.33333333]]\n",
      "and its inverse is\n",
      "[[ 4. -6.]\n",
      " [-6. 12.]]\n",
      "to verify, their product is\n",
      "[[1. 0.]\n",
      " [0. 1.]]\n",
      "\n",
      "H_3 is\n",
      "[[1.         0.5        0.33333333]\n",
      " [0.5        0.33333333 0.25      ]\n",
      " [0.33333333 0.25       0.2       ]]\n",
      "and its inverse is\n",
      "[[   9.  -36.   30.]\n",
      " [ -36.  192. -180.]\n",
      " [  30. -180.  180.]]\n",
      "to verify, their product is\n",
      "[[ 1.00000000e+00  9.62193288e-16  1.40628250e-15]\n",
      " [ 0.00000000e+00  1.00000000e+00  0.00000000e+00]\n",
      " [-2.22044605e-17 -1.99840144e-15  1.00000000e+00]]\n",
      "\n",
      "H_4 is\n",
      "[[1.         0.5        0.33333333 0.25      ]\n",
      " [0.5        0.33333333 0.25       0.2       ]\n",
      " [0.33333333 0.25       0.2        0.16666667]\n",
      " [0.25       0.2        0.16666667 0.14285714]]\n",
      "and its inverse is\n",
      "[[   16.  -120.   240.  -140.]\n",
      " [ -120.  1200. -2700.  1680.]\n",
      " [  240. -2700.  6480. -4200.]\n",
      " [ -140.  1680. -4200.  2800.]]\n",
      "to verify, their product is\n",
      "[[ 1.00000000e+00  0.00000000e+00  4.54747351e-13 -2.27373675e-13]\n",
      " [ 0.00000000e+00  1.00000000e+00  0.00000000e+00  0.00000000e+00]\n",
      " [-7.10542736e-15  0.00000000e+00  1.00000000e+00  0.00000000e+00]\n",
      " [ 0.00000000e+00 -5.68434189e-14  2.27373675e-13  1.00000000e+00]]\n",
      "\n"
     ]
    }
   ],
   "source": [
    "for n in range(2,5):\n",
    "    H_n = hilbert(n)\n",
    "    print(f\"H_{n} is\")\n",
    "    print(H_n)\n",
    "    H_n_inverse = inverse(H_n)\n",
    "    print(\"and its inverse is\")\n",
    "    print(H_n_inverse)\n",
    "    print(\"to verify, their product is\")\n",
    "    print(H_n @ H_n_inverse)\n",
    "    print()"
   ]
  },
  {
   "cell_type": "markdown",
   "metadata": {},
   "source": [
    "Note how the inverses have some surprisingly large elements; this is the matrix equivalent of a number being very close to zero and so with a very large reciprocal."
   ]
  },
  {
   "cell_type": "markdown",
   "metadata": {},
   "source": [
    "Since we have the inverses, we can compute the matrix norms of each $H_n$ and its inverse, and thence their condition numbers; then this can be compared to the approximations of these condition numbers given by `numpy.linalg.cond`"
   ]
  },
  {
   "cell_type": "code",
   "execution_count": 12,
   "metadata": {},
   "outputs": [
    {
     "name": "stdout",
     "output_type": "stream",
     "text": [
      "H_2 is\n",
      "[[1.         0.5       ]\n",
      " [0.5        0.33333333]]\n",
      "with infinity norm 1.5\n",
      "and its inverse is\n",
      "[[ 4. -6.]\n",
      " [-6. 12.]]\n",
      "with infinity norm 18.000000000000007\n",
      "Thus the condition number of H_2 is 27.00000000000001\n",
      "For comparison, numpy.linalg.cond gives 27.00000000000001\n",
      "\n",
      "H_3 is\n",
      "[[1.         0.5        0.33333333]\n",
      " [0.5        0.33333333 0.25      ]\n",
      " [0.33333333 0.25       0.2       ]]\n",
      "with infinity norm 1.8333333333333333\n",
      "and its inverse is\n",
      "[[   9.  -36.   30.]\n",
      " [ -36.  192. -180.]\n",
      " [  30. -180.  180.]]\n",
      "with infinity norm 408.00000000000165\n",
      "Thus the condition number of H_3 is 748.000000000003\n",
      "For comparison, numpy.linalg.cond gives 748.0000000000028\n",
      "\n",
      "H_4 is\n",
      "[[1.         0.5        0.33333333 0.25      ]\n",
      " [0.5        0.33333333 0.25       0.2       ]\n",
      " [0.33333333 0.25       0.2        0.16666667]\n",
      " [0.25       0.2        0.16666667 0.14285714]]\n",
      "with infinity norm 2.083333333333333\n",
      "and its inverse is\n",
      "[[   16.  -120.   240.  -140.]\n",
      " [ -120.  1200. -2700.  1680.]\n",
      " [  240. -2700.  6480. -4200.]\n",
      " [ -140.  1680. -4200.  2800.]]\n",
      "with infinity norm 13619.999999996671\n",
      "Thus the condition number of H_4 is 28374.999999993062\n",
      "For comparison, numpy.linalg.cond gives 28374.99999999729\n",
      "\n",
      "H_5 is\n",
      "[[1.         0.5        0.33333333 0.25       0.2       ]\n",
      " [0.5        0.33333333 0.25       0.2        0.16666667]\n",
      " [0.33333333 0.25       0.2        0.16666667 0.14285714]\n",
      " [0.25       0.2        0.16666667 0.14285714 0.125     ]\n",
      " [0.2        0.16666667 0.14285714 0.125      0.11111111]]\n",
      "with infinity norm 2.283333333333333\n",
      "and its inverse is\n",
      "[[ 2.500e+01 -3.000e+02  1.050e+03 -1.400e+03  6.300e+02]\n",
      " [-3.000e+02  4.800e+03 -1.890e+04  2.688e+04 -1.260e+04]\n",
      " [ 1.050e+03 -1.890e+04  7.938e+04 -1.176e+05  5.670e+04]\n",
      " [-1.400e+03  2.688e+04 -1.176e+05  1.792e+05 -8.820e+04]\n",
      " [ 6.300e+02 -1.260e+04  5.670e+04 -8.820e+04  4.410e+04]]\n",
      "with infinity norm 413279.99999865814\n",
      "Thus the condition number of H_5 is 943655.9999969361\n",
      "For comparison, numpy.linalg.cond gives 943655.9999992514\n",
      "\n"
     ]
    }
   ],
   "source": [
    "for n in range(2,6):\n",
    "    H_n = hilbert(n)\n",
    "    print(f\"H_{n} is\")\n",
    "    print(H_n)\n",
    "    print(f\"with infinity norm {norm(H_n, inf)}\") \n",
    "    H_n_inverse = inverse(H_n)\n",
    "    print(\"and its inverse is\")\n",
    "    print(H_n_inverse)\n",
    "    print(f\"with infinity norm {norm(H_n_inverse, inf)}\") \n",
    "    print(f\"Thus the condition number of H_{n} is {norm(H_n, inf) * norm(H_n_inverse, inf)}\")\n",
    "    print(f\"For comparison, numpy.linalg.cond gives {cond(H_n, inf)}\")\n",
    "    print()"
   ]
  },
  {
   "cell_type": "markdown",
   "metadata": {},
   "source": [
    "Next, experiment with solving equations, to compare residuala with actual errors.\n",
    "\n",
    "I will use the testing strategy of starting with a known solution $x$, from which the right-hand side $b$ is computed;\n",
    "then slight simulated error is introduced to $b$.\n",
    "Rngin the os repeatedlt with use differnt random \"errors\", to gin an ide of how the actual error"
   ]
  },
  {
   "cell_type": "code",
   "execution_count": 13,
   "metadata": {},
   "outputs": [
    {
     "name": "stdout",
     "output_type": "stream",
     "text": [
      "n=2\n",
      "x is [1. 2.]\n",
      "b is [2.         1.16666667]\n",
      "b has been slightly changed to [2.00000001 1.16666667]\n",
      "The residual maximum norm is 6.413956921136332e-09\n",
      "and the relative backward error ||r||/||b|| is 3.207e-09\n",
      "The absolute error is 6.335e-09\n",
      "The relative error is 3.167e-09\n",
      "For comparison, the relative error bound from the formula above is 8.659e-08\n",
      "\n",
      "Beware: the relative error is larger than the relative backward error by a factor 0.98764383\n",
      "\n",
      "n=3\n",
      "x is [1. 2. 3.]\n",
      "b is [3.         1.91666667 1.43333333]\n",
      "b has been slightly changed to [2.99999999 1.91666667 1.43333333]\n",
      "The residual maximum norm is 7.406832036593869e-09\n",
      "and the relative backward error ||r||/||b|| is 2.469e-09\n",
      "The absolute error is 1.287e-06\n",
      "The relative error is 4.289e-07\n",
      "For comparison, the relative error bound from the formula above is 1.847e-06\n",
      "\n",
      "Beware: the relative error is larger than the relative backward error by a factor 173.72107\n",
      "\n",
      "n=4\n",
      "x is [1. 2. 3. 4.]\n",
      "b is [4.         2.71666667 2.1        1.72142857]\n",
      "b has been slightly changed to [4.         2.71666668 2.10000001 1.72142857]\n",
      "The residual maximum norm is 9.815670942714405e-09\n",
      "and the relative backward error ||r||/||b|| is 2.454e-09\n",
      "The absolute error is 3.499e-05\n",
      "The relative error is 8.748e-06\n",
      "For comparison, the relative error bound from the formula above is 6.963e-05\n",
      "\n",
      "Beware: the relative error is larger than the relative backward error by a factor 3564.9129\n",
      "\n",
      "n=5\n",
      "x is [1. 2. 3. 4. 5.]\n",
      "b is [5.         3.55       2.81428571 2.34642857 2.01746032]\n",
      "b has been slightly changed to [5.         3.55       2.81428572 2.34642857 2.01746031]\n",
      "The residual maximum norm is 5.082728016247984e-09\n",
      "and the relative backward error ||r||/||b|| is 1.017e-09\n",
      "The absolute error is 0.000315\n",
      "The relative error is 6.3e-05\n",
      "For comparison, the relative error bound from the formula above is 0.0009593\n",
      "\n",
      "Beware: the relative error is larger than the relative backward error by a factor 61972.109\n",
      "\n"
     ]
    }
   ],
   "source": [
    "for n in range(2,6):\n",
    "    print(f\"{n=}\")\n",
    "    H_n = hilbert(n)\n",
    "    #x = np.zeros(n)\n",
    "    x = np.linspace(1.0, n, n)\n",
    "    print(f\"x is {x}\")\n",
    "    b = H_n @ x\n",
    "    print(f\"b is {b}\")\n",
    "    error_scale = 1e-8\n",
    "    b_imperfect = b + 2.0 * error_scale * (random(n) - 0.5) # add random \"errors\" between -error_scale and error_scale\n",
    "    print(f\"b has been slightly changed to {b_imperfect}\")\n",
    "    (U, c) = rowReduce(H_n, b_imperfect)\n",
    "    x_computed = backwardSubstitution(U, c)\n",
    "    residual = b - H_n @ x_computed\n",
    "    relative_backward_error = norm(residual, inf)/norm(b, inf)\n",
    "    print(f\"The residual maximum norm is {norm(residual, inf)}\")\n",
    "    print(f\"and the relative backward error ||r||/||b|| is {relative_backward_error:0.4}\")\n",
    "    absolute_error = norm(x - x_computed, inf)\n",
    "    relative_error = absolute_error/norm(x, inf)\n",
    "    print(f\"The absolute error is {absolute_error:0.4}\")\n",
    "    print(f\"The relative error is {relative_error:0.4}\")\n",
    "    error_bound = cond(H_n, inf) * relative_backward_error\n",
    "    print(f\"For comparison, the relative error bound from the formula above is {error_bound:0.4}\")\n",
    "    print(f\"\\nBeware: the relative error is larger than the relative backward error by a factor {relative_error/relative_backward_error:0.8}\")\n",
    "    print()"
   ]
  },
  {
   "cell_type": "markdown",
   "metadata": {},
   "source": [
    "We see in these experiments that:\n",
    "\n",
    "- As the condition number increases, the relative error becomes increasingly larger than the backward error computed from the residual.\n",
    "\n",
    "- It is less than the above bound\n",
    "$\\displaystyle \\text{Rel}(x_a) = \\frac{\\|x - x_a\\|}{\\| x \\|} \\leq \\kappa(A) \\frac{\\|r\\|}{\\|b\\|},$\n",
    "and typically quite a bit less."
   ]
  },
  {
   "cell_type": "markdown",
   "metadata": {},
   "source": [
    "---\n",
    "This work is licensed under [Creative Commons Attribution-ShareAlike 4.0 International](https://creativecommons.org/licenses/by-sa/4.0/)"
   ]
  }
 ],
 "metadata": {
  "kernelspec": {
   "display_name": "Python 3",
   "language": "python",
   "name": "python3"
  },
  "language_info": {
   "codemirror_mode": {
    "name": "ipython",
    "version": 3
   },
   "file_extension": ".py",
   "mimetype": "text/x-python",
   "name": "python",
   "nbconvert_exporter": "python",
   "pygments_lexer": "ipython3",
   "version": "3.8.5"
  }
 },
 "nbformat": 4,
 "nbformat_minor": 4
}
