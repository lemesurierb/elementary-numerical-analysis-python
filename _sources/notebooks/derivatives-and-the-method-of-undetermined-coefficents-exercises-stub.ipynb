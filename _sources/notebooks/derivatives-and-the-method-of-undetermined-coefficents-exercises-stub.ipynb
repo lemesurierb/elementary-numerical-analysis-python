{
 "cells": [
  {
   "cell_type": "markdown",
   "metadata": {},
   "source": [
    "# Exercises on Approximating Derivatives, the Method of Undetermined Coefficients and Richardson Extrapolation — STUB"
   ]
  },
  {
   "cell_type": "markdown",
   "metadata": {},
   "source": [
    "## Exercise 1"
   ]
  },
  {
   "cell_type": "markdown",
   "metadata": {},
   "source": [
    "### A) Derive the formula in Example 2.\n",
    "\n",
    "Do this by setting up the three equations as above for the coefficients $C_0$, $C_1$ and $C_2$, and solving them.\n",
    "Do this \"by hand\", to get exact fractions as the answers;\n",
    "us the two Taylor serei formulas, but now tak advanta of what we saw above, whi cis that the error stsrts at the terms in\n",
    "$D^3f(x)$, so use the forms\n",
    "\n",
    "$$f(x+h) = f(x) + Df(x) h + \\frac{D^2f(x)}{2} h^2 + \\frac{D^3f(x)}{6} h^3 + O(h^4)$$\n",
    "\n",
    "and\n",
    "\n",
    "$$f(x+2h) = f(x) + 2 Df(x) h + 2 D^2f(x) h^2 + \\frac{4 D^3f(x)}{3} h^3 + O(h^4)$$"
   ]
  },
  {
   "cell_type": "markdown",
   "metadata": {},
   "source": [
    "## B) Verify the result in Example 3.\n",
    "\n",
    "Again, do this by hand, and exploit the symmetry.\n",
    "Note that it works a bit better than expected, due to the symmetry."
   ]
  },
  {
   "cell_type": "markdown",
   "metadata": {},
   "source": [
    "## Exercise 2: like Exercise 1, but using Method 2"
   ]
  },
  {
   "cell_type": "markdown",
   "metadata": {},
   "source": [
    "### A) Verify the result in Example 2, this time by Method 2.\n",
    "\n",
    "That is, impose the condition of giving the exact value for the derivative at $x=0$ for the monomial $f(x) = 1$,\n",
    "then the same for $f(x) = x$, and so on until there are enough equations to determine a unique solution for the coefficients."
   ]
  },
  {
   "cell_type": "markdown",
   "metadata": {},
   "source": [
    "### B) Verify the result in Example 3, by Method 2."
   ]
  },
  {
   "cell_type": "markdown",
   "metadata": {},
   "source": [
    "---\n",
    "\n",
    "This work is licensed under [Creative Commons Attribution-ShareAlike 4.0 International](https://creativecommons.org/licenses/by-sa/4.0/)"
   ]
  }
 ],
 "metadata": {
  "kernelspec": {
   "display_name": "Python 3",
   "language": "python",
   "name": "python3"
  },
  "language_info": {
   "codemirror_mode": {
    "name": "ipython",
    "version": 3
   },
   "file_extension": ".py",
   "mimetype": "text/x-python",
   "name": "python",
   "nbconvert_exporter": "python",
   "pygments_lexer": "ipython3",
   "version": "3.8.5"
  }
 },
 "nbformat": 4,
 "nbformat_minor": 4
}
