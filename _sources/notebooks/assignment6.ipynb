{
 "cells": [
  {
   "cell_type": "markdown",
   "metadata": {},
   "source": [
    "# MATH 375 Assignment 6: Least Squares Fitting\n",
    "\n",
    "**Brenton LeMesurier, April 28 2021**\n",
    "\n",
    "**Due by Monday May 3**"
   ]
  },
  {
   "cell_type": "markdown",
   "metadata": {},
   "source": [
    "For the following data, find:\n",
    "    \n",
    "1. A linear least squares fit\n",
    "\n",
    "$$\n",
    "\\text{(Blood Pressure)} \\approx P_0  + P_1 \\text{(Weight)}.\n",
    "$$\n",
    "\n",
    "2. A power law fit\n",
    "\n",
    "$$\n",
    "\\text{(Blood Pressure)} \\approx P \\text{(Weight)}^a.\n",
    "$$\n",
    "\n",
    "Illustrate your results with graphs, and compare how the two methods perform."
   ]
  },
  {
   "cell_type": "markdown",
   "metadata": {},
   "source": [
    "|Species | Blood Pressure (mm Hg)  | Weight (g) |\n",
    "--- | --- | ---\n",
    "| Cow |  157 |  800000 |\n",
    "| Cat |  129 |  2000 |\n",
    "| Dog |  120 | 5000  |\n",
    "| Duck | 162  |  2000 |\n",
    "| Frog |  24 | 50  |\n",
    "| Giraffe | 300  | 900000  |\n",
    "| Goat | 98  | 30000  |\n",
    "| Guinea Pig | 60  | 100  |\n",
    "| Human | 120  | 90000  |\n",
    "| Monkey | 140  | 5000  |\n",
    "| Pig | 128  |  150000 |\n",
    "| Snake | 55  | 100  |\n",
    "| Turkey | 193  |  15000 |"
   ]
  },
  {
   "cell_type": "markdown",
   "metadata": {},
   "source": [
    "A small bonus for illustrating with graphs."
   ]
  },
  {
   "cell_type": "markdown",
   "metadata": {},
   "source": [
    "This can be done using Python or by hand (that is, with pencil, paper, hand and-caculator).\n",
    "Eiher way, describe the systems of linear equations that are to be solved to get the coefficients, $P_0$, $P_1$, $P$, and $a$."
   ]
  },
  {
   "cell_type": "markdown",
   "metadata": {},
   "source": [
    "---\n",
    "This work is licensed under [Creative Commons Attribution-ShareAlike 4.0 International](https://creativecommons.org/licenses/by-sa/4.0/)"
   ]
  }
 ],
 "metadata": {
  "kernelspec": {
   "display_name": "Python 3",
   "language": "python",
   "name": "python3"
  },
  "language_info": {
   "codemirror_mode": {
    "name": "ipython",
    "version": 3
   },
   "file_extension": ".py",
   "mimetype": "text/x-python",
   "name": "python",
   "nbconvert_exporter": "python",
   "pygments_lexer": "ipython3",
   "version": "3.8.5"
  }
 },
 "nbformat": 4,
 "nbformat_minor": 4
}
