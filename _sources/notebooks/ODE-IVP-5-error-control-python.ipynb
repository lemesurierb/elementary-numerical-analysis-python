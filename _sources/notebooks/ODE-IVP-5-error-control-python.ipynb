{
 "cells": [
  {
   "cell_type": "markdown",
   "metadata": {},
   "source": [
    "# Initial Value Problems for Ordinary Differential Equations, Part 5: Error Control and Variable Step Sizes\n",
    "\n",
    "**Version of April 5, 2021 after class**, adding the fourth order accurate Runge-Kutta Fehlberg method and an example with an ODE IVP solver from package SciPy."
   ]
  },
  {
   "cell_type": "markdown",
   "metadata": {},
   "source": [
    "**References:**\n",
    "\n",
    "- Section 6.5 *Variable Step Size Methods* of [Sauer](../references.html#Sauer)\n",
    "\n",
    "- Section 5.5 *Error Control and the Runge-Kutta-Fehlberg Method* of [Burden&Faires](../references.html#Burden-Faires)\n",
    "\n",
    "- Section  7.3 of [Chenney&Kincaid](../references.html#Chenney-Kincaid)"
   ]
  },
  {
   "cell_type": "markdown",
   "metadata": {},
   "source": [
    "## The Basic ODE Initial Value Problem\n",
    "\n",
    "We consider again the initial value problem\n",
    "\n",
    "$$\n",
    "\\frac{d u}{d t} = f(t, u) \\quad a \\leq t \\leq b, \\quad u(a) = u_0\n",
    "$$\n",
    "\n",
    "We now allow the possibility that $u$ and $f$ are vector-valued as in the section on\n",
    "[Systems of ODEs and Higher Order ODEs](ODE-IVP-4-system-higher-order-equations.ipynb),\n",
    "but omitting the tilde notation $\\tilde u$, $\\tilde f$."
   ]
  },
  {
   "cell_type": "markdown",
   "metadata": {},
   "source": [
    "## Error Control by Varying the Time Step Size $h_i$\n",
    "\n",
    "Recall the variable step-size version of Euler's method:\n",
    "\n",
    "Input: $f$, $a$, $b$, $n$ <br>\n",
    "\n",
    "$t_0 = a$ <br>\n",
    "$U_0 = u_0$ <br>\n",
    "$h = (b-a)/n$ <br>\n",
    "\n",
    "for i in $[0, n)$:\n",
    "<br>\n",
    "\n",
    "$\\qquad$ Choose step size $h_i$ somehow!\n",
    "<br>\n",
    "\n",
    "$\\qquad$ $t_{i+1} = t_i + h_i$\n",
    "<br>\n",
    "\n",
    "$\\qquad$ $U_{i+1} = U_i + h_i f(t_i, U_i)$\n",
    "<br>\n",
    "\n",
    "end for\n",
    "\n",
    "We now consider how to choose each step size, by estimating the error in each step, and aiming to have error per unit time below some limit like $\\epsilon/(b-a)$, so that the global error is no more than about $\\epsilon$.\n",
    "\n",
    "As usual, the theoretical error bounds like $O(h_i^2)$ for a single step of Euler's method are not enough for quantitative tasks like choosing $h_i$, but they do motivate more practical estimates."
   ]
  },
  {
   "cell_type": "markdown",
   "metadata": {},
   "source": [
    "## A crude error estimate for Euler's Method: Richardson Extrapolation\n",
    "\n",
    "Starting at a point (t, u(t)), we can estimate the error in Euler's method approximato at a slightly later time $t_i + h$ by using two approximations of $U(t + h)$:\n",
    "- The value given by a step of Euler's method with step size $h$: call this $U^{h}$\n",
    "- The value given by taking two steps of Euler's method each with step size $h/2$: call this $U_2^{h/2}$,\n",
    "because it involves 2 steps of size $h/2$.\n",
    "\n",
    "The first order accuracy of Euler's method gives $e_h = u(t+h) - U^{h} \\approx 2(u(t+h) - U_2^{h/2})$,\n",
    "so that\n",
    "\n",
    "$$e_h \\approx \\frac{U_2^{h/2} - U^{h}}{2}$$"
   ]
  },
  {
   "cell_type": "markdown",
   "metadata": {},
   "source": [
    "### Step size choice\n",
    "\n",
    "What do we do with this error information?\n",
    "\n",
    "The first obvious ideas are:\n",
    "- Accept this step if $e_h$ is small enough, taking $h_i = h$, $t_{i+1} = t_i + h_i$, and $U_{i+1} = U^h$, but\n",
    "- reject it and try again with a smaller $h$ value otherwise; maybe halving $h$; but there are more sophisticated options too."
   ]
  },
  {
   "cell_type": "markdown",
   "metadata": {},
   "source": [
    "### Exercise 1\n",
    "\n",
    "Write a formula for $U_h$ and $e_h$ if one starts from the point $(t_i, U_i)$, so that $(t_i + h, U^h)$ is the proposed value for the next point $(t_{i+1}, U_{i+1})$ in the approximate solution — but only if $e_h$ is small enough!"
   ]
  },
  {
   "cell_type": "markdown",
   "metadata": {},
   "source": [
    "### Error tolerance \n",
    "\n",
    "One simple criterion for accuracy is that the estimated error in this step be no more than some overall upper limit on the error in each time step, $T$.\n",
    "That is, accept the step size $h$ if\n",
    "\n",
    "$$|e_h| \\leq T$$"
   ]
  },
  {
   "cell_type": "markdown",
   "metadata": {},
   "source": [
    "### A crude approach to reducing the step size when needed\n",
    "\n",
    "If this error tolerance is not met, we must choose a new step size $h'$, and we can predict roughly its error behavior using the known order natue of the error in Euler's method: scaling dowen to $h' = s h$, the error in a single step scales with $h^2$ (in general it scales with $h^{p+1}$ for a method of order $p$), and so to reduce the error by the needed factor $\\displaystyle \\frac{e_h}{T}$ one needs approximately\n",
    "\n",
    "$$\n",
    "s^2 = \\frac{T}{|e_h|}\n",
    "$$\n",
    "\n",
    "and so using $e_h \\approx \\tilde{e}_h = |U^{h/2} - U^{h}|$ suggests using\n",
    "\n",
    "$$s = \\left( \\frac{T}{|U^{h/2} - U^{h}|} \\right)^{1/2}$$\n",
    "\n",
    "However this new step size might have error that is still slightly too large, leading to a second failure.\n",
    "Another is that one might get into an infinite loop of step size reduction.\n",
    "\n",
    "So refinements of this choice must be considered."
   ]
  },
  {
   "cell_type": "markdown",
   "metadata": {},
   "source": [
    "### Increasing the step size when desirable\n",
    "\n",
    "If we simply follow the above aproach, the step size, once reduced, will never be increased.\n",
    "This could lead to great inefficiency, through using an unecessarily small step size just because at an earlier part of the time domain, accuracy required very small steps.\n",
    "\n",
    "Thus, after a successful time step, one might consider increasing $h$ for the next step.\n",
    "This could be done using exactly the above formula, but again there are risks, so again refinement of this choice must be considered.\n",
    "\n",
    "One problem is that if the step size gets too large, the error estimate can become unreliable; another is that one might need some minimum \"temporal resolution\", for nice graphs and such.\n",
    "\n",
    "Both suggest imposing an upper limit on the step size $h$."
   ]
  },
  {
   "cell_type": "markdown",
   "metadata": {},
   "source": [
    "## Another strategy for getting error estimates: two (related) Runge-Kutta methods\n",
    "\n",
    "The recurring strategy of estimating errors by the difference of two different approximations — one expected to be far better than the other — can be used in a nice way here.\n",
    "I will first illustrate with the simplset version, using Euler's Mathod and the Explicit Trapezoid Method.\n",
    "\n",
    "Recall that the increment in Euler's Method from time $t$ to time $t+h$ is\n",
    "\n",
    "$$K_1 = h f(t, U)$$\n",
    "\n",
    "whereas for the Explict Trapezoid Method it is $(K_1 + K_2)/2$, as given by\n",
    "\n",
    "$$\\begin{split}\n",
    "K_1 &= h f(t, U)\n",
    "\\\\\n",
    "K_2 &= h f(t+h, U + K_1)\n",
    "\\end{split}$$\n",
    "\n",
    "Thus we can use the difference, $|K_1 - (K_1 + K_2)/2| = |(K_1 - K_2)/2|$ as an error estimate.\n",
    "In fact to be cautious, one often drops the factor of $1/2$, so using approximation $\\tilde{e}_h = |K_1 - K_2|$.\n",
    "\n",
    "One has to be careful: this estimates the error in Euler's Method, so one has to use it that way: using the less accurate value $K_1$ as the update.\n",
    "\n",
    "A basic algorithm for the time step starting with $t_i, U_i$ is"
   ]
  },
  {
   "cell_type": "markdown",
   "metadata": {},
   "source": [
    "$K_1 \\leftarrow h f(t_i, U_i)$\n",
    "\n",
    "$K_2 \\leftarrow f(t_{i+1}, U_i + K_1)$\n",
    "\n",
    "$e_h \\leftarrow |K_1 - K_2|$\n",
    "\n",
    "$s \\leftarrow \\sqrt{T/e_h}$\n",
    "\n",
    "if $s>1$: $\\qquad$ (I.e.  $e_h/h < T$ and so good enough)\n",
    "\n",
    "$\\quad U_{i+1} = U_i + K_1$\n",
    "\n",
    "$\\quad t_{i+1} = t_i + h$\n",
    "\n",
    "$\\quad$ Increase $h$ for the *next* time step:\n",
    "\n",
    "$\\quad h \\leftarrow s h$\n",
    "\n",
    "else: $\\qquad$ ($s \\leq 1$, so not good enough: reduce $h$ and try again)\n",
    "\n",
    "$\\quad h \\leftarrow s h$\n",
    "\n",
    "$\\quad$ Start again from $K_1 = \\dots$\n",
    "\n",
    "end if"
   ]
  },
  {
   "cell_type": "markdown",
   "metadata": {},
   "source": [
    "However, in practice one needs:\n",
    "\n",
    "- An upper limit $h_{max}$ on the step size $h$, partly because error estimates become unreliable if $h$ gets too large,\n",
    "and also becuase subsequent use of the results (like graphs) might need sufficiently \"fine\" data.\n",
    "\n",
    "- A lower limit $h_{max}$ on $h$, to avoid infinite loops and such.\n",
    "\n",
    "Incorporating these refinements:"
   ]
  },
  {
   "cell_type": "markdown",
   "metadata": {},
   "source": [
    "$K_1 = h f(t_i, U_i)$\n",
    "\n",
    "$K_2 = f(t_{i+1}, U_i + K_1)$\n",
    "\n",
    "$e_{h} = |K_1 - K_2|$\n",
    "\n",
    "$s = \\sqrt{T/e_h}$\n",
    "\n",
    "if $s>1$: $\\qquad$ (I.e.  $e_h/h < \\epsilon$ and so good enough)\n",
    "\n",
    "$\\quad U_{i+1} = U_i + K_1$\n",
    "\n",
    "$\\quad t_{i+1} = t_i + h$\n",
    "\n",
    "$\\quad$ Increase $h$ for the *next* time step:\n",
    "\n",
    "$\\quad h \\leftarrow \\min(s h, h_{max})$\n",
    "\n",
    "else: $\\qquad$ ($s \\leq 1$, so not good enough; reduce $h$ and try again)\n",
    "\n",
    "$\\quad h \\leftarrow \\max(s h, h_{min})$\n",
    "\n",
    "$\\quad$ Start again from $K_1 = \\dots$\n",
    "\n",
    "end if"
   ]
  },
  {
   "cell_type": "markdown",
   "metadata": {},
   "source": [
    "### Exercise 2\n",
    "\n",
    "Implement the above, and test on the two familiar examples\n",
    "\n",
    "$$\n",
    "\\begin{split}\n",
    "du/dt &= Ku\n",
    "\\\\\n",
    "&\\text{and}\n",
    "\\\\\n",
    "du/dt &= K(\\cos(t) - u) - \\sin(t)\n",
    "\\end{split}\n",
    "$$\n",
    "\n",
    "($K=1$ is enough.)"
   ]
  },
  {
   "cell_type": "markdown",
   "metadata": {},
   "source": [
    "<a name=\"ETMEC\"></a>\n",
    "## The explicit trapezoid method with error control\n",
    "\n",
    "In practice, one usually needs at least second order accuracy, and one approach to that is using computing a \"candidates\" for teh next time step with a second order accurate Runge-Kutta method and also a third order accurate one, the latter used only to get an error estimate for the former.\n",
    "\n",
    "Perhaps the simplest of these is based on adding error estimation to the Explicit Trapezoid Rule;\n",
    "omitting the step sze adjustment for now, the main ingredients are:"
   ]
  },
  {
   "cell_type": "markdown",
   "metadata": {},
   "source": [
    "$K_1 = h f(t, U)$\n",
    "\n",
    "$K_2 = f(t + h, U + K_1)$\n",
    "\n",
    "(So far, as for the explicit trapezoid method)\n",
    "\n",
    "$K_3 = f(t + h/2, U + (K_1 + K_2)/2)$\n",
    "\n",
    "(a midpoint approximation, using the above)\n",
    "\n",
    "$\\delta_2 = (K_1 + K_2)/2$\n",
    "\n",
    "(The order 2 increment as for the explicit trapezoid method)\n",
    "\n",
    "$\\delta_3 = (K_1 + 4 K_3 + K_2)/6$\n",
    "\n",
    "(An order 3 increment — note the resemblance to Simpson's Rule for integration.\n",
    "This is only used to get:)\n",
    "\n",
    "$e_h = |\\delta_2 - \\delta_3 |, \\, = |K_1 -2 K_3 + K_2|/3$"
   ]
  },
  {
   "cell_type": "markdown",
   "metadata": {},
   "source": [
    "Again, if this step is accepted, one uses the explicit trapezoid rule step: $U_{i+1} = U_i + \\delta_2$."
   ]
  },
  {
   "cell_type": "markdown",
   "metadata": {},
   "source": [
    "### Step size adjustment\n",
    "\n",
    "The scale factor $s$ for step size adjustment must be modified for a method order $p$ (with $p=2$ now):\n",
    "- Changing step size by a factor $s$ will change the error $e_h$ in a single time step by a factor of about $s^{p+1}$.\n",
    "\n",
    "- Thus, we want a new step with this rescaled error of about $s^{p+1} e_h$ roughly matching the tolerance $T$.\n",
    "Equating would give $s^{p+1} e_h = T$, so $s = (T/e_h))^{1/(p+1)}$,\n",
    "but since we are using only an approximation $\\tilde{e}_h$ of $e_h$, and out of general caution,\n",
    "it is typical to include a \"safety factor\" of about $0.8$ or $0.9$, so something like\n",
    "\n",
    "$$s = 0.9 \\left( \\frac{T}{|\\tilde{e}_h|} \\right)^{1/(p+1)}$$\n",
    "\n",
    "Thus for this second order accurate method, we then get\n",
    "\n",
    "$$s = 0.9 \\left( \\frac{3 T}{|K_1 -2 K_3 + K_2|} \\right)^{1/3}$$"
   ]
  },
  {
   "cell_type": "markdown",
   "metadata": {},
   "source": [
    "**A variant: relative error control**\n",
    "\n",
    "One final refinement: it is more common in software to impose a *relative error* bound: aiming for $|e_h/u(t)| \\leq T$,\n",
    "or $|e_h| \\leq T|u(t)|$.\n",
    "Approximating $u(t)$ by $U_i$, this changes the step size rescaling guideline to\n",
    "\n",
    "$$s = 0.8 \\left| \\frac{T U_i}{\\tilde{e}_h} \\right|^{1/(p+1)}$$"
   ]
  },
  {
   "cell_type": "markdown",
   "metadata": {},
   "source": [
    "## Fourth order accurate methods with error control: Runge-Kutta-Felberg and some newer refinements\n",
    "\n",
    "The details involve some messy coefficients; see the references above for those.\n",
    "\n",
    "The basic idea is to devise a fifth order accurate Runge-Kutta method such that we can also get a fourth order accurate method from the same colection of *stages* $K_i$ values.\n",
    "One catch is that any such fifth order method requires six stages (not five as you might have guessed).\n",
    "\n",
    "The first such method, still widely used, is the\n",
    "[Runge-Kutta-Felberg Mathod](https://en.wikipedia.org/wiki/Runge%E2%80%93Kutta%E2%80%93Fehlberg_method)\n",
    "published by Erwin Fehlberg in 1970:"
   ]
  },
  {
   "cell_type": "markdown",
   "metadata": {},
   "source": [
    "$K_1 = h f(t, U)$\n",
    "\n",
    "$K_2 = f(t + \\frac{1}{4}h, U + K_1/4)$\n",
    "\n",
    "$K_3 = f(t + \\frac{3}{8} h, U + \\frac{3}{32} K_1 + \\frac{9}{32} K_2)$\n",
    "\n",
    "$K_4 = f(t + \\frac{12}{13} h, U + \\frac{1932}{2197} K_1 - \\frac{7200}{2197} K_2 + \\frac{7296}{2197} K_3)$\n",
    "\n",
    "$K_5 = f(t + h, U + \\frac{439}{216} K_1 - 8  K_2 + \\frac{3680}{2565} K_3  - \\frac{845}{4104} K_4)$\n",
    "\n",
    "$K_6 = f(t + \\frac{1}{2}h, U - \\frac{8}{27} K_1 + 2 K_2 - \\frac{3544}{513} K_3 + \\frac{1859}{4104} K_4 - \\frac{11}{40} K_5)$\n",
    "\n",
    "$\\delta_4 = \\frac{25}{216} K_1 + \\frac{1408}{2565} K_3 + \\frac{2197}{4104} K_4 - \\frac{1}{5} K_5$\n",
    "\n",
    "(The order 4 increment that will actually be used)\n",
    "\n",
    "$\\delta_5 = \\frac{16}{135} K_1 + \\frac{6656}{12825} K_3 + \\frac{28561}{56430} K_4 - \\frac{9}{50} K_5  + \\frac{2}{55} K_6$\n",
    "\n",
    "(The order 5 increment, used only to get the following error estimate)\n",
    "\n",
    "$\\tilde{e}_h = \\frac{1}{360} K_1 - \\frac{128}{4275} K_3 + \\frac{2197}{75240} K_4 + \\frac{1}{50} K_5  + \\frac{2}{55} K_6$"
   ]
  },
  {
   "cell_type": "markdown",
   "metadata": {},
   "source": [
    "This method is typically used with the relative error control mentioned above, and since the order is $p=4$,\n",
    "the recommended step-size rescaling factor is\n",
    "\n",
    "$$\n",
    "s = 0.9 \\left| \\frac{T U_i}{\\tilde{e}_h} \\right|^{1/5},\n",
    "= 0.9 \\left| \\frac{T U_i}{\\frac{1}{360} K_1 - \\frac{128}{4275} K_3 + \\frac{2197}{75240} K_4 + \\frac{1}{50} K_5  + \\frac{2}{55} K_6} \\right|^{1/5},\n",
    "$$\n"
   ]
  },
  {
   "cell_type": "markdown",
   "metadata": {},
   "source": [
    "**Footnote:** \n",
    "Newer software often uses a variant called the [Dormand–Prince method](https://en.wikipedia.org/wiki/Dormand%E2%80%93Prince_method) published in 1980; for example this is the default method in the module `scipy.integrate` within Python package SciPy.\n",
    "This is similar in form to \"R-K-F\", but has somewhat smaller errors.\n",
    "\n",
    "The basic usage is\n",
    "\n",
    "    [t, y] = scipy.integrate.solve_ivp(f, [a, b], y_0)\n",
    "    \n",
    "which is synonymous with\n",
    "\n",
    "    [t, y] = scipy.integrate.solve_ivp(f, [a, b], y_0, method=\"RK45\")\n",
    "    \n",
    "where \"RK45\" refer to the Dormand–Prince method.\n",
    "Other options include `method=\"RK23\"`, which is second order accurate, and very similar to the above\n",
    "[explicit trapezoid method with error control](#ETMEC).\n",
    "\n",
    "Notes:\n",
    "- SciPy's notation is $dy/dt= f(t, y)$, so the result is called `y`, not `u`\n",
    "- The initial data `y_0` must be in a list or numpy array, even if it is a single number.\n",
    "- The output `y` is a 2D array, even if it is a single equation rather than a system.\n",
    "- This might output very few values; for more output times (for better graphs?), try something like\n",
    "\n",
    "`t_plot = np.linspace(a, b)`\n",
    "\n",
    "`[t, y] = solve_ivp(f, [a, b], y_0, t_eval=t_plot)`"
   ]
  },
  {
   "cell_type": "markdown",
   "metadata": {},
   "source": [
    "### Example"
   ]
  },
  {
   "cell_type": "code",
   "execution_count": 1,
   "metadata": {},
   "outputs": [],
   "source": [
    "import numpy as np\n",
    "from scipy.integrate import solve_ivp\n",
    "import matplotlib.pyplot as plt"
   ]
  },
  {
   "cell_type": "code",
   "execution_count": 2,
   "metadata": {},
   "outputs": [],
   "source": [
    "def f(t, u):\n",
    "    return u"
   ]
  },
  {
   "cell_type": "code",
   "execution_count": 3,
   "metadata": {},
   "outputs": [],
   "source": [
    "a = 0.0\n",
    "b = 2.0\n",
    "y_0 = [1.0]"
   ]
  },
  {
   "cell_type": "code",
   "execution_count": 4,
   "metadata": {},
   "outputs": [
    {
     "data": {
      "image/png": "[encoded data removed]",
      "text/plain": [
       "<Figure size 432x288 with 1 Axes>"
      ]
     },
     "metadata": {
      "needs_background": "light"
     },
     "output_type": "display_data"
    },
    {
     "data": {
      "image/png": "[encoded data removed]",
      "text/plain": [
       "<Figure size 432x288 with 1 Axes>"
      ]
     },
     "metadata": {
      "needs_background": "light"
     },
     "output_type": "display_data"
    }
   ],
   "source": [
    "t_plot = np.linspace(a, b)\n",
    "ode_solution = solve_ivp(f, [a, b], y_0, t_eval=t_plot)\n",
    "t = ode_solution.t\n",
    "y = ode_solution.y[0]\n",
    "plt.figure()\n",
    "plt.title(\"Computed Solution\")\n",
    "plt.plot(t, y)\n",
    "y_exact = np.exp(t)\n",
    "errors = y - y_exact\n",
    "plt.figure()\n",
    "plt.title(\"Errors\")\n",
    "plt.plot(t, errors)\n",
    "plt.show()"
   ]
  },
  {
   "cell_type": "markdown",
   "metadata": {},
   "source": [
    "To read more about this SciPy function, run the following cell (in the notebook version of this page);"
   ]
  },
  {
   "cell_type": "code",
   "execution_count": null,
   "metadata": {},
   "outputs": [],
   "source": [
    "from scipy.integrate import solve_ivp\n",
    "help(solve_ivp)"
   ]
  }
 ],
 "metadata": {
  "kernelspec": {
   "display_name": "Python 3",
   "language": "python",
   "name": "python3"
  },
  "language_info": {
   "codemirror_mode": {
    "name": "ipython",
    "version": 3
   },
   "file_extension": ".py",
   "mimetype": "text/x-python",
   "name": "python",
   "nbconvert_exporter": "python",
   "pygments_lexer": "ipython3",
   "version": "3.8.5"
  }
 },
 "nbformat": 4,
 "nbformat_minor": 4
}
