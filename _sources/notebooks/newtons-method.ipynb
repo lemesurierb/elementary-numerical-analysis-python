{
 "cells": [
  {
   "cell_type": "markdown",
   "metadata": {},
   "source": [
    "# Newton's Method for Solving Equations\n",
    "\n",
    "**ReferenceS:**\n",
    "- Section 1.4 of [Sauer](../references.html#Sauer)\n",
    "- Section 2.3 of [Burden&Faires](../references.html#Burden-Faires)"
   ]
  },
  {
   "cell_type": "markdown",
   "metadata": {},
   "source": [
    "## Introduction\n",
    "\n",
    "Newton's method for solving equations has a number of advantages over the bisection method:\n",
    "- It is usually faster (but not always, and it can even fail completely!)\n",
    "- It can also compute complex roots, such as the non-real roots of polynomial equations.\n",
    "- It can even be adapted to solving systems of non-linear equations; that topic wil be visited later."
   ]
  },
  {
   "cell_type": "code",
   "execution_count": 29,
   "metadata": {},
   "outputs": [],
   "source": [
    "# We will often need resources from the modules numpy and pyplot:\n",
    "import numpy as np\n",
    "from matplotlib import pyplot as plt\n",
    "\n",
    "# We can also import items from a module individually, so they can be used by \"first name only\";\n",
    "from numpy import cos, sin\n",
    "\n",
    "# Since we do a lot of graphics in this section, some more short-hands:\n",
    "from matplotlib.pyplot import figure, plot, title, legend, grid\n",
    "from numpy import linspace\n",
    "\n",
    "# Also, some from the module for this book:\n",
    "from numerical_methods_module import newton"
   ]
  },
  {
   "cell_type": "markdown",
   "metadata": {},
   "source": [
    "## Derivation as a contraction mapping with \"very small contraction coefficient $C$\"\n",
    "\n",
    "You might have previously seen Newton's method derived using tangent line approximations.\n",
    "That derivation is presented below,\n",
    "but first we approach it another way: as a particularly nice contraction mapping.\n",
    "\n",
    "To compute a root $r$ of a differentiable function $f$, we design a contraction mapping for which the contraction constant $C$ becomes arbitrarily small when we restrict to iterations in a sufficiently small interval around the root: $|x - r| \\leq R$.\n",
    "\n",
    "That is, the error ratio $|E_{k+1}|/|E_k|$ becomes ever smaller as the iterations get closer to the exact solution;\n",
    "the error is thus reducing ever faster than the above geometric rate $C^k$.\n",
    "\n",
    "This effect is in turn achieved by getting $|g'(x)|$ arbitrarily small for $|x - r| \\leq R$ with $R$ small enough,\n",
    "and then using the above connection between $g'(x)$ and $C$.\n",
    "This can be achieved by ensuring that $g'(r) = 0$ at a root $r$ of $f$ — so long as thr root $r$ is *simple*:\n",
    "$f'(r) \\neq 0$ (which is generically true, but not always).\n",
    "\n",
    "To do so, seek $g$ in the above form $g(x) = x - w(x)f(x)$, and choose $w(x)$ appropriately.\n",
    "At the root $r$,\n",
    "\n",
    "$$g'(r) = 1 - w'(r)f(r) - w(r)f'(r) = 1 - w(r)f'(r) \\quad\\text{(using } f(r) = 0,)$$\n",
    "\n",
    "so we ensure $g'(r) = 0$ by requiring $w(r) = 1/f'(r)$ (hence the problem if $f'(r) = 0$).\n",
    "\n",
    "We do not know $r$, but that does not matter!\n",
    "We can just choose $w(x) = 1/f'(x)$ for all $x$ values.\n",
    "That gives\n",
    "\n",
    "$$g(x) = x - {f(x)}/{f'(x)}$$\n",
    "\n",
    "and thus the iteration formula\n",
    "\n",
    "$$x_{k+1} = x_k - {f(x_k)}/{f'(x_k)}$$\n",
    "\n",
    "(That is, $g(x) = x - {f(x)}/{f'(x)}$.)\n",
    "\n",
    "You might recognize this as the formula for Newton's method."
   ]
  },
  {
   "cell_type": "markdown",
   "metadata": {},
   "source": [
    "To explore some examples of this, here is a Python function implementing Newton's method."
   ]
  },
  {
   "cell_type": "code",
   "execution_count": 27,
   "metadata": {},
   "outputs": [],
   "source": [
    "def newton(f, Df, x0, errorTolerance, maxIterations=20, demoMode=False):\n",
    "    \"\"\"Basic usage is:\n",
    "    (rootApproximation, errorEstimate, iterations) = newton(f, Df, x0, errorTolerance)\n",
    "    There is an optional input parameter \"demoMode\" which controls whether to\n",
    "    - print intermediate results (for \"study\" purposes), or to\n",
    "    - work silently (for \"production\" use).\n",
    "    The default is silence.\n",
    "    \"\"\"\n",
    "    if demoMode: print(\"Solving by Newton's Method.\")\n",
    "    x = x0\n",
    "    for k in range(maxIterations):\n",
    "        fx = f(x)\n",
    "        Dfx = Df(x)\n",
    "        # Note: a careful, robust code would check for the possibility of division by zero here,\n",
    "        # but for now I just want a simple presentation of the basic mathematical idea.\n",
    "        dx = fx/Dfx\n",
    "        x -= dx  # Aside: this is shorthand for \"x = x - dx\"\n",
    "        errorEstimate = abs(dx)\n",
    "        if demoMode:\n",
    "            print(f\"At iteration {k+1} x = {x} with estimated error {errorEstimate:0.3}, backward error {abs(f(x)):0.3}\")\n",
    "        if errorEstimate <= errorTolerance:\n",
    "            iterations = k\n",
    "            return (x, errorEstimate, iterations)\n",
    "    # If we get here, it did not achieve the accuracy target:\n",
    "    iterations = k\n",
    "    return (x, errorEstimate, iterations)"
   ]
  },
  {
   "cell_type": "markdown",
   "metadata": {},
   "source": [
    "**Note:** From now on, all functions like this that implement numerical methods are also collected in the module file `numerical_methods_module.py`\n",
    "\n",
    "Thus, you could omit the above `def` and instead import `newton` with\n",
    "\n",
    "    from numerical_methods_module import newton"
   ]
  },
  {
   "cell_type": "markdown",
   "metadata": {},
   "source": [
    "### Example 1. Solving $x = \\cos x$\n",
    "\n",
    "**Aside:** Since function names in Python (and most programming languages) must be alpha-numeric\n",
    "(with the underscore `_` as a \"special guest letter\"),\n",
    "I will avoid primes in notation for derivatives as much as possible:\n",
    "from now on, the derivative of $f$ is most often denoted as $Df$ rather than $f'$."
   ]
  },
  {
   "cell_type": "code",
   "execution_count": 4,
   "metadata": {},
   "outputs": [],
   "source": [
    "def f_1(x): return x - cos(x)\n",
    "def Df_1(x): return 1. + sin(x)"
   ]
  },
  {
   "cell_type": "code",
   "execution_count": 5,
   "metadata": {},
   "outputs": [
    {
     "name": "stdout",
     "output_type": "stream",
     "text": [
      "At iteration 1 x = 1.0 with estimated error 1.0, backward error 0.4597\n",
      "At iteration 2 x = 0.7503638678402439 with estimated error 0.24963613215975608, backward error 0.01892\n",
      "At iteration 3 x = 0.7391128909113617 with estimated error 0.011250976928882236, backward error 4.646e-05\n",
      "At iteration 4 x = 0.7390851333852839 with estimated error 2.7757526077753238e-05, backward error 2.847e-10\n",
      "At iteration 5 x = 0.7390851332151606 with estimated error 1.7012334067709158e-10, backward error 1.11e-16\n",
      "\n",
      "The root is approximately 0.7390851332151606\n",
      "The estimated absolute error is 1.701e-10\n",
      "The backward error is 1.11e-16\n",
      "This required 5 iterations\n"
     ]
    }
   ],
   "source": [
    "(root, errorEstimate, iterations) = newton(f_1, Df_1, x0=0., errorTolerance=1e-8, demoMode=True)\n",
    "print()\n",
    "print(f\"The root is approximately {root}\")\n",
    "print(f\"The estimated absolute error is {errorEstimate:0.3}\")\n",
    "print(f\"The backward error is {abs(f_1(root)):0.3}\")\n",
    "print(f\"This required {iterations} iterations\")"
   ]
  },
  {
   "cell_type": "markdown",
   "metadata": {},
   "source": [
    "Here we have introduced another way of talking about errors and accuracy, which is further discussed in the section on\n",
    "[Measures of Error and Convergence Rates](error-measures-convergence-rates.ipynb)\n",
    "\n",
    "**Definitions: (Absolute) Backward Error.**\n",
    "- The backward error in $\\tilde x$ as an approximation to a root of a function $f$ is $f(\\tilde x)$.\n",
    "- The absolute backward error is its absolut value, $f(\\tilde x)$.\n",
    "However sometimes the latter is simply called the backward error — as the above Python code does.\n",
    "\n",
    "This has the advantage that we can actually compute it without knowing the exact solution!\n",
    "\n",
    "The backward error also has a useful geometrical meaning:\n",
    "if the function $f$ were changed by this much to a nearbly function $\\tilde f$\n",
    "then $\\tilde x$ could be an exact root of $\\tilde f$.\n",
    "Hence, if we only know the values of $f$ to within this backward error\n",
    "(for example due to rounding error in evaluating the function)\n",
    "then $\\tilde x$ could well be an exact root,\n",
    "so there is no point in striving for greater accuracy in the approximate root.\n",
    "\n",
    "We will see this in the next example."
   ]
  },
  {
   "cell_type": "markdown",
   "metadata": {},
   "source": [
    "### Graphing Newton's method iterations as a fixed point iteration\n",
    "\n",
    "Since this is a fixed point iteration with $g(x) = x - (x - \\cos(x)/(1 + \\sin(x))$,\n",
    "let us compare its graph to the ones seen in the section on\n",
    "[Solving Equations by Fixed Point Iteration](fixed-point-iteration.ipynb)\n",
    "\n",
    "Now $g$ is neither increasing nor decreasing at the fixed point,\n",
    "so the graph has an unusual form."
   ]
  },
  {
   "cell_type": "code",
   "execution_count": 6,
   "metadata": {},
   "outputs": [],
   "source": [
    "def g(x):\n",
    "    return x - (x - cos(x))/(1 + sin(x))\n",
    "a = 0\n",
    "b = 1\n",
    "\n",
    "# An array of x values for graphing\n",
    "x = linspace(a, b)\n",
    "\n",
    "iterations = 4  # Not so many are needed now!"
   ]
  },
  {
   "cell_type": "code",
   "execution_count": 7,
   "metadata": {},
   "outputs": [
    {
     "name": "stdout",
     "output_type": "stream",
     "text": [
      "Starting near the left end of the domain\n",
      "x_0 = 0.1\n",
      "x_1 = 0.9137633861014282\n",
      "x_2 = 0.7446642419816996\n",
      "x_3 = 0.7390919659607759\n",
      "x_4 = 0.7390851332254692\n"
     ]
    },
    {
     "data": {
      "image/png": "[encoded data removed]",
      "text/plain": [
       "<Figure size 720x720 with 1 Axes>"
      ]
     },
     "metadata": {
      "needs_background": "light"
     },
     "output_type": "display_data"
    },
    {
     "name": "stdout",
     "output_type": "stream",
     "text": [
      "Starting near the right end of the domain\n",
      "x_0 = 0.9\n",
      "x_1 = 0.7438928778417369\n",
      "x_2 = 0.7390902113045812\n",
      "x_3 = 0.7390851332208545\n",
      "x_4 = 0.7390851332151607\n"
     ]
    },
    {
     "data": {
      "image/png": "[encoded data removed]",
      "text/plain": [
       "<Figure size 720x720 with 1 Axes>"
      ]
     },
     "metadata": {
      "needs_background": "light"
     },
     "output_type": "display_data"
    }
   ],
   "source": [
    "# Start at left\n",
    "description = 'Starting near the left end of the domain'\n",
    "print(description)\n",
    "x_k = 0.1\n",
    "print(f\"x_0 = {x_k}\")\n",
    "plt.figure(figsize=(10,10))\n",
    "plt.title(description)\n",
    "plt.grid(True)\n",
    "plt.plot(x, x, 'g')\n",
    "plt.plot(x, g(x), 'r')\n",
    "for k in range(iterations):\n",
    "    g_x_k = g(x_k)\n",
    "    # Graph evalation of g(x_k) from x_k:\n",
    "    plt.plot([x_k, x_k], [x_k, g(x_k)], 'b')\n",
    "    x_k_plus_1 = g(x_k)\n",
    "    #Connect to the new x_k on the line y = x:\n",
    "    plt.plot([x_k, g(x_k)], [x_k_plus_1, x_k_plus_1], 'b')\n",
    "    # Update names: the old x_k+1 is the new x_k\n",
    "    x_k = x_k_plus_1\n",
    "    print(f\"x_{k+1} = {x_k}\")\n",
    "\n",
    "plt.show()\n",
    "\n",
    "# Start at right\n",
    "\n",
    "description = 'Starting near the right end of the domain'\n",
    "print(description)\n",
    "x_k = 0.9\n",
    "print(f\"x_0 = {x_k}\")\n",
    "plt.figure(figsize=(10,10))\n",
    "plt.title(description)\n",
    "plt.grid(True)\n",
    "plt.plot(x, x, 'g')\n",
    "plt.plot(x, g(x), 'r')\n",
    "for k in range(iterations):\n",
    "    g_x_k = g(x_k)\n",
    "    # Graph evalation of g(x_k) from x_k:\n",
    "    plt.plot([x_k, x_k], [x_k, g(x_k)], 'b')\n",
    "    x_k_plus_1 = g(x_k)\n",
    "    #Connect to the new x_k on the line y = x:\n",
    "    plt.plot([x_k, g(x_k)], [x_k_plus_1, x_k_plus_1], 'b')\n",
    "    # Update names: the old x_k+1 is the new x_k\n",
    "    x_k = x_k_plus_1\n",
    "    print(f\"x_{k+1} = {x_k}\")"
   ]
  },
  {
   "cell_type": "markdown",
   "metadata": {},
   "source": [
    "In fact, wherever you start, all iterations take you to the right of the root, and then appoache the fixed point monotonically — and very fast.\n",
    "We will see an explanation for this in the section on\n",
    "[The Convergence Rate of Newton's Method](convergence-rate-of-newtons-method.ipynb)"
   ]
  },
  {
   "cell_type": "markdown",
   "metadata": {},
   "source": [
    "### Example 2. Pushing to the limits of standard 64-bit computer arithmetic\n",
    "\n",
    "Next demand more accuracy; this time silently.\n",
    "As we will see in a later section, $10^{-16}$ is about the limit of the precision of standard computer arithmetic with 64-bit numbers.\n",
    "\n",
    "So try to compute the root as accurately as we can within these limits:"
   ]
  },
  {
   "cell_type": "code",
   "execution_count": 8,
   "metadata": {},
   "outputs": [
    {
     "name": "stdout",
     "output_type": "stream",
     "text": [
      "\n",
      "The root is approximately 0.7390851332151607\n",
      "The estimated absolute error is 6.633694101535508e-17\n",
      "The backward error is 0.0\n",
      "This required 6 iterations\n"
     ]
    }
   ],
   "source": [
    "(root, errorEstimate, iterations) = newton(f_1, Df_1, x0=0, errorTolerance=1e-16)\n",
    "print()\n",
    "print(f\"The root is approximately {root}\")\n",
    "print(f\"The estimated absolute error is {errorEstimate}\")\n",
    "print(f\"The backward error is {abs(f_1(root)):0.4}\")\n",
    "print(f\"This required {iterations} iterations\")"
   ]
  },
  {
   "cell_type": "markdown",
   "metadata": {},
   "source": [
    "Observations:\n",
    "- It only took one more iteration to meet the demand for twice as many decimal places of accuracy.\n",
    "- The result is \"exact\" as fas as the computer arithmeric can tell, as shown by the zero backward error:\n",
    "we have indeed reached the accuracy limits of computer arithmetic."
   ]
  },
  {
   "cell_type": "markdown",
   "metadata": {},
   "source": [
    "## Newton's method works with complex numbers too\n",
    "\n",
    "We will work almost entirely with real values and vectors in $\\mathbb{R}^n$, but actually,\n",
    "everything above also works for complex numbers.\n",
    "In particular, Newton's method works for finding roots of functions $f:\\mathbb{C} \\to \\mathbb{C}$;\n",
    "for example when seeking all roots of a polynomial."
   ]
  },
  {
   "cell_type": "markdown",
   "metadata": {},
   "source": [
    "### Aside: notation for complex number in Python\n",
    "Python uses `j` for the square root of -1 (as is also sometimes done in engineering) rather than `i`.\n",
    "\n",
    "In general, the complex number $a + b i$ is expressed as `a+bj` (note: `j` at the end, and no spaces).\n",
    "As you might expect, imaginary numbers can be written without the $a$, as `bj`.\n",
    "\n",
    "However, the coefficient `b` is always needed, even when $b=1$: the square roots of -1 are `1j` and `-1j`,\n",
    "not `j` and `-j`, and the latter pair still refer to a variable `j` and its negation."
   ]
  },
  {
   "cell_type": "code",
   "execution_count": 9,
   "metadata": {},
   "outputs": [
    {
     "name": "stdout",
     "output_type": "stream",
     "text": [
      "(3+4j)\n",
      "5.0\n"
     ]
    }
   ],
   "source": [
    "z = 3+4j\n",
    "print(z)\n",
    "print(abs(z))"
   ]
  },
  {
   "cell_type": "code",
   "execution_count": 10,
   "metadata": {},
   "outputs": [
    {
     "name": "stdout",
     "output_type": "stream",
     "text": [
      "1j\n"
     ]
    }
   ],
   "source": [
    "print(1j)"
   ]
  },
  {
   "cell_type": "code",
   "execution_count": 11,
   "metadata": {},
   "outputs": [
    {
     "name": "stdout",
     "output_type": "stream",
     "text": [
      "(-0-1j)\n"
     ]
    }
   ],
   "source": [
    "print(-1j)"
   ]
  },
  {
   "cell_type": "markdown",
   "metadata": {},
   "source": [
    "but:"
   ]
  },
  {
   "cell_type": "code",
   "execution_count": 12,
   "metadata": {},
   "outputs": [
    {
     "ename": "NameError",
     "evalue": "name 'j' is not defined",
     "output_type": "error",
     "traceback": [
      "\u001b[0;31m---------------------------------------------------------------------------\u001b[0m",
      "\u001b[0;31mNameError\u001b[0m                                 Traceback (most recent call last)",
      "\u001b[0;32m<ipython-input-12-325732b9e9c9>\u001b[0m in \u001b[0;36m<module>\u001b[0;34m\u001b[0m\n\u001b[0;32m----> 1\u001b[0;31m \u001b[0mprint\u001b[0m\u001b[0;34m(\u001b[0m\u001b[0mj\u001b[0m\u001b[0;34m)\u001b[0m\u001b[0;34m\u001b[0m\u001b[0;34m\u001b[0m\u001b[0m\n\u001b[0m",
      "\u001b[0;31mNameError\u001b[0m: name 'j' is not defined"
     ]
    }
   ],
   "source": [
    "print(j)"
   ]
  },
  {
   "cell_type": "code",
   "execution_count": 13,
   "metadata": {},
   "outputs": [
    {
     "ename": "NameError",
     "evalue": "name 'j' is not defined",
     "output_type": "error",
     "traceback": [
      "\u001b[0;31m---------------------------------------------------------------------------\u001b[0m",
      "\u001b[0;31mNameError\u001b[0m                                 Traceback (most recent call last)",
      "\u001b[0;32m<ipython-input-13-755356de460d>\u001b[0m in \u001b[0;36m<module>\u001b[0;34m\u001b[0m\n\u001b[0;32m----> 1\u001b[0;31m \u001b[0mprint\u001b[0m\u001b[0;34m(\u001b[0m\u001b[0;34m-\u001b[0m\u001b[0mj\u001b[0m\u001b[0;34m)\u001b[0m\u001b[0;34m\u001b[0m\u001b[0;34m\u001b[0m\u001b[0m\n\u001b[0m",
      "\u001b[0;31mNameError\u001b[0m: name 'j' is not defined"
     ]
    }
   ],
   "source": [
    "print(-j)"
   ]
  },
  {
   "cell_type": "markdown",
   "metadata": {},
   "source": [
    "Giving `j` a value does not interfere:"
   ]
  },
  {
   "cell_type": "code",
   "execution_count": 14,
   "metadata": {},
   "outputs": [],
   "source": [
    "j = 100"
   ]
  },
  {
   "cell_type": "code",
   "execution_count": 15,
   "metadata": {},
   "outputs": [
    {
     "name": "stdout",
     "output_type": "stream",
     "text": [
      "1j\n"
     ]
    }
   ],
   "source": [
    "print(1j)"
   ]
  },
  {
   "cell_type": "code",
   "execution_count": 16,
   "metadata": {},
   "outputs": [
    {
     "name": "stdout",
     "output_type": "stream",
     "text": [
      "100\n"
     ]
    }
   ],
   "source": [
    "print(j)"
   ]
  },
  {
   "cell_type": "markdown",
   "metadata": {},
   "source": [
    "### Example 3. All roots of a cubic\n",
    "\n",
    "As an example, let us seek all three cube roots of 8,\n",
    "by solving $x^3 - 8 = 0$ and trying different initial values $x_0$."
   ]
  },
  {
   "cell_type": "code",
   "execution_count": 17,
   "metadata": {},
   "outputs": [],
   "source": [
    "def f_2(x): return x**3 - 8\n",
    "def Df_2(x): return 3*x**2"
   ]
  },
  {
   "cell_type": "markdown",
   "metadata": {},
   "source": [
    "#### First, $x_0 = 1$"
   ]
  },
  {
   "cell_type": "code",
   "execution_count": 18,
   "metadata": {},
   "outputs": [
    {
     "name": "stdout",
     "output_type": "stream",
     "text": [
      "At iteration 1 x = 3.3333333333333335 with estimated error 2.3333333333333335, backward error 29.04\n",
      "At iteration 2 x = 2.462222222222222 with estimated error 0.8711111111111113, backward error 6.927\n",
      "At iteration 3 x = 2.081341247671579 with estimated error 0.380880974550643, backward error 1.016\n",
      "At iteration 4 x = 2.003137499141287 with estimated error 0.07820374853029163, backward error 0.03771\n",
      "At iteration 5 x = 2.000004911675504 with estimated error 0.003132587465783101, backward error 5.894e-05\n",
      "At iteration 6 x = 2.0000000000120624 with estimated error 4.911663441917921e-06, backward error 1.447e-10\n",
      "At iteration 7 x = 2.0 with estimated error 1.2062351117801901e-11, backward error 0.0\n",
      "\n",
      "The first root is approximately 2.0\n",
      "The estimated absolute error is 1.2062351117801901e-11\n",
      "The backward error is 0.0\n",
      "This required 7 iterations\n"
     ]
    }
   ],
   "source": [
    "(root1, errorEstimate1, iterations1) = newton(f_2, Df_2, x0=1., errorTolerance=1e-8, demoMode=True)\n",
    "print()\n",
    "print(f\"The first root is approximately {root1}\")\n",
    "print(f\"The estimated absolute error is {errorEstimate1}\")\n",
    "print(f\"The backward error is {abs(f_2(root1)):0.4}\")\n",
    "print(f\"This required {iterations1} iterations\")"
   ]
  },
  {
   "cell_type": "markdown",
   "metadata": {},
   "source": [
    "#### Next, start at $x_0 = i$ (a.k.a. $x_0 = j$):"
   ]
  },
  {
   "cell_type": "code",
   "execution_count": 26,
   "metadata": {},
   "outputs": [
    {
     "name": "stdout",
     "output_type": "stream",
     "text": [
      "At iteration 1 x = (-2.6666666666666665+0.6666666666666667j) with estimated error 2.6874192494328497, backward error 27.24\n",
      "At iteration 2 x = (-1.4663590926566705+0.6105344098423685j) with estimated error 1.2016193667222375, backward error 10.21\n",
      "At iteration 3 x = (-0.23293230984230862+1.157138282313884j) with estimated error 1.3491172750968108, backward error 7.207\n",
      "At iteration 4 x = (-1.920232195343855+1.5120026439880303j) with estimated error 1.7242127533456917, backward error 13.41\n",
      "At iteration 5 x = (-1.1754417924325353+1.4419675366055333j) with estimated error 0.7480759724352093, backward error 3.758\n",
      "At iteration 6 x = (-0.9389355523964146+1.7160019741718067j) with estimated error 0.36198076543966656, backward error 0.741\n",
      "At iteration 7 x = (-1.0017352527552088+1.7309534907089796j) with estimated error 0.06455501693838897, backward error 0.02464\n",
      "At iteration 8 x = (-0.9999988050398477+1.7320490713246675j) with estimated error 0.0020531798639315357, backward error 2.529e-05\n",
      "At iteration 9 x = (-1.0000000000014002+1.7320508075706016j) with estimated error 2.107719871290353e-06, backward error 2.665e-11\n",
      "At iteration 10 x = (-1+1.7320508075688774j) with estimated error 2.2211788987828177e-12, backward error 1.986e-15\n",
      "\n",
      "The second root is approximately (-1+1.7320508075688774j)\n",
      "The estimated absolute error is 2.22e-12\n",
      "The backward error is 1.99e-15\n",
      "This required 10 iterations\n"
     ]
    }
   ],
   "source": [
    "(root2, errorEstimate2, iterations2) = newton(f_2, Df_2, x0=1j, errorTolerance=1e-8, demoMode=True)\n",
    "print()\n",
    "print(f\"The second root is approximately {root2}\")\n",
    "print(f\"The estimated absolute error is {errorEstimate2:0.3}\")\n",
    "print(f\"The backward error is {abs(f_2(root2)):0.3}\")\n",
    "print(f\"This required {iterations2} iterations\")"
   ]
  },
  {
   "cell_type": "markdown",
   "metadata": {},
   "source": [
    "This root is in fact $-1 + i \\sqrt{3}$."
   ]
  },
  {
   "cell_type": "markdown",
   "metadata": {},
   "source": [
    "#### Finally, $x_0 = 1 - i$"
   ]
  },
  {
   "cell_type": "code",
   "execution_count": 20,
   "metadata": {},
   "outputs": [
    {
     "name": "stdout",
     "output_type": "stream",
     "text": [
      "At iteration 1 x = (0.6666666666666667+0.6666666666666667j) with estimated error 1.699673171197595, backward error 8.613\n",
      "At iteration 2 x = (0.4444444444444445-2.5555555555555554j) with estimated error 3.229875967499696, backward error 22.51\n",
      "At iteration 3 x = (-0.07676321047922768-1.569896785094159j) with estimated error 1.1149801035617206, backward error 8.367\n",
      "At iteration 4 x = (-1.1254435853845144-1.1519065719451076j) with estimated error 1.1289137907740705, backward error 5.707\n",
      "At iteration 5 x = (-0.7741881838023246-1.795866873743186j) with estimated error 0.7335292955516757, backward error 2.741\n",
      "At iteration 6 x = (-0.9948382000303204-1.7041989873110566j) with estimated error 0.23893394707397406, backward error 0.3354\n",
      "At iteration 7 x = (-0.9999335177403226-1.7324537997991796j) with estimated error 0.02871056758938863, backward error 0.004902\n",
      "At iteration 8 x = (-0.9999999373245746-1.7320508625807844j) with estimated error 0.00040837478269381517, backward error 1.001e-06\n",
      "At iteration 9 x = (-0.9999999999999972-1.732050807568875j) with estimated error 8.339375742984317e-08, backward error 4.356e-14\n",
      "At iteration 10 x = (-1-1.7320508075688772j) with estimated error 3.629748304956849e-15, backward error 1.986e-15\n",
      "\n",
      "The third root is approximately (-1-1.7320508075688772j)\n",
      "The estimated absolute error is 3.629748304956849e-15\n",
      "The backward error is 1.986e-15\n",
      "This required 10 iterations\n"
     ]
    }
   ],
   "source": [
    "(root3, errorEstimate3, iterations3) = newton(f_2, Df_2, x0=1-1j, errorTolerance=1e-8, demoMode=True)\n",
    "print()\n",
    "print(f\"The third root is approximately {root3}\")\n",
    "print(f\"The estimated absolute error is {errorEstimate3}\")\n",
    "print(f\"The backward error is {abs(f_2(root3)):0.4}\")\n",
    "print(f\"This required {iterations3} iterations\")"
   ]
  },
  {
   "cell_type": "markdown",
   "metadata": {},
   "source": [
    "This root is in fact $-1 - i \\sqrt{3}$."
   ]
  },
  {
   "cell_type": "markdown",
   "metadata": {},
   "source": [
    "## Newton's method derived via tangent line approximations: linearization\n",
    "\n",
    "The more traditional derivation of Newton's method is based on the very widely useful idea of *linearization*;\n",
    "using the fact that a differentiable function can be approximated over a small part of its domain by a straight line — its tangent line — and it is easy to compute the root of this linear function.\n",
    "\n",
    "So start with a first approximation $x_0$ to a solution $r$ of $f(x) = 0$.\n",
    "\n",
    "### Step 1: Linearize at $x_0$.\n",
    "\n",
    "The tangent line to the graph of this function wih center $x_0$,\n",
    "also know as the *linearization of $f$ at $x_0$*, is\n",
    "\n",
    "$$L_0(x) = f(x_0) + f'(x_0) (x - x_0).$$\n",
    "\n",
    "(Note that $L_0(x_0) = f(x_0)$ and $L_0'(x_0) = f'(x_0)$.)\n",
    "\n",
    "### Step 2: Find the zero of this linearization\n",
    "\n",
    "Hopefully, the two functions $f$ and $L_0$ are close, so that the root of $L_0$ is close to a root of $f$;\n",
    "close enough to be a better approximation of the root $r$ than $x_0$ is.\n",
    "\n",
    "Give the name $x_1$ to this root of $L_0$:\n",
    "it solves $L_0(x_1) = f(x_0) + f'(x_0) (x_1 - x_0) = 0$, so\n",
    "\n",
    "$$x_1 = x_0 - {f(x_0)}/{f'(x_0)}$$\n",
    "\n",
    "### Step 3: Iterate\n",
    "\n",
    "We can then use this new value $x_1$ as the center for a new linearization\n",
    "$L_1(x) = f(x_1) + f'(x_1)(x - x_1)$,\n",
    "and repeat to get a hopefully even better approximate root,\n",
    "\n",
    "$$x_2 = x_1 - f(x_1)/f'(x_1)$$\n",
    "\n",
    "And so on: at each step, we get from approximation $x_k$ to a new one $x_{k+1}$ with\n",
    "\n",
    "$$x_{k+1} = x_k - {f(x_k)}/{f'(x_k)}$$\n",
    "\n",
    "And indeed this is the same formula seen above for Newton's method."
   ]
  },
  {
   "cell_type": "markdown",
   "metadata": {},
   "source": [
    "### Illustration: a few steps of Newton's method for $x - \\cos(x) = 0$.\n",
    "\n",
    "This approach to Newton's method via linearization and tangent lines suggests another graphical presentation;\n",
    "again we use the example of $f(x) = x - \\cos (x)$.\n",
    "This has $Df(x) = 1 + \\sin(x)$, so the linearization at center $a$ is\n",
    "\n",
    "$$L(x) = (a - \\cos(a)) + (1 + \\sin(a))(x-a)$$\n",
    "\n",
    "For Newton's method starting at $x_0 = 0$, this gives\n",
    "\n",
    "$$L_0(x) = -1 + x$$\n",
    "\n",
    "and its root — the next iterate in Newton's method — is $x_1 = 1$\n",
    "\n",
    "Then the linearization at center $x_1$ is\n",
    "\n",
    "$$\n",
    "L_1(x) = (1 - \\cos(1) + (1 + \\sin(1))(x-1),\n",
    "\\approx 0.4596 + 1.8415(x-1)\n",
    "$$\n",
    "giving $x_2 \\approx 1 - 0.4596/1.8415 \\approx 0.7504$.\n",
    "\n",
    "Let's graph a few steps."
   ]
  },
  {
   "cell_type": "code",
   "execution_count": 21,
   "metadata": {},
   "outputs": [],
   "source": [
    "def L_0(x): return -1 + x"
   ]
  },
  {
   "cell_type": "code",
   "execution_count": 22,
   "metadata": {},
   "outputs": [
    {
     "name": "stdout",
     "output_type": "stream",
     "text": [
      "x_1=1.0\n"
     ]
    },
    {
     "data": {
      "image/png": "[encoded data removed]",
      "text/plain": [
       "<Figure size 864x432 with 1 Axes>"
      ]
     },
     "metadata": {
      "needs_background": "light"
     },
     "output_type": "display_data"
    }
   ],
   "source": [
    "figure(figsize=(12,6))\n",
    "title('First iteration, from $x_0 = 0$')\n",
    "left = -0.1\n",
    "right = 1.1\n",
    "x = linspace(left, right)\n",
    "plot(x, f_1(x), label='$x - \\cos(x)$')\n",
    "plot([left, right], [0, 0], 'k', label=\"$x=0$\")  # The x-axis, in black\n",
    "x_0 = 0\n",
    "plot([x_0], [f_1(x_0)], 'g*')\n",
    "plot(x, L_0(x), 'y', label='$L_0(x)$')\n",
    "plot([x_0], [f_1(x_0)], 'g*')\n",
    "x_1 = x_0 - f_1(x_0)/Df_1(x_0)\n",
    "print(f'{x_1=}')\n",
    "plot([x_1], [0], 'r*')\n",
    "legend()\n",
    "grid(True)"
   ]
  },
  {
   "cell_type": "code",
   "execution_count": 23,
   "metadata": {},
   "outputs": [
    {
     "name": "stdout",
     "output_type": "stream",
     "text": [
      "x_2=0.7503638678402439\n"
     ]
    },
    {
     "data": {
      "image/png": "[encoded data removed]",
      "text/plain": [
       "<Figure size 864x432 with 1 Axes>"
      ]
     },
     "metadata": {
      "needs_background": "light"
     },
     "output_type": "display_data"
    }
   ],
   "source": [
    "def L_1(x): return (x_1 - cos(x_1)) +  (1 + sin(x_1))*(x - x_1)\n",
    "\n",
    "figure(figsize=(12,6))\n",
    "title('Second iteration, from $x_1 = 1$')\n",
    "# Shrink the domain\n",
    "left = 0.7\n",
    "right = 1.05\n",
    "x = linspace(left, right)\n",
    "\n",
    "plot(x, f_1(x), label='$x - \\cos(x)$')\n",
    "plot([left, right], [0, 0], 'k', label=\"$x=0$\")  # The x-axis, in black\n",
    "plot([x_1], [f_1(x_1)], 'g*')\n",
    "plot(x, L_1(x), 'y', label='$L_1(x)$')\n",
    "x_2 = x_1 - f_1(x_1)/Df_1(x_1)\n",
    "print(f'{x_2=}')\n",
    "plot([x_2], [0], 'r*')\n",
    "legend()\n",
    "grid(True)"
   ]
  },
  {
   "cell_type": "code",
   "execution_count": 24,
   "metadata": {},
   "outputs": [
    {
     "data": {
      "image/png": "[encoded data removed]",
      "text/plain": [
       "<Figure size 864x432 with 1 Axes>"
      ]
     },
     "metadata": {
      "needs_background": "light"
     },
     "output_type": "display_data"
    }
   ],
   "source": [
    "def L_2(x): return (x_2 - cos(x_2)) +  (1 + sin(x_2))*(x - x_2)\n",
    "\n",
    "figure(figsize=(12,6))\n",
    "title('Third iteration, from $x_2$')\n",
    "# Shrink the domain some more\n",
    "left = 0.735\n",
    "right = 0.755\n",
    "x = linspace(left, right)\n",
    "\n",
    "plot(x, f_1(x), label='$x - \\cos(x)$')\n",
    "plot([left, right], [0, 0], 'k', label=\"$x=0$\")  # The x-axis, in black\n",
    "plot([x_2], [f_1(x_2)], 'g*')\n",
    "plot(x, L_2(x), 'y', label='$L_2(x)$')\n",
    "x_3 = x_2 - f_1(x_2)/Df_1(x_2)\n",
    "plot([x_3], [0], 'r*')\n",
    "legend()\n",
    "grid(True)"
   ]
  },
  {
   "cell_type": "markdown",
   "metadata": {},
   "source": [
    "## How accurate and fast is this?\n",
    "\n",
    "For the bisection method, we have seen in the section on\n",
    "[Root Finding by Interval Halving](root-finding-by-interval-halving.ipynb)\n",
    "a fairly simple way to get an upper limit on the absolute error in the approximations.\n",
    "\n",
    "For absolute guarantees of accuracy, things do not go quite as well for Newton's method,\n",
    "but we can at least get a very \"probable\" *estimate* of how large the error can be.\n",
    "This requires some calculus, and more specifically Taylor's theorem,\n",
    "reviewed in the section on\n",
    "[Taylor's Theorem and the Accuracy of Linearization](taylors-theorem.ipynb).\n",
    "\n",
    "So we will return to the question of both the speed and accuracy of Newton's method in\n",
    "[The Convergence Rate of Newton's Method](convergence-rate-of-newtons-method.ipynb).\n",
    "\n",
    "On the other hand, the example graphs above illustrate that the successive linearizations become ever more accurate as approximations of the function $f$ itself, so that the approximation $x_3$ looks \"perfect\" on the graph —\n",
    "the speed of Newton's method looks far better than for bisection.\n",
    "This will also be explained in [The Convergence Rate of Newton's Method](convergence-rate-of-newtons-method.ipynb)."
   ]
  },
  {
   "cell_type": "markdown",
   "metadata": {},
   "source": [
    "---\n",
    "\n",
    "This work is licensed under [Creative Commons Attribution-ShareAlike 4.0 International](https://creativecommons.org/licenses/by-sa/4.0/)"
   ]
  }
 ],
 "metadata": {
  "kernelspec": {
   "display_name": "Python 3",
   "language": "python",
   "name": "python3"
  },
  "language_info": {
   "codemirror_mode": {
    "name": "ipython",
    "version": 3
   },
   "file_extension": ".py",
   "mimetype": "text/x-python",
   "name": "python",
   "nbconvert_exporter": "python",
   "pygments_lexer": "ipython3",
   "version": "3.8.5"
  }
 },
 "nbformat": 4,
 "nbformat_minor": 4
}
