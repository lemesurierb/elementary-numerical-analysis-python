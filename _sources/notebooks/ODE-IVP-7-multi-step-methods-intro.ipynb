{
 "cells": [
  {
   "cell_type": "markdown",
   "metadata": {},
   "source": [
    "# Initial Value Problems for ODEs, Part 7: Introduction to Multistep Methods"
   ]
  },
  {
   "cell_type": "markdown",
   "metadata": {},
   "source": [
    "**References:**\n",
    "\n",
    "- Section 6.7 *Multistep Methods* of [Sauer](../references.html#Sauer)\n",
    "\n",
    "- Section 5.6 *Multistep Methods* of [Burden&Faires](../references.html#Burden-Faires)"
   ]
  },
  {
   "cell_type": "markdown",
   "metadata": {},
   "source": [
    "## Introduction\n",
    "\n",
    "When approximating derivatives we saw that there is a distinct advantage in accuracy to using th centered difference approximation\n",
    "\n",
    "$$\n",
    "\\frac{df}{dt}(t) \\approx \\delta_h f(t) := \\frac{f(t+h) - f(t-h)}{2h}\n",
    "$$\n",
    "\n",
    "(with error $O(h^2)$) over the forward difference approximation\n",
    "\n",
    "$$\n",
    "\\frac{df}{dt}(t) \\approx \\Delta_h f(t) := \\frac{f(t+h) - f(t)}{h}\n",
    "$$\n",
    "\n",
    "(which has error $O(h)$).\n",
    "\n",
    "However Euler's method used the latter, and all ODE methods seen so far avoid using values at \"previous\" times like $t-h$.\n",
    "There is a reason for this, as using data from previous times introduces some complications, but sometimes those are worth overcoming, so let us look into this."
   ]
  },
  {
   "cell_type": "markdown",
   "metadata": {},
   "source": [
    "## Example 1: The Leap-frog method\n",
    "\n",
    "\n",
    "Inserting the above centered difference approximation of the derivative into the ODE $du/dt = f(t, u)$ gives\n",
    "\n",
    "$$\\frac{u(t+h) - u(t-h)}{h} \\approx f(t, u(t))$$\n",
    "\n",
    "which leads to the *leap-frog method*\n",
    "\n",
    "$$\\frac{U_{i+1} - U_{i-1}}{2h} = f(t_i, U_i)$$\n",
    "\n",
    "or\n",
    "\n",
    "$$U_{i+1} = U_{i-1} + 2 h f(t_i, U_i)$$"
   ]
  },
  {
   "cell_type": "markdown",
   "metadata": {},
   "source": [
    "This is the first example of a multistep method:\n",
    "\n",
    "**Definition**:\n",
    "A *multistep method* for numerical solution of an ODE IVP $du/dt = f(t, u)$ is one of the form\n",
    "\n",
    "$$U_{i+1} = \\phi(U_i, \\dots U_{i-s+1}, h), \\quad s > 1 $$\n",
    "so that the new approximate value of $u(t)$ depends on approxiamt value at multiple previous times.\n",
    "\n",
    "More specifically, this is called an $s$-step method; this jargon is consistent with all methods seen in earlier sections being called *one-step methods*; for example,\n",
    "Euler's method can be written as\n",
    "\n",
    "$$\n",
    "U_{i+1} = \\phi_E(U_i, h) := U_i + h f(t_i, U_i)\n",
    "$$\n",
    "\n",
    "and the explicit midpoint method can be written as the one-liner\n",
    "\n",
    "$$\n",
    "U_{i+1} = \\phi_{EMP}(U_i, h) := U_i + h f(t_i+h/2, U_i + h f(t_i, U_i)/2) h\n",
    "$$"
   ]
  },
  {
   "cell_type": "markdown",
   "metadata": {},
   "source": [
    "The leap-frog methd already illustrates two of the complications that arise with multistep methods:\n",
    "\n",
    "- The initial data $u(a) = u_0$ gives $U_0$, but then the above formula gives $U_1$ in terms of $U_0$ and the non-existent value $U_{-1}$; a different method is needed to get $U_1$.\n",
    "More generally, with an $s$-step methods, one needs to compute the first $s-1$ steps, up to $U_{s-1}$, by some other method.\n",
    "\n",
    "- Leap-frog needs a constant ste size $h$; the strategy of error estimation and error control using variable step size is still possible with some multistep methods, but that is distinctly more complicated than we have seen with one-step methods, and will not be addressed on these notes.\n",
    "\n",
    "Fortunately many differential equations can be handled wwell by choosing a suitable fixed step size $h$.\n",
    "Thus, in these notes, we work only with equal step sizes, so that our times are $t_i = a + i h$ and we aim for approximations\n",
    "$U_i \\approx u(a + ih)$."
   ]
  },
  {
   "cell_type": "markdown",
   "metadata": {},
   "source": [
    "## Second order accuracy of the leap-frog method\n",
    "\n",
    "Using the fact that the centered difference approximation is second order accurate,\n",
    "one can verify that\n",
    "\n",
    "$$\\frac{u(t_{i+1}) - u(t_{i-1})}{2h} - f(t, u(t_i)) = O(h^2)$$\n",
    "\n",
    "(Alternatively one can get this by inserting quadratic Taylor polynomials centered at $t_i$, and their error terms.)\n",
    "\n",
    "The definition of local trunctation error needs to be extended slightly:\n",
    "it is the error $U_{i+1} - u(t_{i+1})$ when one starts with exact values for all previous steps;\n",
    "that is, assuming $U_j = u(t_j)$ for all $j\\leq i$.\n",
    "\n",
    "The above results then shows that the local truncation error in each step is $U_{i+1} - u(t_{i+1}) = O(h^3)$,\n",
    "so that the \"local truncation error per unit time\" is\n",
    "\n",
    "$$\\frac{U_{i+1} - u(t_{i+1})}{h} = O(h^2)$$.\n",
    "\n",
    "A theorem in the section on [Global Error Bounds for One Step Methods](ODE-IVP-3-error-results-one-step-methods.ipynb)\n",
    "says that when a one-step methods has local truncation error per unit time of $O(h^p)$ it also has global truncation error of the same order.\n",
    "The situation is a bit more complicated with multi-step methods, but loosely *if* the errors in a multistep method has local truncation $O(h^p)$ and it converges (i.e. the global error goes to zero at $h \\to 0$) then it does so at the expected rate of $O(h^p)$.\n",
    "\n",
    "So in particular, when the leap-frog method converges it is second order accurate, just like the centered difference approximation of $du/dt$ that it is built on.\n"
   ]
  },
  {
   "cell_type": "markdown",
   "metadata": {},
   "source": [
    "## The speed advantage of multi-step methds like the leap-frog method\n",
    "\n",
    "This second order accuracy illustrate a major potential advantage of multi-step methods;\n",
    "whereas any one-step Runge-Kutta method that is second order accurate (such as the explicit trppezoidor explicit midpoint methods) require at least two evaluations of $f(t, u)$ for each time step, the leap-frog methods requires only one.\n",
    "\n",
    "More generally, for every $s$, there are $s$-step methods with errors $O(h^s)$ that require only one evaluation of $f(t, u)$ per time step — for example, the Adams-Bashforth methods, as seen at\n",
    "\n",
    "- https://en.wikipedia.org/wiki/Linear_multistep_method#Adams-Bashforth_methods\n",
    "\n",
    "- https://en.m.wikiversity.org/wiki/Adams-Bashforth_and_Adams-Moulton_methods\n",
    "\n",
    "- [Sauer](../references.html#Sauer) Section 6.7.1  and 6.7.2\n",
    "\n",
    "- [Burden&Faires](../references.html#Burden-Faires), Section 5.6\n",
    "\n",
    "In comparison, any *explicit* one-step method order $p$ require at least $p$ evaluations of $f(t, u)$ per time step.\n",
    "(See the [Introduction to Implicit Methods](ODE-IVP-6-implicit-methods-intro.ipynb) for the distinction between explicit and implicit methods, but as seen there, the alternative of implicit methids generally require even more evaluations per time step.)\n"
   ]
  },
  {
   "cell_type": "code",
   "execution_count": 1,
   "metadata": {},
   "outputs": [],
   "source": [
    "import numpy as np\n",
    "from matplotlib import pyplot as plt\n",
    "# Shortcuts for some favorite commands:\n",
    "from numpy import linspace\n",
    "from matplotlib.pyplot import figure, plot, grid, title, xlabel, ylabel, legend, show"
   ]
  },
  {
   "cell_type": "code",
   "execution_count": 2,
   "metadata": {},
   "outputs": [],
   "source": [
    "def leap_frog(f, a, b, U_0, U_1, nSteps):\n",
    "    nUnknowns = len(U_0)\n",
    "    t = np.linspace(a, b, nSteps+1)\n",
    "    U = np.zeros([nSteps+1, nUnknowns])\n",
    "    U[0] = U_0\n",
    "    U[1] = U_1\n",
    "    h = (b-a)/nSteps\n",
    "    for step in range(1, nSteps):\n",
    "        U[step+1] = U[step-1] + 2*h*f(t[step], U[step])\n",
    "    return (t, U)"
   ]
  },
  {
   "cell_type": "code",
   "execution_count": 3,
   "metadata": {},
   "outputs": [
    {
     "data": {
      "image/png": "[encoded data removed]",
      "text/plain": [
       "<Figure size 864x432 with 1 Axes>"
      ]
     },
     "metadata": {
      "needs_background": "light"
     },
     "output_type": "display_data"
    }
   ],
   "source": [
    "# Demo with the (undamped) mass-spring system\n",
    "\n",
    "def f_mass_spring(t, u):\n",
    "    return np.array([ u[1], -(k/M)*u[0] - (D/M)*u[1]])\n",
    "M = 1.0\n",
    "k = 1.0\n",
    "D = 0.1\n",
    "U_0 = [1.0, 0.0]\n",
    "a = 0.0\n",
    "periods = 8\n",
    "b = 2 * np.pi * periods\n",
    "#nSteps = 1000  # Very Good?!\n",
    "nSteps = 400  # Good?\n",
    "#nSteps = 40  # OK\n",
    "\n",
    "# We need U_1, for now, get it with the Runge-Kutta method;\n",
    "# this is overkill for accuracy, but since only one step is needed, the cost is negligible.\n",
    "from numerical_methods_module import RungeKutta_system\n",
    "h = (b-a)/nSteps\n",
    "(t_1step, U_1step) = RungeKutta_system(f_mass_spring, a, a+h, U_0, n=1)\n",
    "U_1 = U_1step[-1]\n",
    "(t, U) = leap_frog(f_mass_spring, a, b, U_0, U_1, nSteps)\n",
    "\n",
    "y = U[:,0]\n",
    "#print(f\"t={t}\")\n",
    "#print(f\"y={y}\")\n",
    "figure(figsize=[12, 6])\n",
    "plot(t, y)\n",
    "grid(True)"
   ]
  },
  {
   "cell_type": "markdown",
   "metadata": {},
   "source": [
    "---\n",
    "This work is licensed under [Creative Commons Attribution-ShareAlike 4.0 International](https://creativecommons.org/licenses/by-sa/4.0/)"
   ]
  },
  {
   "cell_type": "code",
   "execution_count": null,
   "metadata": {},
   "outputs": [],
   "source": []
  }
 ],
 "metadata": {
  "kernelspec": {
   "display_name": "Python 3",
   "language": "python",
   "name": "python3"
  },
  "language_info": {
   "codemirror_mode": {
    "name": "ipython",
    "version": 3
   },
   "file_extension": ".py",
   "mimetype": "text/x-python",
   "name": "python",
   "nbconvert_exporter": "python",
   "pygments_lexer": "ipython3",
   "version": "3.8.5"
  }
 },
 "nbformat": 4,
 "nbformat_minor": 4
}
