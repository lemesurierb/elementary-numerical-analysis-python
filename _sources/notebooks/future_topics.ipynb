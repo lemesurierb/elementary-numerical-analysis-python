{
 "cells": [
  {
   "cell_type": "markdown",
   "metadata": {},
   "source": [
    "Some Future Topics\n",
    "==================\n",
    "\n",
    "See the new \"Preliminary Versions\" part of the HTML book for preliminary notes on some of these topics.\n",
    "\n",
    "- Solving systems of ODEs (and higher order equations)\n",
    "\n",
    "- Error estimation, error control, and adjusting time step size in numerical solution of ODEs.\n",
    "\n",
    "- Stiffness in ODEs and implicit methods for dealing with it.\n",
    "\n",
    "- More on simultaneous linear equations: PA = LU factorization and error bounds.\n",
    "\n",
    "- Least squares fitting of lines and curves to data: minimizing the RMS error.\n",
    "\n",
    "and if time allows and interest dictates (alternatively as some possible final project topics)\n",
    "\n",
    "- finding the minimum of a funciton of one or more variables\n",
    "\n",
    "- miltistep method for solving ODE IVPs\n",
    "\n",
    "- solving bounndary value problems for ODEs"
   ]
  }
 ],
 "metadata": {
  "kernelspec": {
   "display_name": "Python 3",
   "language": "python",
   "name": "python3"
  },
  "language_info": {
   "codemirror_mode": {
    "name": "ipython",
    "version": 3
   },
   "file_extension": ".py",
   "mimetype": "text/x-python",
   "name": "python",
   "nbconvert_exporter": "python",
   "pygments_lexer": "ipython3",
   "version": "3.8.5"
  }
 },
 "nbformat": 4,
 "nbformat_minor": 4
}
