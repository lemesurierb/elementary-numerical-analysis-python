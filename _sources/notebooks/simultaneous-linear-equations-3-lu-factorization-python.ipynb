{
 "cells": [
  {
   "cell_type": "markdown",
   "metadata": {},
   "source": [
    "# Simultaneous Linear Equations, Part 3: Solving $Ax = b$ with LU factorization, $A = L U$"
   ]
  },
  {
   "cell_type": "markdown",
   "metadata": {},
   "source": [
    "**References:**\n",
    "\n",
    "- Section 2.2 *The LU Factorization* of [Sauer](../references.html#Sauer)\n",
    "- Section 6.5 *Matrix Factorizations* of [Burden&Faires](../references.html#Burden-Faires)\n",
    "- Section 8.1 *Matrix Factorizations* of [Chenney&Kincaid](../references.html#Chenney-Kincaid)"
   ]
  },
  {
   "cell_type": "markdown",
   "metadata": {},
   "source": [
    "## Avoiding repeated calculation, excessive rounding and messy notation: LU factorization\n",
    "\n",
    "Putting aside pivoting for a while, there is another direction in which the algorithm for solving linear systems $Ax=b$ can be improved.\n",
    "It starts with the idea of being more efficient when solving multiple system with the same right-hand side:\n",
    "$A x^{(m)} = b^{(m)}, m=1,2, \\dots$.\n",
    "\n",
    "However it has several other benefits:\n",
    "- allowing a strategy to reduce rounding error, and\n",
    "- a simpler, more elegant mathematical statement.\n",
    "\n",
    "We will see how to merge this with partial pivoting in\n",
    "[Simultaneous Linear Equations, Part 4.ipynb](simultaneous-linear-equations-4-plu-factorization-python.ipynb)"
   ]
  },
  {
   "cell_type": "markdown",
   "metadata": {},
   "source": [
    "Some useful jargon:\n",
    "\n",
    "**Definition: triangular matrices**\n",
    "A matrix is *triangular* if all its non-zero elements are either on the main diagonal or to one side of it.\n",
    "There are two possibilities:\n",
    "- Matrix $U$ is *upper triangular* if $u_{ij} = 0$ for all $i > j$.\n",
    "- Matrix $L$ is *lower triangular* if $l_{ij} = 0$ for all $j > i$.\n",
    "\n",
    "One important example of an upper triangular matrix is $U$ formed by row reduction;\n",
    "note well that it is much quicker and easier to solve $Ux = c$ than the original system $Ax=b$ exactly because of its triangular form.\n",
    "\n",
    "We will soon see that the multipliers $l_{ij}$, $i > j$ for row reduction that were introduced in section\n",
    "[Solving Simultaneous Linear Equations, Part 1](simultaneous-linear-equations-1-row-reduction-python.ipynb)\n",
    "help to form a lower triangular matrix $L$."
   ]
  },
  {
   "cell_type": "markdown",
   "metadata": {},
   "source": [
    "The key to the LU factorization idea is finding a **lower triangular** matrix $L$ and an **upper triangular** matrix $U$ such that $L U = A$, and then using the fact that it is far quicker to solve a linear system when the corresponding matrix is triangular."
   ]
  },
  {
   "cell_type": "markdown",
   "metadata": {},
   "source": [
    "Indeed we will see that, if naive Gaussian elimination for $Ax=b$ succeeds, giving row-reduced form $Ux = c$:\n",
    "1. The matrix $A$ can be factorized as $A = LU$ with $U$ an $n \\times n$ upper triangular matrix and $L$ an $n \\times n$ lower triangular matrix.\n",
    "\n",
    "2. There is a unique such factorization with the further condition that $L$ is **unit lower triangular**, which means the extra requirement that the value on its main daigonal are unity: $l_{k,k} = 1$.\n",
    "This is called the **Doolittle Factorization** of $A$.\n",
    "\n",
    "3. In the Doolittle factorization, the matrix $U$ is the one given by naive Gaussian elimination, and the elements of $L$ below its main diagonal are the multipliers arising in naive Gaussian elimination. (The other elements of $L$, on and above the main diagonal, are the ones and zeros dictated by it being unit lower triangular: the same as for those elements in the $n \\times n$ identity matrix.)\n",
    "\n",
    "4. The transformed right-hand side $c$ arising from naive Gaussian elimination is the solution of the system $Lc = b$, and this is solvable by an procedure caled **forward substitution**, very similar to the backward subsitution used to solve $Ux = c$."
   ]
  },
  {
   "cell_type": "markdown",
   "metadata": {},
   "source": [
    "Putting all this together: if naive Gaussian elimination works for $A$, we can introduce the name $c$ for $Ux$, and note that $Ax = (LU)x = L(Ux) = Lc = b$. Then solving of the system\n",
    "$Ax = b$ can be done in three steps:\n",
    "1. Using $A$, find the Doolittle factors, $L$ and $U$.\n",
    "\n",
    "4. Using $L$ and $b$, solve $Lc = b$ to get $c$. (Forward substitution)\n",
    "\n",
    "5. Using $U$ and $c$, solve $Ux = c$ to get $x$.  (Backward substitution)"
   ]
  },
  {
   "cell_type": "markdown",
   "metadata": {},
   "source": [
    "## The direct method for the Doolittle LU factorization\n",
    "\n",
    "If you believe the above claims, we already have one algorithm for finding an LU factorization; basically, do naive Gaussian elimination, but ignore the right-hand side $b$ until later.\n",
    "However, there is another \"direct\" method, which does not rely on anything we have seen before about Gaussian elimination, and has other advantages as we will see.\n",
    "\n",
    "(If I were teaching linear algebra, I would be tempted to start here and skip Gaussian Elimination!)\n",
    "\n",
    "This method starts by considering the apparently daunting task of solving the $n^2$ simultaneous and nonlinear equations for the initially unknown elements of $L$ and $U$:\n",
    "\n",
    "$$ \\sum_{k=1}^n l_{i,k} u_{k,j} = a_{i,j}\\; 1 \\leq i \\leq n,\\;1 \\leq j \\leq n. $$"
   ]
  },
  {
   "cell_type": "markdown",
   "metadata": {},
   "source": [
    "The first step is to insert the known information; the already-known values of elements of $L$ and $U$.\n",
    "For one thing, the sums above stop when either $k=i$ or $k=j$, whichever comes first,\n",
    "due to all the zeros in $L$ nd $U$:\n",
    "\n",
    "$$ \\sum_{k=1}^{\\min(i,j)} l_{i,k} u_{k,j} = a_{i,j}\\; 1 \\leq i \\leq n,\\;1 \\leq j \\leq n. $$"
   ]
  },
  {
   "cell_type": "markdown",
   "metadata": {},
   "source": [
    "Next, when $i \\leq j$—  so that the sum ends at $k=i$ and involves $l_{i,i}$ — we can use $l_{i,i} = 1$.\n",
    "\n",
    "So break up into two cases:"
   ]
  },
  {
   "cell_type": "markdown",
   "metadata": {},
   "source": [
    "On and above the main diagonal ($i \\leq j$, so $\\min(i,j) = i$):\n",
    "\n",
    "$$\\sum_{k=1}^{i-1}l_{i,k} u_{k,j}+u_{i,j}=a_{i,j} \\quad 1\\leq i \\leq n,\\; i \\leq j \\leq n.$$"
   ]
  },
  {
   "cell_type": "markdown",
   "metadata": {},
   "source": [
    "Below the main diagonal ($i > j$, so $\\min(i,j) = j$):\n",
    "\n",
    "$$\\sum_{k=1}^{j-1} l_{i,k} u_{k,j} + l_{i,j} u_{j,j}= a_{i,j} \\quad 2 \\leq i \\leq n,\\;1 \\leq j \\leq i.$$"
   ]
  },
  {
   "cell_type": "markdown",
   "metadata": {},
   "source": [
    "In each equation, the last term in the sum has been separated, so that we can use them to \"solve\" for an unknown:\n",
    "\n",
    "$$\n",
    "\\begin{split}\n",
    "u_{i,j} &= a_{i,j} - \\sum_{k=1}^{i-1} l_{i,k} u_{k,j} \\quad 1 \\leq i \\leq n,\\;i \\leq j \\leq n.\n",
    "\\\\\n",
    "l_{i,j} &= \\frac{a_{i,j} - \\sum_{k=1}^{j-1} l_{i,k} u_{k,j}}{u_{j,j}} \\quad 2 \\leq i \\leq n,\\;1 \\leq j \\leq i.\n",
    "\\end{split}\n",
    "$$"
   ]
  },
  {
   "cell_type": "markdown",
   "metadata": {},
   "source": [
    "Here comes the characteristic step that gets us from valid equations to a useful algorithm: we can arrange these equations in an order such that all the values at right are determined by an earlier equation!\n",
    "\n",
    "First look at what they say for the first row and first column.\n",
    "\n",
    "With $i=1$ in the first equation, there is no sum, and so:\n",
    "$$\n",
    "u_{1,j}=a_{1,j}, \\quad 1 \\leq j \\leq n,\n",
    "$$\n",
    "which is the familiar fact that the first row is unchanged in naive Gaussian elimination.\n",
    "\n",
    "Next, with $j=1$ in the second equation, there is again no sum:\n",
    "$$\n",
    "l_{i,1} = \\frac{a_{i,1}}{u_{1,1}}, = \\frac{u_{i,1}}{u_{1,1}}, \\quad 2 \\leq i \\leq n,\n",
    "$$\n",
    "which is indeed the multipliers in the first step of naive Gaussian elimination."
   ]
  },
  {
   "cell_type": "markdown",
   "metadata": {},
   "source": [
    "Remember that one way to think of Gaussian elimination is *recursively*: after step $k$, one just applies the same process recursively to the smaller $n-k \\times n-k$ matrix in the bottom-right-hand corner. We can do something similar here; at stage $k$:\n",
    "1. First use the first of the above equations to solve first for row $k$ of $U$, meaning just $u_{k,j}, j \\geq k$,\n",
    "2. Then use the second equation to solve for column $k$ of $L$: $l_{i,k}, i > k$.\n",
    "\n",
    "Stage $k=1$ is handled by the simpler special equations above, so for the rest:"
   ]
  },
  {
   "cell_type": "markdown",
   "metadata": {},
   "source": [
    "for k from 2 to n\n",
    "<br>$\\quad$ for j from k to n $\\qquad$ *Get the non-zero elements in row $k$ of $U$*\n",
    "<br>$\\quad\\quad$ $u_{k,j}=a_{k,j} - \\sum_{s=1}^{k-1}l_{k,s}u_{s,j}$\n",
    "<br>$\\quad$ end for\n",
    "<br>$\\quad$ for i from k+1 to n $\\qquad$ *Get the non-zero elements in column $k$ of $L$ (except the 1's on its diagonal)*\n",
    "<br>$\\quad\\quad$ $l_{i,k}=\\displaystyle\\frac{a_{i,k}-\\sum_{s=1}^{k-1}l_{i,s}u_{s,k}}{u_{k,k}}$\n",
    "<br>$\\quad$ end for\n",
    "<br>end for"
   ]
  },
  {
   "cell_type": "markdown",
   "metadata": {},
   "source": [
    "Note well that in the formulas to evaluate at the right,\n",
    "1. The terms $l_{k,s}$ are for $s < k$, so from a column $s$ that has already been computed for a previous $k$ value.\n",
    "2. The terms $u_{s,j}$ are for $s < k$, so from a row $s$ that has already been computed for a previous $k$ value.\n",
    "3. The denominator $u_{k,k}$ in the second inner loop is computed just in time, in the first inner loop for the same $k$ value.\n",
    "\n",
    "So the only thing that can go wrong is the same as before: a zero pivot element $u_{k,k}$."
   ]
  },
  {
   "cell_type": "markdown",
   "metadata": {},
   "source": [
    "**Notes**\n",
    "\n",
    "1. For $k=n$, the second inner loop is redundant, so could be eliminated.\n",
    "Indeed it might need to be eliminated in actual code, where \"empty loops\" might not be allowed.\n",
    "On the other hand, allowing empty loops makes the above correct also for $k=1$; then the `for k` loop encompases the entire factorization algorithm.\n",
    "\n",
    "2. This direct factorization algorithm avoids any intermediate modification of arrays, and thus eliminates all those superscripts like $a_{i,j}^{(k)}$.\n",
    "This is not only nicer mathematically, but can help to avoid mistakes like code that inadvertently modifies the array containing the matrix $A$ and then uses it to compute the residual, $Ax - b$.\n",
    "More generally, such purely mathematical statements of algorithms can help to avoid coding errors;\n",
    "this is part of the philosophy of the *functional programming* approach.\n",
    "\n",
    "3. Careful examination shows that the product $l_{k,s} u_{s,j}$ that is part of what is substracted at location $(k,j)$ is the same as what is subtracted there at stage $k$ of Gaussian elimination, just with different names.\n",
    "More generally, *every piece of arithmetic is the same as before,* except arranged in a different order, so that the $k-1$ changes made to an element in row $k$ are done together, via those sums.\n",
    "\n",
    "4. Rewrites with zero-based indexing will be provided later."
   ]
  },
  {
   "cell_type": "code",
   "execution_count": 1,
   "metadata": {},
   "outputs": [],
   "source": [
    "# Import some items from modules individually, so they can be used by \"first name only\".\n",
    "from numpy import array, zeros_like, identity"
   ]
  },
  {
   "cell_type": "code",
   "execution_count": 2,
   "metadata": {},
   "outputs": [],
   "source": [
    "def lu(A, demoMode=False):\n",
    "    \"\"\"Compute the Doolittle LU factorization of A.\n",
    "    Sums like $\\sum_{s=1}^{k-1} l_{k,s} u_{s,j}$ are done as matrix products;\n",
    "    in the above case, row matrix L[k, 1:k-1] by column matrix U[1:k-1,j] gives the sum for a give j,\n",
    "    and row matrix L[k, 1:k-1] by matrix U[1:k-1,k:n] gives the relevant row vector.\n",
    "    \"\"\"\n",
    "    n = len(A)  # len() gives the number of rows in a 2D array.\n",
    "    # Initialize U as the zero matrix;\n",
    "    # correct below the main diagonal, with the other entries to be computed below.\n",
    "    U = zeros_like(A)\n",
    "    # Initialize L as the identity matrix;\n",
    "    # correct on and above the main diagonal, with the other entries to be computed below.\n",
    "    L = identity(n)\n",
    "   # Column and row 1 (i.e Python index 0) are special:\n",
    "    U[0,:] = A[0,:]\n",
    "    L[1:,0] = A[1:,0]/U[0,0]\n",
    "    if demoMode:\n",
    "        print(f\"After step k=0\")\n",
    "        print(f\"U=\\n{U}\")\n",
    "        print(f\"L=\\n{L}\")\n",
    "    for k in range(1, n-1):\n",
    "        U[k,k:] = A[k,k:] - L[k,:k] @ U[:k,k:]\n",
    "        L[k+1:,k] = (A[k+1:,k] - L[k+1:,:k] @ U[:k,k])/U[k,k]\n",
    "        if demoMode:\n",
    "            print(f\"After step {k=}\")\n",
    "            print(f\"U=\\n{U}\")\n",
    "            print(f\"L=\\n{L}\")\n",
    "    # The last row (index \"-1\") is special: nothing to do for L\n",
    "    U[-1,-1] = A[-1,-1] - sum(L[-1,:-1]*U[:-1,-1])\n",
    "    if demoMode:\n",
    "        print(f\"After the final step, k={n-1}\")\n",
    "        print(f\"U=\\n{U}\")\n",
    "    return (L, U)"
   ]
  },
  {
   "cell_type": "markdown",
   "metadata": {},
   "source": [
    "### A test case on LU factorization"
   ]
  },
  {
   "cell_type": "code",
   "execution_count": 3,
   "metadata": {},
   "outputs": [],
   "source": [
    "A = array([[4, 2, 7], [3, 5, -6],[1, -3, 2]], dtype=float)"
   ]
  },
  {
   "cell_type": "code",
   "execution_count": 4,
   "metadata": {},
   "outputs": [
    {
     "name": "stdout",
     "output_type": "stream",
     "text": [
      "A=\n",
      "[[ 4.  2.  7.]\n",
      " [ 3.  5. -6.]\n",
      " [ 1. -3.  2.]]\n"
     ]
    }
   ],
   "source": [
    "print(f\"A=\\n{A}\")"
   ]
  },
  {
   "cell_type": "code",
   "execution_count": 5,
   "metadata": {},
   "outputs": [
    {
     "name": "stdout",
     "output_type": "stream",
     "text": [
      "After step k=0\n",
      "U=\n",
      "[[4. 2. 7.]\n",
      " [0. 0. 0.]\n",
      " [0. 0. 0.]]\n",
      "L=\n",
      "[[1.   0.   0.  ]\n",
      " [0.75 1.   0.  ]\n",
      " [0.25 0.   1.  ]]\n",
      "After step k=1\n",
      "U=\n",
      "[[  4.     2.     7.  ]\n",
      " [  0.     3.5  -11.25]\n",
      " [  0.     0.     0.  ]]\n",
      "L=\n",
      "[[ 1.    0.    0.  ]\n",
      " [ 0.75  1.    0.  ]\n",
      " [ 0.25 -1.    1.  ]]\n",
      "After the final step, k=2\n",
      "U=\n",
      "[[  4.     2.     7.  ]\n",
      " [  0.     3.5  -11.25]\n",
      " [  0.     0.   -11.  ]]\n"
     ]
    }
   ],
   "source": [
    "(L, U) = lu(A, demoMode=True)"
   ]
  },
  {
   "cell_type": "code",
   "execution_count": 6,
   "metadata": {},
   "outputs": [
    {
     "name": "stdout",
     "output_type": "stream",
     "text": [
      "A=\n",
      "[[ 4.  2.  7.]\n",
      " [ 3.  5. -6.]\n",
      " [ 1. -3.  2.]]\n",
      "L=\n",
      "[[ 1.    0.    0.  ]\n",
      " [ 0.75  1.    0.  ]\n",
      " [ 0.25 -1.    1.  ]]\n",
      "U=\n",
      "[[  4.     2.     7.  ]\n",
      " [  0.     3.5  -11.25]\n",
      " [  0.     0.   -11.  ]]\n",
      "L times U is \n",
      "[[ 4.  2.  7.]\n",
      " [ 3.  5. -6.]\n",
      " [ 1. -3.  2.]]\n",
      "The 'residual' A - LU is \n",
      "[[0. 0. 0.]\n",
      " [0. 0. 0.]\n",
      " [0. 0. 0.]]\n"
     ]
    }
   ],
   "source": [
    "print(f\"A=\\n{A}\")\n",
    "print(f\"L=\\n{L}\")\n",
    "print(f\"U=\\n{U}\")\n",
    "print(f\"L times U is \\n{L@U}\")\n",
    "print(f\"The 'residual' A - LU is \\n{A - L@U}\")"
   ]
  },
  {
   "cell_type": "markdown",
   "metadata": {},
   "source": [
    "### Forward substitution: solving $Lc = b$ for $c$\n",
    "\n",
    "This is the last piece missing. The strategy is very similar to backward substitution, but slightly simplified by the ones on the main didogonal of $L$.\n",
    "The equations $L c = b$ can be written much as above, separating off the last term in the sum:\n",
    "\n",
    "$$ \\sum_{j=1}^{n} l_{i,j} c_j = b_i,\\; 1 \\leq i \\leq n $$\n",
    "\n",
    "$$ \\sum_{j=1}^{i} l_{i,j} c_j = b_i,\\; 1 \\leq i \\leq n $$\n",
    "\n",
    "$$ \\sum_{j=1}^{i-1} l_{i,j} c_j + c_i = b_i,\\; 1 \\leq i \\leq n $$\n",
    "\n",
    "Then solve for $c_i$:\n",
    "\n",
    "$$ c_i = b_i - \\sum_{j=1}^{i-1} l_{i,j} c_j $$\n",
    "\n",
    "These are already is usable order: the right-hand side in the equation for $c_i$ involves only the $c_j$ values with $j < i$, determined by earlier equations if we run through index $i$ in increasing order."
   ]
  },
  {
   "cell_type": "markdown",
   "metadata": {},
   "source": [
    "First, $i=1$\n",
    "\n",
    "$$ c_1 = b_1 - \\sum_{j=1}^{0} l_{1,j} c_j, = b_1 $$"
   ]
  },
  {
   "cell_type": "markdown",
   "metadata": {},
   "source": [
    "Next, $i=2$\n",
    "\n",
    "$$ c_2 = b_2 - \\sum_{j=1}^{1} l_{2,j} c_j, = b_2 - l_{2,1}c_1 $$"
   ]
  },
  {
   "cell_type": "markdown",
   "metadata": {},
   "source": [
    "Next, $i=3$\n",
    "\n",
    "$$ c_3 = b_3 - \\sum_{j=1}^{2} l_{3,j} c_j, = b_3 - l_{3,1} c_1 - l_{3,2} c_2 $$"
   ]
  },
  {
   "cell_type": "markdown",
   "metadata": {},
   "source": [
    "I leave as an exerise expressing this is pseudo-code (adjusted to zero-based indexing);\n",
    "here it is in Python; also availab from th module `numerical_methods_module` with\n",
    "\n",
    "    from numerical_methods_module import forwardSubstitution"
   ]
  },
  {
   "cell_type": "code",
   "execution_count": 7,
   "metadata": {},
   "outputs": [],
   "source": [
    "def forwardSubstitution(L, b):\n",
    "    \"\"\"Solve L c = b for c.\"\"\"\n",
    "    n = len(b)\n",
    "    c = zeros_like(b)\n",
    "    c[0] = b[0]\n",
    "    for i in range(1, n):\n",
    "        c[i] = b[i] - L[i,:i] @ c[:i]\n",
    "        # Note: the above uses a row-by-column matrix multiplication to do the same as\n",
    "        #c[i] = b[i] - sum(L[i,:i] * c[:i])\n",
    "    return c"
   ]
  },
  {
   "cell_type": "markdown",
   "metadata": {},
   "source": [
    "### A test case on forward substitution"
   ]
  },
  {
   "cell_type": "code",
   "execution_count": 8,
   "metadata": {},
   "outputs": [],
   "source": [
    "b = array([2., 3., 4.])"
   ]
  },
  {
   "cell_type": "code",
   "execution_count": 9,
   "metadata": {},
   "outputs": [
    {
     "name": "stdout",
     "output_type": "stream",
     "text": [
      "b = [2. 3. 4.]\n"
     ]
    }
   ],
   "source": [
    "print(f\"b = {b}\")"
   ]
  },
  {
   "cell_type": "code",
   "execution_count": 10,
   "metadata": {},
   "outputs": [],
   "source": [
    "c = forwardSubstitution(L, b)"
   ]
  },
  {
   "cell_type": "code",
   "execution_count": 11,
   "metadata": {},
   "outputs": [
    {
     "name": "stdout",
     "output_type": "stream",
     "text": [
      "c = [2.  1.5 5. ]\n",
      "The residual b - Lc is [0. 0. 0.]\n",
      "\t with maximum norm 0.0\n"
     ]
    }
   ],
   "source": [
    "print(f\"c = {c}\")\n",
    "print(f\"The residual b - Lc is {b - L@c}\")\n",
    "print(f\"\\t with maximum norm {max(abs(b - L@c)):0.3}\")"
   ]
  },
  {
   "cell_type": "markdown",
   "metadata": {},
   "source": [
    "### Completing the test case, with backward substitution\n",
    "\n",
    "As this step is unchanged, just import the version seen in a previous section."
   ]
  },
  {
   "cell_type": "code",
   "execution_count": 12,
   "metadata": {},
   "outputs": [],
   "source": [
    "from numerical_methods_module import backwardSubstitution"
   ]
  },
  {
   "cell_type": "code",
   "execution_count": 13,
   "metadata": {},
   "outputs": [],
   "source": [
    "x = backwardSubstitution(U, c)"
   ]
  },
  {
   "cell_type": "code",
   "execution_count": 14,
   "metadata": {},
   "outputs": [
    {
     "name": "stdout",
     "output_type": "stream",
     "text": [
      "The residual c - Ux for the backward substitution step is [0. 0. 0.]\n",
      "\t with maximum norm 0.0\n",
      "The residual b - Ax for the whole solving process is [ 0.0000000e+00 -4.4408921e-16  8.8817842e-16]\n",
      "\t with maximum norm 8.88e-16\n"
     ]
    }
   ],
   "source": [
    "print(f\"The residual c - Ux for the backward substitution step is {c - U@x}\")\n",
    "print(f\"\\t with maximum norm {max(abs(c - U@x)):0.3}\")\n",
    "print(f\"The residual b - Ax for the whole solving process is {b - A@x}\")\n",
    "print(f\"\\t with maximum norm {max(abs(b - A@x)):0.3}\")"
   ]
  },
  {
   "cell_type": "markdown",
   "metadata": {},
   "source": [
    "### Exercise 1\n",
    "\n",
    "A) Express this forward substitution strategy as pseudo-code, with zero-based indexing.\n",
    "\n",
    "Then implement it \"directly\" in a Python function, with format:\n",
    "\n",
    "    def forwardSubstitution(L, b):\n",
    "        . . .\n",
    "        return c\n",
    "\n",
    "Do this \"directly\" with explcit evaluation of the sums $\\sum_{j=1}^{i-1} l_{i,j} c_j$,\n",
    "rather than using the matrix multiplication short-cut above.\n",
    "\n",
    "B) Test it, using this often-useful \"reverse-engineering\" tactic:\n",
    "1. Create suitable test arrays `L` and `c`. Use $n$ at least three, and preferably larger.\n",
    "2. Compute their product, with `b = L @ c`\n",
    "3. Check if `c_solution = forwardSubstitution(L, b)` gives the correct value."
   ]
  },
  {
   "cell_type": "markdown",
   "metadata": {},
   "source": [
    "### Exercise 2\n",
    "\n",
    "(An ongoing activity.)\n",
    "\n",
    "Start building a Python module `linearalgebra` in a file `linearalgebra.py`, with all our linear algebra functions: for now, `forwardSubstitution(L, b)` as above and also `rowReduce(A, b)` and `backwardSubstitution(U, c)` from\n",
    "[Solving Simultaneous Linear Equations, Part 1](simultaneous-linear-equations-1-row-reduction-python.ipynb)\n",
    "\n",
    "Include testing/demonstration at the bottom of the module definition file, in the block of the `if` statement\n",
    "\n",
    "    if __name__ == \"__main__\":\n",
    "\n",
    "We will add the Doolittle method and such in a while, and could use this module in assignments and projects."
   ]
  },
  {
   "cell_type": "markdown",
   "metadata": {},
   "source": [
    "#### Creating modules\n",
    "\n",
    "One way to do this is with Spyder (or another Python IDE).\n",
    "However, if you prefer working primarily with JupyterLab and Jupyter notebooks, one way to create this module is to first put the function `def`'s and testing code in a notebook `linearalgebra.ipynb` and then convert that to `linearalgebra.py` with the JupyerLab menu command\n",
    "\n",
    "    File > Export Notebook As ... > Export Notebook to Executable Script"
   ]
  },
  {
   "cell_type": "markdown",
   "metadata": {},
   "source": [
    "As an example of creating a module, I am creating one as we go along in this course, via the notebook\n",
    "[numerical_methods_module.ipynb](numerical_methods_module.ipynb)\n",
    "and Python code file `numerical_methods.py` derived from that, which defines module `numerical_methods`.\n",
    "\n",
    "The notebook version is in the Appendices of this Jupyter book.\n",
    "\n",
    "For MATH 375 students, both this notebook and the derived module file are in the Canvas folder \"Notebooks and modules\"."
   ]
  },
  {
   "cell_type": "markdown",
   "metadata": {},
   "source": [
    "## When is it safe to ignore pivoting? Quite often, fortunately.\n",
    "\n",
    "Fortunately there are many important cases where we can guarantee that naiave Gaussian elimination will work, and so the LU factorizaton method will too.\n",
    "At times it can be known in advance that the maximal element pivoting seen in\n",
    "[Solving Simultaneous Linear Equations, Part 2](simultaneous-linear-equations-2-pivoting-python.ipynb)\n",
    "will never in fact swap rows!\n",
    "\n",
    "In particular, when solving differential equations, it is often very beneficial to avoid pivoting, and we can often choose an approach that allows this."
   ]
  },
  {
   "cell_type": "markdown",
   "metadata": {},
   "source": [
    "---\n",
    "This work is licensed under [Creative Commons Attribution-ShareAlike 4.0 International](https://creativecommons.org/licenses/by-sa/4.0/)"
   ]
  }
 ],
 "metadata": {
  "kernelspec": {
   "display_name": "Python 3",
   "language": "python",
   "name": "python3"
  },
  "language_info": {
   "codemirror_mode": {
    "name": "ipython",
    "version": 3
   },
   "file_extension": ".py",
   "mimetype": "text/x-python",
   "name": "python",
   "nbconvert_exporter": "python",
   "pygments_lexer": "ipython3",
   "version": "3.8.5"
  }
 },
 "nbformat": 4,
 "nbformat_minor": 4
}
