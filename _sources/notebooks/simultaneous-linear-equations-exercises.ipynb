{
 "cells": [
  {
   "cell_type": "markdown",
   "metadata": {},
   "source": [
    "# Exercises on Solving Simultaneous Linear Equations"
   ]
  },
  {
   "cell_type": "markdown",
   "metadata": {},
   "source": [
    "## Exercise 1\n",
    "\n",
    "A) Solve the system of equations \n",
    "\n",
    "$$\n",
    "\\left[ \\begin{array}{ccc} 4. & 2. & 1. \\\\ 9. & 3. & 1. \\\\ 25. & 5. & 1. \\end{array} \\right] x = \\left[ \\begin{array}{c} 0.693147  \\\\ 1.098612 \\\\ 1.609438 \\end{array} \\right]\n",
    "$$\n",
    "\n",
    "by naive Gaussian elimination.\n",
    "Do this *by hand*, rounding each intermediate result to four significant digits,\n",
    "and write down each intermediate version of the system of equations.\n",
    "\n",
    "B) Compute the residual vector $r := b - A x_a $ and residual maximum norm $\\| r \\|_\\text{max} = \\| b - A x_a \\|_\\text{max}$ for your approximation.\n",
    "Residual calculations must be done to high precision, so I recommend that you do this part with Python in a notebook."
   ]
  },
  {
   "cell_type": "markdown",
   "metadata": {},
   "source": [
    "## Exercise 2\n",
    "\n",
    "Repeat Exercise 1, except using *maximal element partial pivoting*.\n",
    "Then compare the residuals for the two methods (with and without pivoting), and comment."
   ]
  },
  {
   "cell_type": "markdown",
   "metadata": {},
   "source": [
    "## Exercise 3\n",
    "\n",
    "A) Compute the Doolittle LU factorization of the matrix\n",
    "\n",
    "$$\n",
    "A = \\left[ \\begin{array}{ccc} 4. & 2. & 1. \\\\ 9. & 3. & 1. \\\\ 25. & 5. & 1. \\end{array} \\right] \n",
    "$$\n",
    "\n",
    "as in the above exercises.\n",
    "\n",
    "As above, do this by hand, rounding values to four significant digits, and describing the intermediate steps.\n",
    "(Feel free to then corroborate your hand working with Python code, but the results will not be exactly the same!)\n",
    "\n",
    "B) Use this LU factorization to solve $A x = b$ for $x$ where\n",
    "\n",
    "$$ b = \\left[ \\begin{array}{c} 0.693147  \\\\ 1.098612 \\\\ 1.609438 \\end{array} \\right] $$\n",
    "\n",
    "as above."
   ]
  },
  {
   "cell_type": "markdown",
   "metadata": {},
   "source": [
    "Some Relevant Algorithms\n",
    "------------------------"
   ]
  },
  {
   "cell_type": "markdown",
   "metadata": {},
   "source": [
    "### Row reduction\n",
    "\n",
    "The basic algorithm for row reduction is\n",
    "\n",
    "`for k from 1 to n-1:` $\\qquad$ Step k: get zeros in column k below row k:\n",
    "<br>\n",
    "$\\quad$ `for i from k+1 to n:` $\\qquad$ update only the rows that change: from $k+1$ on:\n",
    "<br>\n",
    "$\\qquad$ The multiple of row k to subtract from row i:\n",
    "<br>\n",
    "$\\quad\\quad l_{i,k} = a_{i,k}^{(k-1)}/a_{k,k}^{(k-1)}$ $\\qquad$ **If** $a_{k,k}^{(k-1)} \\neq 0$!\n",
    "<br>\n",
    "$\\qquad$ Subtract ($l_{i,k}$ times row k) from row i in matrix A, in the columns that are not automaticaly zero:\n",
    "<br>\n",
    "$\\quad\\quad$ `for j from k+1 to n:`\n",
    "<br>\n",
    "$\\quad\\quad\\quad a_{i,j}^{(k)} = a_{i,j}^{(k-1)} - l_{i,k} a_{k,j}^{(k-1)}$\n",
    "<br>\n",
    "$\\quad\\quad$ `end for`\n",
    "<br>\n",
    "$\\qquad$ and at right, subtract ($l_{i,k}$ times $b_k$) from $b_i$:\n",
    "<br>\n",
    "$\\quad\\quad b_i^{(k)} = b_i^{(k-1)} - l_{i,k} b_{k}^{(k-1)}$ \n",
    "<br>\n",
    "$\\quad$ `end for`\n",
    "<br>"
   ]
  },
  {
   "cell_type": "markdown",
   "metadata": {},
   "source": [
    "### Backward substitution with an upper triangular matrix\n",
    "\n",
    "The basic algorithm for backward substitution is\n",
    "\n",
    "$x_n = c_n/u_{n,n}$\n",
    "<br>\n",
    "`for i from n-1 down to 1`\n",
    "<br>\n",
    "$\\displaystyle \\quad x_i = \\frac{c_i - \\sum_{j=i+1}^{n} u_{i,j} x_j}{u_{i,i}}$\n",
    "<br>\n",
    "`end for`"
   ]
  },
  {
   "cell_type": "markdown",
   "metadata": {},
   "source": [
    "---\n",
    "This work is licensed under [Creative Commons Attribution-ShareAlike 4.0 International](https://creativecommons.org/licenses/by-sa/4.0/)"
   ]
  }
 ],
 "metadata": {
  "kernelspec": {
   "display_name": "Python 3",
   "language": "python",
   "name": "python3"
  },
  "language_info": {
   "codemirror_mode": {
    "name": "ipython",
    "version": 3
   },
   "file_extension": ".py",
   "mimetype": "text/x-python",
   "name": "python",
   "nbconvert_exporter": "python",
   "pygments_lexer": "ipython3",
   "version": "3.8.5"
  }
 },
 "nbformat": 4,
 "nbformat_minor": 4
}
