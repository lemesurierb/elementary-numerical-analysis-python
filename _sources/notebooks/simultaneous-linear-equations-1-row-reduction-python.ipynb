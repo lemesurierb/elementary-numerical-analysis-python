{
 "cells": [
  {
   "cell_type": "markdown",
   "metadata": {},
   "source": [
    "# Simultaneous Linear Equations, Part 1: Row Reduction/Gaussian Elimination"
   ]
  },
  {
   "cell_type": "markdown",
   "metadata": {},
   "source": [
    "**Last Revised on March 18, 2021,**\n",
    "adding further uses of Python slicing and \"vectorization\" in function `rowReduction`,\n",
    "eliminating function `zeros_below_diagonal` in favor of always doing this in function `row_reduce`,\n",
    "and fixing a few typos."
   ]
  },
  {
   "cell_type": "markdown",
   "metadata": {},
   "source": [
    "**References:**\n",
    "\n",
    "- Section 2.1.1 *Naive Gaussian Elimination* of [Sauer](../references.html#Sauer)\n",
    "- Section 6.1 *Linear Sysems of Equations* of [Burden&Faires](../references.html#Burden-Faires)\n",
    "- Section 7.1 of [Chenney&Kincaid](../references.html#Chenney-Kincaid)"
   ]
  },
  {
   "cell_type": "markdown",
   "metadata": {},
   "source": [
    "## Introduction\n",
    "\n",
    "The problem of solving a system of $n$ simultaneous linear equations in $n$ unknowns,\n",
    "with matrix-vector form $A x = b$, is quite thoroughly understood as far as having a good general-purpose methods usable with any $n \\times n$ matrix $A$: essentially, Gaussian elimination (or row-reduction) as seen in most linear algebra courses, combined with some modifications to stay well away from division by zero: *partial pivoting*.\n",
    "Also, good robust software for this general case is readily available, for example in the Python packages NumPy and SciPy, or in Matlab.\n",
    "\n",
    "Nevertheless, this basic algorithm can be very slow when $n$ is large – as it often is when dealing with differential equations (even more so with *partial* differential equations).\n",
    "We will see that it requires about $n^3/3$ arithmetic operations.\n",
    "\n",
    "Thus I will summarise the basic method of row reduction or Gaussian elimination, and then build on it with methods for doing things more robustly, and then with methods for doing it faster in some important special cases:\n",
    "\n",
    "1. When one has to solve many systems $A x^{(m)} = b^{(m)}$ with the same matrix $A$ but different right-hand side vectors $b^{(m)}.$\n",
    "\n",
    "2. When $A$ is *banded*: most elements are zero, and all the non-zero elements $a_{i,j}$ are near the main diagonal: $|i - j|$ is far less than $n$. (*Aside on notation:* \"far less than\" is sometimes denoted $\\ll$, as in $|i-j| \\ll n$.)\n",
    "\n",
    "3. When $A$ is *strictly diagonally dominant*: each diagonal element $a_{i,i}$ is larger in magnitude that the sum of the magnitudes of all other elements in the same row."
   ]
  },
  {
   "cell_type": "markdown",
   "metadata": {},
   "source": [
    "We might also explore some further topics, perhaps as individual projects:\n",
    "\n",
    "4. When $A$ is *positive definite*: symmetric ($a_{i,j} = a_{j,i}$) and with all eigenvalues positive.\n",
    "This last condition would seem hard to verify, since computing all the eigenvalues of $A$ is harder that solving $Ax = b$,\n",
    "but there are important situations where this property is automatically guaranteed, such as with *Galerkin* and *finite-element methods* for solving boundary value problems for differential equations.\n",
    "\n",
    "5. When $A$ is *sparse*: most elements are zero, but not necessarily with all the non-zero elements near the main diagonal."
   ]
  },
  {
   "cell_type": "markdown",
   "metadata": {},
   "source": [
    "### Python Note 1. Module `numpy.linalg` with standard nickname `la`\n",
    "\n",
    "Python package Numpy provides a lot of useful tools for numerical linear algebra through a module `numpy.linalg`.\n",
    "\n",
    "Just as package `numpy` is used so often that there is a conventional nickname `np`, so `numpy.linalg` is usually nicknamed `la`."
   ]
  },
  {
   "cell_type": "code",
   "execution_count": 1,
   "metadata": {},
   "outputs": [],
   "source": [
    "import numpy as np\n",
    "import numpy.linalg as la\n",
    "\n",
    "# As in recent sections, we import some items from modules individually, so they can be used by \"first name only\".\n",
    "from numpy import array, inf, zeros_like, empty"
   ]
  },
  {
   "cell_type": "markdown",
   "metadata": {},
   "source": [
    "## Strategy for getting from mathematical facts to a good algorithm and then to its implentation in [Python] code\n",
    "\n",
    "Here I take the opportunity to illustrate some useful strategies for getting from mathematical facts and ideas to good algorithms and working code for solving a numerical problem.\n",
    "The pattern we will see here, and often later, is:\n",
    "\n",
    "### Step 1. Get a basic algorithm:\n",
    "1. Start with mathematical facts (like the equations $\\sum_{j=1}^n a_{ij}x_j = b_i$).\n",
    "2. Solve to get an equation for each unknown — or for an updated aproximation of each unknown — in terms of other quantitities.\n",
    "3. Specify an order of evaluation in which all the quantities at right are evaluated earlier.\n",
    "\n",
    "In this, it is often best to start with a verbal description before specifying the details in more precise and detailed mathematical form.\n",
    "\n",
    "### Step 2. Refine to get a more **robust** algorithm:\n",
    "1. Identify cases that can lead to failure due to division by zero and such, and revise to avoid them.\n",
    "2. Avoid inaccuracy due to problems like severe rounding error. One rule of thumb is that anywhere that a zero value is a fatal flaw (in particular, division by zero), a very small value is also a hazard when rounding error is present.\n",
    "So **avoid very small denominators**. (We will soon examine this through the phenomenon of **loss of significance**, and its extreme case **catastrophic cancellation**.)\n",
    "\n",
    "### Step 3. Refine to get a more **efficient** algorithm\n",
    "For example,\n",
    "- Avoid repeated evaluation of exactly the same quantity.\n",
    "- Avoid redundant calculations, such as ones whose value can be determnied in advance;\n",
    "for example, values that can be shown in advance to be zero.\n",
    "- Compare and choose between alternative algorithms."
   ]
  },
  {
   "cell_type": "markdown",
   "metadata": {},
   "source": [
    "## Gaussian Elimination, a.k.a. Row Reduction\n",
    "\n",
    "We start by considering the most basic algorithm, based on ideas seen in a linear algebra course.\n",
    "\n",
    "The problem is best stated as a collection of equations for individual numerical values:\n",
    "\n",
    "Given coefficients $a_{i,j} 1 \\leq i \\leq n,\\, 1 \\leq j \\leq n$ and right-hand side values $b_i,\\, 1 \\leq i \\leq n$,\n",
    "solve for the $n$ unknowns $x_j,\\, 1 \\leq j \\leq n$ in the equations\n",
    "$$\n",
    "\\sum_{j=1}^n a_{i,j} x_j = b_i,\\, 1 \\leq i \\leq n.\n",
    "$$\n",
    "\n",
    "In verbal form, the basic strategy of *row reduction* or *Gaussian elimination* is this:\n",
    "\n",
    "- **Choose** one equation and use it to eliminate one **chosen** unknown from all the other equations, leaving that chosen equation plus $n-1$ equations in $n-1$ unknowns.\n",
    "- Repeat recursively, at each stage using one of the remaining equations to eliminate one of the remaining unknowns from all the other equations.\n",
    "- This gives a final equation in just one unknown, preceeded by an equation in that unknown plus one other, and so on: solve them in this order, from last to first."
   ]
  },
  {
   "cell_type": "markdown",
   "metadata": {},
   "source": [
    "### Determining those choices, to produce a first algorithm: \"Naive Gaussian Elimination\"\n",
    "\n",
    "A precise algorithm must include rules specifying all the choices indicated above.\n",
    "The simplest \"naive\" choice, which works in most but not all cases, is to eliminate from the top to bottom and left to right:\n",
    "\n",
    "- Use the first equation to eliminate the first unknown from all other equations.\n",
    "- Repeat recursively, at each stage using the first remaining equation to eliminate the first remaining unknown. Thus, at step $k$, equation $k$ is used to eliminate unknown $x_k$.\n",
    "- This gives one equation in just the last unknown $x_n$; another equation in the last two unknowns $x_{n-1}$ and $x_n$, and so on: solve them in this reverse order, evaluating the unknowns from last to first."
   ]
  },
  {
   "cell_type": "markdown",
   "metadata": {},
   "source": [
    "This usually works, but can fail because at some stage the (updated) $k$-th equation might not include the $k$-th unknown: that is, its coefficient might be zero, leading to division by zero.\n",
    "\n",
    "We will refine the algorithm to deal with that in the later section\n",
    "[Solving Simultaneous Linear Equations, Part 2](simultaneous-linear-equations-2-pivoting-python.ipynb)"
   ]
  },
  {
   "cell_type": "markdown",
   "metadata": {},
   "source": [
    "### Python Note 2. Using Numpy for matrices, vectors and their products in Python 3.5 and beyond\n",
    "\n",
    "As of version 3.5 of Python, vectors, matrices, and their products can be handled very elegantly using Numpy arrays, with the one quirk that the product is denoted by the at-sign `@`.\n",
    "That is, for a matrix $A$ and compatible matrix or vector $b$ both stored in Numpy arrays, their product is given by `A @ b`.\n",
    "\n",
    "This means that, along with my encouragement to totally ignore *Python* arrays in favor of *Numpy* arrays, and to usually avoid Python *lists* when working with numerical data, I also recommend that you ignore the now obsolescent Numpy `matrix` data type, if you happen to come across it in older material on Numpy.\n",
    "\n",
    "**Aside:** Why not `A * b`? Because that is the more general \"point-wise\" array product:\n",
    "`c = A * b` gives array `c` with `c[i,j]` equal to `A[i,j] * b[i,j]`, which is not how matrix multiplication works."
   ]
  },
  {
   "cell_type": "markdown",
   "metadata": {},
   "source": [
    "## The general case of solving $Ax = b$, using Python and NumPy\n",
    "\n",
    "The problem of solving $Ax = b$ in general, when all you know is that $A$ is an $n \\times n$ matrix and $b$ is an $n$-vector, can in most cases be handled well by using standard software rather than by writing your own code. Here is an example in Python, solving\n",
    "\n",
    "$$\n",
    "\\left[ \\begin{array}{rrr} 4 & 2 & 7 \\\\ 3 & 5 & -6 \\\\ 1 & -3 & 2 \\end{array} \\right]\n",
    "\\left[ \\begin{array}{r} x_1 \\\\ x_2 \\\\ x_3 \\end{array} \\right]\n",
    "= \\left[ \\begin{array}{r} 2 \\\\ 3 \\\\ 4 \\end{array} \\right]\n",
    "$$\n",
    "\n",
    "using the `array` type from package `numpy` and the function `solve` from the linear algebra module `numpy.linalg`."
   ]
  },
  {
   "cell_type": "code",
   "execution_count": 2,
   "metadata": {},
   "outputs": [
    {
     "name": "stdout",
     "output_type": "stream",
     "text": [
      "A =\n",
      "[[ 4.  2.  7.]\n",
      " [ 3.  5. -6.]\n",
      " [ 1. -3.  2.]]\n",
      "b = [2. 3. 4.]\n"
     ]
    }
   ],
   "source": [
    "A = array([[4., 2., 7.], [3., 5., -6.],[1., -3., 2.]])\n",
    "print(f\"A =\\n{A}\")\n",
    "b = array([2., 3., 4.])\n",
    "print(f\"b = {b}\")"
   ]
  },
  {
   "cell_type": "markdown",
   "metadata": {},
   "source": [
    "### Python Note 3.\n",
    "\n",
    "It is important to specify that the entries are real numbers (type \"float\");\n",
    "otherwise Numpy does integer arithmetic.\n",
    "\n",
    "One way to do this is as above: putting a decimal point in the numbers (or to be lazy, in at least one of them!)\n",
    "\n",
    "Another is to tell the function `array` that the type is float:"
   ]
  },
  {
   "cell_type": "code",
   "execution_count": 3,
   "metadata": {},
   "outputs": [],
   "source": [
    "A = array([[4, 2, 7], [3, 5, -6],[1, -3, 2]], dtype=float)\n",
    "b = array([2, 3, 4], dtype=float)"
   ]
  },
  {
   "cell_type": "code",
   "execution_count": 4,
   "metadata": {},
   "outputs": [
    {
     "name": "stdout",
     "output_type": "stream",
     "text": [
      "numpy.linalg.solve says that the solution of Ax = b is\n",
      "x = [ 1.81168831 -1.03246753 -0.45454545]\n",
      "\n",
      "As a check, the residual (or backward error) is\n",
      "    r = b-Ax = [ 0.0000000e+00 -4.4408921e-16  8.8817842e-16],\n",
      "and its infinity (or 'maximum') norm is ||r|| = 8.881784197001252e-16\n",
      "\n",
      "Aside: another way to compute this is with max(abs(r)):\n",
      "||r|| = 8.881784197001252e-16\n",
      "and its 1-norm is ||r|| = 1.3322676295501878e-15\n"
     ]
    }
   ],
   "source": [
    "x = la.solve(A, b)\n",
    "print(\"numpy.linalg.solve says that the solution of Ax = b is\")\n",
    "print(f\"x = {x}\")\n",
    "# Check the backward error, also known as the residual\n",
    "r = b - A @ x\n",
    "print(f\"\\nAs a check, the residual (or backward error) is\")\n",
    "print(f\"    r = b-Ax = {r},\")\n",
    "print(f\"and its infinity (or 'maximum') norm is ||r|| = {la.norm(r, inf)}\")\n",
    "print(\"\\nAside: another way to compute this is with max(abs(r)):\")\n",
    "print(f\"||r|| = {max(abs(r))}\")\n",
    "print(f\"and its 1-norm is ||r|| = {la.norm(r, 1)}\")"
   ]
  },
  {
   "cell_type": "markdown",
   "metadata": {},
   "source": [
    "## The naive Gaussian elimination algorithm, in pseudo-code\n",
    "\n",
    "Here the elements of the transformed matrix and vector after step $k$ are named $a_{i,j}^{(k)}$ and $b_{k}^{(k)}$, so that the original values are $a_{i,j}^{(0)} = a_{i,j}$ and $b_{i}^{(0)} = b_{i}$.\n",
    "\n",
    "The name $l_{i,k}$ is given to the multiple of row $k$ that is subtracted from row $i$ at step $k$. This naming might seem redundant, but it becomes very useful later,\n",
    "in the section on [LU factorization](simultaneous-linear-equations-3-lu-factorization-python.ipynb)."
   ]
  },
  {
   "cell_type": "markdown",
   "metadata": {},
   "source": [
    "for k from 1 to n-1: $\\qquad$ *Step k: get zeros in column k below row k:*\n",
    "<br>\n",
    "$\\quad$ for i from k+1 to n:\n",
    "<br>\n",
    "$\\qquad$ *Evaluate the multiple of row k to subtract from row i:*\n",
    "<br>\n",
    "$\\quad\\quad l_{i,k} = a_{i,k}^{(k-1)}/a_{k,k}^{(k-1)}$ $\\qquad$ **If** $a_{k,k}^{(k-1)} \\neq 0$!\n",
    "<br>\n",
    "$\\qquad$ *Subtract $(l_{i,k}$ times row k) from row i in matrix A ...:*\n",
    "<br>\n",
    "$\\quad\\quad$ for j from 1 to n:\n",
    "<br>\n",
    "$\\quad\\quad\\quad a_{i,j}^{(k)} = a_{i,j}^{(k-1)} - l_{i,k} a_{k,j}^{(k-1)}$\n",
    "<br>\n",
    "$\\quad\\quad$ end for\n",
    "<br>\n",
    "$\\qquad$ ... and at right, subtract $(l_{i,k}$ times $b_k)$ from $b_i$:\n",
    "<br>\n",
    "$\\quad\\quad b_i^{(k)} = b_i^{(k-1)} - l_{i,k} b_{k}^{(k-1)}$ \n",
    "<br>\n",
    "$\\quad$ end for"
   ]
  },
  {
   "cell_type": "markdown",
   "metadata": {},
   "source": [
    "The rows before $i=k$ are unchanged, so they are ommited from the update;\n",
    "however, in a situation where we need to complete the definitions of $A^{(k)}$ and $b^{(k)}$ we would also need the following inside the `for k` loop:"
   ]
  },
  {
   "cell_type": "markdown",
   "metadata": {},
   "source": [
    "$\\quad$ for i from 1 to k:\n",
    "<br>\n",
    "$\\quad\\quad$ for j from 1 to n:\n",
    "<br>\n",
    "$\\quad\\quad\\quad a_{i,j}^{(k)} = a_{i,j}^{(k-1)}$\n",
    "<br>\n",
    "$\\quad\\quad$ end for\n",
    "<br>\n",
    "$\\quad\\quad b_i^{(k)} = b_i^{(k-1)}$\n",
    "<br>\n",
    "$\\quad$ end for"
   ]
  },
  {
   "cell_type": "markdown",
   "metadata": {},
   "source": [
    "However, the algorithm will usually be implemented by overwriting the previous values in an array with new ones, and then this part is redundant."
   ]
  },
  {
   "cell_type": "markdown",
   "metadata": {},
   "source": [
    "The next improvement in efficiency: the updates in the first $k$ columns at step $k$ give zero values (that is the key idea of the algorithm!), so there is no need to compute or store those zeros, and thus the only calculations needed in the above `for j from 1 to n` loop are covered by `for j from k+1 to n`.\n",
    "Thus from now on we use only the latter: except when, for demonstration purposes, we need those zeros.\n",
    "\n",
    "Thus, the standard algorithm looks like this:"
   ]
  },
  {
   "cell_type": "markdown",
   "metadata": {},
   "source": [
    "for k from 1 to n-1: $\\qquad$ *Step k: Get zeros in column k below row k:*\n",
    "<br>$\\quad$ for i from k+1 to n: $\\qquad$ *Update only the rows that change: from k+1 on:*\n",
    "<br>$\\qquad$ *Evaluate the multiple of row k to subtract from row i:*\n",
    "<br>$\\quad\\quad l_{i,k} = a_{i,k}^{(k-1)}/a_{k,k}^{(k-1)}$ $\\qquad$ **If** $a_{k,k}^{(k-1)} \\neq 0$!\n",
    "<br>$\\qquad$ *Subtract $(l_{i,k}$ times row k) from row i in matrix A, in the columns that are not automaticaly zero:*\n",
    "<br>$\\quad\\quad$ for j from k+1 to n:\n",
    "<br>$\\quad\\quad\\quad a_{i,j}^{(k)} = a_{i,j}^{(k-1)} - l_{i,k} a_{k,j}^{(k-1)}$\n",
    "<br>$\\quad\\quad$ end for\n",
    "<br>$\\qquad$ *and at right, subtract $(l_{i,k}$ times $b_k)$ from $b_i$:*\n",
    "<br>$\\quad\\quad b_i^{(k)} = b_i^{(k-1)} - l_{i,k} b_{k}^{(k-1)}$ \n",
    "<br>$\\quad$ end for"
   ]
  },
  {
   "cell_type": "markdown",
   "metadata": {},
   "source": [
    "### Python Note 4. Syntax for `for` loops and 0-based array indexing\n",
    "\n",
    "Since array indices in Python (and in Java, C, C++, C#, Swift, etc.) start from zero, not from one, it will be convenient to express linear algebra algorithms in a form compatible with this.\n",
    "\n",
    "- Every index is one less than in the above!\n",
    "Thus in an array with $n$ elements, the index values $i$ are $0 \\leq i < n$, **excluding n**, which is the half-open interval of integers $[0, n)$.\n",
    "\n",
    "- In the indexing of an array, one can refer to the part the array with indices $a \\leq i < b$, **excluding b**, with the **slice** notation `a:b`.\n",
    "\n",
    "- Similarly, when specifiying the range of consecutive integers $i$, $a \\leq i < b$ in a `for` loop, one can use the expression `range(a,b)`.\n",
    "\n",
    "Also, when indices are processed in order (from low to high), these notes will abuse notation slightly, refering to the values as a set — specifically, a semi-open interval of integers.\n",
    "\n",
    "For example, the above loop\n",
    "\n",
    "    for j from k+1 to n:\n",
    "\n",
    "first gets all indices lowered by one, to\n",
    "\n",
    "    for j from k to n-1:\n",
    "\n",
    "and then this will sometimes be described in terms of the set of `j` values:\n",
    "\n",
    "    for j in [k,n):\n",
    "\n",
    "which in Python becomes\n",
    "\n",
    "    for j in range(k, n):"
   ]
  },
  {
   "cell_type": "markdown",
   "metadata": {},
   "source": [
    "This new notation needs care initially, but helps with clarity in the long run.\n",
    "For one thing, it means that the indices of an $n$-element array, $[0,n-1)$, are described by `range(0,n)` and by `0:n`.\n",
    "In fact, the case of \"starting at the beginning\", with index zero, can be abbreviated: `range(n)` is the same as `range(0,n)`, and `:b` ia the same as `0:b`.\n",
    "\n",
    "Another advantage is that the index ranges `a:b` and `b:c` together cover the same indices as `a:c`, with no gap or duplication of `b`, and likewise `range(a,b)` and `range(b,c)` combine to cover `range(a,c)`."
   ]
  },
  {
   "cell_type": "markdown",
   "metadata": {},
   "source": [
    "## The naive Gaussian elimination algorithm, in Pythonic zero-based pseudo-code\n",
    "\n",
    "Here the above notational shift is made, along with eliminating the above-noted redundant formulas for values that are either zero or are unchanged from the previous step.\n",
    "It is also convenient for $k$ to be the index of the row being used to reduce subsequent rows, and so also the index of the column in which values below the main diagonal are being set to zero."
   ]
  },
  {
   "cell_type": "markdown",
   "metadata": {},
   "source": [
    "for k in [0, n-1):\n",
    "<br>$\\quad$ for i in [k+1, n):\n",
    "<br>$\\quad\\quad l_{i,k} = a_{i,k}^{(k)}/a_{k,k}^{(k)}\\qquad$ **If** $a_{k,k}^{(k)} \\neq 0$!\n",
    "<br>$\\quad\\quad$ for j in [k+1, n):\n",
    "<br>$\\quad\\quad\\quad a_{i,j}^{(k+1)} = a_{i,j}^{(k)} - l_{i,k} a_{k,j}^{(k)}$\n",
    "<br>$\\quad\\quad$ end for\n",
    "<br>$\\quad\\quad b_i^{(k+1)} = b_i^{(k)} - l_{i,k} b_{k}^{(k)}$\n",
    "<br>$\\quad$ end for\n",
    "<br>end for"
   ]
  },
  {
   "cell_type": "markdown",
   "metadata": {},
   "source": [
    "## The naive Gaussian elimination algorithm, in Python\n",
    "\n",
    "Conversion to actual Python code is now quite straightforward; there is litle more to be done than:\n",
    "\n",
    "- Change the way that indices are described, from $b_i$ to `b[i]` and from $a_{i,j}$ to `A[i,j]`.\n",
    "\n",
    "- Use case consistently in array names, since the quirk in mathematical notation of using upper-case letters for matrix names but lower case letters for their elements is gone!\n",
    "In these notes, matrix names will be upper-case and vector names will be lower-case (even when a vector is considered as 1-column matrix).\n",
    "\n",
    "- Rather than create a new array for each matrix $A^{(0)}$, $A^{(0)}$, etc. and each vector $b^{(0)}$, $b^{(1)}$,\n",
    "we overwite each in the same array.\n",
    "\n",
    "**Aside:** We will see that this simplicity in translation is quite common once algorithms have been expressed with zero-based indexing. The main ugliness is with loops that count backwards; see below."
   ]
  },
  {
   "cell_type": "markdown",
   "metadata": {},
   "source": [
    "    for k in range(n-1):\n",
    "        for i in range(k+1, n):\n",
    "            L[i,k] = A[i,k] / A[k,k]\n",
    "            for j in range(k+1, n):\n",
    "                A[i,j] -= L[i,k] * A[k,j]\n",
    "            b[i] -= L[i,k] * b[k]"
   ]
  },
  {
   "cell_type": "markdown",
   "metadata": {},
   "source": [
    "To demonstrate this, some additions are needed:\n",
    "- Putting this algorithm into a function.\n",
    "- Getting the value $n$ needed for the loop, using the fact that it is the length of vector `b`.\n",
    "- Creating the array $L$.\n",
    "- Copying the input arrays `A` and `b` into new ones, `U` and `c`, so that the original arrays are not changed. That is, when the row reduction is completed, `U`  contains $A^{(n-1)}$ and `c` contains $b^{(n-1)}$.\n",
    "\n",
    "Also, for some demonstrations, the zero values below the main diagonal of `U` are inserted, though usually they would not be needed."
   ]
  },
  {
   "cell_type": "code",
   "execution_count": 5,
   "metadata": {},
   "outputs": [],
   "source": [
    "def rowReduce(A, b):\n",
    "    \"\"\"To avoid modifying the matrix and vector specified as input,\n",
    "    they are copied to new arrays, with the method .copy()\n",
    "    Warning: it does not work to say \"U = A\" and \"c = b\";\n",
    "    this makes these names synonyms, referring to the same stored data.\n",
    "    \"\"\"    \n",
    "    U = A.copy()\n",
    "    c = b.copy()\n",
    "    n = len(b)\n",
    "    # The function zeros_like() is used to create L with the same size and shape as A,\n",
    "    # and with all its elements zero initially.\n",
    "    L = np.zeros_like(A)\n",
    "    for k in range(n-1):\n",
    "        for i in range(k+1, n):\n",
    "            # compute all the L values for column k:\n",
    "            L[i,k] = U[i,k] / U[k,k]  # Beware the case where U[k,k] is 0\n",
    "            for j in range(k+1, n):\n",
    "                U[i,j] -= L[i,k] * U[k,j]\n",
    "\n",
    "            # Put in the zeros below the main diagonal in column k of U;\n",
    "            # this is not important for calculations, since those elements of U are not used in backward substitution,\n",
    "            # but it helps for displaying results and for checking the results via residuals.\n",
    "            U[i,k] = 0.\n",
    "\n",
    "            c[i] -= L[i,k] * c[k]\n",
    "    return (U, c)"
   ]
  },
  {
   "cell_type": "code",
   "execution_count": 6,
   "metadata": {},
   "outputs": [],
   "source": [
    "def zeros_below_diagonal(U):\n",
    "    \"\"\"Insert the below-diagonal zero values into U, ignored in the function rowReduce.\n",
    "    These are needed to display U correctly,\n",
    "    and to demonstrate that the new system of equations Ux=c$\\ has the same solution as Ax=b.\n",
    "    \"\"\"\n",
    "    for i in range(1,len(U)):\n",
    "        for j in range(i):\n",
    "            U[i,j] = 0"
   ]
  },
  {
   "cell_type": "markdown",
   "metadata": {},
   "source": [
    "**Note:** As usual, you could omit the above `def`s and instead import these functions with"
   ]
  },
  {
   "cell_type": "code",
   "execution_count": 7,
   "metadata": {},
   "outputs": [],
   "source": [
    "from numerical_methods_module import rowReduce\n",
    "#from numerical_methods_module import zeros_below_diagonal"
   ]
  },
  {
   "cell_type": "code",
   "execution_count": 8,
   "metadata": {},
   "outputs": [
    {
     "name": "stdout",
     "output_type": "stream",
     "text": [
      "U =\n",
      "[[  4.     2.     7.  ]\n",
      " [  3.     3.5  -11.25]\n",
      " [  1.    -3.5  -11.  ]]\n",
      "c = [2.  1.5 5. ]\n"
     ]
    }
   ],
   "source": [
    "(U, c) = rowReduce(A, b)\n",
    "#zeros_below_diagonal(U)\n",
    "print(f\"U =\\n{U}\")\n",
    "print(f\"c = {c}\")"
   ]
  },
  {
   "cell_type": "markdown",
   "metadata": {},
   "source": [
    "Let's take advantage of the fact that we have used `la.solve` to get a very accurate approxiamti oof teh solution x\n",
    "of $Ax=b$; this should also solve $Ux=c$, so chej the backward error, a.k.a. the *residual*:"
   ]
  },
  {
   "cell_type": "code",
   "execution_count": 9,
   "metadata": {},
   "outputs": [
    {
     "name": "stdout",
     "output_type": "stream",
     "text": [
      "\n",
      "The residual (backward error) c-Ux is [ 0.         -5.43506494 -5.42532468], with maximum norm 5.4350649350649345.\n"
     ]
    }
   ],
   "source": [
    "r = c - U@x\n",
    "print(f\"\\nThe residual (backward error) c-Ux is {r}, with maximum norm {max(abs(r))}.\")"
   ]
  },
  {
   "cell_type": "markdown",
   "metadata": {},
   "source": [
    "### Python Note 5. Operations on a sequence of array indices, with \"slicing\": vectorization\n",
    "\n",
    "Python code can specify vector operations on a range of indices $[c,d)$, referred to withthe slice notaiton `c:d`.\n",
    "For example, the *slice* notation `A[c:d,j]` refers to the array containing the $d-c$ elements `A[i,j]` for $i$ in the semi-open interval $[c,d)$.\n",
    "\n",
    "Thus, each of the three arithmetic calculations above can be specified over a range of index values in a single command, eliminating all the inner-most `for` loops;\n",
    "this is somtimes called *vectorization*.\n",
    "Only `for` loops that contains other `for` loops remain.\n",
    "\n",
    "Apart from mathematical elegance, this usually allows far faster execution."
   ]
  },
  {
   "cell_type": "markdown",
   "metadata": {},
   "source": [
    "    for k in range(n-1):\n",
    "        L[k+1:n,k] = U[k+1:n,k] / U[k,k]  # compute all the L values for column k\n",
    "        for i in range(k+1, n):\n",
    "            U[i,k+1:n] -= L[i,k] * U[k,k+1:n]  # Update row i\n",
    "        c[k+1:n] -= L[k+1:n,k] * c[k]  # update c values"
   ]
  },
  {
   "cell_type": "markdown",
   "metadata": {},
   "source": [
    "I will break my usual guideline by redefining `rowReduce`, since this is just a different statement of exactly the same algorithm:"
   ]
  },
  {
   "cell_type": "code",
   "execution_count": 10,
   "metadata": {},
   "outputs": [],
   "source": [
    "def rowReduce(A, b):\n",
    "    \"\"\"To avoid modifying the matrix and vector specified as input,\n",
    "    they are copied to new arrays, with the method .copy()\n",
    "    Warning: it does not work to say \"U = A\" and \"c = b\";\n",
    "    this makes these names synonyms, referring to the same stored data.\n",
    "    \"\"\"    \n",
    "    U = A.copy()\n",
    "    c = b.copy()\n",
    "    n = len(b)\n",
    "    # The function zeros_like() is used to create L with the same size and shape as A,\n",
    "    # and with all its elements zero initially.\n",
    "    L = zeros_like(A)\n",
    "    for k in range(n-1):\n",
    "        # compute all the L values for column k:\n",
    "        L[k+1:n,k] = U[k+1:n,k] / U[k,k]  # Beware the case where U[k,k] is 0\n",
    "        for i in range(k+1, n):\n",
    "            U[i,k+1:n] -= L[i,k] * U[k,k+1:n]  # Update row i\n",
    "       \n",
    "            # Insert the below-diagonal zeros in column k;\n",
    "            # this is not important for calculations, since those elements of U are not used in backward substitution,\n",
    "            # but it helps for displaying results and for checking the results via residuals.\n",
    "            U[i,k] = 0.0\n",
    "\n",
    "        c[k+1:n] -= L[k+1:n,k] * c[k]  # update c values\n",
    "    return (U, c)"
   ]
  },
  {
   "cell_type": "markdown",
   "metadata": {},
   "source": [
    "**UPDATE:** this was further updated on March 7 as follows, mainly to add `demoMode`."
   ]
  },
  {
   "cell_type": "code",
   "execution_count": 11,
   "metadata": {},
   "outputs": [],
   "source": [
    "def rowReduce(A, b, demoMode=False):\n",
    "    \"\"\"To avoid modifying the matrix and vector specified as input,\n",
    "    they are copied to new arrays, with the method .copy()\n",
    "    Warning: it does not work to say \"U = A\" and \"c = b\";\n",
    "    this makes these names synonyms, referring to the same stored data.\n",
    "    \n",
    "    2021-03-07: added a demonstration mode.\n",
    "    \"\"\"    \n",
    "    U = A.copy()\n",
    "    c = b.copy()\n",
    "    n = len(b)\n",
    "    # The function zeros_like() is used to create L with the same size and shape as A,\n",
    "    # and with all its elements zero initially.\n",
    "    L = np.zeros_like(A)\n",
    "    for k in range(n-1):\n",
    "        if demoMode: print(f\"Step {k=}\")\n",
    "        # compute all the L values for column k:\n",
    "        L[k+1:,k] = U[k+1:n,k] / U[k,k]  # Beware the case where U[k,k] is 0\n",
    "        if demoMode:\n",
    "            print(f\"The multipliers in column {k+1} are {L[k+1:,k]}\")\n",
    "        for i in range(k+1, n):\n",
    "            U[i,k+1:n] -= L[i,k] * U[k,k+1:n]  # Update row i\n",
    "      \n",
    "            # Insert the below-diagonal zeros in column k;\n",
    "            # this is not important for calculations, since those elements of U are not used in backward substitution,\n",
    "            # but it helps for displaying results and for checking the results via residuals.\n",
    "            U[i,k] = 0.0\n",
    "\n",
    "        c[k+1:n] -= L[k+1:n,k] * c[k]  # update c values\n",
    "        if demoMode:\n",
    "            # insert zeros in U:\n",
    "            U[k+1:, k] = 0.\n",
    "            print(f\"The updated matrix is\\n{U}\")\n",
    "            print(f\"The updated right-hand side is\\n{c}\")\n",
    "    return (U, c)"
   ]
  },
  {
   "cell_type": "markdown",
   "metadata": {},
   "source": [
    "**UPDATE:** this was updated yet again on March 17, with further vectorization, eliminating the `for` loop over `i`."
   ]
  },
  {
   "cell_type": "code",
   "execution_count": 12,
   "metadata": {},
   "outputs": [],
   "source": [
    "def rowReduce(A, b, demoMode=False):\n",
    "    \"\"\"To avoid modifying the matrix and vector specified as input,\n",
    "    they are copied to new arrays, with the method .copy()\n",
    "    Warning: it does not work to say \"U = A\" and \"c = b\";\n",
    "    this makes these names synonyms, referring to the same stored data.\n",
    "    \n",
    "    2021-03-07: added a demonstration mode.\n",
    "    2021-03-17: added further \"vectorization\", eliminating the loop over i\n",
    "    \n",
    "    \"\"\"    \n",
    "    U = A.copy()\n",
    "    c = b.copy()\n",
    "    n = len(b)\n",
    "    # The function zeros_like() is used to create L with the same size and shape as A,\n",
    "    # and with all its elements zero initially.\n",
    "    L = np.zeros_like(A)\n",
    "    for k in range(n-1):\n",
    "        if demoMode: print(f\"Step {k=}\")\n",
    "        # compute all the L values for column k:\n",
    "        L[k+1:,k] = U[k+1:n,k] / U[k,k]  # Beware the case where U[k,k] is 0\n",
    "        if demoMode:\n",
    "            print(f\"The multipliers in column {k+1} are {L[k+1:,k]}\")\n",
    "        # In the following, the index \"k:k+1\" refers to the single value k,\n",
    "        # but is needed to make it clear that\n",
    "        #    - L[k+1:n,k:k+1] is a matrix with one column (not a vector), and\n",
    "        #    -  U[k:k+1,k+1:n] is a matrix with one row (not a vector),\n",
    "        # to get the appropriate matrix multiplicaton\n",
    "        U[k+1:n,k+1:n] -= L[k+1:n,k:k+1] @ U[k:k+1,k+1:n]\n",
    "\n",
    "        # Insert the below-diagonal zeros in column k;\n",
    "        # this is not important for calculations, since those elements of U are not used in backward substitution,\n",
    "        # but it helps for displaying results and for checking the results via residuals.\n",
    "        U[k+1:n,k] = 0.0\n",
    "        \n",
    "        c[k+1:n] -= L[k+1:n,k] * c[k]  # update c values\n",
    "        if demoMode:\n",
    "            U[k+1:n, k] = 0. # insert zeros in couln k of U:\n",
    "            print(f\"The updated matrix is\\n{U}\")\n",
    "            print(f\"The updated right-hand side is\\n{c}\")\n",
    "    return (U, c)"
   ]
  },
  {
   "cell_type": "code",
   "execution_count": 13,
   "metadata": {},
   "outputs": [],
   "source": [
    "def zeros_below_diagonal(U):\n",
    "    \"\"\"Insert the below-diagonal zero values into U, ignored in the function rowReduce.\n",
    "    These are needed to display U correctly,\n",
    "    and to demonstrate that the new system of equations Ux=c has the same solution as Ax=b.\n",
    "    \"\"\"\n",
    "    for i in range(1,len(U)):\n",
    "        U[i,:i] = 0."
   ]
  },
  {
   "cell_type": "markdown",
   "metadata": {},
   "source": [
    "Repeating the above testing:"
   ]
  },
  {
   "cell_type": "code",
   "execution_count": 14,
   "metadata": {},
   "outputs": [
    {
     "name": "stdout",
     "output_type": "stream",
     "text": [
      "Step k=0\n",
      "The multipliers in column 1 are [0.75 0.25]\n",
      "The updated matrix is\n",
      "[[  4.     2.     7.  ]\n",
      " [  0.     3.5  -11.25]\n",
      " [  0.    -3.5    0.25]]\n",
      "The updated right-hand side is\n",
      "[2.  1.5 3.5]\n",
      "Step k=1\n",
      "The multipliers in column 2 are [-1.]\n",
      "The updated matrix is\n",
      "[[  4.     2.     7.  ]\n",
      " [  0.     3.5  -11.25]\n",
      " [  0.     0.   -11.  ]]\n",
      "The updated right-hand side is\n",
      "[2.  1.5 5. ]\n",
      "U =\n",
      "[[  4.     2.     7.  ]\n",
      " [  0.     3.5  -11.25]\n",
      " [  0.     0.   -11.  ]]\n",
      "c = [2.  1.5 5. ]\n",
      "\n",
      "The residual (backward error) c - Ux is [0. 0. 0.], with maximum norm 0.0.\n"
     ]
    }
   ],
   "source": [
    "(U, c) = rowReduce(A, b, demoMode=True)\n",
    "#zeros_below_diagonal(U)\n",
    "r = c - U@x\n",
    "print(f\"U =\\n{U}\")\n",
    "print(f\"c = {c}\")\n",
    "print(f\"\\nThe residual (backward error) c - Ux is {r}, with maximum norm {max(abs(r))}.\")"
   ]
  },
  {
   "cell_type": "markdown",
   "metadata": {},
   "source": [
    "## Backward substitution with an upper triangular matrix\n",
    "\n",
    "The transformed equations have the form\n",
    "\n",
    "$$\n",
    "\\begin{split}\n",
    "u_{1,1} x_1 + u_{1,2} x_2 +  u_{1,3} x_3 + \\cdots  + u_{1,n} x_n &= c_1 \\\\\n",
    "\\vdots \\\\\n",
    "u_{i,i} x_i + u_{i+1,i+1} x_{i+1} + \\cdots + u_{i,n} x_n &= c_i \\\\\n",
    "\\vdots \\\\\n",
    "u_{n-1,n-1} x_{n-1} + u_{n-1,n} x_{n} &= c_{n-1} \\\\\n",
    "u_{nn} x_n &= c_n \\\\\n",
    "\\end{split}\n",
    "$$\n",
    "\n",
    "and can be solved from bottom up, starting with $x_n = c_n/u_{n,n}$.\n",
    "\n",
    "All but the last equation can be written as\n",
    "\n",
    "$$\n",
    "u_{i,i}x_i + \\sum_{j=i+1}^{n} u_{i,j} x_j = c_i, \\; 1 \\leq i \\leq n-1\n",
    "$$\n",
    "\n",
    "and so solved as\n",
    "\n",
    "$$\n",
    "x_i = \\frac{c_i - \\sum_{j=i+1}^{n} u_{i,j} x_j}{u_{i,i}},\n",
    "\\qquad \\textbf{ If } u_{i,i} \\neq 0\n",
    "$$"
   ]
  },
  {
   "cell_type": "markdown",
   "metadata": {},
   "source": [
    "This procedure is *backward substitution*, giving the algorithm\n",
    "\n",
    "$x_n = c_n/u_{n,n}$\n",
    "<br>for i from n-1 down to 1\n",
    "<br>$\\displaystyle \\quad x_i = \\frac{c_i - \\sum_{j=i+1}^{n} u_{i,j} x_j}{u_{i,i}}$\n",
    "<br>end for"
   ]
  },
  {
   "cell_type": "markdown",
   "metadata": {},
   "source": [
    "This works so long as none of the main diagonal terms $u_{i,i}$ is zero, because when done in this order, everything on the right hand side is known by the time it is evaluated.\n",
    "\n",
    "For future reference, note that the elements $u_{k,k}$ that must be non-zero here, the ones on the **main diagonal** of $U$, are the same as the elements $a_{k,k}^{(k)}$ that must be non-zero in the row reduction stage above, because after stage $k$, the elements of row $k$ do not change any more: $a_{k,k}^{(k)} = a_{k,k}^{(n-1)} = u_{k,k}$."
   ]
  },
  {
   "cell_type": "markdown",
   "metadata": {},
   "source": [
    "## The backward substitution algorithm in zero-based pseudo-code\n",
    "\n",
    "Again, a zero-based version is more convenient for programming in Python (or Java, or C++):\n",
    "\n",
    "$x_{n-1} = c_{n-1}/u_{n-1,n-1}$\n",
    "<br>for i from n-2 down to 0\n",
    "<br>$\\displaystyle \\quad x_i = \\frac{c_i - \\sum_{j=i+1}^{n-1} u_{i,j} x_j}{u_{i,i}}$\n",
    "<br>end for"
   ]
  },
  {
   "cell_type": "markdown",
   "metadata": {},
   "source": [
    "### Python Note 6. Indexing from the end of an array and counting backwards\n",
    "\n",
    "To express the above backwards counting in Python, we have to deal with the fact that `range(a,b)` counts upwards and excludes the \"end value\" `b`.\n",
    "The first part is easy: the extended form `range(a, b, step)` increments by `step` instead of by one, so that `range(a, b, 1)` is the same as `range(a,b)`, and `range(a, b, -1)` counts down: $a, a-1, \\dots, b+1$.\n",
    "\n",
    "But it still stops just before $b$, so getting the values from $n-1$ down to $0$ requires using $b= -1$, and so the slightly quirky expression `range(n-1, -1, -1)`.\n",
    "\n",
    "One more bit of Python: for an $n$-element single-index array `v`, the sum of its elements $\\sum_{i=0}^{n-1} v_i$ is given by `sum(v)`.\n",
    "Thus $\\sum_{i=a}^{b-1} v_i$, the sum over a subset of indices $[a,b)$, is given by `sum(v[a:b])`.\n",
    "\n",
    "And remember that multiplication of Numpy arrays with `*` is pointwise."
   ]
  },
  {
   "cell_type": "markdown",
   "metadata": {},
   "source": [
    "### The backward substitution algorithm in Python\n",
    "\n",
    "With all the above Python details, the core code for backward substitution is:\n",
    "\n",
    "    x[n-1] = c[n-1]/U[n-1,n-1]\n",
    "    for i in range(n-2, -1, -1):\n",
    "        x[i] = (c[i] - sum(U[i,i+1:] * x[i+1:])) / U[i,i]"
   ]
  },
  {
   "cell_type": "markdown",
   "metadata": {},
   "source": [
    "**Aside/preview:** Note that the backward substitution algorithm and its Python coding have a nice mathematical advantage over the row reduction algorithm above: the precise mathematical statement of the algorithm does not need any intermediate quantities distinguished by superscripts ${}^{(k)}$, and correspondingly, all variables in the code have fixed meanings, rather than changing at each step.\n",
    "\n",
    "In other words, all uses of the equal sign are mathematically correct as equations!\n",
    "\n",
    "This can be advantageous in creating algorithms and code that is more understandable and more readily verified to be correct, and is an aspect of the *functional programming* approach.\n",
    "We will soon go part way to that *functional* ideal, by rephrasing Gaussian elimination in a form where all variables have clear, fixed meanings, corresponding to the natural mathematical description of the process: the method of **LU factorization** to be seen in Section 8.1 of the text **Numerical Mathematics and Computing**."
   ]
  },
  {
   "cell_type": "markdown",
   "metadata": {},
   "source": [
    "### Python Note 7. Another way to count backwards along an array\n",
    "\n",
    "On the other hand, there is an elegant way access array elements \"from the top down\".\n",
    "Firstly (or \"lastly\") `x[-1]` is the last element: the same as `x[n-1]` when `n = len(x)`, but without needing to know that length $n$.\n",
    "\n",
    "More generally, `x[-i]` is `x[n-i]`.\n",
    "\n",
    "Thus, one possibly more elegant way to describe backward substitution is to count with an increasing index, the \"distance from the bottom\":\n",
    "from `x[n-1]` which is `x[-1]` to `x[0]`, which is `x[-n]`.\n",
    "That is, index `-i` replaces index $n - i$: \n",
    "\n",
    "    x[-1] = c[-1]/U[-1,-1]\n",
    "    for i in range(2, n+1):\n",
    "        x[-i] = (c[-i] - sum(U[-i,1-i:] * x[1-i:])) / U[-i,-i]\n",
    "\n",
    "There is still the quirk of having to \"overshoot\", referring to `n+1` in `range` to get to final index `-n`."
   ]
  },
  {
   "cell_type": "markdown",
   "metadata": {},
   "source": [
    "As a final demonstration, we put this second version of the code into a complete working Python function and test it:"
   ]
  },
  {
   "cell_type": "code",
   "execution_count": 15,
   "metadata": {},
   "outputs": [],
   "source": [
    "def backwardSubstitution(U, c):\n",
    "    x = np.zeros_like(c)\n",
    "    x[-1] = c[-1]/U[-1,-1]\n",
    "    for i in range(2, len(x) + 1):\n",
    "        x[-i] = (c[-i] - sum(U[-i,1-i:] * x[1-i:])) / U[-i,-i]\n",
    "    return x"
   ]
  },
  {
   "cell_type": "markdown",
   "metadata": {},
   "source": [
    "**UPDATE:** this was updated on March 7 as follows, mainly to add `demoMode`."
   ]
  },
  {
   "cell_type": "code",
   "execution_count": 16,
   "metadata": {},
   "outputs": [],
   "source": [
    "def backwardSubstitution(U, c, demoMode=False):\n",
    "    \"\"\"Solve U x = c for b.\n",
    "    \n",
    "    2021-03-07: aded a demonstration mode.\n",
    "    \"\"\"\n",
    "    n = len(c)\n",
    "    x = np.zeros(n)\n",
    "    x[-1] = c[-1]/U[-1,-1]\n",
    "    if demoMode: print(f\"x_{n} = {x[-1]}\")\n",
    "    for i in range(2, n+1):\n",
    "        x[-i] = (c[-i] - sum(U[-i,1-i:] * x[1-i:])) / U[-i,-i]\n",
    "        if demoMode: print(f\"x_{n-i+1} = {x[-i]}\")\n",
    "    return x"
   ]
  },
  {
   "cell_type": "markdown",
   "metadata": {},
   "source": [
    "also available via"
   ]
  },
  {
   "cell_type": "code",
   "execution_count": 17,
   "metadata": {},
   "outputs": [],
   "source": [
    "from numerical_methods_module import backwardSubstitution"
   ]
  },
  {
   "cell_type": "code",
   "execution_count": 18,
   "metadata": {},
   "outputs": [
    {
     "name": "stdout",
     "output_type": "stream",
     "text": [
      "x = [ 1.81168831 -1.03246753 -0.45454545]\n",
      "\n",
      "The residual b - Ax = [ 0.0000000e+00 -4.4408921e-16  8.8817842e-16],\n",
      "with maximum norm 8.88e-16.\n"
     ]
    }
   ],
   "source": [
    "x = backwardSubstitution(U, c)\n",
    "print(f\"x = {x}\")\n",
    "r = b - A@x\n",
    "print(f\"\\nThe residual b - Ax = {r},\")\n",
    "print(f\"with maximum norm {max(abs(r)):.3}.\")"
   ]
  },
  {
   "cell_type": "markdown",
   "metadata": {},
   "source": [
    "## Two code testing hacks: starting from a known solution, and using randomly generated examples\n",
    "\n",
    "An often useful strategy in developing and testing code is to create a test case with a known solution;\n",
    "another is to use random numbers to avoid accidently using a test case that in unusually easy."
   ]
  },
  {
   "cell_type": "code",
   "execution_count": 19,
   "metadata": {},
   "outputs": [],
   "source": [
    "# Prefered style is to have all \"import\" statements at the top,\n",
    "# but since this is the first time we've heard of module 'random',\n",
    "# I did not want it to be mentioned mysteriously above.\n",
    "import random"
   ]
  },
  {
   "cell_type": "code",
   "execution_count": 20,
   "metadata": {},
   "outputs": [
    {
     "name": "stdout",
     "output_type": "stream",
     "text": [
      "x_random = [-0.12411689 -0.15377245  0.42636405]\n"
     ]
    }
   ],
   "source": [
    "x_random = empty(len(b))  # An array the same length as b, with no values specified yet\n",
    "for i in range(len(x)):\n",
    "    x_random[i] = random.uniform(-1, 1)  # gives random real value, from uniform distribution in [-1, 1]\n",
    "print(f\"x_random = {x_random}\")"
   ]
  },
  {
   "cell_type": "markdown",
   "metadata": {},
   "source": [
    "Create a right-hand side b that automatically makes `x_random` the correct solution:"
   ]
  },
  {
   "cell_type": "code",
   "execution_count": 21,
   "metadata": {},
   "outputs": [],
   "source": [
    "b_random = A @ x_random"
   ]
  },
  {
   "cell_type": "code",
   "execution_count": 22,
   "metadata": {},
   "outputs": [
    {
     "name": "stdout",
     "output_type": "stream",
     "text": [
      "A =\n",
      "[[ 4.  2.  7.]\n",
      " [ 3.  5. -6.]\n",
      " [ 1. -3.  2.]]\n",
      "\n",
      "b_random = [ 2.18053587 -3.69939722  1.18992855]\n",
      "\n",
      "U=\n",
      "[[  4.     2.     7.  ]\n",
      " [  0.     3.5  -11.25]\n",
      " [  0.     0.   -11.  ]]\n",
      "\n",
      "Residual c_random - U@x_random = [0. 0. 0.]\n",
      "\n",
      "x_computed = [-0.12411689 -0.15377245  0.42636405]\n",
      "\n",
      "Residual b_random - A@x_computed = [0. 0. 0.]\n",
      "\n",
      "Backward error |b_random - A@x_computed| = 0.0\n",
      "\n",
      "Error x_random - x_computed = [0. 0. 0.]\n",
      "\n",
      "Absolute error |x_random - x_computed| = 0.0\n"
     ]
    }
   ],
   "source": [
    "print(f\"A =\\n{A}\")\n",
    "print(f\"\\nb_random = {b_random}\")\n",
    "(U, c_random) = rowReduce(A, b_random)\n",
    "#zeros_below_diagonal(U)\n",
    "print(f\"\\nU=\\n{U}\")\n",
    "print(f\"\\nResidual c_random - U@x_random = {c_random - U@x_random}\")\n",
    "x_computed = backwardSubstitution(U, c_random)\n",
    "print(f\"\\nx_computed = {x_computed}\")\n",
    "print(f\"\\nResidual b_random - A@x_computed = {b_random - A@x_computed}\")\n",
    "print(f\"\\nBackward error |b_random - A@x_computed| = {max(abs(b_random - A@x_computed))}\")\n",
    "print(f\"\\nError x_random - x_computed = {x_random - x_computed}\")\n",
    "print(f\"\\nAbsolute error |x_random - x_computed| = {max(abs(x_random - x_computed))}\")"
   ]
  },
  {
   "cell_type": "markdown",
   "metadata": {},
   "source": [
    "## What can go wrong? Three examples"
   ]
  },
  {
   "cell_type": "markdown",
   "metadata": {},
   "source": [
    "### Example 1\n",
    "#### An obvious division by zero problem\n",
    "\n",
    "Consider the system of two equations\n",
    "\n",
    "$$\\begin{split}\n",
    "x_2 &= 1\n",
    "\\\\\n",
    "x_1 + x_2 &= 2\n",
    "\\end{split}$$"
   ]
  },
  {
   "cell_type": "markdown",
   "metadata": {},
   "source": [
    "It is easy to see that this has the solution $x_1 = x_2 = 1$;\n",
    "in fact it is already in \"reduced form\".\n",
    "However when put into matrix form\n",
    "\n",
    "$$\n",
    "\\left[\\begin{array}{rr} 0 & 1 \\\\ 1 & 1 \\end{array}\\right]\n",
    "\\left[\\begin{array}{r} x_1 \\\\ x_2 \\end{array}\\right] = \\left[\\begin{array}{r} 1 \\\\ 2 \\end{array}\\right]\n",
    "$$\n",
    "\n",
    "the above algorithm fails, because the fist *pivot element* $a_{11}$ is zero:"
   ]
  },
  {
   "cell_type": "code",
   "execution_count": 23,
   "metadata": {},
   "outputs": [
    {
     "name": "stdout",
     "output_type": "stream",
     "text": [
      "U1 = \n",
      "[[  0.   1.]\n",
      " [  0. -inf]]\n",
      "c1 = [  1. -inf]\n",
      "x1 = [nan nan]\n"
     ]
    },
    {
     "name": "stderr",
     "output_type": "stream",
     "text": [
      "<ipython-input-12-a7d463b36315>:20: RuntimeWarning: divide by zero encountered in true_divide\n",
      "  L[k+1:,k] = U[k+1:n,k] / U[k,k]  # Beware the case where U[k,k] is 0\n",
      "/Users/lemesurierb/OneDrive - College of Charleston/UNCo-MATH375/elementary-numerical-analysis-python/python_notebooks_modules/numerical_methods_module.py:388: RuntimeWarning: invalid value encountered in double_scalars\n",
      "  x[-1] = c[-1]/U[-1,-1]\n"
     ]
    }
   ],
   "source": [
    "A1 = array([[0., 1.], [1. , 1.]])\n",
    "b1 = array([1., 1.])\n",
    "(U1, c1) = rowReduce(A1, b1)\n",
    "#zeros_below_diagonal(U1)\n",
    "print(f\"U1 = \\n{U1}\")\n",
    "print(f\"c1 = {c1}\")\n",
    "x1 = backwardSubstitution(U1, c1)\n",
    "print(f\"x1 = {x1}\")"
   ]
  },
  {
   "cell_type": "markdown",
   "metadata": {},
   "source": [
    "**Python Note 8.**\n",
    "- `inf`, meaning \"infinity\", is a special value given as the result of operations like division by zero.\n",
    "Surprisingly, it can have a sign!\n",
    "(This is available in Python from package Numpy as `numpy.inf`)\n",
    "- `nan`, meaning \"not a number\", is a special value given as the result of calculations like `0/0`.\n",
    "(This is available in Python from package Numpy as `numpy.nan`)"
   ]
  },
  {
   "cell_type": "markdown",
   "metadata": {},
   "source": [
    "### Example 2\n",
    "#### A less obvious division by zero problem\n",
    "\n",
    "Next consider this system\n",
    "\n",
    "$$\n",
    "\\left[\\begin{array}{rrr} 1 & 1 & 1 \\\\ 1 & 1 & 2 \\\\ 1 & 2 & 2 \\end{array}\\right]\n",
    "\\left[\\begin{array}{r} x_1 \\\\ x_2 \\\\ x_3 \\end{array}\\right] = \\left[\\begin{array}{r} 3 \\\\ 4 \\\\ 5 \\end{array}\\right]\n",
    "$$\n",
    "\n",
    "The solution is $x_1 = x_2 = x_3 = 1$, and this time none of th diagonal elements is zero,\n",
    "so it is not so obvoius that a divisin be zero probelms will occur, but:"
   ]
  },
  {
   "cell_type": "code",
   "execution_count": 24,
   "metadata": {},
   "outputs": [],
   "source": [
    "A2 = array([[1., 1., 1.], [1., 1., 2.],[1., 2., 2.]])\n",
    "b2 = array([3., 4., 5.])"
   ]
  },
  {
   "cell_type": "code",
   "execution_count": 25,
   "metadata": {},
   "outputs": [
    {
     "name": "stdout",
     "output_type": "stream",
     "text": [
      "U2 = \n",
      "[[  1.   1.   1.]\n",
      " [  0.   0.   1.]\n",
      " [  0.   0. -inf]]\n",
      "c2 = [  3.   1. -inf]\n",
      "x2 = [nan nan nan]\n"
     ]
    },
    {
     "name": "stderr",
     "output_type": "stream",
     "text": [
      "<ipython-input-12-a7d463b36315>:20: RuntimeWarning: divide by zero encountered in true_divide\n",
      "  L[k+1:,k] = U[k+1:n,k] / U[k,k]  # Beware the case where U[k,k] is 0\n"
     ]
    }
   ],
   "source": [
    "(U2, c2) = rowReduce(A2, b2)\n",
    "#zeros_below_diagonal(U2)\n",
    "print(f\"U2 = \\n{U2}\")\n",
    "print(f\"c2 = {c2}\")\n",
    "x2 = backwardSubstitution(U2, c2)\n",
    "print(f\"x2 = {x2}\")"
   ]
  },
  {
   "cell_type": "markdown",
   "metadata": {},
   "source": [
    "What happens here is that the first stage subtracts the first row from each of the others ..."
   ]
  },
  {
   "cell_type": "code",
   "execution_count": 26,
   "metadata": {},
   "outputs": [],
   "source": [
    "A2[1,:] -= A2[0,:]\n",
    "b2[1] -= b2[0]\n",
    "A2[2,:] -= A2[0,:]\n",
    "b2[2] -= b2[0]"
   ]
  },
  {
   "cell_type": "markdown",
   "metadata": {},
   "source": [
    "... and the new matrix has the same problem as above at the next stage:"
   ]
  },
  {
   "cell_type": "code",
   "execution_count": 27,
   "metadata": {},
   "outputs": [
    {
     "name": "stdout",
     "output_type": "stream",
     "text": [
      "Now A2 is \n",
      "[[1. 1. 1.]\n",
      " [0. 0. 1.]\n",
      " [0. 1. 1.]]\n",
      "and b2 is [3. 1. 2.]\n"
     ]
    }
   ],
   "source": [
    "print(f\"Now A2 is \\n{A2}\")\n",
    "print(f\"and b2 is {b2}\")"
   ]
  },
  {
   "cell_type": "markdown",
   "metadata": {},
   "source": [
    "Thus, the second and third equations are\n",
    "\n",
    "$$\n",
    "\\left[\\begin{array}{rr} 0 & 1 \\\\ 1 & 1 \\end{array}\\right]\n",
    "\\left[\\begin{array}{r} x_2 \\\\ x_3 \\end{array}\\right] = \\left[\\begin{array}{r} 1 \\\\ 2 \\end{array}\\right]\n",
    "$$\n",
    "\n",
    "with the same problem as in Example 1."
   ]
  },
  {
   "cell_type": "markdown",
   "metadata": {},
   "source": [
    "### Example 3\n",
    "#### Problems caused by inexact arithmetic\n",
    "\n",
    "The equations\n",
    "\n",
    "$$\n",
    "\\left[\\begin{array}{rr} 1 & 10^{16} \\\\ 1 & 1 \\end{array}\\right]\n",
    "\\left[\\begin{array}{r} x_1 \\\\ x_2 \\end{array}\\right] = \\left[\\begin{array}{r} 1+10^{16} \\\\ 2 \\end{array}\\right]\n",
    "$$\n",
    "\n",
    "again have the solution $x_1 = x_2 = 1$, and the only division that happens in the above algorithm for row reduction is by that pivot element $a_{11} = 1, \\neq 0$, so with exact arithmetic, all would be well. But:"
   ]
  },
  {
   "cell_type": "code",
   "execution_count": 28,
   "metadata": {},
   "outputs": [
    {
     "name": "stdout",
     "output_type": "stream",
     "text": [
      "A3 = \n",
      "[[1.e+00 1.e+16]\n",
      " [1.e+00 1.e+00]]\n",
      "b3 = [1.e+16 2.e+00]\n"
     ]
    }
   ],
   "source": [
    "A3 = array([[1., 1e16], [1. , 1.]])\n",
    "b3 = array([1. + 1e16, 2.])\n",
    "print(f\"A3 = \\n{A3}\")\n",
    "print(f\"b3 = {b3}\")"
   ]
  },
  {
   "cell_type": "code",
   "execution_count": 29,
   "metadata": {},
   "outputs": [
    {
     "name": "stdout",
     "output_type": "stream",
     "text": [
      "U3 = \n",
      "[[ 1.e+00  1.e+16]\n",
      " [ 0.e+00 -1.e+16]]\n",
      "c3 = [ 1.e+16 -1.e+16]\n",
      "x3 = [2. 1.]\n"
     ]
    }
   ],
   "source": [
    "(U3, c3) = rowReduce(A3, b3)\n",
    "#zeros_below_diagonal(U3)\n",
    "print(f\"U3 = \\n{U3}\")\n",
    "print(f\"c3 = {c3}\")\n",
    "x3 = backwardSubstitution(U3, c3)\n",
    "print(f\"x3 = {x3}\")"
   ]
  },
  {
   "cell_type": "markdown",
   "metadata": {},
   "source": [
    "This gets $x_2 = 1$ correct, but $x_1$ is completely wrong!\n",
    "\n",
    "One hint is that $b_1$, which should be $1 + 10^{16} = 1000000000000001$, is instead just given as $10^{16}$."
   ]
  },
  {
   "cell_type": "markdown",
   "metadata": {},
   "source": [
    "On the other hand, all is well with less large values, like $10^{15}$:"
   ]
  },
  {
   "cell_type": "code",
   "execution_count": 30,
   "metadata": {},
   "outputs": [
    {
     "name": "stdout",
     "output_type": "stream",
     "text": [
      "A3a = \n",
      "[[1.e+00 1.e+15]\n",
      " [1.e+00 1.e+00]]\n",
      "b3a = [1.e+15 2.e+00]\n"
     ]
    }
   ],
   "source": [
    "A3a = array([[1., 1e15], [1. , 1.]])\n",
    "b3a = array([1. + 1e15, 2.])\n",
    "print(f\"A3a = \\n{A3a}\")\n",
    "print(f\"b3a = {b3a}\")"
   ]
  },
  {
   "cell_type": "code",
   "execution_count": 31,
   "metadata": {},
   "outputs": [
    {
     "name": "stdout",
     "output_type": "stream",
     "text": [
      "U3a = \n",
      "[[ 1.e+00  1.e+15]\n",
      " [ 0.e+00 -1.e+15]]\n",
      "c3a = [ 1.e+15 -1.e+15]\n",
      "x3a = [1. 1.]\n"
     ]
    }
   ],
   "source": [
    "(U3a, c3a) = rowReduce(A3a, b3a)\n",
    "#zeros_below_diagonal(U3a)\n",
    "print(f\"U3a = \\n{U3a}\")\n",
    "print(f\"c3a = {c3a}\")\n",
    "x3a = backwardSubstitution(U3a, c3a)\n",
    "print(f\"x3a = {x3a}\")"
   ]
  },
  {
   "cell_type": "markdown",
   "metadata": {},
   "source": [
    "### Example 4\n",
    "#### Avoiding small denominators\n",
    "\n",
    "The first equation is Example 3 can be divided by $10^{16}$ to get an equivalent system with the same problem:\n",
    "\n",
    "$$\n",
    "\\left[\\begin{array}{rr} 10^{-16} & 1 \\\\ 1 & 1 \\end{array}\\right]\n",
    "\\left[\\begin{array}{r} x_1 \\\\ x_2 \\end{array}\\right] = \\left[\\begin{array}{r} 1+10^{-16} \\\\ 2 \\end{array}\\right]\n",
    "$$\n",
    "\n",
    "Now the problem is more obvious: this system differs from the system in Example 1 just by a tiny change of $10^{-16}$ in that pivot elements $a_{11}$, and the problem is *division by a value very close to zero*."
   ]
  },
  {
   "cell_type": "code",
   "execution_count": 32,
   "metadata": {},
   "outputs": [
    {
     "name": "stdout",
     "output_type": "stream",
     "text": [
      "A4 = \n",
      "[[1.e-16 1.e+00]\n",
      " [1.e+00 1.e+00]]\n",
      "b4 = [1. 2.]\n"
     ]
    }
   ],
   "source": [
    "A4 = array([[1e-16, 1.], [1. , 1.]])\n",
    "b4 = array([1. + 1e-16, 2.])\n",
    "print(f\"A4 = \\n{A4}\")\n",
    "print(f\"b4 = {b4}\")"
   ]
  },
  {
   "cell_type": "code",
   "execution_count": 33,
   "metadata": {},
   "outputs": [
    {
     "name": "stdout",
     "output_type": "stream",
     "text": [
      "U4 = \n",
      "[[ 1.e-16  1.e+00]\n",
      " [ 0.e+00 -1.e+16]]\n",
      "c4 = [ 1.e+00 -1.e+16]\n",
      "x4 = [2.22044605 1.        ]\n"
     ]
    }
   ],
   "source": [
    "(U4, c4) = rowReduce(A4, b4)\n",
    "#zeros_below_diagonal(U4)\n",
    "print(f\"U4 = \\n{U4}\")\n",
    "print(f\"c4 = {c4}\")\n",
    "x4 = backwardSubstitution(U4, c4)\n",
    "print(f\"x4 = {x4}\")"
   ]
  },
  {
   "cell_type": "markdown",
   "metadata": {},
   "source": [
    "One might think that there is no such small denominator in Example 3, but what counts for being \"small\" is magnitude relative to other values — 1 is very small compared to $10^{16}$.\n",
    "\n",
    "To understand these problems more (and how to avoid them) it is time to explore\n",
    "[Machine Numbers, Rounding Error and Error Propagation ](machine-numbers-rounding-error-and-error-propagation-python.ipynb)."
   ]
  },
  {
   "cell_type": "markdown",
   "metadata": {},
   "source": [
    "---\n",
    "This work is licensed under [Creative Commons Attribution-ShareAlike 4.0 International](https://creativecommons.org/licenses/by-sa/4.0/)"
   ]
  }
 ],
 "metadata": {
  "kernelspec": {
   "display_name": "Python 3",
   "language": "python",
   "name": "python3"
  },
  "language_info": {
   "codemirror_mode": {
    "name": "ipython",
    "version": 3
   },
   "file_extension": ".py",
   "mimetype": "text/x-python",
   "name": "python",
   "nbconvert_exporter": "python",
   "pygments_lexer": "ipython3",
   "version": "3.8.5"
  }
 },
 "nbformat": 4,
 "nbformat_minor": 4
}
