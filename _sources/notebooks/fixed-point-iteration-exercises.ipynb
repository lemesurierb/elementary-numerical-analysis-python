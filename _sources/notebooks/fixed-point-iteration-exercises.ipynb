{
 "cells": [
  {
   "cell_type": "markdown",
   "metadata": {},
   "source": [
    "# Exercises on Fixed Point Iteration"
   ]
  },
  {
   "cell_type": "markdown",
   "metadata": {},
   "source": [
    "## Exercise 1\n",
    "\n",
    "The equation\n",
    "$x^3 -2x + 1 = 0$\n",
    "can be written as a fixed point equation in many ways, including\n",
    "1. $\\displaystyle x = \\frac{x^3 + 1}{2}$\n",
    "<br>\n",
    "and\n",
    "2. $x = \\sqrt[3]{2x-1}$\n",
    "\n",
    "For each of these options:\n",
    "\n",
    "(a) Verify that its fixed points do in fact solve the above cubic equation.\n",
    "\n",
    "(b) Determine whether fixed point iteration with it will converge to the solution $r=1$.\n",
    "(assuming a ``good enough'' initial approximation).\n",
    "\n",
    "**Note:** computational experiments can be a useful start, but prove your answers mathematically!"
   ]
  }
 ],
 "metadata": {
  "kernelspec": {
   "display_name": "Python 3",
   "language": "python",
   "name": "python3"
  },
  "language_info": {
   "codemirror_mode": {
    "name": "ipython",
    "version": 3
   },
   "file_extension": ".py",
   "mimetype": "text/x-python",
   "name": "python",
   "nbconvert_exporter": "python",
   "pygments_lexer": "ipython3",
   "version": "3.8.5"
  }
 },
 "nbformat": 4,
 "nbformat_minor": 4
}
