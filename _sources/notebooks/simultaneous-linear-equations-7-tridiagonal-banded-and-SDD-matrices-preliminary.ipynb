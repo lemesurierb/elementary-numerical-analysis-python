{
 "cells": [
  {
   "cell_type": "markdown",
   "metadata": {},
   "source": [
    "# Simultaneous Linear Equations, Part 7: Faster Methods for Solving $Ax = b$ for Tridiagonal and Banded matrices, and Strict Diagonal Dominance"
   ]
  },
  {
   "cell_type": "markdown",
   "metadata": {},
   "source": [
    "**Version of April 13, 2021**"
   ]
  },
  {
   "cell_type": "markdown",
   "metadata": {},
   "source": [
    "**Reference:**\n",
    "\n",
    "Section 6.6 *Special Types of Matrices* of [Burden&Faires](../references.html#Burden-Faires),\n",
    "tehsubsections on *Band Matrices* and *Tridiagonal Matrices*."
   ]
  },
  {
   "cell_type": "markdown",
   "metadata": {},
   "source": [
    "## Tridiagonal systems\n",
    "\n",
    "Differential equations often lead to the need to solve systems of equations $T x = b$ where the matrix $T$ is **tri-diagonal**: the only non-zero elements are on the main diagonal and the diagonals adjacent to it on either side, so that $T_{i,j} = 0$ if $|i - j| > 1$.\n",
    "That is, the system looks like:\n",
    "\n",
    "$$\n",
    "T x =\n",
    "\\left[\\begin{array}{cc} d_1 & u_1\\\\l_1 & d_2 & u_2 &\\\\& l_2 & d_3 & u_3\\\\&& \\ddots & \\ddots & \\ddots\\\\&&& l_{n-2} & d_{n-1} & u_{n-1}\\\\&&&& l_{n-1} & d_{n}\\end{array}\\right]\n",
    "\\left[\\begin{array}{c}x_1\\\\x_2\\\\\\vdots\\\\x_n \\end{array}\\right]\n",
    "= \\left[\\begin{array}{c}b_1\\\\b_2\\\\\\vdots\\\\b_n\\end{array}\\right]\n",
    "$$\n",
    "\n",
    "with all \"missing\" entries being zeros.\n",
    "The notation used here suggests one efficient way to store such a matrix: as three 1D arrays $d$, $l$ and $u$.\n",
    "\n",
    "(Such equations also arise in cubic spline interpolation.)"
   ]
  },
  {
   "cell_type": "markdown",
   "metadata": {},
   "source": [
    "It can be verified that LU factorization preserves all the non-zero values, so that the Doolittle algorithm — if it succeeds without any division by zero — gives $T = L U$ with the form\n",
    "$$\n",
    "L = \\left[\\begin{array}{cc}\n",
    "1\\\\\n",
    "L_1 & 1 \\\\\n",
    "& L_2 & 1 \\\\\n",
    "&& \\ddots & \\ddots \\\\\n",
    "&&& L_{n-2} & 1 \\\\\n",
    "&&&& L_{n-1} & 1\n",
    "\\end{array}\\right],\n",
    "\\;\n",
    "U = \\left[\\begin{array}{cc}\n",
    "D_1 & u_1\\\\\n",
    "& D_2 & u_2 \\\\\n",
    "&& D_3 & u_3\\\\\n",
    "&&& \\ddots & \\ddots \\\\\n",
    "&&&& D_{n-1} & u_{n-1} \\\\\n",
    "&&&&& D_n\n",
    "\\end{array}\\right]\n",
    "$$\n",
    "Note that the first non-zero element in each column is unchanged, as with a full matrix, but now it means that the upper diagonal elements $u_i$ are unchanged.\n",
    "\n",
    "Again, one way to describe and store this information is with just the two new 1D arrays $L$ and $D$, along with the unchanged array $u$."
   ]
  },
  {
   "cell_type": "markdown",
   "metadata": {},
   "source": [
    "## Algorithms"
   ]
  },
  {
   "cell_type": "markdown",
   "metadata": {},
   "source": [
    "### LU factorization\n",
    "\n",
    "$D_1 = d_1$\n",
    "<br>\n",
    "`for i from 2 to n`\n",
    "<br>\n",
    "$\\quad L_{i-1} = l_{i-1}/D_{i-1}$\n",
    "<br>\n",
    "$\\quad D_{i} = d_{i} - L_{i-1} u_{i-1}$\n",
    "<br>\n",
    "`end for`"
   ]
  },
  {
   "cell_type": "markdown",
   "metadata": {},
   "source": [
    "### Forward substitution\n",
    "\n",
    "$c_1 = b_1$\n",
    "<br>\n",
    "`for i from 2 to n`\n",
    "<br>\n",
    "$\\quad c_{i} = b_{i} - L_{i-1} c_{i-1}$\n",
    "<br>\n",
    "`end for`"
   ]
  },
  {
   "cell_type": "markdown",
   "metadata": {},
   "source": [
    "### Backward substitution\n",
    "$x_n = c_n/D_n$\n",
    "<br>\n",
    "`for i from n-1 down to 1`\n",
    "<br>\n",
    "$\\quad x_{i} = (c_{i} - u_{i} x_{i+1})/D_i$\n",
    "<br>\n",
    "`end for`"
   ]
  },
  {
   "cell_type": "markdown",
   "metadata": {},
   "source": [
    "## Generalizing to Banded Matrices\n",
    "\n",
    "As we have seen, approximating derivatives to higher order of accuracy and approximating derivatives of order greater than two requires more than three nodes, but the locations needed are all close to the ones where the derivative is being approximated.\n",
    "For example, the simplest symmetric approximation of the fourth derivative $D^4 f(x)$ used values from $f(x-2h)$ to $f(x+2h)$.\n",
    "Then row $i$ of the corresponding matrix has all its non-zero elements at locations $(i,i-2)$ to $(i, i+2)$: the non-zero elements lie in the narrow \"band\" where $|i - j| \\leq 2$, and thus on five \"central\" diagonals.\n",
    "\n",
    "This is a **penta-digonal matrix**, and an example of the larger class of **banded matrices**: ones in which all the non-zero elements have indices $ -p \\leq j - i \\leq q$ for $p$ and $q$ smaller than $n$ — usually far smaller; $p = q = 2$ for a penta-digonal matrix."
   ]
  },
  {
   "cell_type": "markdown",
   "metadata": {},
   "source": [
    "### Recap: the general Doolittle algorithm for computing an LU factorization\n",
    "\n",
    "*The top row is unchanged:*\n",
    "<br>\n",
    "`for j from 1 to n`\n",
    "<br>\n",
    "$\\quad$ $u_{1,j} = a_{1,j}$\n",
    "<br>\n",
    "`end for`\n",
    "<br>\n",
    "*The left column requires no sums:*\n",
    "<br>\n",
    "`for i from 2 to n`\n",
    "<br>\n",
    "$\\quad$ $l_{i,1} = a_{i,1}/u_{1,1}$\n",
    "<br>\n",
    "`end for`\n",
    "<br>\n",
    "<br>\n",
    "*The main loop:*\n",
    "`for k from 2 to n`\n",
    "<br>\n",
    "$\\quad$ `for j from k to n`\n",
    "<br>\n",
    "$\\quad\\quad$ $u_{k,j} = a_{k,j} - \\sum_{s=1}^{k-1} l_{k,s}u_{s,j}$\n",
    "<br>\n",
    "$\\quad$ `end for`\n",
    "<br>\n",
    "$\\quad$ `for i from k+1 to n`\n",
    "<br>\n",
    "$\\quad\\quad$ $l_{i,k} = \\left( a_{i,k} - \\sum_{s=1}^{k-1} l_{i,s}u_{s,k} \\right)/u_{k,k}$\n",
    "<br>\n",
    "$\\quad$ `end for`\n",
    "<br>\n",
    "`end for`"
   ]
  },
  {
   "cell_type": "markdown",
   "metadata": {},
   "source": [
    "### Eliminating redundant calculation in the above\n",
    "\n",
    "With a banded matrix, many of the entries at right are zero, particularly in the two sums, which is where most of the operations are.\n",
    "Thus we can rewrite, exploiting the fact that all elements with indices $j-i < -p$ or $j-i > q$ are zero.\n",
    "To start with, the top diagonal is not modified, as already noted for the tridiagonal case: $u_{k,k+q} = a_{k,k+q}$ for $1 \\leq k \\leq n-q$."
   ]
  },
  {
   "cell_type": "markdown",
   "metadata": {},
   "source": [
    "## Algorithm for LU factorization of a banded matrix\n",
    "\n",
    "*The top row is unchanged:*\n",
    "<br>\n",
    "`for j from 1 to 1+q`\n",
    "<br>\n",
    "$\\quad$ $u_{1,j} = a_{1,j}$\n",
    "<br>\n",
    "`end for`\n",
    "<br>\n",
    "*The top non-zero diagonal is unchanged:*\n",
    "<br>\n",
    "`for k from 1 to n - q`\n",
    "<br>\n",
    "$\\quad$ $u_{k,k+q} = a_{k,k+q}$\n",
    "<br>\n",
    "`end for`\n",
    "<br>\n",
    "*The left column requires no sums:*\n",
    "<br>\n",
    "`for i from 2 to 1+p`\n",
    "<br>\n",
    "$\\quad$ $l_{i,1} = a_{i,1}/u_{1,1}$\n",
    "<br>\n",
    "`end for`\n",
    "<br>\n",
    "*The main loop:*\n",
    "<br>\n",
    "`for k from 2 to n`\n",
    "<br>\n",
    "$\\quad$ `for j from k to min(n, k+q-1)`\n",
    "<br>\n",
    "$\\quad\\quad$ $u_{k,j} = a_{k,j} - \\displaystyle\\sum_{s=max(1, k-p, j-q)}^{k-1} l_{k,s}u_{s,j}$\n",
    "<br>\n",
    "$\\quad$ `end for`\n",
    "<br>\n",
    "$\\quad$ `for i from k+1 to min(n,k+p-1)`\n",
    "<br>\n",
    "$\\quad\\quad$ $l_{i,k} = \\left( a_{i,k} - \\displaystyle\\sum_{s=max(1,i-p,k-q)}^{k-1} l_{i,s}u_{s,k} \\right)/u_{k,k}$\n",
    "<br>\n",
    "$\\quad$ `end for`\n",
    "<br>\n",
    "`end for`"
   ]
  },
  {
   "cell_type": "markdown",
   "metadata": {},
   "source": [
    "## The common symmetrical case, $p=q$\n",
    "\n",
    "It is common for a banded matrix to have equal band-width on either side, $p=q$, as with tridiagonal and pentadiagonal matrices.\n",
    "Then the algorithm is somewhat simpler:\n",
    "\n",
    "*The top row is unchanged:*\n",
    "<br>\n",
    "`for j from 1 to 1+p`\n",
    "<br>\n",
    "$\\quad$ $u_{1,j} = a_{1,j}$\n",
    "<br>\n",
    "`end for`\n",
    "<br>*The top non-zero diagonal is unchanged:*<br>\n",
    "`for k from 1 to n - p`\n",
    "<br>\n",
    "$\\quad$ $u_{k,k+p} = a_{k,k+p}$\n",
    "<br>\n",
    "`end for`\n",
    "<br>\n",
    "*The left column requires no sums:*\n",
    "<br>\n",
    "`for i from 2 to 1+p`\n",
    "<br>\n",
    "$\\quad$ $l_{i,1} = a_{i,1}/u_{1,1}$\n",
    "<br>\n",
    "`end for`\n",
    "<br>\n",
    "<br>\n",
    "*The main loop:*\n",
    "<br>\n",
    "`for k from 2 to n`\n",
    "<br>\n",
    "$\\quad$ `for j from k to min(n, k+p-1)`\n",
    "<br>\n",
    "$\\quad\\quad$ $u_{k,j} = a_{k,j} - \\displaystyle\\sum_{s=max(1, j-p)}^{k-1} l_{k,s}u_{s,j}$\n",
    "<br>\n",
    "$\\quad$ `end for`\n",
    "<br>\n",
    "$\\quad$ `for i from k+1 to min(n,k+p)`\n",
    "<br>\n",
    "$\\quad\\quad$ $l_{i,k} = \\left( a_{i,k} - \\displaystyle\\sum_{s=max(1,i-p)}^{k-1} l_{i,s}u_{s,k} \\right)/u_{k,k}$\n",
    "<br>\n",
    "$\\quad$ `end for`\n",
    "<br>\n",
    "`end for`"
   ]
  },
  {
   "cell_type": "markdown",
   "metadata": {},
   "source": [
    "## When is it safe to do without pivoting: Strict Diagonal Dominant Matrices\n",
    "\n",
    "These algorithms for banded matrices do no pivoting, and that is highly desirable, because pivoting creates non-zero elements outside the \"band\" and so can force one back to the general algorithm.\n",
    "Fortunately one characteristic of such systems makes the safe, and it is quite common for  systems that come from approximation of second derivatives.\n",
    "\n",
    "**Definition**\n",
    "A $n \\times n$ matrix $A$ is *strictly diagonally dominant* [SDD] if for every row $i$, $1 \\leq i \\leq n$,\n",
    "$$\n",
    "|a_{i,i}| > \\sum_{1 \\leq j \\leq n, j \\neq i} |a_{i,j}|\n",
    "$$\n",
    "\n",
    "That is each diagonal element is greater in magnitude that the sum of the magnitudes of all other entries in the same row.\n",
    "\n",
    "*Note:* If the corresponding non-strict in equality holds, the matrix is called *diagonally dominant*.\n",
    "\n",
    "**Theorem 1.**\n",
    "*For any strictly diagonally dominant tridiagonal matrix $A$, each of the intermediate matrices $A^{(k)}$ given by the naive Gaussan elimination algorithm is also strictly diagonally dominant, and so the final upper triangular matrix $U$ is.\n",
    "In particular, all the diagonal elements $a_{i,i}^{(k)}$ and $u_{i,i}$ are non-zero, so no division by zero occurs in any of these algorithms, including the backward substitution solving for $x$ in $Ux = c$.*\n",
    "\n",
    "As a consequence the Doolittle factorization also has $u_{i,i} \\neq 0$ and those are the only values ever divided by in either the Doolittle algorithm or in forward and backward substutition, so one never encounters division by zero.\n",
    "\n",
    "This says more: at each stage, the pivot element $a_{i,i}^{(k)}$ has a larger absolute value than all other elements on its row: although this does not guarantee that it is larger than any candidate pivot elements below it in the column, it does indicate that one is probably at a safe distance from very small denominators and loss of significance."
   ]
  },
  {
   "cell_type": "markdown",
   "metadata": {},
   "source": [
    "## The Crout version of LU factorization\n",
    "\n",
    "There is a generalization and improvement, but it requires a twist (actualy, a reflection):\n",
    "\n",
    "**Theorem 2.**\n",
    "*If the transpose $A^T$ is SDD, so is each intermediate matrix $A^{(k)}$ in naive Gaussian elimination and thus the Doolittle factorization succeeds with $U$, also SDD.*\n",
    "\n",
    "However, we want to use this for the more natural case of $A$ itself being SDD.\n",
    "Here is one way to proceeed.\n",
    "\n",
    "Let $B = A^T$, so that $B^T = A$ is SDD and thus there is a Doolittle LU factorization $B = L_B U_B$.\n",
    "\n",
    "Then $A = (L_B U_B)^T = (U_B)^T (L_B)^T$.\n",
    "Note that $L := (U_B)^T$ is lower triangular and $U = (L_B)^T$ is unit upper triangular,\n",
    "so that this given an LU factorization $A = L U$, differing from the Doolittle one in having the ones on the upper diagonal.\n",
    "\n",
    "This is the **Crout decomposition**, and the Doolittle algorithm can be easily \"flipped\" to compute this, and the forward and backward subsitution algorithms are also easily adapted.\n",
    "\n",
    "**Theorem 3.**\n",
    "*If $A$ is SDD, it has a Crout decomposition $A = L U$: $L$ lower triangular, $U$ unit upper triangular.*\n",
    "\n",
    "Note also that $L$ is the transpose of the SDD matrix $U_B$, so it is **strictly diagonally dominant by column**: each diagonal element $l_{i,i}$ has magnitude greater than the sum of the magnitudes of all element below it in the same column:\n",
    "\n",
    "$$ |l_{i,i}| > \\sum_{j>i} |l_{j,i}| $$\n",
    "\n",
    "These reassuringly big diagonal elements $l_{i,i}$ are the only values divided by in forward substitution, and indeed also in the Crout algorithm: in the mirror-image world of the Crout algorithm, these are the pivot elements."
   ]
  },
  {
   "cell_type": "markdown",
   "metadata": {},
   "source": [
    "---\n",
    "This work is licensed under [Creative Commons Attribution-ShareAlike 4.0 International](https://creativecommons.org/licenses/by-sa/4.0/)"
   ]
  }
 ],
 "metadata": {
  "kernelspec": {
   "display_name": "Python 3",
   "language": "python",
   "name": "python3"
  },
  "language_info": {
   "codemirror_mode": {
    "name": "ipython",
    "version": 3
   },
   "file_extension": ".py",
   "mimetype": "text/x-python",
   "name": "python",
   "nbconvert_exporter": "python",
   "pygments_lexer": "ipython3",
   "version": "3.8.5"
  }
 },
 "nbformat": 4,
 "nbformat_minor": 4
}
