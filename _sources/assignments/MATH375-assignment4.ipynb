{
 "cells": [
  {
   "cell_type": "markdown",
   "metadata": {},
   "source": [
    "# MATH 375 Assignment 4\n",
    "\n",
    "**By Brenton LeMesurier**"
   ]
  },
  {
   "cell_type": "markdown",
   "metadata": {},
   "source": [
    "**Drafts due Monday March 1**\n",
    "(There is a bonus for doing this part on time)\n",
    "\n",
    "**Final version due Monday March 8**"
   ]
  },
  {
   "cell_type": "code",
   "execution_count": 1,
   "metadata": {},
   "outputs": [
    {
     "name": "stdout",
     "output_type": "stream",
     "text": [
      "This file last run on 2021-02-22 at 16:31\n"
     ]
    }
   ],
   "source": [
    "# Get a \"time stamp\" for when the Python code in this notebook was last run.\n",
    "from time import strftime,localtime\n",
    "print(strftime(\"This file last run on %Y-%m-%d at %H:%M\", localtime()))"
   ]
  },
  {
   "cell_type": "markdown",
   "metadata": {},
   "source": [
    "## Exercise 0: Using this notebook as a template for yours\n",
    "\n",
    "Start work on this and future assignments as follows:\n",
    "- Download a copy of this notebook, saving it either under the same name *assignment4.ipynb* or with your name or initials appended in some way, such as *assignment4-Brenton-LeMesurier.ipynb* or *assignment4-BL.ipynb*\n",
    "\n",
    "- Edit the top \"title page\" cell, inserting your name and the **current** date, and keep that date up-to-date.\n",
    "As an alternative on the date, you can use module `time` to get a date-and-time stamp; see above.\n",
    "\n",
    "- Note that I have broken up each exercise into cells for each part — insert you work in between, so that the statement of each part is kept close to your work on it.\n",
    "\n",
    "Also, before uploading a notebook, do a \"clean run\" either with the \"fast-forward\" button above or with the menu selection\n",
    "\n",
    "    Kernel > Restart Kernel and Run all Cells ...\n",
    "\n",
    "and then check that the output is as you expect."
   ]
  },
  {
   "cell_type": "code",
   "execution_count": 2,
   "metadata": {},
   "outputs": [],
   "source": [
    "import numpy as np\n",
    "import matplotlib.pyplot as plt\n",
    "\n",
    "# If you find it more convenient,\n",
    "# you can import some items on a \"first name basis\";\n",
    "# For example you can use `sin(x)` instead of `np.sin(x)` with:\n",
    "from numpy import sin\n",
    "# ... and `plot(...)` instead of `plt.plot(...)` and so on, with:\n",
    "from matplotlib.pyplot import figure, plot, title, grid"
   ]
  },
  {
   "cell_type": "markdown",
   "metadata": {},
   "source": [
    "## Exercise 1. Row Reduction with Maximal Element Pivoting"
   ]
  },
  {
   "cell_type": "markdown",
   "metadata": {},
   "source": [
    "### A)\n",
    "Repeat Exercise 3 of Assignment 3, except using *maximal element partial pivoting*.\n",
    "That is, solve the system of equations\n",
    "\n",
    "$$\n",
    "\\left[ \\begin{array}{ccc} 4. & 2. & 1. \\\\ 9. & 3. & 1. \\\\ 25. & 5. & 1. \\end{array} \\right] x = \\left[ \\begin{array}{c} 0.693147  \\\\ 1.098612 \\\\ 1.609438 \\end{array} \\right]\n",
    "$$\n",
    "\n",
    "- using *maximal element partial pivoting*, \n",
    "- working *by hand*,\n",
    "- rounding each intermediate result to four significant digits, and\n",
    "- writing down each intermediate version of the system of equations."
   ]
  },
  {
   "cell_type": "markdown",
   "metadata": {},
   "source": [
    "### B)\n",
    "Then compare the residuals for these two methods (with and without pivoting), and comment."
   ]
  },
  {
   "cell_type": "markdown",
   "metadata": {},
   "source": [
    "## Exercise 2: LU Factorization by the Direct Doolittle Method"
   ]
  },
  {
   "cell_type": "markdown",
   "metadata": {},
   "source": [
    "### A)\n",
    "\n",
    "Construct the Doolittle LU factorization of the above matrix, again with rounding to four significant digits.\n",
    "Do this by the direct algorithm, not by using the values for $U$ and such that arise from the basic row reduction algorithm.\n",
    "\n",
    "(You may *check* your results with those from row reduction in Assignment 3 and/or more accurate calculation using Python.)"
   ]
  },
  {
   "cell_type": "markdown",
   "metadata": {},
   "source": [
    "### B)\n",
    "Then solve $Lc=b$  for $c$ by forward substitution — again with four-significant digit rounding — and compare to the result seen with basic row reduction of Ax = b to $Ux = c$.\n",
    "You only need round the result for each value $c_1$, $c_2$, etc., not after each individal multplication, addition and subtration: explain why!"
   ]
  },
  {
   "cell_type": "markdown",
   "metadata": {},
   "source": [
    "## Exercise 3: Derivatives and the Method of Undetermined Coefficients\n",
    "\n",
    "Further details coming after we have finished this topic in class."
   ]
  },
  {
   "cell_type": "markdown",
   "metadata": {},
   "source": [
    "### A)\n",
    "Derive a symmetric five-point approximation of the second derivative, using the Method of Undetermined Coefficients;\n",
    "I recomend that you use the simpler second, \"monomials\" approach.\n",
    "\n",
    "Note: try to exploit symmetry to reduce the number of equations that need to be solved."
   ]
  },
  {
   "cell_type": "markdown",
   "metadata": {},
   "source": [
    "### B)\n",
    "Use the symmetric centered difference approxmation of the second derivative and Richardson extrapolation to get another more accurate approximaton of this derivative.\n",
    "\n",
    "Then compare to the result in part (A)."
   ]
  }
 ],
 "metadata": {
  "kernelspec": {
   "display_name": "Python 3",
   "language": "python",
   "name": "python3"
  },
  "language_info": {
   "codemirror_mode": {
    "name": "ipython",
    "version": 3
   },
   "file_extension": ".py",
   "mimetype": "text/x-python",
   "name": "python",
   "nbconvert_exporter": "python",
   "pygments_lexer": "ipython3",
   "version": "3.8.5"
  }
 },
 "nbformat": 4,
 "nbformat_minor": 4
}
