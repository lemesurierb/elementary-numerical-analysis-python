{
 "cells": [
  {
   "cell_type": "markdown",
   "id": "streaming-stereo",
   "metadata": {},
   "source": [
    "# The Composite Trapezoid Rule\n",
    "\n",
    "Write a Python function that can approximate any definite integral $I = \\displaystyle \\int_a^b f(x)\\,dx$\n",
    "using the Composite Trapezoid Rule with $n$ sub-intervals of equal width, $T_n$.\n",
    "\n",
    "- The input should specify the function $f$ to integrate, the interval $[a,b]$, and the number $n$ of sub-intervals to use.\n",
    "\n",
    "- The output will be just the approximation value of the integral."
   ]
  }
 ],
 "metadata": {
  "kernelspec": {
   "display_name": "Python 3",
   "language": "python",
   "name": "python3"
  },
  "language_info": {
   "codemirror_mode": {
    "name": "ipython",
    "version": 3
   },
   "file_extension": ".py",
   "mimetype": "text/x-python",
   "name": "python",
   "nbconvert_exporter": "python",
   "pygments_lexer": "ipython3",
   "version": "3.8.5"
  }
 },
 "nbformat": 4,
 "nbformat_minor": 5
}
