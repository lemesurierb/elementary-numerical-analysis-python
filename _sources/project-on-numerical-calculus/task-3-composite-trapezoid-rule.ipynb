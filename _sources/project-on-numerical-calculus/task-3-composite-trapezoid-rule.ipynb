{
 "cells": [
  {
   "cell_type": "markdown",
   "id": "occupational-function",
   "metadata": {},
   "source": [
    "# The Composite Trapezoid Rule (and Composite Midpoint Rule)\n",
    "\n",
    "**Updated April 5,** with the example of the Composite Midpoint Rule"
   ]
  },
  {
   "cell_type": "markdown",
   "id": "understood-webster",
   "metadata": {},
   "source": [
    "Write a Python function that can approximate any definite integral $I = \\displaystyle \\int_a^b f(x)\\,dx$\n",
    "using the Composite Trapezoid Rule with $n$ sub-intervals of equal width, $T_n$.\n",
    "\n",
    "- The input should specify the function $f$ to integrate, the interval $[a,b]$, and the number $n$ of sub-intervals to use.\n",
    "\n",
    "- The output will be just the approximation value of the integral; error estimates and tolerances are coming later!\n",
    "\n",
    "- As usual add a code cell with testing of this on some examples, as suggested in the section on [Test Cases for Integration](test-cases-integration.ipynb)."
   ]
  },
  {
   "cell_type": "markdown",
   "id": "virtual-burst",
   "metadata": {},
   "source": [
    "## Update: The Composite Midpoint Rule\n",
    "\n",
    "As the Composite Midpoint Rule is used in Recursive Trapezeoid Rule and the Romberg Method, I will illustrate with it:\n",
    "\n",
    "$$\\int_a^b f(x)', dx \\approx M_n = \\sum_{i=1}^n f(a + (i-1/2)h)$$\n",
    "\n",
    "where $h=(b-a)/n$\n",
    "\n",
    "Python has a function `sum`, and can get an array of the $x$ values with `numpy.linspace`, so ths can be done as folllows:"
   ]
  },
  {
   "cell_type": "code",
   "execution_count": 1,
   "id": "entire-polyester",
   "metadata": {},
   "outputs": [],
   "source": [
    "import numpy as np"
   ]
  },
  {
   "cell_type": "code",
   "execution_count": 2,
   "id": "greatest-uruguay",
   "metadata": {},
   "outputs": [],
   "source": [
    "def compositeMidpoint(f, a, b, n, demoMode=False):\n",
    "    h = (b-a)/n\n",
    "    x = np.linspace(a+h/2, b-h/2, n)\n",
    "    if demoMode:\n",
    "        print(f\"x = {x}\")\n",
    "    M_n = sum(f(x)) * h\n",
    "    return M_n"
   ]
  },
  {
   "cell_type": "code",
   "execution_count": 3,
   "id": "executive-ladder",
   "metadata": {},
   "outputs": [],
   "source": [
    "def f(x): return 1/x**2"
   ]
  },
  {
   "cell_type": "code",
   "execution_count": 4,
   "id": "random-humanity",
   "metadata": {},
   "outputs": [
    {
     "name": "stdout",
     "output_type": "stream",
     "text": [
      "x = [1.1 1.3 1.5 1.7 1.9 2.1 2.3 2.5 2.7 2.9]\n",
      "M_10=0.6635018670317585, error=-0.003164799634908122\n",
      "\n",
      "x = [1.05 1.15 1.25 1.35 1.45 1.55 1.65 1.75 1.85 1.95 2.05 2.15 2.25 2.35\n",
      " 2.45 2.55 2.65 2.75 2.85 2.95]\n",
      "M_20=0.6658670794632512, error=-0.0007995872034154416\n"
     ]
    }
   ],
   "source": [
    "a=1\n",
    "b=3\n",
    "I_exact = 2.0/3.0\n",
    "\n",
    "M_10 = compositeMidpoint(f, a, b, 10, demoMode=True)\n",
    "error = M_10 - I_exact\n",
    "print(f\"{M_10=}, {error=}\")\n",
    "print()\n",
    "M_20 = compositeMidpoint(f, a, b, 20, demoMode=True)\n",
    "error = M_20 - I_exact\n",
    "print(f\"{M_20=}, {error=}\")"
   ]
  }
 ],
 "metadata": {
  "kernelspec": {
   "display_name": "Python 3",
   "language": "python",
   "name": "python3"
  },
  "language_info": {
   "codemirror_mode": {
    "name": "ipython",
    "version": 3
   },
   "file_extension": ".py",
   "mimetype": "text/x-python",
   "name": "python",
   "nbconvert_exporter": "python",
   "pygments_lexer": "ipython3",
   "version": "3.8.5"
  }
 },
 "nbformat": 4,
 "nbformat_minor": 5
}
