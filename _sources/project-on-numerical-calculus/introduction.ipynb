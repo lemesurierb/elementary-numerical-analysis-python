{
 "cells": [
  {
   "cell_type": "markdown",
   "metadata": {},
   "source": [
    "Introduction\n",
    "============\n",
    "\n",
    "This project will combine and explore methods for approximation of derivatives and integrals, along with methods for estimating errors and *using these error estimates to improve accuracy.*\n",
    "\n",
    "We will also compare the performance of various methods: this is often important in making the choice of algorithms for a larger task.\n",
    "\n",
    "In part, this is an exercise in \\emph{good written presentation of mathematical and computational results}, and as preparation for the second individual project that each of you will do at the end of the semester.\n",
    "The \"introduction\" and \"methods\" sections specified below can be quite brief in this project (as many details are specified below) but will be more significant in your final project."
   ]
  }
 ],
 "metadata": {
  "kernelspec": {
   "display_name": "Python 3",
   "language": "python",
   "name": "python3"
  },
  "language_info": {
   "codemirror_mode": {
    "name": "ipython",
    "version": 3
   },
   "file_extension": ".py",
   "mimetype": "text/x-python",
   "name": "python",
   "nbconvert_exporter": "python",
   "pygments_lexer": "ipython3",
   "version": "3.8.5"
  }
 },
 "nbformat": 4,
 "nbformat_minor": 4
}
