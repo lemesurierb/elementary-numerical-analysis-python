{
 "cells": [
  {
   "cell_type": "markdown",
   "id": "surprised-ambassador",
   "metadata": {},
   "source": [
    "# Centered Difference Approximation of the Derivative\n",
    "\n",
    "**Revised March 22 and 25,** adding details and a mathematical exercise."
   ]
  },
  {
   "cell_type": "markdown",
   "id": "optimum-description",
   "metadata": {},
   "source": [
    "## Programming Exercise\n",
    "\n",
    "Write a (Python) function to approximate derivatives using the centered difference formula,\n",
    "\n",
    "$$\n",
    "Df(x) \\approx \\delta_hf(x) := \\frac{f(x+h) - f(x-h)}{2h}\n",
    "$$\n",
    "\n",
    "The input variables should include the node spacing $h$; think about and discuss what all the input and output variables should be.\n",
    "(Also, remember that such a function should not do any interactive input, or any output to the screen or files.)\n",
    "\n",
    "Then — as usual — add code that tests this on some examples such as $f(x) = e^x$, $f'(1)$ as suggested in the section on [Test Cases for Differentiation](test-cases-differentiation.ipynb)."
   ]
  },
  {
   "cell_type": "markdown",
   "id": "statutory-solution",
   "metadata": {},
   "source": [
    "**Note:** For the above function and every function below, create a Jupyter notebook to run test cases: this will handle any interactive input and any screen or file output."
   ]
  },
  {
   "cell_type": "markdown",
   "id": "played-edition",
   "metadata": {},
   "source": [
    "## Mathematical Exercise\n",
    "\n",
    "Verify the order of accuracy result\n",
    "\n",
    "$$\n",
    "Df(x) - \\delta_hf(x) = O(h^2)\n",
    "$$\n",
    "\n",
    "and the (equivalent) fact that this method has degree of precision 2: it is exact fo all quadratics.\n",
    "\n",
    "One could in fact go further and derive the error formula\n",
    "\n",
    "$$\n",
    "Df(x) - \\delta_hf(x) = -\\frac{D^3f(\\xi)}{6} h^2,\\quad\\text{for some } \\xi \\in (x-h, x+h)\n",
    "$$"
   ]
  }
 ],
 "metadata": {
  "kernelspec": {
   "display_name": "Python 3",
   "language": "python",
   "name": "python3"
  },
  "language_info": {
   "codemirror_mode": {
    "name": "ipython",
    "version": 3
   },
   "file_extension": ".py",
   "mimetype": "text/x-python",
   "name": "python",
   "nbconvert_exporter": "python",
   "pygments_lexer": "ipython3",
   "version": "3.8.5"
  }
 },
 "nbformat": 4,
 "nbformat_minor": 5
}
