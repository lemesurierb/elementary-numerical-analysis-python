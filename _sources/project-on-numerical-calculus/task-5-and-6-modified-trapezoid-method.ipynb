{
 "cells": [
  {
   "cell_type": "markdown",
   "id": "dependent-ceremony",
   "metadata": {},
   "source": [
    "# The Modified Trapezoid Method\n",
    "\n",
    "**Updated April 5,** with a hint."
   ]
  },
  {
   "cell_type": "markdown",
   "id": "administrative-florence",
   "metadata": {},
   "source": [
    "Write a function based on the **Modified Trapezoid Method**.\n",
    "\n",
    "$$\n",
    "T'_n = T_n - \\frac{f'(b)-f'(a)}{12} h^2,\n",
    "$$\n",
    "\n",
    "to estimate a definite integral with a specified absolute error tolerance.\n",
    "Its input needs a function for the derivative $Df$, along with other input and output as above for the Composite Trapezoid Rule.\n",
    "\n",
    "**Hint:** You already have code for $T_n$, from Task 3."
   ]
  },
  {
   "cell_type": "markdown",
   "id": "brazilian-shopper",
   "metadata": {},
   "source": [
    "# The Modified Trapezoid Method, without derivatives"
   ]
  },
  {
   "cell_type": "markdown",
   "id": "continuous-result",
   "metadata": {},
   "source": [
    "Write a new version of the function for the Modified Trapezoid Method, that does not input the derivative.\n",
    "\n",
    "This must use appropriate derivative approximation methods."
   ]
  }
 ],
 "metadata": {
  "kernelspec": {
   "display_name": "Python 3",
   "language": "python",
   "name": "python3"
  },
  "language_info": {
   "codemirror_mode": {
    "name": "ipython",
    "version": 3
   },
   "file_extension": ".py",
   "mimetype": "text/x-python",
   "name": "python",
   "nbconvert_exporter": "python",
   "pygments_lexer": "ipython3",
   "version": "3.8.5"
  }
 },
 "nbformat": 4,
 "nbformat_minor": 5
}
