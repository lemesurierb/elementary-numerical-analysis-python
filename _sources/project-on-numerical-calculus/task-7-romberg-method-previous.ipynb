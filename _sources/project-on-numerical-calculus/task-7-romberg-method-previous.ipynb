{
 "cells": [
  {
   "cell_type": "markdown",
   "id": "foreign-norwegian",
   "metadata": {},
   "source": [
    "# The Romberg Method\n",
    "\n",
    "**Revised on Monday April 5**"
   ]
  },
  {
   "cell_type": "markdown",
   "id": "physical-atlanta",
   "metadata": {},
   "source": [
    "Write a function to implement the Romberg method.\n",
    "\n",
    "- Again, the input should include an error tolerance, and the output should include estimates of absolute error and of cost.\n",
    "\n",
    "- We will discuss this in class; there are lots of details to address.\n",
    "\n",
    "- Note that some ideas for this are first explored in the part of\n",
    "[Centered Difference Approximation with Richardson Extrapolation](task-1-and-2-centered-difference-derivative-approximation-and-richardson.ipynb)."
   ]
  },
  {
   "cell_type": "markdown",
   "id": "assisted-details",
   "metadata": {},
   "source": [
    "**Additions on April 5**"
   ]
  },
  {
   "cell_type": "markdown",
   "id": "provincial-peninsula",
   "metadata": {},
   "source": [
    "Recall that the basic algorithm is\n",
    "\n",
    "$n \\leftarrow 1$\n",
    "<br>\n",
    "$h \\leftarrow b-a$\n",
    "<br>\n",
    "$\\displaystyle R_{0,0} = \\frac{f(a) + f(b)}{2} h$\n",
    "<br>\n",
    "`for i from 1 to M:`\n",
    "<br>\n",
    "$\\quad$ $R_{i,0} = \\left( R_{i-1,0} + h \\sum_{k=1}^n f(a + (i - 1/2)h) \\right)/2$\n",
    "<br>\n",
    "$\\quad$ `for j from 1 to i:`\n",
    "<br>\n",
    "$\\quad\\quad \\displaystyle R_{i,j} = \\frac{4^j R_{i,j-1} - R_{i-1,j-1}}{4^j - 1}$\n",
    "<br>\n",
    "$\\quad$ `end for`\n",
    "<br>\n",
    "$\\quad n \\leftarrow 2 n$\n",
    "<br>\n",
    "$\\quad h \\leftarrow h/2$\n",
    "<br>\n",
    "`end for`"
   ]
  },
  {
   "cell_type": "markdown",
   "id": "honey-bacon",
   "metadata": {},
   "source": [
    "**Python note:**\n",
    "The needed 2D array for $R$ can be created with the numpy function `R = numpy.array([M,M])`.\n",
    "It has the syntactic peculiarity that the dimensions of the array are given in a list, not as successive input parameters."
   ]
  },
  {
   "cell_type": "markdown",
   "id": "spanish-bangkok",
   "metadata": {},
   "source": [
    "Once the above basic verion is working, produce a second version that adds an error estimate,\n",
    "and ends once the final approximation $R_{i,i}$ at stage $i$ is good enough.\n",
    "\n",
    "As usual I recommend using a `for` loop organization, adding an `if ... break`"
   ]
  }
 ],
 "metadata": {
  "kernelspec": {
   "display_name": "Python 3",
   "language": "python",
   "name": "python3"
  },
  "language_info": {
   "codemirror_mode": {
    "name": "ipython",
    "version": 3
   },
   "file_extension": ".py",
   "mimetype": "text/x-python",
   "name": "python",
   "nbconvert_exporter": "python",
   "pygments_lexer": "ipython3",
   "version": "3.8.5"
  }
 },
 "nbformat": 4,
 "nbformat_minor": 5
}
