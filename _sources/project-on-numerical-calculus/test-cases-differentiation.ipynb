{
 "cells": [
  {
   "cell_type": "markdown",
   "id": "frequent-identification",
   "metadata": {},
   "source": [
    "# Test Cases for Differentiation"
   ]
  },
  {
   "cell_type": "markdown",
   "id": "dramatic-fundamental",
   "metadata": {},
   "source": [
    "**Revised on Thursday March 25**"
   ]
  },
  {
   "cell_type": "markdown",
   "id": "resistant-austria",
   "metadata": {},
   "source": [
    "**Note:** package Numpy provides the numbers $e$ and $\\pi$,\n",
    "as `numpy.e` and `numpy.pi`"
   ]
  },
  {
   "cell_type": "markdown",
   "id": "educational-granny",
   "metadata": {},
   "source": [
    "For initial testing, evaluate $f'(1)$ for $f(x) = e^x$."
   ]
  }
 ],
 "metadata": {
  "kernelspec": {
   "display_name": "Python 3",
   "language": "python",
   "name": "python3"
  },
  "language_info": {
   "codemirror_mode": {
    "name": "ipython",
    "version": 3
   },
   "file_extension": ".py",
   "mimetype": "text/x-python",
   "name": "python",
   "nbconvert_exporter": "python",
   "pygments_lexer": "ipython3",
   "version": "3.8.5"
  }
 },
 "nbformat": 4,
 "nbformat_minor": 5
}
