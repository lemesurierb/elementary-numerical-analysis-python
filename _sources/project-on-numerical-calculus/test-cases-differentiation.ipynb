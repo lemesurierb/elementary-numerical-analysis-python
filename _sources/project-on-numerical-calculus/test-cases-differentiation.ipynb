{
 "cells": [
  {
   "cell_type": "markdown",
   "id": "approximate-passage",
   "metadata": {},
   "source": [
    "# Test Cases for Differentiation"
   ]
  },
  {
   "cell_type": "markdown",
   "id": "amber-first",
   "metadata": {},
   "source": [
    "**Revised on Thursday March 25**"
   ]
  },
  {
   "cell_type": "markdown",
   "id": "numerical-director",
   "metadata": {},
   "source": [
    "**Note:** package Numpy provides the numbers $e$ and $\\pi$,\n",
    "as `numpy.e` and `numpy.pi`"
   ]
  },
  {
   "cell_type": "markdown",
   "id": "thousand-cover",
   "metadata": {},
   "source": [
    "For initial testing, evaluate $f'(1)$ for $f(x) = e^x$."
   ]
  }
 ],
 "metadata": {
  "kernelspec": {
   "display_name": "Python 3",
   "language": "python",
   "name": "python3"
  },
  "language_info": {
   "codemirror_mode": {
    "name": "ipython",
    "version": 3
   },
   "file_extension": ".py",
   "mimetype": "text/x-python",
   "name": "python",
   "nbconvert_exporter": "python",
   "pygments_lexer": "ipython3",
   "version": "3.8.5"
  }
 },
 "nbformat": 4,
 "nbformat_minor": 5
}
