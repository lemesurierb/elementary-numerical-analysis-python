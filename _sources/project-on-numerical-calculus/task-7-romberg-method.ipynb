{
 "cells": [
  {
   "cell_type": "markdown",
   "id": "mediterranean-recording",
   "metadata": {},
   "source": [
    "# The Romberg Method\n",
    "\n",
    "**Slightly revised on Thursday March 25**"
   ]
  },
  {
   "cell_type": "markdown",
   "id": "regulated-syria",
   "metadata": {},
   "source": [
    "Write a function to implement the Romberg method.\n",
    "\n",
    "- Again, the input should include an error tolerance, and the output should include estimates of absolute error and of cost.\n",
    "\n",
    "- We will discuss this in class; there ltos of detasisl to address.\n",
    "\n",
    "- Note that some ideas for this are first explored in\n",
    "the part on [Centered Difference Approximation and Richardson Extrapolation](tasks-1-and-2-centered-difference-derivative-approximation-and-richardson.ipynb)."
   ]
  }
 ],
 "metadata": {
  "kernelspec": {
   "display_name": "Python 3",
   "language": "python",
   "name": "python3"
  },
  "language_info": {
   "codemirror_mode": {
    "name": "ipython",
    "version": 3
   },
   "file_extension": ".py",
   "mimetype": "text/x-python",
   "name": "python",
   "nbconvert_exporter": "python",
   "pygments_lexer": "ipython3",
   "version": "3.8.5"
  }
 },
 "nbformat": 4,
 "nbformat_minor": 5
}
