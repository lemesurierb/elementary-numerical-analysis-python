{
 "cells": [
  {
   "cell_type": "markdown",
   "metadata": {},
   "source": [
    "# Project on Numerical Calculus\n",
    "\n",
    "**Last updated on Monday March 29, 2021**\n",
    "\n",
    "**Brenton LeMesurier**\n",
    "\n",
    "University of Northern Colorado, Greeley, Colorado in Spring 2021,\n",
    "[brenton.lemesurier@unco.edu](mailto:brenton.lemesurier@unco.edu);\n",
    "<br>\n",
    "More permanent address: The College of Charleston, Charleston, South Carolina,\n",
    "[lemesurierb@cofc.edu](mailto:lemesurierb@cofc.edu)"
   ]
  },
  {
   "cell_type": "markdown",
   "metadata": {},
   "source": [
    "This work is licensed under [Creative Commons Attribution-ShareAlike 4.0 International](https://creativecommons.org/licenses/by-sa/4.0/)\n",
    "\n",
    "---"
   ]
  },
  {
   "cell_type": "markdown",
   "metadata": {},
   "source": [
    "*First Drafts due by Friday March 26 — but preferably submit partial drafts earlier for feedback!*\n",
    "\n",
    "**Second Drafts due by Tuesday March 30.**\n",
    "\n",
    "**Final versions due by Friday April 2 (maybe!)**"
   ]
  }
 ],
 "metadata": {
  "kernelspec": {
   "display_name": "Python 3",
   "language": "python",
   "name": "python3"
  },
  "language_info": {
   "codemirror_mode": {
    "name": "ipython",
    "version": 3
   },
   "file_extension": ".py",
   "mimetype": "text/x-python",
   "name": "python",
   "nbconvert_exporter": "python",
   "pygments_lexer": "ipython3",
   "version": "3.8.5"
  }
 },
 "nbformat": 4,
 "nbformat_minor": 4
}
