{
 "cells": [
  {
   "cell_type": "markdown",
   "id": "bronze-comment",
   "metadata": {},
   "source": [
    "# The Modified Trapezoid Method, without derivatives\n",
    "\n",
    "Write a new version of the function for the Modified Trapezoid Method, that does not input the derivative.\n",
    "\n",
    "- This must use appropriate derivative approximation methods."
   ]
  }
 ],
 "metadata": {
  "kernelspec": {
   "display_name": "Python 3",
   "language": "python",
   "name": "python3"
  },
  "language_info": {
   "codemirror_mode": {
    "name": "ipython",
    "version": 3
   },
   "file_extension": ".py",
   "mimetype": "text/x-python",
   "name": "python",
   "nbconvert_exporter": "python",
   "pygments_lexer": "ipython3",
   "version": "3.8.5"
  }
 },
 "nbformat": 4,
 "nbformat_minor": 5
}
