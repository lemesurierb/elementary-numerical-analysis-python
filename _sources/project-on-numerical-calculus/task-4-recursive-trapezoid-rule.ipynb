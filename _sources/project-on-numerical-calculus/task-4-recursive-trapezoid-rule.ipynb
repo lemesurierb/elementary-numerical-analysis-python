{
 "cells": [
  {
   "cell_type": "markdown",
   "id": "collaborative-skating",
   "metadata": {},
   "source": [
    "# The Recursive Trapezoid Rule, with error control\n",
    "\n",
    "Write a function that uses the Recursive Trapezoid Rule, $R_m = T_{2^m}$ to estimate a definite integral with a specified absolute error tolerance.\n",
    "    - The input should specify the function $f$ and interval $[a,b]$, and also the error tolerance.\n",
    "    - The output should include the approximate answer, estimated error, and also the number of evaluations of $f(x)$, as a measure of cost."
   ]
  }
 ],
 "metadata": {
  "kernelspec": {
   "display_name": "Python 3",
   "language": "python",
   "name": "python3"
  },
  "language_info": {
   "codemirror_mode": {
    "name": "ipython",
    "version": 3
   },
   "file_extension": ".py",
   "mimetype": "text/x-python",
   "name": "python",
   "nbconvert_exporter": "python",
   "pygments_lexer": "ipython3",
   "version": "3.8.5"
  }
 },
 "nbformat": 4,
 "nbformat_minor": 5
}
