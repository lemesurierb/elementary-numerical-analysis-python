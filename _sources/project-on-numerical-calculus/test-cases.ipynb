{
 "cells": [
  {
   "cell_type": "markdown",
   "id": "union-diabetes",
   "metadata": {},
   "source": [
    "# Test Cases for Differentiation\n",
    "\n",
    "For initial testing, evaluate $f'(1)$ for $f(x) = e^x$."
   ]
  },
  {
   "cell_type": "markdown",
   "id": "initial-strain",
   "metadata": {},
   "source": [
    "# Test Cases for Integration\n",
    "\n",
    "For initial testing, evaluate some integrals of polynomials of degree from one to four (for which some methods should give exact results), and then\n",
    "\n",
    "$$I_1 := \\int_{1}^{3} \\frac{dx}{x^2}\n",
    "$$\n",
    "\n",
    "We will then choose some more challenging test cases."
   ]
  },
  {
   "cell_type": "code",
   "execution_count": null,
   "id": "experienced-ridge",
   "metadata": {},
   "outputs": [],
   "source": []
  }
 ],
 "metadata": {
  "kernelspec": {
   "display_name": "Python 3",
   "language": "python",
   "name": "python3"
  },
  "language_info": {
   "codemirror_mode": {
    "name": "ipython",
    "version": 3
   },
   "file_extension": ".py",
   "mimetype": "text/x-python",
   "name": "python",
   "nbconvert_exporter": "python",
   "pygments_lexer": "ipython3",
   "version": "3.8.5"
  }
 },
 "nbformat": 4,
 "nbformat_minor": 5
}
