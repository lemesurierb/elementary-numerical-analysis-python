{
 "cells": [
  {
   "cell_type": "markdown",
   "id": "basic-disposition",
   "metadata": {},
   "source": [
    "# The Modified Trapezoid Method"
   ]
  },
  {
   "cell_type": "markdown",
   "id": "electronic-training",
   "metadata": {},
   "source": [
    "Write a function based on the **Modified Trapezoid Method**.\n",
    "\n",
    "$$\n",
    "T'_n = T_n - \\frac{f'(b)-f'(a)}{12} h^2,\n",
    "$$\n",
    "\n",
    "to estimate a definite integral with a specified absolute error tolerance.\n",
    "Its input needs a function for the derivative $Df$, along with other input and output as above for the trapezoid rule."
   ]
  }
 ],
 "metadata": {
  "kernelspec": {
   "display_name": "Python 3",
   "language": "python",
   "name": "python3"
  },
  "language_info": {
   "codemirror_mode": {
    "name": "ipython",
    "version": 3
   },
   "file_extension": ".py",
   "mimetype": "text/x-python",
   "name": "python",
   "nbconvert_exporter": "python",
   "pygments_lexer": "ipython3",
   "version": "3.8.5"
  }
 },
 "nbformat": 4,
 "nbformat_minor": 5
}
