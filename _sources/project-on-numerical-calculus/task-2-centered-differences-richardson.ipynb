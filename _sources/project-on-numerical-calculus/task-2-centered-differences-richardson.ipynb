{
 "cells": [
  {
   "cell_type": "markdown",
   "id": "cardiac-hungary",
   "metadata": {},
   "source": [
    "# Improving on the above with Richardson extrapolation\n",
    "\n",
    "Write a function to apply Richardson extrapolation using the above centered differences function, and a file to test it and handle any interactive input and screen or file output, as noted above.\n",
    "As with almost any practical implementation of a numerical approximation algorithm, the input should include an **error tolerance**, and the output should include an **error estimate**."
   ]
  },
  {
   "cell_type": "markdown",
   "id": "varying-election",
   "metadata": {},
   "source": [
    "## Further details\n",
    "\n",
    "It could help to break this into to \"sub-tasks\":\n",
    "\n",
    "1. Write a Python function that does a single step of RIchardson extrapolation, and add cdeo testing this with an example like the suggested $f(x) = e^x$, $f'(1)$.\n",
    "\n",
    "2. Write a second function that uses a (while) loop to seek teh eror tolerqnce, halving $h$ at each iteration. th a whie loop or my strategy of usint a `for` loop to impose an iteration limit and a `break` to stop if and when sufficient accuracy is achieved.\n",
    "\n",
    "Also, see the updated notes on Richardson Extrapolation, where I have added a discussion of how to get error estimates."
   ]
  }
 ],
 "metadata": {
  "kernelspec": {
   "display_name": "Python 3",
   "language": "python",
   "name": "python3"
  },
  "language_info": {
   "codemirror_mode": {
    "name": "ipython",
    "version": 3
   },
   "file_extension": ".py",
   "mimetype": "text/x-python",
   "name": "python",
   "nbconvert_exporter": "python",
   "pygments_lexer": "ipython3",
   "version": "3.8.5"
  }
 },
 "nbformat": 4,
 "nbformat_minor": 5
}
