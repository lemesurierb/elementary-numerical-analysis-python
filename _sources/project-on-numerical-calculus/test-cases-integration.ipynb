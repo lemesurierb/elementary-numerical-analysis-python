{
 "cells": [
  {
   "cell_type": "markdown",
   "id": "royal-funds",
   "metadata": {},
   "source": [
    "# Test Cases for Integration\n",
    "\n",
    "**Revised on Thursday March 25**, adding more test cases, etc."
   ]
  },
  {
   "cell_type": "markdown",
   "id": "robust-thomas",
   "metadata": {},
   "source": [
    "**Note:** package Numpy provides the numbers $e$ and $\\pi$,\n",
    "as `numpy.e` and `numpy.pi`"
   ]
  },
  {
   "cell_type": "markdown",
   "id": "daily-trick",
   "metadata": {},
   "source": [
    "A) For initial testing, evaluate some integrals of polynomials of degree from one to four (for which some methods should give exact results), and then\n",
    "\n",
    "$$\n",
    "I_1 := \\int_{1}^{3} \\frac{dx}{x^2}\n",
    "$$"
   ]
  },
  {
   "cell_type": "markdown",
   "id": "helpful-throat",
   "metadata": {},
   "source": [
    "B) Periodic functions are worth exploring;\n",
    "a basic example tht svoid \"special, non-generic\" features like zero values or zero derivatives at the endpoints\n",
    "\n",
    "$$\n",
    "I_2 := \\int_{0}^{2\\pi} \\sin x + \\cos x \\, dx, \\; = 0.\n",
    "$$\n",
    "\n",
    "Another one that even moreso avoids \"spcial\" feauer that might produce non-typical results is\n",
    "\n",
    "$$\n",
    "I_3 := \\int_{0}^{2\\pi} e^{\\sin x} \\, dx\n",
    "$$\n",
    "\n",
    "There is no formula for the exact value here, so accuracy must be checked wihtt error estimates and such, not by checking again a known exact result.\n",
    "\n",
    "We will choose some more challenging test cases."
   ]
  }
 ],
 "metadata": {
  "kernelspec": {
   "display_name": "Python 3",
   "language": "python",
   "name": "python3"
  },
  "language_info": {
   "codemirror_mode": {
    "name": "ipython",
    "version": 3
   },
   "file_extension": ".py",
   "mimetype": "text/x-python",
   "name": "python",
   "nbconvert_exporter": "python",
   "pygments_lexer": "ipython3",
   "version": "3.8.5"
  }
 },
 "nbformat": 4,
 "nbformat_minor": 5
}
