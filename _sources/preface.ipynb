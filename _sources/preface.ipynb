{
 "cells": [
  {
   "cell_type": "markdown",
   "metadata": {},
   "source": [
    "Elementary Numerical Analysis with Python\n",
    "=========================================\n",
    "\n",
    "**Brenton LeMesurier**\n",
    "\n",
    "University of Northern Colorado, Greeley, Colorado in Spring 2021,\n",
    "[brenton.lemesurier@unco.edu](mailto:brenton.lemesurier@unco.edu);\n",
    "<br>\n",
    "More permanent address: The College of Charleston, Charleston, South Carolina,\n",
    "[lemesurierb@cofc.edu](mailto:lemesurierb@cofc.edu)\n",
    "\n",
    "\n",
    "**News:** This is now available on github at\n",
    "[https://lemesurierb.github.io/elementary-numerical-analysis-python/](https://lemesurierb.github.io/elementary-numerical-analysis-python/)\n",
    "\n",
    "\n",
    "**Last Revised on Thursday March 18, 2021**\n",
    "\n",
    "Some recent updates (most recent first):\n",
    "\n",
    "- Revised section [Solving Simultaneous Linear Equations, Part 1: Row Reduction/Gaussian Elimination](python_notebooks_modules/simultaneous-linear-equations-1-row-reduction.ipynb):\n",
    "    - added further uses of Python slicing and \"vectorization\" in a new version of function `rowReduction`,\n",
    "    - eliminated function `zeros_below_diagonal` in favor of always doing this in function `row_reduce`,\n",
    "    - fixed a few typos.\n",
    "\n",
    "- Revised section [Richardson Extrapolation](python_notebooks_modules/richardson-extrapolation.ipynb),\n",
    "adding an error estimate formula, and changing notation to avoid some reported confusions. \n",
    "\n",
    "- Added hosting at GitHub at\n",
    "[https://lemesurierb.github.io/elementary-numerical-analysis-python/](https://lemesurierb.github.io/elementary-numerical-analysis-python/),\n",
    "where there is now also an early version of\n",
    "[Python for Scientific Computing](https://lemesurierb.github.io/python-for-scientific-computing/intro.html)\n",
    "inrended for a programming lab course such as MATH 246 at the College of Charleston.\n",
    "\n",
    "- Updated section\n",
    "[Definite Integrals, Part 3](python_notebooks_modules/definite-integrals-3-simpson-richardson.ipynb),\n",
    "adding a derivation of Simpson's Rule using the Method of Undetermined Coefficients.\n",
    "\n",
    "- Updated sections\n",
    "[Definite Integrals, Part 1](python_notebooks_modules/definite-integrals-1-building-blocks.ipynb)\n",
    "and\n",
    "[Definite Integrals, Part 2](python_notebooks_modules/definite-integrals-2-composite-rules.ipynb),\n",
    "adding appendices on the (Composite) Left-hand Endpoint Rule.\n",
    "\n",
    "- Updated the module [numerical_methods_module](python_notebooks_modules/numerical_methods_module.ipynb) and to the notebook that generates it,\n",
    "adding \"demonstration modes\" to `rowReduce`, `backwardSubstitution` and `forwardSubstitution`.\n",
    "\n",
    "- Added preliminary versions on ordinary differential equations and part 5 on simultaneous linear equations.\n",
    "\n",
    "- Added a new Part **Preliminary Versions**, containing early versions of sections that will come up later in the course.\n",
    "\n",
    "This [Jupyter Book](https://jupyterbook.org) is for the course *Elementary Numerical Analysis* at the University of Northern Colorado (\"UNCo\") in Spring 2021.\n",
    "It also contains some background material on programming in Python with the packages Numpy and Matplotlib; these are excerpts from the Jupyter book *Python for Scientific Computing* by the same author.\n",
    "\n",
    "The material is based in part on Jupyter notebooks and other materials for the courses MATH 245, MATH 246, MATH 445 and MATH 545 at the College of Charleston, South Carolina."
   ]
  },
  {
   "cell_type": "markdown",
   "metadata": {},
   "source": [
    "Some References for Further Reading\n",
    "-----------------------------------\n",
    "(As in the section [References](references.ipynb))\n",
    "\n",
    "- <a name=\"Sauer\">[Sauer]</a> *Numerical Analysis* by Timothy Sauer, 2nd or 3rd edition.\n",
    "- <a name=\"Burden-Faires\">[Burden&Faires]</a> *Numerical Analysis* by Richard L. Burden and J. Douglas Faires, 9th edition.\n",
    "- <a name=\"Chenney-Kincaid\">[Chenney&Kincaid]</a> *Numerical Mathematics and Computing* by Ward Chenney and David Kincaid.\n",
    "\n",
    "These will often be cited by [nickname in brackets]."
   ]
  },
  {
   "cell_type": "markdown",
   "metadata": {},
   "source": [
    "---\n",
    "This work is licensed under [Creative Commons Attribution-ShareAlike 4.0 International](https://creativecommons.org/licenses/by-sa/4.0/)"
   ]
  }
 ],
 "metadata": {
  "kernelspec": {
   "display_name": "Python 3",
   "language": "python",
   "name": "python3"
  },
  "language_info": {
   "codemirror_mode": {
    "name": "ipython",
    "version": 3
   },
   "file_extension": ".py",
   "mimetype": "text/x-python",
   "name": "python",
   "nbconvert_exporter": "python",
   "pygments_lexer": "ipython3",
   "version": "3.8.5"
  }
 },
 "nbformat": 4,
 "nbformat_minor": 4
}
