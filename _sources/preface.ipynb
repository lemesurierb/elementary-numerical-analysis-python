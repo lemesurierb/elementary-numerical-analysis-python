{
 "cells": [
  {
   "cell_type": "markdown",
   "metadata": {},
   "source": [
    "Elementary Numerical Analysis with Python\n",
    "=========================================\n",
    "\n",
    "**Brenton LeMesurier**\n",
    "\n",
    "University of Northern Colorado, Greeley, Colorado in Spring 2021,\n",
    "[brenton.lemesurier@unco.edu](mailto:brenton.lemesurier@unco.edu);\n",
    "<br>\n",
    "More permanent address: The College of Charleston, Charleston, South Carolina,\n",
    "[lemesurierb@cofc.edu](mailto:lemesurierb@cofc.edu)\n",
    "\n",
    "Best viewed on github at\n",
    "[https://lemesurierb.github.io/elementary-numerical-analysis-python/](https://lemesurierb.github.io/elementary-numerical-analysis-python/)\n",
    "\n",
    "**Last Revised on Tuesday, April 13, 2021**"
   ]
  },
  {
   "cell_type": "markdown",
   "metadata": {},
   "source": [
    "---\n",
    "\n",
    "This work is licensed under [Creative Commons Attribution-ShareAlike 4.0 International](https://creativecommons.org/licenses/by-sa/4.0/)\n",
    "\n",
    "---"
   ]
  },
  {
   "cell_type": "markdown",
   "metadata": {},
   "source": [
    "Some recent updates (most recent first):\n",
    "\n",
    "- Added a preliminary section\n",
    "{doc}`notebooks/simultaneous-linear-equations-7-tridiagonal-banded-and-SDD-matrices-preliminary`\n",
    "\n",
    "- Added a preliminary section {doc}`notebooks/newtons-method-for-systems-introduction`,\n",
    "another of the ones to introduce topics relevant to some final projects.\n",
    "\n",
    "- Added section {doc}`notebooks/eigenproblems`,\n",
    "the third of the ones to introduce topics relevant to some final projects.\n",
    "\n",
    "- Added section {doc}`notebooks/simultaneous-linear-equations-6-iterative-methods`,\n",
    "the second of the ones to introduce topics relevant to some final projects.\n",
    "\n",
    "- Corrected some typos and other errors in {doc}`notebooks/minimization-1D`\n",
    "\n",
    "- Added section {doc}`notebooks/minimization-1D`,\n",
    "the first of several that I will add to introduce topics that some of you have chosen for your final projects.\n",
    "\n",
    "- Updated section {doc}`notebooks/simultaneous-linear-equations-5-error-bounds-condition-numbers-python`,\n",
    "adding examples of computing matrix norms and condition numbers, and of how ill-conditioned matrices (ones with large condition number) can lead to errors far larger than the residual norm indicates.\n",
    "\n",
    "- Updated section {doc}`notebooks/ODE-IVP-5-error-control-python`,\n",
    "adding notes on how to measure the time take to execute a specified piece of code,\n",
    "and how to specify error tolerances in the ODE IVP solving software in the package SciPy.\n",
    "\n",
    "- Added {doc}`notebooks/assignment5` and {doc}`notebooks/ODE-IVP-exercises`\n",
    "\n",
    "- Updated section {doc}`notebooks/ODE-IVP-5-error-control-python`,\n",
    "adding notes on higher order error control methods, including the fourth order accurate Runge-Kutta-Fehlberg Method,\n",
    "and an example of ODE IVP solving software in the package SciPy.\n",
    "\n",
    "- Updated section {doc}`notebooks/simultaneous-linear-equations-5-error-bounds-condition-numbers-python`,\n",
    "adding notes on the Numpy functions for computing matrix norms and condition numbers.\n",
    "\n",
    "- Added a section briefly describing {doc}`notebooks/project-possibilities`\n",
    "\n",
    "- Updated section {doc}`notebooks/definite-integrals-4-romberg-integration`, adding a note on error estimates (relevant to the project on numerical calculus) and a few other additional explanations.\n",
    "\n",
    "- Added a section briefly describing {doc}`notebooks/project-possibilities`\n",
    "\n",
    "- Updated section {doc}`notebooks/definite-integrals-4-romberg-integration`, adding a note on error estimates (relevant to the project on numerical calculus) and a few other additional explanations.\n",
    "\n",
    "This [Jupyter Book](https://jupyterbook.org) is for the course *Elementary Numerical Analysis* at the University of Northern Colorado (\"UNCo\") in Spring 2021.\n",
    "It also contains some background material on programming in Python with the packages Numpy and Matplotlib; these are excerpts from the Jupyter book *Python for Scientific Computing* by the same author.\n",
    "\n",
    "The material is based in part on Jupyter notebooks and other materials for the courses MATH 245, MATH 246, MATH 445 and MATH 545 at the College of Charleston, South Carolina."
   ]
  },
  {
   "cell_type": "markdown",
   "metadata": {},
   "source": [
    "Some References for Further Reading\n",
    "-----------------------------------\n",
    "\n",
    "(As in the section [References](references.ipynb))\n",
    "\n",
    "- <a name=\"Sauer\">[Sauer]</a> *Numerical Analysis* by Timothy Sauer, 2nd or 3rd edition.\n",
    "\n",
    "- <a name=\"Burden-Faires\">[Burden&Faires]</a> *Numerical Analysis* by Richard L. Burden and J. Douglas Faires, 9th edition.\n",
    "\n",
    "- <a name=\"Chenney-Kincaid\">[Chenney&Kincaid]</a> *Numerical Mathematics and Computing* by Ward Chenney and David Kincaid.\n",
    "\n",
    "- <a name=\"SciPy-Lecture-Notes\">[SciPy Lecture Notes](https://scipy-lectures.org/)</a>; a free reference mainly on the SciPy package, but also with some general information on using Python for scientific computing. It is available both as a web-site or downloadable as PDF or HTML — for off-line access, I prefer the HTML version rather than the PDF.\n",
    "\n",
    "These will often be cited by [nickname in brackets]."
   ]
  }
 ],
 "metadata": {
  "kernelspec": {
   "display_name": "Python 3",
   "language": "python",
   "name": "python3"
  },
  "language_info": {
   "codemirror_mode": {
    "name": "ipython",
    "version": 3
   },
   "file_extension": ".py",
   "mimetype": "text/x-python",
   "name": "python",
   "nbconvert_exporter": "python",
   "pygments_lexer": "ipython3",
   "version": "3.8.5"
  }
 },
 "nbformat": 4,
 "nbformat_minor": 4
}
