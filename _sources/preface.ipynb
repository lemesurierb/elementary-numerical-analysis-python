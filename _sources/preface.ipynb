{
 "cells": [
  {
   "cell_type": "markdown",
   "metadata": {},
   "source": [
    "# Elementary Numerical Analysis with Python\n",
    "\n",
    "**Version of May 26, 2021**\n",
    "\n",
    "**Brenton LeMesurier**\n",
    "\n",
    "University of Northern Colorado, Greeley, Colorado in Spring 2021,\n",
    "[brenton.lemesurier@unco.edu](mailto:brenton.lemesurier@unco.edu);\n",
    "<br>\n",
    "More permanent address: The College of Charleston, Charleston, South Carolina,\n",
    "[lemesurierb@cofc.edu](mailto:lemesurierb@cofc.edu)\n",
    "\n",
    "Best viewed on github at\n",
    "[https://lemesurierb.github.io/elementary-numerical-analysis-python/](https://lemesurierb.github.io/elementary-numerical-analysis-python/)\n",
    "\n",
    "\n",
    "This work is licensed under [Creative Commons Attribution-ShareAlike 4.0 International](https://creativecommons.org/licenses/by-sa/4.0/)\n",
    "\n",
    "---"
   ]
  },
  {
   "cell_type": "markdown",
   "metadata": {},
   "source": [
    "This [Jupyter Book](https://jupyterbook.org) was originally written for the course *Elementary Numerical Analysis* (MATH 375) at the University of Northern Colorado (\"UNCo\") in Spring 2021.\n",
    "It also contains a tutorial on programming in Python with the packages Numpy and Matplotlib; this is exerpted from the Jupyter book *Python for Scientific Computing* by the same author.\n",
    "\n",
    "The material is based in part on Jupyter notebooks and other materials for the courses MATH 245, MATH 246, MATH 445 and MATH 545 at the College of Charleston, South Carolina."
   ]
  },
  {
   "cell_type": "markdown",
   "metadata": {},
   "source": [
    "**Future Plans:** I am working on an evolution of this to cover further topics, and with some more advanced material on analysis of methods, to make it suitable for courses up to introductory graduate level; the working title is *Introduction to Numerical Methods and Their Analysis (with Python)*,\n",
    "with proposed online home \n",
    "[https://lemesurierb.github.io/introduction-numerical-methods-analysis-python/](https://lemesurierb.github.io/introduction-numerical-methods-analysis-python/)\n",
    "\n",
    "I am also working on an edition that presents examples using the\n",
    "[Julia programming language](https://julialang.org/);\n",
    "this should appear some day at\n",
    "[https://lemesurierb.github.io/introduction-numerical-methods-analysis-julia/](https://lemesurierb.github.io/introduction-numerical-methods-analysis-julia)"
   ]
  },
  {
   "cell_type": "markdown",
   "metadata": {},
   "source": [
    "% This is a MyST comment; does not look nice in JupyterLab, but works in a Jupyter Book\n",
    "\n",
    "%Some recent updates (most recent first):\n",
    "\n",
    "%- Added {doc}`notebooks/ODE-IVP-6-multi-step-methods-intro`"
   ]
  },
  {
   "cell_type": "markdown",
   "metadata": {},
   "source": [
    "Some References for Further Reading\n",
    "-----------------------------------\n",
    "\n",
    "(As in the section [References](references.ipynb))\n",
    "\n",
    "- [Sauer] *Numerical Analysis* by Timothy Sauer, 2nd or 3rd edition.\n",
    "\n",
    "- [Burden&Faires] *Numerical Analysis* by Richard L. Burden and J. Douglas Faires, 9th edition.\n",
    "\n",
    "- [Chenney&Kincaid] *Numerical Mathematics and Computing* by Ward Chenney and David Kincaid.\n",
    "\n",
    "- [SciPy Lecture Notes] online at https://scipy-lectures.org/;\n",
    "a free reference mainly on the SciPy package, but also with some general information on using Python for scientific computing. It is available both as a web-site or downloadable as PDF or HTML — for off-line access, I prefer the HTML version rather than the PDF.\n",
    "\n",
    "These will often be cited by [nickname in brackets]."
   ]
  }
 ],
 "metadata": {
  "kernelspec": {
   "display_name": "Python 3",
   "language": "python",
   "name": "python3"
  },
  "language_info": {
   "codemirror_mode": {
    "name": "ipython",
    "version": 3
   },
   "file_extension": ".py",
   "mimetype": "text/x-python",
   "name": "python",
   "nbconvert_exporter": "python",
   "pygments_lexer": "ipython3",
   "version": "3.8.3"
  }
 },
 "nbformat": 4,
 "nbformat_minor": 4
}
