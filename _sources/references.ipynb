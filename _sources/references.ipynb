{
 "cells": [
  {
   "cell_type": "markdown",
   "metadata": {},
   "source": [
    "# References\n",
    "\n",
    "- <a name=\"Sauer\">[Sauer]</a> *Numerical Analysis* by Timothy Sauer, 2nd or 3rd edition.\n",
    "- <a name=\"Burden-Faires\">[Burden&Faires]</a> *Numerical Analysis* by Richard L. Burden and J. Douglas Faires, 9th edition.\n",
    "- <a name=\"Chenney-Kincaid\">[Chenney&Kincaid]</a> *Numerical Mathematics and Computing* by Ward Chenney and David Kincaid."
   ]
  },
  {
   "cell_type": "markdown",
   "metadata": {},
   "source": [
    "These will often be cited by [nickname in brackets]."
   ]
  }
 ],
 "metadata": {
  "kernelspec": {
   "display_name": "Python 3",
   "language": "python",
   "name": "python3"
  },
  "language_info": {
   "codemirror_mode": {
    "name": "ipython",
    "version": 3
   },
   "file_extension": ".py",
   "mimetype": "text/x-python",
   "name": "python",
   "nbconvert_exporter": "python",
   "pygments_lexer": "ipython3",
   "version": "3.8.5"
  }
 },
 "nbformat": 4,
 "nbformat_minor": 4
}
